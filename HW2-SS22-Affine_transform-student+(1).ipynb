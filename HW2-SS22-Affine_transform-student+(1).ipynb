{
 "cells": [
  {
   "cell_type": "markdown",
   "metadata": {},
   "source": [
    "[###LinkText###](###LINKURL######NEW_ASSIGNMENT###)"
   ]
  },
  {
   "cell_type": "markdown",
   "metadata": {},
   "source": [
    "In order to successfully complete this assignment, you must follow all the instructions in this notebook and upload your edited ipynb file to [D2L](http://d2l.msu.edu/) with your answers on or before **10:00am on Friday, February 18th**.\n",
    "\n",
    "**BIG HINT:** Read the entire homework before starting.  "
   ]
  },
  {
   "cell_type": "markdown",
   "metadata": {},
   "source": [
    "# Homework 2: Affine Transform\n",
    "\n",
    "\n",
    "\n"
   ]
  },
  {
   "cell_type": "code",
   "execution_count": 64,
   "metadata": {},
   "outputs": [],
   "source": [
    "# Here are some libraries you may need to use\n",
    "%matplotlib inline\n",
    "import matplotlib.pylab as plt\n",
    "\n",
    "import numpy as np\n",
    "import sympy as sym"
   ]
  },
  {
   "cell_type": "markdown",
   "metadata": {},
   "source": [
    "\n",
    "\n",
    "---\n",
    "<a name=Reading-in-example-image-files></a>\n",
    "# 1.  (25pts) Linear Transform\n",
    "\n",
    "\n",
    "In class, we talked about different types of transformations: rotation, shearing, translation, scaling.\n",
    "In this problem, we focus on the two dimensional case. Then we know that the transformation can be expressed as a $2\\times 3$ matrix, which has 6 unknowns. "
   ]
  },
  {
   "cell_type": "markdown",
   "metadata": {},
   "source": [
    "Assume that a linear transform maps $(1,1)$ to $(-3,2)$, $(3,1)$ to $(-5,4)$, and $(1,3)$ to $(-7,2)$. We need to find  the $2\\times 3$ matrix $M$ to express the transform.\n",
    "\n",
    "$$\\begin{bmatrix}x_{\\mbox{target}}\\\\y_{\\mbox{target}}\\end{bmatrix}=\\begin{bmatrix}m_{11}&m_{12}&m_{13}\\\\m_{21}&m_{22}&m_{23}\\end{bmatrix}\\begin{bmatrix}x\\\\y\\\\1\\end{bmatrix}$$\n",
    "\n",
    "The following code shows the three points before the mapping (in green) and the three target points after the mapping (in red)."
   ]
  },
  {
   "cell_type": "code",
   "execution_count": 65,
   "metadata": {},
   "outputs": [
    {
     "data": {
      "image/png": "[encoded data removed]",
      "text/plain": [
       "<Figure size 720x288 with 1 Axes>"
      ]
     },
     "metadata": {
      "needs_background": "light"
     },
     "output_type": "display_data"
    }
   ],
   "source": [
    "# Define some points\n",
    "x = [1.0, 3.0, 1.0, 1.0, 1.0]\n",
    "y = [1.0, 1.0, 1.0, 3.0,1.0]\n",
    "con = [ 1.0 for i in range(len(x))] \n",
    "p = np.matrix([x,y,con])\n",
    "\n",
    "\n",
    "#mp = p.copy()\n",
    "\n",
    "fig = plt.figure(figsize=plt.figaspect(0.4))\n",
    "ax1 = fig.add_subplot(1, 2, 1)\n",
    "\n",
    "#Plot Points\n",
    "plt.scatter(x,y, color='green');\n",
    "plt.plot(x,y, color='green');\n",
    "\n",
    "plt.axis('scaled');\n",
    "plt.axis([-10,6,-2,6]);\n",
    "\n",
    "x2 = [-3.0, -5.0, -3.0, -7.0]\n",
    "y2 = [2.0, 4.0, 2.0, 2.0]\n",
    "\n",
    "#Plot Points after transform\n",
    "plt.scatter(x2,y2, color='red');\n",
    "#plt.plot([x[0],x2[0]],[y[0],y2[0]], color='blue');\n",
    "#plt.plot([x[1],x2[1]],[y[1],y2[1]], color='blue');\n",
    "#plt.plot([x[3],x2[3]],[y[3],y2[3]], color='blue');\n",
    "plt.plot([x2[0],x2[1]],[y2[0],y2[1]], color='red');\n",
    "plt.plot([x2[0],x2[3]],[y2[0],y2[3]], color='red');  "
   ]
  },
  {
   "cell_type": "markdown",
   "metadata": {},
   "source": [
    "&#9989;  **<font color=red>QUESTION 1a:</font>** (5pts)  Write down a system of $6$ equations for the $6$ unknowns in the matrix $M$. Put down the system in the row form."
   ]
  },
  {
   "cell_type": "markdown",
   "metadata": {},
   "source": [
    "$"
   ]
  },
  {
   "cell_type": "markdown",
   "metadata": {},
   "source": []
  },
  {
   "cell_type": "markdown",
   "metadata": {},
   "source": [
    "&#9989;  **<font color=red>QUESTION 1b:</font>** (10pts)  Use Python to find the 6 values in the matrix $M$ based on the above system of equations, and store them in a $2\\times 3$ `numpy.matrix` varibale named `M`."
   ]
  },
  {
   "cell_type": "code",
   "execution_count": 75,
   "metadata": {},
   "outputs": [
    {
     "ename": "LinAlgError",
     "evalue": "Last 2 dimensions of the array must be square",
     "output_type": "error",
     "traceback": [
      "\u001b[0;31m---------------------------------------------------------------------------\u001b[0m",
      "\u001b[0;31mLinAlgError\u001b[0m                               Traceback (most recent call last)",
      "\u001b[0;32m/var/folders/0v/z2w_93qn6px0c9k8bl2bm49r0000gn/T/ipykernel_37564/436182644.py\u001b[0m in \u001b[0;36m<module>\u001b[0;34m\u001b[0m\n\u001b[1;32m      2\u001b[0m \u001b[0mA\u001b[0m\u001b[0;34m=\u001b[0m\u001b[0mnp\u001b[0m\u001b[0;34m.\u001b[0m\u001b[0mmatrix\u001b[0m\u001b[0;34m(\u001b[0m\u001b[0;34m[\u001b[0m\u001b[0;34m[\u001b[0m\u001b[0;36m1\u001b[0m\u001b[0;34m,\u001b[0m\u001b[0;36m1\u001b[0m\u001b[0;34m]\u001b[0m\u001b[0;34m,\u001b[0m \u001b[0;34m[\u001b[0m\u001b[0;36m1\u001b[0m\u001b[0;34m,\u001b[0m\u001b[0;36m1\u001b[0m\u001b[0;34m]\u001b[0m\u001b[0;34m,\u001b[0m \u001b[0;34m[\u001b[0m\u001b[0;36m3\u001b[0m\u001b[0;34m,\u001b[0m\u001b[0;36m3\u001b[0m\u001b[0;34m]\u001b[0m\u001b[0;34m,\u001b[0m \u001b[0;34m[\u001b[0m\u001b[0;36m1\u001b[0m\u001b[0;34m,\u001b[0m\u001b[0;36m1\u001b[0m\u001b[0;34m]\u001b[0m\u001b[0;34m,\u001b[0m \u001b[0;34m[\u001b[0m\u001b[0;36m1\u001b[0m\u001b[0;34m,\u001b[0m\u001b[0;36m1\u001b[0m\u001b[0;34m]\u001b[0m\u001b[0;34m,\u001b[0m \u001b[0;34m[\u001b[0m\u001b[0;36m3\u001b[0m\u001b[0;34m,\u001b[0m\u001b[0;36m3\u001b[0m\u001b[0;34m]\u001b[0m\u001b[0;34m]\u001b[0m\u001b[0;34m)\u001b[0m\u001b[0;34m\u001b[0m\u001b[0;34m\u001b[0m\u001b[0m\n\u001b[1;32m      3\u001b[0m \u001b[0mb\u001b[0m\u001b[0;34m=\u001b[0m\u001b[0mnp\u001b[0m\u001b[0;34m.\u001b[0m\u001b[0mmatrix\u001b[0m\u001b[0;34m(\u001b[0m\u001b[0;34m[\u001b[0m\u001b[0;34m[\u001b[0m\u001b[0;34m-\u001b[0m\u001b[0;36m4\u001b[0m\u001b[0;34m]\u001b[0m\u001b[0;34m,\u001b[0m\u001b[0;34m[\u001b[0m\u001b[0;36m1\u001b[0m\u001b[0;34m]\u001b[0m\u001b[0;34m,\u001b[0m \u001b[0;34m[\u001b[0m\u001b[0;34m-\u001b[0m\u001b[0;36m8\u001b[0m\u001b[0;34m]\u001b[0m\u001b[0;34m,\u001b[0m \u001b[0;34m[\u001b[0m\u001b[0;36m3\u001b[0m\u001b[0;34m]\u001b[0m\u001b[0;34m,\u001b[0m \u001b[0;34m[\u001b[0m\u001b[0;34m-\u001b[0m\u001b[0;36m6\u001b[0m\u001b[0;34m]\u001b[0m\u001b[0;34m,\u001b[0m \u001b[0;34m[\u001b[0m\u001b[0;34m-\u001b[0m\u001b[0;36m1\u001b[0m\u001b[0;34m]\u001b[0m\u001b[0;34m]\u001b[0m\u001b[0;34m)\u001b[0m\u001b[0;34m\u001b[0m\u001b[0;34m\u001b[0m\u001b[0m\n\u001b[0;32m----> 4\u001b[0;31m \u001b[0mM\u001b[0m \u001b[0;34m=\u001b[0m \u001b[0mnp\u001b[0m\u001b[0;34m.\u001b[0m\u001b[0mlinalg\u001b[0m\u001b[0;34m.\u001b[0m\u001b[0msolve\u001b[0m\u001b[0;34m(\u001b[0m\u001b[0mA\u001b[0m\u001b[0;34m,\u001b[0m\u001b[0mb\u001b[0m\u001b[0;34m)\u001b[0m\u001b[0;34m\u001b[0m\u001b[0;34m\u001b[0m\u001b[0m\n\u001b[0m",
      "\u001b[0;32m<__array_function__ internals>\u001b[0m in \u001b[0;36msolve\u001b[0;34m(*args, **kwargs)\u001b[0m\n",
      "\u001b[0;32m~/opt/anaconda3/lib/python3.9/site-packages/numpy/linalg/linalg.py\u001b[0m in \u001b[0;36msolve\u001b[0;34m(a, b)\u001b[0m\n\u001b[1;32m    378\u001b[0m     \u001b[0ma\u001b[0m\u001b[0;34m,\u001b[0m \u001b[0m_\u001b[0m \u001b[0;34m=\u001b[0m \u001b[0m_makearray\u001b[0m\u001b[0;34m(\u001b[0m\u001b[0ma\u001b[0m\u001b[0;34m)\u001b[0m\u001b[0;34m\u001b[0m\u001b[0;34m\u001b[0m\u001b[0m\n\u001b[1;32m    379\u001b[0m     \u001b[0m_assert_stacked_2d\u001b[0m\u001b[0;34m(\u001b[0m\u001b[0ma\u001b[0m\u001b[0;34m)\u001b[0m\u001b[0;34m\u001b[0m\u001b[0;34m\u001b[0m\u001b[0m\n\u001b[0;32m--> 380\u001b[0;31m     \u001b[0m_assert_stacked_square\u001b[0m\u001b[0;34m(\u001b[0m\u001b[0ma\u001b[0m\u001b[0;34m)\u001b[0m\u001b[0;34m\u001b[0m\u001b[0;34m\u001b[0m\u001b[0m\n\u001b[0m\u001b[1;32m    381\u001b[0m     \u001b[0mb\u001b[0m\u001b[0;34m,\u001b[0m \u001b[0mwrap\u001b[0m \u001b[0;34m=\u001b[0m \u001b[0m_makearray\u001b[0m\u001b[0;34m(\u001b[0m\u001b[0mb\u001b[0m\u001b[0;34m)\u001b[0m\u001b[0;34m\u001b[0m\u001b[0;34m\u001b[0m\u001b[0m\n\u001b[1;32m    382\u001b[0m     \u001b[0mt\u001b[0m\u001b[0;34m,\u001b[0m \u001b[0mresult_t\u001b[0m \u001b[0;34m=\u001b[0m \u001b[0m_commonType\u001b[0m\u001b[0;34m(\u001b[0m\u001b[0ma\u001b[0m\u001b[0;34m,\u001b[0m \u001b[0mb\u001b[0m\u001b[0;34m)\u001b[0m\u001b[0;34m\u001b[0m\u001b[0;34m\u001b[0m\u001b[0m\n",
      "\u001b[0;32m~/opt/anaconda3/lib/python3.9/site-packages/numpy/linalg/linalg.py\u001b[0m in \u001b[0;36m_assert_stacked_square\u001b[0;34m(*arrays)\u001b[0m\n\u001b[1;32m    201\u001b[0m         \u001b[0mm\u001b[0m\u001b[0;34m,\u001b[0m \u001b[0mn\u001b[0m \u001b[0;34m=\u001b[0m \u001b[0ma\u001b[0m\u001b[0;34m.\u001b[0m\u001b[0mshape\u001b[0m\u001b[0;34m[\u001b[0m\u001b[0;34m-\u001b[0m\u001b[0;36m2\u001b[0m\u001b[0;34m:\u001b[0m\u001b[0;34m]\u001b[0m\u001b[0;34m\u001b[0m\u001b[0;34m\u001b[0m\u001b[0m\n\u001b[1;32m    202\u001b[0m         \u001b[0;32mif\u001b[0m \u001b[0mm\u001b[0m \u001b[0;34m!=\u001b[0m \u001b[0mn\u001b[0m\u001b[0;34m:\u001b[0m\u001b[0;34m\u001b[0m\u001b[0;34m\u001b[0m\u001b[0m\n\u001b[0;32m--> 203\u001b[0;31m             \u001b[0;32mraise\u001b[0m \u001b[0mLinAlgError\u001b[0m\u001b[0;34m(\u001b[0m\u001b[0;34m'Last 2 dimensions of the array must be square'\u001b[0m\u001b[0;34m)\u001b[0m\u001b[0;34m\u001b[0m\u001b[0;34m\u001b[0m\u001b[0m\n\u001b[0m\u001b[1;32m    204\u001b[0m \u001b[0;34m\u001b[0m\u001b[0m\n\u001b[1;32m    205\u001b[0m \u001b[0;32mdef\u001b[0m \u001b[0m_assert_finite\u001b[0m\u001b[0;34m(\u001b[0m\u001b[0;34m*\u001b[0m\u001b[0marrays\u001b[0m\u001b[0;34m)\u001b[0m\u001b[0;34m:\u001b[0m\u001b[0;34m\u001b[0m\u001b[0;34m\u001b[0m\u001b[0m\n",
      "\u001b[0;31mLinAlgError\u001b[0m: Last 2 dimensions of the array must be square"
     ]
    }
   ],
   "source": [
    "##Edit this cell to answer the question.\n",
    "A=np.matrix([[1,1], [1,1], [3,3], [1,1], [1,1], [3,3]])\n",
    "b=np.matrix([[-4],[1], [-8], [3], [-6], [-1]])\n",
    "M = np.linalg.solve(A,b)"
   ]
  },
  {
   "cell_type": "code",
   "execution_count": 2,
   "metadata": {},
   "outputs": [
    {
     "ename": "NameError",
     "evalue": "name 'M' is not defined",
     "output_type": "error",
     "traceback": [
      "\u001b[0;31m---------------------------------------------------------------------------\u001b[0m",
      "\u001b[0;31mNameError\u001b[0m                                 Traceback (most recent call last)",
      "\u001b[0;32m/var/folders/0v/z2w_93qn6px0c9k8bl2bm49r0000gn/T/ipykernel_37564/596037915.py\u001b[0m in \u001b[0;36m<module>\u001b[0;34m\u001b[0m\n\u001b[1;32m      1\u001b[0m \u001b[0;32mfrom\u001b[0m \u001b[0manswercheck\u001b[0m \u001b[0;32mimport\u001b[0m \u001b[0mcheckanswer\u001b[0m\u001b[0;34m\u001b[0m\u001b[0;34m\u001b[0m\u001b[0m\n\u001b[0;32m----> 2\u001b[0;31m \u001b[0mcheckanswer\u001b[0m\u001b[0;34m.\u001b[0m\u001b[0mmatrix\u001b[0m\u001b[0;34m(\u001b[0m\u001b[0mM\u001b[0m\u001b[0;34m,\u001b[0m\u001b[0;34m'826b8e8cedae0a1b5e6524f655d51b4a'\u001b[0m\u001b[0;34m)\u001b[0m\u001b[0;34m;\u001b[0m\u001b[0;34m\u001b[0m\u001b[0;34m\u001b[0m\u001b[0m\n\u001b[0m",
      "\u001b[0;31mNameError\u001b[0m: name 'M' is not defined"
     ]
    }
   ],
   "source": [
    "from answercheck import checkanswer\n",
    "checkanswer.matrix(M,'826b8e8cedae0a1b5e6524f655d51b4a');"
   ]
  },
  {
   "cell_type": "markdown",
   "metadata": {},
   "source": [
    "&#9989;  **<font color=red>QUESTION 1c:</font>** (5pts)  Given the transform matrix $M$, what is the resulting point of $(3,3)$ after the transform?  Use matrix-vector multiplication to find the resulting point and store it in ```y4``` as a  $2\\times 1$ ```numpy.matrix```.  Check that the resulting four end points form a parallellogram by showing that ```y4-y3=y2-y1``` (see the code provided in the cell)."
   ]
  },
  {
   "cell_type": "code",
   "execution_count": null,
   "metadata": {
    "scrolled": true
   },
   "outputs": [],
   "source": [
    "###Start your coding###\n",
    "y4 = \n",
    "###End your coding###\n",
    "y1 = np.matrix([[-3],[2]])\n",
    "y2 = np.matrix([[-5],[4]])\n",
    "y3 = np.matrix([[-7],[2]])\n",
    "np.allclose(y4 - y3,   y2 - y1)"
   ]
  },
  {
   "cell_type": "code",
   "execution_count": null,
   "metadata": {
    "scrolled": true
   },
   "outputs": [],
   "source": [
    "from answercheck import checkanswer\n",
    "checkanswer.vector(y4,'c3269727a1029f9e2be7e1b29ac580a3');"
   ]
  },
  {
   "cell_type": "markdown",
   "metadata": {},
   "source": [
    "&#9989;  **<font color=red>QUESTION 1d:</font>** (5pts)  Use the geometric meanings to determine which properties/shapes each operation preserves respectively. Change the entries of form below. "
   ]
  },
  {
   "cell_type": "markdown",
   "metadata": {},
   "source": [
    "|                           | Rotation | Shearing | Translation | Scaling |\n",
    "|   --- | --- | ----------- | --- | ----------- |\n",
    "|  Angle between two lines  |    T/F  |   T/F   |   T/F    |   T/F   |\n",
    "|              Origin       |    T/F  |   T/F   |   T/F    |   T/F   |\n",
    "|Distance between two points|    T/F  |   T/F   |   T/F    |   T/F   |\n",
    "|         Parallelograms    |    T/F  |   T/F   |   T/F    |   T/F   |\n",
    "|  Area of a  Parallelogram |    T/F  |   T/F   |   T/F    |   T/F   |"
   ]
  },
  {
   "cell_type": "markdown",
   "metadata": {},
   "source": [
    "---\n",
    "<a name=Stitch-Images-together></a>\n",
    "# 2.  (35pts) Inverse Transform and Combined Transform\n",
    "\n"
   ]
  },
  {
   "cell_type": "markdown",
   "metadata": {},
   "source": [
    "Again we consider a tranform without the translation. However, we consider it in three dimensions now."
   ]
  },
  {
   "cell_type": "markdown",
   "metadata": {},
   "source": [
    "&#9989;  **<font color=red>QUESTION 2a:</font>** (9pts)  Use python code to construct the following three $3\\times 3$ transformation matrices: \n",
    "+ Rotation matrix `Rz` with angle `degreez`$=30^\\circ$ (rotate about $z$ axis)\n",
    "+ Rotation matrix `Rx` with angle `degreex`$=45^\\circ$ (rotate about $x$ axis)\n",
    "+ Shearing matrix `SH` with parameter `sh`$=1.0$ (adding the $x$ component to the $z$ component)"
   ]
  },
  {
   "cell_type": "code",
   "execution_count": 66,
   "metadata": {},
   "outputs": [],
   "source": [
    "## Finish the code in this cell.\n",
    "degreez = 30\n",
    "\n",
    "theta = degreez/180  * np.pi\n",
    "\n",
    "Rz = np.matrix([[np.cos(theta), -np.sin(theta),0] , [np.sin(theta), np.cos(theta),0], [0,0,1]])\n",
    "\n",
    "degreex = 45\n",
    "theta2 = degreex/180  * np.pi\n",
    "\n",
    "\n",
    "Rx = np.matrix([[1,0,0], [0, np.cos(theta2), -np.sin(theta2)], [0,np.sin(theta2),np.cos(theta2)]])\n",
    "\n",
    "sh = 1.0 \n",
    "\n",
    "SH = np.matrix([[1,0,0], [0,1,0], [sh,0,1]])\n",
    "\n",
    " "
   ]
  },
  {
   "cell_type": "code",
   "execution_count": 67,
   "metadata": {},
   "outputs": [
    {
     "name": "stdout",
     "output_type": "stream",
     "text": [
      "\n",
      "CheckWarning: Matrix contains negative values for zero...\n",
      "    Converting to positive values of zero using  ```A[A==-0] = 0```.\n",
      "\n",
      "Testing [[ 0.86603 -0.5      0.     ]\n",
      " [ 0.5      0.86603  0.     ]\n",
      " [ 0.       0.       1.     ]]\n",
      "Answer seems to be correct\n",
      "\n"
     ]
    }
   ],
   "source": [
    "checkanswer.matrix(Rz,'55af1d4adf3962b813bc608b0ef40d37');"
   ]
  },
  {
   "cell_type": "code",
   "execution_count": 68,
   "metadata": {
    "scrolled": true
   },
   "outputs": [
    {
     "name": "stdout",
     "output_type": "stream",
     "text": [
      "\n",
      "CheckWarning: Matrix contains negative values for zero...\n",
      "    Converting to positive values of zero using  ```A[A==-0] = 0```.\n",
      "\n",
      "Testing [[ 1.       0.       0.     ]\n",
      " [ 0.       0.70711 -0.70711]\n",
      " [ 0.       0.70711  0.70711]]\n",
      "Answer seems to be correct\n",
      "\n"
     ]
    }
   ],
   "source": [
    "checkanswer.matrix(Rx,'13cb95088dae5954809c5e0b029233d3');"
   ]
  },
  {
   "cell_type": "code",
   "execution_count": 69,
   "metadata": {},
   "outputs": [
    {
     "name": "stdout",
     "output_type": "stream",
     "text": [
      "\n",
      "CheckWarning: Matrix contains negative values for zero...\n",
      "    Converting to positive values of zero using  ```A[A==-0] = 0```.\n",
      "\n",
      "Testing [[1. 0. 0.]\n",
      " [0. 1. 0.]\n",
      " [1. 0. 1.]]\n",
      "Answer seems to be correct\n",
      "\n"
     ]
    }
   ],
   "source": [
    "checkanswer.matrix(SH,'bbb2bcd6abe86fd4d8434ea1a1eb5460');"
   ]
  },
  {
   "cell_type": "markdown",
   "metadata": {},
   "source": [
    "&#9989;  **<font color=red>QUESTION 2b:</font>** (6pts)  Use the geometric meanings to find the inverse tranform matrices for the three matrices and call them `Rx_inv`, `Rz_inv`, and `SH_inv`, respectively. Feel free to use your induition based on what the transforms do to find the inverses. Check that the matrices you found are indeed the inverses you are looking for by multiplying each matrix with its inverse."
   ]
  },
  {
   "cell_type": "code",
   "execution_count": 70,
   "metadata": {
    "scrolled": true
   },
   "outputs": [],
   "source": [
    "##complete the code in this cell\n",
    "\n",
    "Rz_inv = np.linalg.inv(Rz)\n",
    "\n",
    "Rx_inv = np.linalg.inv(Rx)\n",
    "\n",
    "SH_inv = np.linalg.inv(SH)\n"
   ]
  },
  {
   "cell_type": "code",
   "execution_count": 71,
   "metadata": {},
   "outputs": [
    {
     "name": "stdout",
     "output_type": "stream",
     "text": [
      "\n",
      "CheckWarning: Matrix contains negative values for zero...\n",
      "    Converting to positive values of zero using  ```A[A==-0] = 0```.\n",
      "\n",
      "Testing [[ 0.86603  0.5      0.     ]\n",
      " [-0.5      0.86603  0.     ]\n",
      " [ 0.       0.       1.     ]]\n",
      "Answer seems to be correct\n",
      "\n"
     ]
    }
   ],
   "source": [
    "checkanswer.matrix(Rz_inv,'84b1a7ebd71e740c41730448de079684');"
   ]
  },
  {
   "cell_type": "code",
   "execution_count": 72,
   "metadata": {
    "scrolled": true
   },
   "outputs": [
    {
     "name": "stdout",
     "output_type": "stream",
     "text": [
      "\n",
      "CheckWarning: Matrix contains negative values for zero...\n",
      "    Converting to positive values of zero using  ```A[A==-0] = 0```.\n",
      "\n",
      "Testing [[ 1.       0.       0.     ]\n",
      " [ 0.       0.70711  0.70711]\n",
      " [ 0.      -0.70711  0.70711]]\n",
      "Answer seems to be correct\n",
      "\n"
     ]
    }
   ],
   "source": [
    "checkanswer.matrix(Rx_inv,'0c1aff2bb0a3734448b8d091e2540f34');"
   ]
  },
  {
   "cell_type": "code",
   "execution_count": 73,
   "metadata": {
    "scrolled": true
   },
   "outputs": [
    {
     "name": "stdout",
     "output_type": "stream",
     "text": [
      "\n",
      "CheckWarning: Matrix contains negative values for zero...\n",
      "    Converting to positive values of zero using  ```A[A==-0] = 0```.\n",
      "\n",
      "Testing [[ 1.  0.  0.]\n",
      " [ 0.  1.  0.]\n",
      " [-1.  0.  1.]]\n",
      "Answer seems to be correct\n",
      "\n"
     ]
    }
   ],
   "source": [
    "checkanswer.matrix(SH_inv,'8eeab2f49c3c421842cb1a15595a8b43');"
   ]
  },
  {
   "cell_type": "markdown",
   "metadata": {},
   "source": [
    "&#9989;  **<font color=red>QUESTION 2c:</font>** (5pts) Print the product of the two matrices `SH*Rx` and `Rx*SH`. Are they the same? Can you imagine a geometric reason why this is the case? "
   ]
  },
  {
   "cell_type": "code",
   "execution_count": 74,
   "metadata": {},
   "outputs": [
    {
     "name": "stdout",
     "output_type": "stream",
     "text": [
      "[[ 1.          0.          0.        ]\n",
      " [ 0.          0.70710678 -0.70710678]\n",
      " [ 1.          0.70710678  0.70710678]]\n",
      "[[ 1.          0.          0.        ]\n",
      " [-0.70710678  0.70710678 -0.70710678]\n",
      " [ 0.70710678  0.70710678  0.70710678]]\n"
     ]
    }
   ],
   "source": [
    "### Put your answer here\n",
    "\n",
    "Product1=SH*Rx\n",
    "Product2=Rx*SH\n",
    "\n",
    "print(Product1)\n",
    "\n",
    "print(Product2)"
   ]
  },
  {
   "cell_type": "markdown",
   "metadata": {},
   "source": [
    "&#9989;  **<font color=red>QUESTION 2d:</font>** (5pts)  Combine the three matrices into one transfrom matrix. You can choose any order for the three matrices. Then use the `rref` function in `sympy` to find the inverse of the matrix. (Hint: you can use `numpy.concatenate` to join two $3\\times 3$ matrices into one $3\\times 6$ matrix.)"
   ]
  },
  {
   "cell_type": "code",
   "execution_count": 50,
   "metadata": {},
   "outputs": [],
   "source": [
    "T=Rz*Rx*SH\n",
    "#np.linalg.inv(T)\n"
   ]
  },
  {
   "cell_type": "markdown",
   "metadata": {},
   "source": [
    "&#9989;  **<font color=red>QUESTION 2e:</font>** (5pts)  As we know, if $A$, $B$ and $C$ are invertible, we have \n",
    "$$(ABC)^{-1}=C^{-1}B^{-1}A^{-1}.$$\n",
    "Based on this rule, use the inverse transformation matrices to construct the inverse of $M$ and check whether it is the same as you obtained in the previous question."
   ]
  },
  {
   "cell_type": "code",
   "execution_count": 44,
   "metadata": {
    "scrolled": false
   },
   "outputs": [
    {
     "data": {
      "text/plain": [
       "matrix([[ 0.8660254 ,  0.5       ,  0.        ],\n",
       "        [-0.35355339,  0.61237244,  0.70710678],\n",
       "        [-0.51247201, -1.11237244,  0.70710678]])"
      ]
     },
     "execution_count": 44,
     "metadata": {},
     "output_type": "execute_result"
    }
   ],
   "source": [
    "Inv=SH_inv*Rx_inv *Rz_inv\n",
    "Inv "
   ]
  },
  {
   "cell_type": "markdown",
   "metadata": {},
   "source": [
    "&#9989;  **<font color=red>QUESTION 2f:</font>** (5pts)  Suppose that under this transformation matrix $M$ we know that some point ends up at (1,1,1). Where was this point before the transformation matrix was applied?"
   ]
  },
  {
   "cell_type": "code",
   "execution_count": null,
   "metadata": {
    "scrolled": false
   },
   "outputs": [],
   "source": [
    "### Put your answer here"
   ]
  },
  {
   "cell_type": "markdown",
   "metadata": {},
   "source": [
    "---\n",
    "<a name=Build-an-combined-affine-transform-function.></a>\n",
    "# 3. (25 points) Cryptography\n",
    "\n",
    "In this problem, we use a matrix to encode a message. There will be two matrices: encoding matrix and decoding matrix. \n",
    "\n",
    "Assume that we want to send the following message \n",
    "$$\\mbox{EXAM AT TWO}$$\n",
    "We first assign a number to each letter of the alphabet. For example, we can assign 1 to A, 2 to B, and so on. In addition, we assign 27 to the space between two words. So this message can be decribed as a vector \n",
    "$$[5,24,1,13,27,1,20,27,20,23,15].$$\n",
    "Then we design an encoding matrix. For this example, we let the encoding matrix be \n",
    "$$\\begin{bmatrix}\n",
    " 3 & -4 & 6\\\\\n",
    "-2 & 3  & -4\\\\\n",
    "-1 & 1  & -1\n",
    "\\end{bmatrix}.$$\n",
    "Because the encoding matrix has three rows and three columns, we break the message vector into many vectors of three elements. If the number is not divided by three, we add additional spaces at the end of the message. Therefore we have the new messge vector\n",
    "$$[5,24,1],[13,27,1],[20,27,20],[23,15,27],$$\n",
    "which has 4 blocks.\n",
    "\n",
    "For the encoding part, we just apply matrix-vector multiplication block by block. "
   ]
  },
  {
   "cell_type": "markdown",
   "metadata": {},
   "source": [
    "&#9989;  **<font color=red>QUESTION 3a:</font>** (5pts) Use python code to encode the message and store the output vector into a matrix named `Message_encoded` with three rows, and each column corresponds to the encoded message of three characters in one block."
   ]
  },
  {
   "cell_type": "code",
   "execution_count": 62,
   "metadata": {},
   "outputs": [
    {
     "name": "stdout",
     "output_type": "stream",
     "text": [
      "Matrix([[-34, 53, -67]]) Matrix([[-16, 30, -31]]) Matrix([[-4, 6, -9]])\n"
     ]
    }
   ],
   "source": [
    "##Put your answer here\n",
    "\n",
    "encoding_matrix=np.matrix([[3,-4,6], [-2,3,-4], [-1,1,-1]])\n",
    "code_block1=[5,24,1]\n",
    "code_block2=[13,27,1]\n",
    "code_block3=[-1,1,-1]\n",
    "code_block4=[23,15,27]\n"
   ]
  },
  {
   "cell_type": "code",
   "execution_count": 63,
   "metadata": {},
   "outputs": [
    {
     "name": "stdout",
     "output_type": "stream",
     "text": [
      "\n",
      "CheckWarning: passed matrix is int64 and not <class 'numpy.float64'>...\n",
      "    Trying to convert to float using ```A = A.astype(float)```.\n",
      "\n",
      "Testing [[-34.  53. -67.]\n",
      " [-16.  30. -31.]\n",
      " [ -4.   6.  -9.]]\n",
      "Answer seems to be incorrect\n",
      "\n"
     ]
    },
    {
     "ename": "AssertionError",
     "evalue": "Answer is incorrect c6d1b5922639c8c155c2e8def0b66a98",
     "output_type": "error",
     "traceback": [
      "\u001b[0;31m---------------------------------------------------------------------------\u001b[0m",
      "\u001b[0;31mAssertionError\u001b[0m                            Traceback (most recent call last)",
      "\u001b[0;32m/var/folders/0v/z2w_93qn6px0c9k8bl2bm49r0000gn/T/ipykernel_37564/1815700934.py\u001b[0m in \u001b[0;36m<module>\u001b[0;34m\u001b[0m\n\u001b[0;32m----> 1\u001b[0;31m \u001b[0mcheckanswer\u001b[0m\u001b[0;34m.\u001b[0m\u001b[0mmatrix\u001b[0m\u001b[0;34m(\u001b[0m\u001b[0mMessage_encoded\u001b[0m\u001b[0;34m,\u001b[0m\u001b[0;34m'f999fdbc134cca1eadcdfcb81e75d589'\u001b[0m\u001b[0;34m)\u001b[0m\u001b[0;34m;\u001b[0m\u001b[0;34m\u001b[0m\u001b[0;34m\u001b[0m\u001b[0m\n\u001b[0m",
      "\u001b[0;32m~/Downloads/answercheck.py\u001b[0m in \u001b[0;36mmatrix\u001b[0;34m(A, hashtag, decimal_accuracy)\u001b[0m\n\u001b[1;32m    150\u001b[0m         \u001b[0;34m\"\"\"Function to check matrix type before hashing.\"\"\"\u001b[0m\u001b[0;34m\u001b[0m\u001b[0;34m\u001b[0m\u001b[0m\n\u001b[1;32m    151\u001b[0m         \u001b[0mA\u001b[0m \u001b[0;34m=\u001b[0m \u001b[0mcheckanswer\u001b[0m\u001b[0;34m.\u001b[0m\u001b[0mmake_matrix\u001b[0m\u001b[0;34m(\u001b[0m\u001b[0mA\u001b[0m\u001b[0;34m,\u001b[0m \u001b[0mdecimal_accuracy\u001b[0m\u001b[0;34m)\u001b[0m\u001b[0;34m\u001b[0m\u001b[0;34m\u001b[0m\u001b[0m\n\u001b[0;32m--> 152\u001b[0;31m         \u001b[0;32mreturn\u001b[0m \u001b[0mcheckanswer\u001b[0m\u001b[0;34m.\u001b[0m\u001b[0mbasic\u001b[0m\u001b[0;34m(\u001b[0m\u001b[0mA\u001b[0m\u001b[0;34m,\u001b[0m \u001b[0mhashtag\u001b[0m\u001b[0;34m)\u001b[0m\u001b[0;34m\u001b[0m\u001b[0;34m\u001b[0m\u001b[0m\n\u001b[0m\u001b[1;32m    153\u001b[0m \u001b[0;34m\u001b[0m\u001b[0m\n\u001b[1;32m    154\u001b[0m     \u001b[0;31m# TODO: Not complete or tested.\u001b[0m\u001b[0;34m\u001b[0m\u001b[0;34m\u001b[0m\u001b[0m\n",
      "\u001b[0;32m~/Downloads/answercheck.py\u001b[0m in \u001b[0;36mbasic\u001b[0;34m(var, hashtag)\u001b[0m\n\u001b[1;32m     48\u001b[0m             \u001b[0;32melse\u001b[0m\u001b[0;34m:\u001b[0m\u001b[0;34m\u001b[0m\u001b[0;34m\u001b[0m\u001b[0m\n\u001b[1;32m     49\u001b[0m                 \u001b[0mprint\u001b[0m\u001b[0;34m(\u001b[0m\u001b[0;34m\"Answer seems to be incorrect\\n\"\u001b[0m\u001b[0;34m)\u001b[0m\u001b[0;34m\u001b[0m\u001b[0;34m\u001b[0m\u001b[0m\n\u001b[0;32m---> 50\u001b[0;31m                 \u001b[0;32massert\u001b[0m \u001b[0mchecktag\u001b[0m \u001b[0;34m==\u001b[0m \u001b[0mhashtag\u001b[0m\u001b[0;34m,\u001b[0m \u001b[0;34mf\"Answer is incorrect {checktag}\"\u001b[0m\u001b[0;34m\u001b[0m\u001b[0;34m\u001b[0m\u001b[0m\n\u001b[0m\u001b[1;32m     51\u001b[0m         \u001b[0;32melse\u001b[0m\u001b[0;34m:\u001b[0m\u001b[0;34m\u001b[0m\u001b[0;34m\u001b[0m\u001b[0m\n\u001b[1;32m     52\u001b[0m             \u001b[0;32mraise\u001b[0m \u001b[0mTypeError\u001b[0m\u001b[0;34m(\u001b[0m\u001b[0;34mf\"No answer hastag provided: {checktag}\"\u001b[0m\u001b[0;34m)\u001b[0m\u001b[0;34m\u001b[0m\u001b[0;34m\u001b[0m\u001b[0m\n",
      "\u001b[0;31mAssertionError\u001b[0m: Answer is incorrect c6d1b5922639c8c155c2e8def0b66a98"
     ]
    }
   ],
   "source": [
    "checkanswer.matrix(Message_encoded,'f999fdbc134cca1eadcdfcb81e75d589');"
   ]
  },
  {
   "cell_type": "markdown",
   "metadata": {},
   "source": [
    "&#9989;  **<font color=red>QUESTION 3b:</font>** (5pts) Find the decoding algorithm that will decode the encoded message and store the square matrix involved in that algorithm as `Decode`."
   ]
  },
  {
   "cell_type": "code",
   "execution_count": null,
   "metadata": {},
   "outputs": [],
   "source": [
    "##Put your code here\n",
    "Decode = "
   ]
  },
  {
   "cell_type": "code",
   "execution_count": null,
   "metadata": {},
   "outputs": [],
   "source": [
    "checkanswer.matrix(Decode,'63d53e9cfc0429f46f5755acba4b51a7');"
   ]
  },
  {
   "cell_type": "markdown",
   "metadata": {},
   "source": [
    "&#9989;  **<font color=red>QUESTION 3c:</font>** (5pts) Use the decoding algorithm to decode the message you just encoded. "
   ]
  },
  {
   "cell_type": "code",
   "execution_count": null,
   "metadata": {},
   "outputs": [],
   "source": [
    "#Put your code here"
   ]
  },
  {
   "cell_type": "markdown",
   "metadata": {},
   "source": [
    "### &#9989;  **<font color=red>QUESTION 3d:</font>** (5pts) Use the decoding matrix `Decode` to decode the following message\n",
    "$$[33, -18, -2, 89, -53, -16, 155, -102, -38, 184, -121, -36]. $$"
   ]
  },
  {
   "cell_type": "code",
   "execution_count": null,
   "metadata": {},
   "outputs": [],
   "source": [
    "#Put your answer here"
   ]
  },
  {
   "cell_type": "markdown",
   "metadata": {},
   "source": [
    "&#9989;  **<font color=red>QUESTION 3e:</font>** (5pts) Assume that the encode matrix is implemented in a machine, but you forgot the corresponding decode matrix. You only know that the encode matrix is $3\\times 3$. In this case, you can still find the encode matrix and encode vector using the pairs of original message and encoded message. How many pairs do you need to recover this matrix? Explain your answer"
   ]
  },
  {
   "cell_type": "code",
   "execution_count": null,
   "metadata": {},
   "outputs": [],
   "source": [
    "##Put your answer here"
   ]
  },
  {
   "cell_type": "markdown",
   "metadata": {},
   "source": [
    "\n",
    "\n",
    "---\n",
    "<a name=Build-an-combined-affine-transform-function.></a>\n",
    "# 4. (15 points) Conics"
   ]
  },
  {
   "cell_type": "markdown",
   "metadata": {},
   "source": [
    "---\n",
    "## Working with conic sections\n",
    "\n",
    "<img alt=\"Figure showing how different slices though a conic section results in different shapes.\" src='https://dr282zn36sxxg.cloudfront.net/datastreams/f-d%3Ac88f77a9cc7914d68baf3dbb272db78f307dbd135f37b70d23fe72a1%2BIMAGE_TINY%2BIMAGE_TINY.1'>\n",
    "\n",
    "\n",
    "Circles, ellipses, parabolas, and hyperbolas are all examples of __conic sections__ and can be realized as the intersection of a plane with a cone. They are all realized by different values of $a,b,c,d,e,f$ in the formula:\n",
    "\n",
    "$$ Q(x,y) = ax^2 + bxy + c y^2 +dx + ey + f =0.$$\n",
    "\n",
    "In this quiz we will discuss how we can represent a conic section by a matrix, and discuss varius ways we can use this matrix representation. "
   ]
  },
  {
   "cell_type": "markdown",
   "metadata": {},
   "source": [
    "&#9989;  **<font color=red>QUESTION 4a:</font>** \n",
    "(5 pts) Multiply the following three matrices by hand $$ \\begin{bmatrix} x & y \\end{bmatrix}\\begin{bmatrix} 1 & -1 \\\\ -1 & 4 \\\\ \\end{bmatrix} \\begin{bmatrix} x \\\\ y \\end{bmatrix}$$\n",
    "\n",
    "**Note.** Your answer will be a $1 \\times 1$ matrix, which we will treat as a scalar. A perfect answer will use latex, but it is okay for you to just type your answer legibly in plain text. "
   ]
  },
  {
   "cell_type": "markdown",
   "metadata": {},
   "source": [
    "**Put your answer to the above question here**"
   ]
  },
  {
   "cell_type": "markdown",
   "metadata": {},
   "source": [
    "##ANSWER##\n",
    "\n",
    "$$ x^2 - 2xy + 4y^2$$\n",
    "\n",
    "\n",
    "possible code answer:\n",
    "\n",
    "``x,y = sym.symbols('x,y')\n",
    "(sym.Matrix([[x,y]])* sym.Matrix([[1,-1],[-1,4]]) * sym.Matrix([x,y])).expand()``\n",
    "\n",
    "\n",
    "##ANSWER##"
   ]
  },
  {
   "cell_type": "markdown",
   "metadata": {},
   "source": [
    "---\n",
    "In a similar fashion to Question 1 if we define $$ x = \\begin{bmatrix} x \\\\ y \\\\ 1 \\end{bmatrix} \\quad \\text{ and } \\quad A_Q = \\frac{1}{2} \\cdot \\begin{bmatrix} 2a & b & d \\\\ b & 2c & e \\\\ d & e & 2f \\end{bmatrix}$$ then \n",
    "\n",
    "$$ x^\\top A_Q x =Q(x,y) = ax^2 + bxy + c y^2 +dx + ey + f .$$\n",
    "\n",
    "Define $A_{33}$ to be the upper left $2 \\times 2$ submatrix that you get from deleting the last row and column of $A_Q$. That is $$A_{33} = \\frac{1}{2} \\cdot \\begin{bmatrix} 2a & b  \\\\ b & 2c \\end{bmatrix}$$\n",
    "\n",
    "**These formulas for $Q(x,y)$, $A_Q$, and $A_{33}$ will be used throughout the rest of Question 4.**\n",
    "\n",
    "---\n",
    "\n",
    "It can be shown that if $\\det(A_Q) \\neq 0$ then we can classify which type of conic section (ellipse, parabola, or hyperbola) the equation represents. Specifically,\n",
    "\n",
    "- If $\\det(A_{33} ) < 0$ then $Q$ is a hyperbola,\n",
    "- If $\\det(A_{33} ) = 0$ then $Q$ is a parabola,\n",
    "- If $\\det(A_{33} ) > 0$ then $Q$ is a ellipse.\n",
    "\n",
    "&#9989;  **<font color=red>QUESTION 4b:</font>** (5 pts)\n",
    "Which type of conic section does the matrix $A_Q$ represent if $A_Q = \n",
    "\\left[\n",
    "\\begin{matrix}\n",
    "41 &  9  &  -191\\\\\n",
    "9  &  41 &  -159\\\\\n",
    "-191& -159 & 441\n",
    "\\end{matrix}\n",
    "\\right]\\,?$ \n",
    "\n",
    "Save $\\det(A_{33})$ as ``det33`` for the answercheck. "
   ]
  },
  {
   "cell_type": "markdown",
   "metadata": {},
   "source": [
    "**The type of conic section Q represents is ....**"
   ]
  },
  {
   "cell_type": "code",
   "execution_count": null,
   "metadata": {},
   "outputs": [],
   "source": [
    "# Do your work for the above question here. \n",
    "AQ = np.matrix([[ 41.,  9.,  -191.],\n",
    "                [ 9.,  41.,  -159.],\n",
    "                [ -191., -159., 441.]])\n",
    "# A33=\n",
    "# det33 =  "
   ]
  },
  {
   "cell_type": "code",
   "execution_count": null,
   "metadata": {},
   "outputs": [],
   "source": [
    "from answercheck import checkanswer\n",
    "checkanswer.detailedwarnings = False\n",
    "checkanswer.float(det33,'6febd8047eb9ddc4d9caf141403a586a')"
   ]
  },
  {
   "cell_type": "markdown",
   "metadata": {},
   "source": [
    "----\n",
    "Provided that the conic section is not a parabola, we can find the center point $(c_1,c_2)$ by solving the equation $ A_{33}x_c = b$  where $x_c = \\begin{bmatrix}c_1 \\\\c_2\\end{bmatrix}$ and  $b = \\left(-\\frac{1}2\\right)\\cdot \\begin{bmatrix}d \\\\e\\end{bmatrix}$.\n",
    "\n",
    "&#9989;  **<font color=red>QUESTION 4c:</font>** (5 pts) Solve the matrix equation given above to find the center of the ellipse $$Q(x,y) = 1.98 x^2 + 1.08 xy + 1.35 y^2 + 6.66 x - 0.54 y - 2.07$$ Save your answer to ``x_c`` in the form of a vector. \n",
    "\n",
    "**Hint.** Your $A_{33}$ is different than the one in Question 2."
   ]
  },
  {
   "cell_type": "code",
   "execution_count": null,
   "metadata": {},
   "outputs": [],
   "source": [
    "##Your answer here\n",
    "# A33 = np.matrix()\n",
    "# b = np.matrix()\n",
    "# x_c = "
   ]
  },
  {
   "cell_type": "code",
   "execution_count": null,
   "metadata": {},
   "outputs": [],
   "source": [
    "from answercheck import checkanswer\n",
    "checkanswer.detailedwarnings = False\n",
    "checkanswer.vector(x_c,'4b37fbc12fe5f13ad053447009defe68')"
   ]
  },
  {
   "cell_type": "markdown",
   "metadata": {},
   "source": [
    "---------\n",
    "### Congratulations, we're done!\n"
   ]
  }
 ],
 "metadata": {
  "celltoolbar": "Create Assignment",
  "kernelspec": {
   "display_name": "Python 3 (ipykernel)",
   "language": "python",
   "name": "python3"
  },
  "language_info": {
   "codemirror_mode": {
    "name": "ipython",
    "version": 3
   },
   "file_extension": ".py",
   "mimetype": "text/x-python",
   "name": "python",
   "nbconvert_exporter": "python",
   "pygments_lexer": "ipython3",
   "version": "3.9.7"
  }
 },
 "nbformat": 4,
 "nbformat_minor": 4
}
