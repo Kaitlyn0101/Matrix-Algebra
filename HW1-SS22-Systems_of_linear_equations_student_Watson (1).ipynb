{
 "cells": [
  {
   "cell_type": "markdown",
   "metadata": {},
   "source": [
    "In order to successfully complete this assignment, you must follow all the instructions in this notebook and upload your edited ipynb file (including solutions) to [D2L](http://d2l.msu.edu/) with your answers on or before **10:00 AM ET, Friday, February 4, 2022**.\n",
    "\n",
    "**BIG HINT:** Read the entire homework before starting.  "
   ]
  },
  {
   "cell_type": "markdown",
   "metadata": {},
   "source": [
    "# Homework 1: Solving Systems of Linear Equations\n",
    "\n",
    "These problems are intended to give students exposure to the style of some of the questions asked on quizzes and help you practice. Please finish the entire Jupyter Notebook and turn in your edited file using the [MSU D2L Website](http://d2l.msu.edu)."
   ]
  },
  {
   "cell_type": "markdown",
   "metadata": {},
   "source": [
    "### Outline for Homework 1\n",
    "\n",
    "1. [Basics](#Basics)\n",
    "1. [Balancing Equations](#Balancing-Equations)\n",
    "1. [Average Temperatures](#-AvgTemp)\n",
    "1. [Traffic Control](#Traffic)\n",
    "1. [Good Jacobi / Bad Jacobi](#GJBJ)\n"
   ]
  },
  {
   "cell_type": "markdown",
   "metadata": {},
   "source": [
    "\n",
    "---\n",
    "<a name=Basics></a>\n",
    "# 1. Basics"
   ]
  },
  {
   "cell_type": "markdown",
   "metadata": {},
   "source": [
    "&#9989;  **<font color=red>QUESTION 1a:</font>** (5pts) Suppose $u, v \\in\\mathbb R^5$ and $x,y\\in\\mathbb R^3$ are vectors given by\n",
    "* $u=[1,2,-1,0,0], v=[0,0,1,3,4]$ and  $x=[0,1,-1], y=[3,2, \\pi]$.\n",
    "\n",
    "Which of the following operations are well defined, in the setting of Linear Algebra? If they are not well defined, explain why. If they are, calculate the result. \n",
    "\n",
    "1. $u\\cdot v$\n",
    "1. $u\\cdot x$\n",
    "1. $u\\cdot v + x\\cdot y$\n",
    "1. $u + x\\cdot y$\n",
    "1. $(u+v)\\cdot v$\n",
    "\n",
    "Recall that $\\cdot$ denotes the dot product of two vectors."
   ]
  },
  {
   "cell_type": "markdown",
   "metadata": {},
   "source": [
    "\n",
    "1. $u\\cdot v$ = -1\n",
    "1. $u\\cdot x$ is not well defined because u and x are not the same size.\n",
    "1. $u\\cdot v + x\\cdot y$ = 1- $\\pi$\n",
    "1. $u + x\\cdot y$ is not well defined because you cannot add a vector by a scalar\n",
    "1. $(u+v)\\cdot v$ = 25"
   ]
  },
  {
   "cell_type": "code",
   "execution_count": 32,
   "metadata": {},
   "outputs": [],
   "source": [
    "%matplotlib inline \n",
    "import matplotlib.pylab as plt\n",
    "import numpy as np\n",
    "import sympy as sym\n",
    "sym.init_printing()\n",
    "from answercheck import checkanswer"
   ]
  },
  {
   "cell_type": "markdown",
   "metadata": {},
   "source": [
    "&#9989;  **<font color=red>QUESTION 1b:</font>** (5pts) Consider the following augmented matrix $[A|b]$, in Reduced Row Echelon Form (RREF), representing a system of linear equations, $Ax=b$. Find ALL possible solutions, $x$, of the system. If there is no solution, explain why."
   ]
  },
  {
   "cell_type": "markdown",
   "metadata": {},
   "source": [
    "$$[A|b] = \\left[ \\begin{matrix} 1 & 0 & 0 \\\\ 0 & 1 & 0  \\\\ 0 & 0 & 1  \\end{matrix} \\, \\middle\\vert \\, \\begin{matrix} 3 \\\\ 5 \\\\ 7 \\end{matrix} \\right]$$"
   ]
  },
  {
   "cell_type": "code",
   "execution_count": 33,
   "metadata": {},
   "outputs": [],
   "source": [
    "# Enter your answer below. Write x as a list\n",
    "x=[3,5,7]"
   ]
  },
  {
   "cell_type": "code",
   "execution_count": 34,
   "metadata": {},
   "outputs": [
    {
     "name": "stdout",
     "output_type": "stream",
     "text": [
      "Testing Answer\n",
      "Answer seems to be correct\n",
      "\n"
     ]
    }
   ],
   "source": [
    "\n",
    "\n",
    "checkanswer(x, \"046804ecad3bb5d8a4db4d5fea6542f1\");"
   ]
  },
  {
   "cell_type": "markdown",
   "metadata": {},
   "source": [
    "&#9989;  **<font color=red>QUESTION 1c:</font>** (5pts) Consider the following augmented matrix $[B|c]$, in Reduced Row Echelon Form (RREF), representing a system of linear equations, $Bx=c$. Find ALL possible solutions, $x$, of the system. If there is no solution, explain why.\n",
    "\n",
    "$$[B|c] = \\left[ \\begin{matrix} 1 & 0 & 2 \\\\ 0 & 1 & 3  \\\\ 0 & 0 & 0  \\end{matrix} \\, \\middle\\vert \\, \\begin{matrix} 3 \\\\ 5 \\\\ 0 \\end{matrix} \\right]$$"
   ]
  },
  {
   "cell_type": "markdown",
   "metadata": {},
   "source": [
    "Enter your answer in this markdown cell by double clicking here:\n",
    "\n",
    "There is an infinite amount of solutions to this matrix. This is becuase for any value z, there will exist an X and Y which are unique to satify the solution. Because there are many values for Z, there is an infinite amount of x and y to satisfy this matrix.\n"
   ]
  },
  {
   "cell_type": "markdown",
   "metadata": {},
   "source": [
    "&#9989;  **<font color=red>QUESTION 1d:</font>** (5pts) Consider the following augmented matrix $[C|d]$, in Reduced Row Echelon Form (RREF), representing a system of linear equations, $Cx=d$. Find ALL possible solutions, $x$, of the system. If there is no solution, explain why.\n",
    "\n",
    "$$[C|d] = \\left[ \\begin{matrix} 1 & 0 & 2 \\\\ 0 & 1 & 3  \\\\ 0 & 0 & 0  \\end{matrix} \\, \\middle\\vert \\, \\begin{matrix} 3 \\\\ 5 \\\\ 1 \\end{matrix} \\right]$$"
   ]
  },
  {
   "cell_type": "markdown",
   "metadata": {},
   "source": [
    "Enter your answer in this markdown cell by double clicking here:\n",
    "\n",
    "This matrix has no solution. This is becuase 0 cannot equal 1. Therefore, there is no solution. "
   ]
  },
  {
   "cell_type": "markdown",
   "metadata": {},
   "source": [
    "---\n",
    "<a name=Balancing-Equations></a>\n",
    "# 2. Balancing Equations\n",
    "\n",
    "\n",
    "\n",
    "\n",
    "![IMage of a scale representing the balance of time and money.  This image is being used to show the balance of linear systems](https://i1.pickpik.com/photos/478/881/147/justice-scales-balance-lawyer-preview.jpg)\n",
    "\n",
    "One of the earliest applications of matrix algebra was to solve systems of linear equations. We encounter these in all sorts of situations throughout our lives. In the first two questions below we ask you to formulate and solve a system of linear equations related to figuring out the number of hours worked at two different jobs. In the third and fourth problems we ask you to use Gauss-Jordan elimination to balance chemical equations."
   ]
  },
  {
   "cell_type": "code",
   "execution_count": 35,
   "metadata": {},
   "outputs": [],
   "source": [
    "%matplotlib inline \n",
    "import matplotlib.pylab as plt\n",
    "import numpy as np\n",
    "import sympy as sym\n",
    "sym.init_printing()"
   ]
  },
  {
   "cell_type": "markdown",
   "metadata": {},
   "source": [
    "### Situation for problems 2a and 2b.\n",
    "Amy works for a movie theater. She can be assigned to two different jobs during her shift and each job pays a different amount of money. If Amy works at the concessions stand then she will make \\\\$14.50 an hour, and \\\\$12.15 an hour for selling tickets. Last week, Amy worked a total of 39.5 hours and earned \\\\$525.75. (Disregard all taxes.) If we set $c$ to be the number of hours worked on concessions and $t$ to be the number of hours worked selling tickets then we get two equations \n",
    "\n",
    "$$ c + t = 39.5,$$\n",
    "\n",
    "$$ 14.50c + 12.15t = 525.75.$$"
   ]
  },
  {
   "cell_type": "markdown",
   "metadata": {},
   "source": [
    "&#9989;  **<font color=red>QUESTION 2a:</font>** (5pts)  Represent the above system of equations as a matrix equation of the form $Ax = b$ and then use ``numpy`` to solve the system."
   ]
  },
  {
   "cell_type": "code",
   "execution_count": 36,
   "metadata": {},
   "outputs": [
    {
     "data": {
      "text/plain": [
       "matrix([[ 1.  ,  1.  ],\n",
       "        [14.5 , 12.15]])"
      ]
     },
     "execution_count": 36,
     "metadata": {},
     "output_type": "execute_result"
    }
   ],
   "source": [
    "##Edit this cell to answer the question.\n",
    "\n",
    "A=np.matrix([[1,1],[14.5,12.15]])\n",
    "A\n"
   ]
  },
  {
   "cell_type": "code",
   "execution_count": 37,
   "metadata": {},
   "outputs": [
    {
     "data": {
      "text/plain": [
       "matrix([[ 39.5 ],\n",
       "        [525.75]])"
      ]
     },
     "execution_count": 37,
     "metadata": {},
     "output_type": "execute_result"
    }
   ],
   "source": [
    "B=np.matrix([[39.5], [525.75]])\n",
    "B"
   ]
  },
  {
   "cell_type": "code",
   "execution_count": 38,
   "metadata": {},
   "outputs": [
    {
     "data": {
      "text/plain": [
       "matrix([[19.5],\n",
       "        [20. ]])"
      ]
     },
     "execution_count": 38,
     "metadata": {},
     "output_type": "execute_result"
    }
   ],
   "source": [
    "x=np.linalg.solve(A,B)\n",
    "x"
   ]
  },
  {
   "cell_type": "code",
   "execution_count": 39,
   "metadata": {
    "nbgrader": {
     "grade": true,
     "grade_id": "cell-218198ef2d62e3d5",
     "locked": true,
     "points": 5,
     "schema_version": 3,
     "solution": false,
     "task": false
    }
   },
   "outputs": [
    {
     "name": "stdout",
     "output_type": "stream",
     "text": [
      "Testing Answer\n",
      "Answer seems to be correct\n",
      "\n"
     ]
    }
   ],
   "source": [
    "from answercheck import checkanswer\n",
    "\n",
    "checkanswer.vector(x,\"92b54c2b36360ec6cc21ca67bc8eeb41\");"
   ]
  },
  {
   "cell_type": "markdown",
   "metadata": {},
   "source": [
    "&#9989;  **<font color=red>QUESTION 2b:</font>** (5 pts) Use complete sentences to describe what the three values $A_{2,2}$, $x_{1,1}$, and $b_{2,1}$ represent in the context of Amy's situation."
   ]
  },
  {
   "cell_type": "markdown",
   "metadata": {
    "nbgrader": {
     "grade": true,
     "grade_id": "cell-964f760aece0af10",
     "locked": false,
     "points": 5,
     "schema_version": 3,
     "solution": true,
     "task": false
    }
   },
   "source": [
    "COMPLETE THE FOLLOWING SENTENCES..\n",
    "\n",
    "The value $A_{2,2}$ represents the rate per hour Amy makes selling tickets which is $12.15.\n",
    "\n",
    "The value $x_{1,1}$ represents the number of hours worked at the concession stand which is 19.25 hours\n",
    "\n",
    "The value $b_{2,1}$ represents the total amount of money Amy made working at the concession stand and selling tickets using the rates provided which is $525.75. "
   ]
  },
  {
   "cell_type": "markdown",
   "metadata": {},
   "source": [
    "----\n",
    "### Situation for problems 2c and 2d.\n",
    "\n",
    "A chemical equation is the symbolic representation of a chemical reaction in the form of symbols and formulae, wherein the reactant entities are given on the left-hand side and the product entities on the right-hand side. The coefficients of the symbols represent the number of molecules of each chemical required to preserve matter in the chemical reaction. \n",
    "\n",
    "For example, the process of burning methane is represented by the chemical equation\n",
    "\n",
    "$$ 1 CH_4 + 2 O_2 \\rightarrow 1CO_2 + 2 H_2O$$\n",
    "\n",
    "We see there are a total of 1 unit of C (carbon), four units of H (hydrogen), and 4 units of O (oxygen) on the left, and the same on the right. These numbers are computed by multiplying the coefficient by the subscript.\n",
    "\n",
    "We can represent this reaction using vectors. If the coefficients are unknown then we have \n",
    "\n",
    "$$x_1 CH_4 + x_2 O_2 \\rightarrow x_3 CO_2 + x_4 H_2O$$\n",
    "\n",
    "Here we see that each chemical in the reaction gives us an unknown variable, and we can obtain an equation in these variables for each element in the reaction. \n",
    "\n",
    "$$ C: x_1  = x_3 $$\n",
    "$$ H: 4x_1 = 2x_4$$\n",
    "$$ O: 2x_2 = 2x_3 + x_4$$\n",
    "\n",
    "which leads us to the augmented matrix $$ \\left[ \\begin{matrix} 1 & 0 & -1 & 0 \\\\ 4 & 0 & 0 &-2 \\\\ 0 & 2 & -2 & -1  \\end{matrix} \\, \\middle\\vert \\, \\begin{matrix} 0 \\\\ 0 \\\\ 0 \\end{matrix} \\right]\n",
    "\\stackrel{RREF}{\\longrightarrow}\n",
    "\\left[ \\begin{matrix} 1 & 0 &  & -0.5 \\\\ 0 & 1 & 0 &-1 \\\\ 0 & 0 & 1 & -0.5  \\end{matrix} \\, \\middle\\vert \\, \\begin{matrix} 0 \\\\ 0 \\\\ 0 \\end{matrix} \\right]$$\n",
    "\n",
    "This leads us to equations $$x_1 - \\frac 1 2 x_4 = 0$$\n",
    "\n",
    "$$ x_2 -  x_4 = 0$$\n",
    "\n",
    "$$ x_3 - \\frac 1 2 x_4 = 0$$\n",
    "\n",
    "To get integer values for our solution we can take $x_4 =2$ and see that $x_1 = 1, x_2 = 2,$ and $x_3 = 1$.\n",
    "\n",
    "---\n",
    "\n",
    "The (unbalanced) chemical reaction $$Ca(OH)_2 + H_3PO_4 \\rightarrow Ca_3(PO_4)_2 + H_2O$$ mixes calcium hydroxide with phosphoric acid to create tricalcium phosphate and water. This chemical equation is unbalanced and so assigning variables to the coefficients \n",
    "\n",
    "$$x_1 Ca(OH)_2 + x_2H_3PO_4 \\rightarrow x_3Ca_3(PO_4)_2 + x_4H_2O$$\n",
    "\n",
    "produces the augmented matrix \n",
    "\n",
    "$$ M = \\left[ \\begin{matrix} 1 & 0 & -3 & 0 \\\\ 2 & 4 & -8 &-1 \\\\ 2 & 3 & 0 & -2 \\\\ 0 & 1 & -2 & 0  \\end{matrix} \\, \\middle\\vert \\, \\begin{matrix} 0 \\\\ 0 \\\\ 0 \\\\0 \\end{matrix} \\right]$$"
   ]
  },
  {
   "cell_type": "markdown",
   "metadata": {},
   "source": [
    "&#9989;  **<font color=red>QUESTION 2c:</font>** (5pts) Find the reduced row echelon form of the matrix $M$ above. Save the reduced matrix as ``rref`` for answer check."
   ]
  },
  {
   "cell_type": "code",
   "execution_count": 40,
   "metadata": {},
   "outputs": [
    {
     "data": {
      "text/latex": [
       "$\\displaystyle \\left[\\begin{matrix}1 & 0 & 0 & - \\frac{1}{2} & 0\\\\0 & 1 & 0 & - \\frac{1}{3} & 0\\\\0 & 0 & 1 & - \\frac{1}{6} & 0\\\\0 & 0 & 0 & 0 & 0\\end{matrix}\\right]$"
      ],
      "text/plain": [
       "⎡1  0  0  -1/2  0⎤\n",
       "⎢                ⎥\n",
       "⎢0  1  0  -1/3  0⎥\n",
       "⎢                ⎥\n",
       "⎢0  0  1  -1/6  0⎥\n",
       "⎢                ⎥\n",
       "⎣0  0  0   0    0⎦"
      ]
     },
     "execution_count": 40,
     "metadata": {},
     "output_type": "execute_result"
    }
   ],
   "source": [
    "#Edit this cell to answer this question.\n",
    "M = np.matrix(\"1,0,-3,0,0;2,4,-8,-1,0;2,3,0,-2,0;0,1,-2,0,0\")\n",
    "M\n",
    "rref,_ = sym.Matrix(M).rref()\n",
    "rref"
   ]
  },
  {
   "cell_type": "code",
   "execution_count": 41,
   "metadata": {
    "nbgrader": {
     "grade": true,
     "grade_id": "cell-1b67529ac28b7c00",
     "locked": true,
     "points": 5,
     "schema_version": 3,
     "solution": false,
     "task": false
    }
   },
   "outputs": [
    {
     "name": "stdout",
     "output_type": "stream",
     "text": [
      "Testing Answer\n",
      "Answer seems to be correct\n",
      "\n"
     ]
    }
   ],
   "source": [
    "from answercheck import checkanswer\n",
    "\n",
    "checkanswer.matrix(rref,\"4c1a09e6f2097c1319ee4704fe05dce2\");"
   ]
  },
  {
   "cell_type": "markdown",
   "metadata": {},
   "source": [
    "&#9989;  **<font color=red>QUESTION 2d:</font>** (5pts) What is the smallest non-zero **integer** solution to the balanced chemical equation associated to the matrix $M$? Save your answer as ``solution`` which is a list of $x_1,x_2,x_3,x_4$"
   ]
  },
  {
   "cell_type": "code",
   "execution_count": 42,
   "metadata": {},
   "outputs": [],
   "source": [
    "#Edit this cell to save your answer.\n",
    "solution=[3,2,1,6]"
   ]
  },
  {
   "cell_type": "code",
   "execution_count": 43,
   "metadata": {
    "nbgrader": {
     "grade": false,
     "grade_id": "cell-50ddd610c8557f2a",
     "locked": false,
     "schema_version": 3,
     "solution": true,
     "task": false
    }
   },
   "outputs": [
    {
     "name": "stdout",
     "output_type": "stream",
     "text": [
      "Testing Answer\n",
      "Answer seems to be correct\n",
      "\n"
     ]
    }
   ],
   "source": [
    "from answercheck import checkanswer\n",
    "\n",
    "checkanswer.vector(np.matrix(solution),\"d77e1deb873284993997612ecdd339c1\");"
   ]
  },
  {
   "cell_type": "markdown",
   "metadata": {},
   "source": [
    "\n",
    "---\n",
    "<a name=-AvgTemp></a>\n",
    "# 3.  Average Temperatures\n",
    "\n",
    "Consider a solid object whose edges are kept at different temperatures.  This object is left to rest, so that its temperature is at an equilibrium (does not change with time). We cannot measure the temperature on the inside of the object, but we can approximate what it will be by taking the average of the points that surround it.\n",
    "\n",
    "Consider the square cross-section of a wedge below. We have drawn a \"square\" grid on top of it and we we want to find the temperatures at points $x_1$, $x_2$, $x_3$, and $x_4$. Assume that the boundary temperatures are as shown below. Note: we use $x_1$ to represent the temperature at the point $x_1$, as so forth. \n",
    "\n",
    "<img src=\"https://lh3.googleusercontent.com/UdEhMVYaE-8HAd2l-kpMSY59Z3uhfVJyHBp0owawFNq0mY4eKfbsoP66Qit-nRHNs-YKRXos1Gvr47kswbuTYCgDWYMelGKndITeZpOKMyDabNqBGtn7vQvXYpATWQ=w610\" width=300 height=300 />"
   ]
  },
  {
   "cell_type": "markdown",
   "metadata": {},
   "source": [
    "To find the temperature at a given point, we take an average of all the points that are connected to it on the grid. This yields the following two equations for the temperatures at $x_1$ and $x_2$, respectively:\n",
    "\n",
    "$$x_1 = \\frac {53 + 86+ x_2 + x_3}{4}, $$\n",
    "\n",
    "$$x_2 = \\frac {x_1 + 93 + 80+x_4}{4}.$$"
   ]
  },
  {
   "cell_type": "code",
   "execution_count": 44,
   "metadata": {},
   "outputs": [],
   "source": [
    "%matplotlib inline \n",
    "import numpy as np\n",
    "import sympy as sym\n",
    "import matplotlib.pyplot as plt\n",
    "sym.init_printing()"
   ]
  },
  {
   "cell_type": "markdown",
   "metadata": {},
   "source": [
    "&#9989;  **<font color=red>QUESTION 3a:</font>** (4pts) Write down the equations for the temperatures at points $x_3$ and $x_4$ in the square region.\n",
    "\n",
    "Note: double click on the markdown cell below, use      \\frac{a}{b}        for   $\\frac{a}{b}$."
   ]
  },
  {
   "cell_type": "markdown",
   "metadata": {
    "nbgrader": {
     "grade": true,
     "grade_id": "cell-729fb88de7758454",
     "locked": false,
     "points": 5,
     "schema_version": 3,
     "solution": true,
     "task": false
    }
   },
   "source": [
    "$$x_3 = \\frac{27+x_1+x_4+14}{4}$$\n",
    "$$x_4 = \\frac{x_3+x_2+60+27}{4}$$"
   ]
  },
  {
   "cell_type": "markdown",
   "metadata": {},
   "source": [
    "&#9989;  **<font color=red>QUESTION 3b:</font>** (6pts) Let's define a vector $x$ whose components are the temperatures $x_1, \\dots, x_4$ as follows: $[x_1, x_2,x_3,x_4]^T$. Then we can rewrite the above system of four linear equations in matrix form $Ax=b$, that is\n",
    "\n",
    "$$\\begin{bmatrix}\n",
    "4 & -1 & -1 & 0\\\\\n",
    "-1 & 4 & 0 & -1\\\\\n",
    "-1 & * & * & -1\\\\\n",
    "* & -1 & * & *\\\\\n",
    "\\end{bmatrix}\n",
    "\\begin{bmatrix}\n",
    "x_1 \\\\ x_2 \\\\ x_3 \\\\ x_4\n",
    "\\end{bmatrix}\n",
    "=\\begin{bmatrix}\n",
    "139\\\\173 \\\\ * \\\\ *\n",
    "\\end{bmatrix}\n",
    "$$\n",
    "\n",
    "\n",
    "Reqrite the system so that all the components of the vector $b$ are positive integers and find the values that should be in the places denoted by \"*\\\" and save $A \\in \\mathbb{R}^{4 \\times 4}$ and $b \\in \\mathbb{R}^{4 \\times 1}$ in the followng cell as  ```numpy``` matrices."
   ]
  },
  {
   "cell_type": "code",
   "execution_count": 49,
   "metadata": {},
   "outputs": [
    {
     "name": "stdout",
     "output_type": "stream",
     "text": [
      "[[ 4 -1 -1  0]\n",
      " [-1  4  0 -1]\n",
      " [-1  0  4 -1]\n",
      " [ 0 -1 -1  4]]\n",
      "[[139]\n",
      " [173]\n",
      " [ 41]\n",
      " [ 87]]\n"
     ]
    }
   ],
   "source": [
    "import numpy as np\n",
    "# Edit the following code to answer the question.\n",
    "\n",
    "A = np.matrix([[4,-1,-1,0], [-1,4,0,-1], [-1, 0,4,-1], [0, -1,-1,4]])\n",
    "print(A)\n",
    "b = np.matrix([[139],[173],[41],[87]])\n",
    "print(b)"
   ]
  },
  {
   "cell_type": "code",
   "execution_count": 50,
   "metadata": {
    "nbgrader": {
     "grade": true,
     "grade_id": "cell-9be007db74ffa7d6",
     "locked": true,
     "points": 3,
     "schema_version": 3,
     "solution": false
    }
   },
   "outputs": [
    {
     "name": "stdout",
     "output_type": "stream",
     "text": [
      "Testing Answer\n",
      "Answer seems to be correct\n",
      "\n"
     ]
    }
   ],
   "source": [
    "from answercheck import checkanswer\n",
    "checkanswer.detailedwarnings = False\n",
    "checkanswer.matrix(A,\"6efadb5277dfc0fd6719e6b70ba0fb70\");"
   ]
  },
  {
   "cell_type": "code",
   "execution_count": 51,
   "metadata": {
    "nbgrader": {
     "grade": true,
     "grade_id": "cell-bf8101d44f5c7bb1",
     "locked": true,
     "points": 2,
     "schema_version": 3,
     "solution": false,
     "task": false
    }
   },
   "outputs": [
    {
     "name": "stdout",
     "output_type": "stream",
     "text": [
      "Testing Answer\n",
      "Answer seems to be correct\n",
      "\n"
     ]
    }
   ],
   "source": [
    "from answercheck import checkanswer\n",
    "checkanswer.detailedwarnings = False\n",
    "checkanswer.vector(b,\"05bf1ceea64de984e541b3555e54ad70\");"
   ]
  },
  {
   "cell_type": "markdown",
   "metadata": {},
   "source": [
    "&#9989;  **<font color=red>QUESTION 3c:</font>** (5pts) Solve the above system of equations using the ```np.linalg.solve``` function and store the value in a vector named x:"
   ]
  },
  {
   "cell_type": "code",
   "execution_count": 52,
   "metadata": {},
   "outputs": [
    {
     "name": "stdout",
     "output_type": "stream",
     "text": [
      "[[62.]\n",
      " [71.]\n",
      " [38.]\n",
      " [49.]]\n"
     ]
    }
   ],
   "source": [
    "# Edit the following code to answer the question.\n",
    "x = np.linalg.solve(A,b)\n",
    "print(x)"
   ]
  },
  {
   "cell_type": "code",
   "execution_count": 53,
   "metadata": {
    "nbgrader": {
     "grade": true,
     "grade_id": "cell-394c69673130cd67",
     "locked": true,
     "points": 5,
     "schema_version": 3,
     "solution": false,
     "task": false
    }
   },
   "outputs": [
    {
     "name": "stdout",
     "output_type": "stream",
     "text": [
      "Testing Answer\n",
      "Answer seems to be correct\n",
      "\n"
     ]
    }
   ],
   "source": [
    "from answercheck import checkanswer\n",
    "\n",
    "checkanswer.vector(x,\"7ea96e999f0693c4f139ecc748f66580\");"
   ]
  },
  {
   "cell_type": "markdown",
   "metadata": {},
   "source": [
    "&#9989;  **<font color=red>QUESTION 3d:</font>** (5pts) Now, let us use a different method to solve the same system. Let us define $M$ as the augmented matrix of this system of linear equations, i.e. $M=[A | b]$. Use the ```sym.Matrix(M).rref()[0]``` function to compute the Reduced Row Echelon Form (rref) of $M$. Use this to find the solution of the system and save it in a column vector y."
   ]
  },
  {
   "cell_type": "code",
   "execution_count": 54,
   "metadata": {},
   "outputs": [],
   "source": [
    "import sympy as sym\n",
    "M = np.hstack([A,b])    # this gives the augmented matrix of this system of linear equations.\n",
    "\n",
    "# Edit the code below to answer the question, and \n",
    "RREF = sym.Matrix(M).rref()[0]"
   ]
  },
  {
   "cell_type": "code",
   "execution_count": 59,
   "metadata": {},
   "outputs": [
    {
     "name": "stdout",
     "output_type": "stream",
     "text": [
      "[[ 1.  0.  0.  0. 62.]\n",
      " [ 0.  1.  0.  0. 71.]\n",
      " [ 0.  0.  1.  0. 38.]\n",
      " [ 0.  0.  0.  1. 49.]]\n"
     ]
    }
   ],
   "source": [
    "RREF = np.matrix(RREF).astype(np.float64); print(RREF)  # do not change anything on this line (sym.matrix -> np.matrix)\n",
    "\n",
    "# Edit the code below to answer the question.\n",
    "y = np.matrix([[62],[71],[38],[49]])"
   ]
  },
  {
   "cell_type": "code",
   "execution_count": 60,
   "metadata": {
    "nbgrader": {
     "grade": true,
     "grade_id": "cell-c5d1d497d3c78477",
     "locked": true,
     "points": 5,
     "schema_version": 3,
     "solution": false,
     "task": false
    },
    "scrolled": true
   },
   "outputs": [
    {
     "name": "stdout",
     "output_type": "stream",
     "text": [
      "Testing Answer\n",
      "Answer seems to be correct\n",
      "\n"
     ]
    }
   ],
   "source": [
    "from answercheck import checkanswer\n",
    "\n",
    "checkanswer.matrix(y,\"5b2134adcea31ceb03ef66fd95fa9f97\");"
   ]
  },
  {
   "cell_type": "markdown",
   "metadata": {},
   "source": [
    "\n",
    "\n",
    "---\n",
    "<a name=Traffic></a>\n",
    "# 4. Traffic Control\n",
    "\n",
    "<img src=\"https://i.imgur.com/HvLmJN3.png\" alt=\"Image of traffic coming in and out of 4 intersections\" />\n",
    "\n",
    "The city of Lansing is trying to resolve traffic congestion at the intersections of Saginaw, Larch, Michigan, and Cedar, as shown in the figure above. The streets are one-way, as indicated by the arrows.\n",
    "\n",
    "The city wishes to improve the signals at these corners so as to speed the trafic flow. The data the traffic engineers have gathered shows the following:\n",
    "* 700 cars/hour come down Saginaw to intersection A.\n",
    "* 300 cars/hour come down Cedar to intersection A.\n",
    "* A total of $x_1$ cars leave A on Saginaw.\n",
    "* A total of $x_4$ cars leave A on Cedar.\n",
    "The number of cars entering A must equal the number leaving, so \n",
    "$$x_1+x_4 = 700+300$$\n",
    "or equivalently\n",
    "$$x_1+x_4 = 1000.$$\n",
    "\n"
   ]
  },
  {
   "cell_type": "markdown",
   "metadata": {},
   "source": [
    "&#9989; **<font color=red>Question 4a:</font>** (4pts) Write the three equations represeting the traffic entering and leaving intersections B, C, and D."
   ]
  },
  {
   "cell_type": "markdown",
   "metadata": {},
   "source": [
    "Put your answer to the above question here.\n",
    "\n",
    "B: $x_1+x_2=200+900$\n",
    "\n",
    "C: $x_2+x_3=300+400$\n",
    "\n",
    "D: $x_3+x_4=200+400$"
   ]
  },
  {
   "cell_type": "markdown",
   "metadata": {},
   "source": [
    "&#9989; **<font color=red>Question 4b:</font>** (3pts) Use the four equations to set up an augmented matrix and solve the system by the Gauss-Jordan method, using $x_4$ as the parameter. Explain why, based on the RREF of the matrix, we have an infinite number of solutions and why we can use $x_4$  as the parameter."
   ]
  },
  {
   "cell_type": "markdown",
   "metadata": {},
   "source": [
    "#Put your answer to the above question here (you can edit the matrix)\n",
    "The augmented matrix is\n",
    "$$A = \\left[ \\begin{array}{rrrr|r}\n",
    "1 & 0 & 0 & 1 & 1000 \\\\\n",
    "1 & 1 & 0 & 0 &1100 \\\\\n",
    "0 & 1 & 1 & 0 & 700\\\\\n",
    "0 & 0 & 1 & 1 & 600\n",
    "\\end{array}\n",
    "\\right]$$\n",
    "The reduced row echelon form of A is\n",
    "$$B = \\left[ \\begin{array}{rrrr|r}\n",
    "1 & 0 & 0 & 1 &1000 \\\\\n",
    "0 & 1 & 0 & -1 &100 \\\\\n",
    "0 & 0 & 1 & 1 &600 \\\\\n",
    "0 & 0 & 0 & 0 &0 \n",
    "\\end{array}\n",
    "\\right]$$\n",
    "\n",
    "\n",
    "We have an infinite number of solutions because the last row of the RREF matrix is all zeros. We choose $x_4$ as our parameter becuase $x_4$ appears in every equation from the RREF Matrix. Therefore we can input a value for $x_4$ and get an infinite amount of unique solutions for $x_1, x_2, x_3$."
   ]
  },
  {
   "cell_type": "markdown",
   "metadata": {},
   "source": [
    "&#9989; **<font color=red>Question 4c:</font>** (3pts) Based on your solution in 4.b, what are the largest and smallest possible values for the number of cars leaving interection A on Cedar?"
   ]
  },
  {
   "cell_type": "markdown",
   "metadata": {},
   "source": [
    "The smallest possible value for $x_4$ is 0 and the largest value for $x_4$ is 600."
   ]
  },
  {
   "cell_type": "markdown",
   "metadata": {},
   "source": [
    "&#9989; **<font color=red>Question 4d:</font>** (7pts) Similar to above, what are the largest and smallest possible values for $x_1$, $x_2$, $x_3$?"
   ]
  },
  {
   "cell_type": "markdown",
   "metadata": {},
   "source": [
    "The smallest possible value for $x_1$ is 400 and the largest value for $x_1$ is 1000.\n",
    "\n",
    "The smallest possible value for $x_2$ is 100 and the largest value for $x_2$ is 700.\n",
    "\n",
    "The smallest possible value for $x_3$ is 0 and the largest value for $x_3$ is 600."
   ]
  },
  {
   "cell_type": "markdown",
   "metadata": {},
   "source": [
    "&#9989; **<font color=red>Question 4e:</font>** (3pts) Could we have chosen any one of the other variables as a parameter (instead of $x_4$)? Explain your reasoning."
   ]
  },
  {
   "cell_type": "markdown",
   "metadata": {},
   "source": [
    "No, because in the reduced row echelon form, only $x_4$ appears in every equation. Therefore in order to solve this set of linear equations, we need to use $x_4$ as the parameter."
   ]
  },
  {
   "cell_type": "markdown",
   "metadata": {},
   "source": [
    "---\n",
    "<a name=GJBJ></a>\n",
    "# 5. Good Jacobi / Bad Jacobi\n",
    "\n",
    "Recall from class the Jacobi method for for solving a system of equations. Recall that the Jacobi Method will not work an all problems.  A sufficient (but not necessary) condition for the method to converge is that the matrix A is strictly diagonally dominant."
   ]
  },
  {
   "cell_type": "code",
   "execution_count": 61,
   "metadata": {},
   "outputs": [],
   "source": [
    "import os.path\n",
    "from urllib.request import urlretrieve\n",
    "if not os.path.isfile(\"answercheck.py\"):\n",
    "    urlretrieve('https://raw.githubusercontent.com/colbrydi/jupytercheck/master/answercheck.py', 'answercheck.py');\n",
    "from answercheck import checkanswer"
   ]
  },
  {
   "cell_type": "markdown",
   "metadata": {},
   "source": [
    "&#9989; **<font color=red>Question 5a.</font>** (2pts) Write in your own words what strictly diagonally dominant means. "
   ]
  },
  {
   "cell_type": "markdown",
   "metadata": {},
   "source": [
    "In matrices, strictly diagonally dominant means that the magnitude of the diagonal element in the row (i.e row 1: element 1, row 2: element 2, row 3: element 3) is GREATER THAN the sum of all the other elements (absolute value) in the row. If it was equal to, then it would not be strictly diagnonally dominant, but rather just diagnoally dominant. Furthermore, this specifically applies to sqaure matrices meaning matrices with the same number of columns and rows. All rows must satify the condition in the matrix in order to be considered strictly diagonally dominant."
   ]
  },
  {
   "cell_type": "markdown",
   "metadata": {},
   "source": [
    "&#9989; **<font color=red>Question 5b.</font>** (5pts) Give an example of a system of equations which has a strictly diagonally dominant matrix A.  Use the Jacobi method to solve the system. Verify that your answers are correct!"
   ]
  },
  {
   "cell_type": "markdown",
   "metadata": {},
   "source": [
    "$4x+2y+z=14$\n",
    "\n",
    "$x+10y+5z=10$\n",
    "\n",
    "$x+y+8z=20$\n"
   ]
  },
  {
   "cell_type": "code",
   "execution_count": 23,
   "metadata": {},
   "outputs": [
    {
     "data": {
      "image/png": "[encoded data removed]",
      "text/plain": [
       "<Figure size 432x288 with 1 Axes>"
      ]
     },
     "metadata": {
      "needs_background": "light"
     },
     "output_type": "display_data"
    }
   ],
   "source": [
    "#Put your code to the above question here\n",
    "\n",
    "%matplotlib inline\n",
    "import matplotlib.pylab as plt\n",
    "\n",
    "x = []\n",
    "y = []\n",
    "z = []\n",
    "\n",
    "#step 1: inicialize to zero\n",
    "x.append(0)\n",
    "y.append(0)\n",
    "z.append(0)\n",
    "\n",
    "for i in range(1,100):\n",
    "    xi = (14 - 2*y[i-1]- z[i-1])/4\n",
    "#####Start your code here #####\n",
    "    yi = (10 - x[i-1]-z[i-1])/5\n",
    "    zi = (20- x[i-1]-y[i-1])/8\n",
    "#####End of your code here#####        \n",
    "    #Add latest value to history\n",
    "    x.append(xi)\n",
    "    y.append(yi)\n",
    "    z.append(zi)\n",
    "\n",
    "#Plot History of values\n",
    "plt.plot(x, label='x')\n",
    "plt.plot(y, label='y')\n",
    "plt.plot(z, label='z')\n",
    "plt.xlabel('Iteration')\n",
    "plt.ylabel('Value')\n",
    "plt.legend(loc=1);\n",
    "\n"
   ]
  },
  {
   "cell_type": "code",
   "execution_count": 24,
   "metadata": {},
   "outputs": [],
   "source": [
    "solution=[2.5, 1.2, 2.0]"
   ]
  },
  {
   "cell_type": "code",
   "execution_count": 25,
   "metadata": {},
   "outputs": [
    {
     "name": "stdout",
     "output_type": "stream",
     "text": [
      "Testing Answer\n",
      "Answer seems to be correct\n",
      "\n"
     ]
    }
   ],
   "source": [
    "checkanswer.vector(np.matrix(solution),'967f00d76805731ab2b8f938ecb5864b')"
   ]
  },
  {
   "cell_type": "markdown",
   "metadata": {},
   "source": [
    "&#9989; **<font color=red>Question 5c.</font>** (5pts) Notice that a matrix being strictly diagonally dominant is not a necessary condition for the Jacobi method to work. Give an example of a system of equations which does not have a strictly diagonally dominant matrix A but where the Jacobi method still works. Use the Jacobi method to solve the system. Verify that your answers are correct!"
   ]
  },
  {
   "cell_type": "markdown",
   "metadata": {},
   "source": [
    "$4x+y+3z=17$\n",
    "\n",
    "$x+5y+z=14$\n",
    "\n",
    "$2x-y+8z=12$\n",
    "\n",
    "Here the equations are not strictly diagnonally dominant, but rather just diagonally dominant."
   ]
  },
  {
   "cell_type": "code",
   "execution_count": 26,
   "metadata": {},
   "outputs": [
    {
     "data": {
      "image/png": "[encoded data removed]",
      "text/plain": [
       "<Figure size 432x288 with 1 Axes>"
      ]
     },
     "metadata": {
      "needs_background": "light"
     },
     "output_type": "display_data"
    }
   ],
   "source": [
    "#Put your code to the above question here\n",
    "\n",
    "x1 = []\n",
    "y1 = []\n",
    "z1 = []\n",
    "\n",
    "#step 1: inicialize to zero\n",
    "x1.append(0)\n",
    "y1.append(0)\n",
    "z1.append(0)\n",
    "\n",
    "for i in range(1,100):\n",
    "    x1i = (17 - y1[i-1]- 3*z1[i-1])/4\n",
    "#####Start your code here #####\n",
    "    y1i = (14 - x1[i-1]-z1[i-1])/5\n",
    "    z1i = (12- 2*x1[i-1]+y1[i-1])/8\n",
    "#####End of your code here#####        \n",
    "    #Add latest value to history\n",
    "    x1.append(x1i)\n",
    "    y1.append(y1i)\n",
    "    z1.append(z1i)\n",
    "\n",
    "#Plot History of values\n",
    "plt.plot(x1, label='x')\n",
    "plt.plot(y1, label='y')\n",
    "plt.plot(z1, label='z')\n",
    "plt.xlabel('Iteration')\n",
    "plt.ylabel('Value')\n",
    "plt.legend(loc=1);\n"
   ]
  },
  {
   "cell_type": "code",
   "execution_count": 27,
   "metadata": {},
   "outputs": [],
   "source": [
    "results_2=[3,2,1]"
   ]
  },
  {
   "cell_type": "code",
   "execution_count": 28,
   "metadata": {},
   "outputs": [
    {
     "name": "stdout",
     "output_type": "stream",
     "text": [
      "Testing Answer\n",
      "Answer seems to be correct\n",
      "\n"
     ]
    }
   ],
   "source": [
    "checkanswer.vector(np.matrix(results_2),\"685086ddad8a65ee586a2ca83d773371\")"
   ]
  },
  {
   "cell_type": "markdown",
   "metadata": {},
   "source": [
    "&#9989; **<font color=red>Question 5d.</font>** (5pts) Give an example of a system of equations with non-zero coefficients which does not have a strictly diagonally dominant matrix A and where sadly the Jacobi method does not work. Use the Jacobi method to try to solve the system. Explain what happens. What should the correct answer have been?"
   ]
  },
  {
   "cell_type": "markdown",
   "metadata": {},
   "source": [
    "$2x-y+6z=-4$\n",
    "\n",
    "$6x+4y-5z=-7$\n",
    "\n",
    "$-4x-2y+5z=9$\n",
    "\n",
    "Here is a set of linear equations where is not strictly or normal diagnoally dominant and does not work."
   ]
  },
  {
   "cell_type": "code",
   "execution_count": 29,
   "metadata": {},
   "outputs": [
    {
     "data": {
      "image/png": "[encoded data removed]",
      "text/plain": [
       "<Figure size 432x288 with 1 Axes>"
      ]
     },
     "metadata": {
      "needs_background": "light"
     },
     "output_type": "display_data"
    }
   ],
   "source": [
    "#Put your code to the above question here\n",
    "\n",
    "x1 = []\n",
    "y1 = []\n",
    "z1 = []\n",
    "\n",
    "#step 1: inicialize to zero\n",
    "x1.append(0)\n",
    "y1.append(0)\n",
    "z1.append(0)\n",
    "\n",
    "for i in range(1,100):\n",
    "    x1i = (-4 + 2*y1[i-1]-6*z1[i-1])/2\n",
    "#####Start your code here #####\n",
    "    y1i = (-7 - 6*x1[i-1]+5*z1[i-1])/4\n",
    "    z1i = (9+4*x1[i-1]+2*y1[i-1])/5\n",
    "#####End of your code here#####        \n",
    "    #Add latest value to history\n",
    "    x1.append(x1i)\n",
    "    y1.append(y1i)\n",
    "    z1.append(z1i)\n",
    "\n",
    "#Plot History of values\n",
    "plt.plot(x1, label='x')\n",
    "plt.plot(y1, label='y')\n",
    "plt.plot(z1, label='z')\n",
    "plt.xlabel('Iteration')\n",
    "plt.ylabel('Value')\n",
    "plt.legend(loc=1);"
   ]
  },
  {
   "cell_type": "code",
   "execution_count": 30,
   "metadata": {},
   "outputs": [
    {
     "name": "stdout",
     "output_type": "stream",
     "text": [
      "[[-3.]\n",
      " [ 4.]\n",
      " [ 1.]]\n"
     ]
    }
   ],
   "source": [
    "A=np.matrix([[2,-1,6],[6,4,-5],[-4,-2,5]])\n",
    "b=np.matrix([[-4],[-7],[9]])\n",
    "x = np.linalg.solve(A,b)\n",
    "print(x)"
   ]
  },
  {
   "cell_type": "markdown",
   "metadata": {},
   "source": [
    "The correct answer was: x=-3,y=4,z=1. We see in the graph below that using the Jacobian Method that even after 100 iterations the answers continue to zig-zag back and forth while at first staying consistently near zero until around 90 interations."
   ]
  },
  {
   "cell_type": "markdown",
   "metadata": {},
   "source": [
    "&#9989; **<font color=red>Question 5e.</font>** (3pts) If the Jacobi method doesn't always work and we have other methods that do reliably work why is it still taught in this course? "
   ]
  },
  {
   "cell_type": "markdown",
   "metadata": {},
   "source": [
    "Although the Jacobian method does not always work and there are many other useful methods, it is a great fundamental tool to visualize the important concepts behind sets of linear equations and matrices. The iterations allow repetition and a way to understand how we are able to come to a solution for a se of linear equations. Graphing is also a great visualization tool such as the ones above."
   ]
  },
  {
   "cell_type": "markdown",
   "metadata": {},
   "source": [
    "REFERENCES: Stack-Overflow, Textbooks provided in class, Wolfram Alpha"
   ]
  },
  {
   "cell_type": "markdown",
   "metadata": {},
   "source": [
    "---------\n",
    "### Congratulations, we're done!\n"
   ]
  }
 ],
 "metadata": {
  "celltoolbar": "Create Assignment",
  "kernelspec": {
   "display_name": "Python 3 (ipykernel)",
   "language": "python",
   "name": "python3"
  },
  "language_info": {
   "codemirror_mode": {
    "name": "ipython",
    "version": 3
   },
   "file_extension": ".py",
   "mimetype": "text/x-python",
   "name": "python",
   "nbconvert_exporter": "python",
   "pygments_lexer": "ipython3",
   "version": "3.9.7"
  }
 },
 "nbformat": 4,
 "nbformat_minor": 4
}
