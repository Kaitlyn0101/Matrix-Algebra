{
 "cells": [
  {
   "cell_type": "markdown",
   "source": "\nIn order to successfully complete this assignment we recommend that you participate both individually and in groups during class.   Turn in your assignment using D2L no later than **_11:59pm on the day of class_**. Grading is based on correctness and completion. \n",
   "metadata": {
    "cell_id": "6a52683e-e13e-4ea3-a4a6-150cd4a06051",
    "deepnote_cell_type": "markdown",
    "deepnote_cell_height": 96
   }
  },
  {
   "cell_type": "markdown",
   "source": "# 01 In-Class Assignment: Welcome to Matrix Algebra with computational applications",
   "metadata": {
    "cell_id": "00001-ba429522-2186-45ed-86ae-b1188bf89e6a",
    "owner_user_id": "0afbd57e-8684-4e1a-bc89-a648f82e00ba",
    "deepnote_cell_type": "markdown",
    "deepnote_cell_height": 186
   }
  },
  {
   "cell_type": "code",
   "metadata": {
    "cell_id": "63a2ee93ac0a429c9704a8f7ee092d23",
    "tags": [],
    "deepnote_to_be_reexecuted": false,
    "source_hash": "6c88a303",
    "execution_start": 1653196717824,
    "execution_millis": 105,
    "deepnote_cell_type": "code",
    "deepnote_cell_height": 112
   },
   "source": "print(\"Names: Kaitlyn Watson, Fangjun Huang, Benjamin Maves, Aryan Sharma\")",
   "execution_count": null,
   "outputs": [
    {
     "name": "stdout",
     "text": "Names: Kaitlyn Watson, Fangjun Huang, Benjamin Maves, Aryan Sharma\n",
     "output_type": "stream"
    }
   ]
  },
  {
   "cell_type": "markdown",
   "source": "What can you solve with $Ax=b$?\n\n<img src=\"https://upload.wikimedia.org/wikipedia/commons/thumb/2/2f/Linear_subspaces_with_shading.svg/650px-Linear_subspaces_with_shading.svg.png\" alt=\"Visual image of three planes intersecting. This is a common image used in linear algebra and will be explained in detail laater in the semester.  It is included here mostly as a visual anchor that can help students when they review their notes. \">\n\nImage from [http://wikipedia.org/](http://wikipedia.org/)\n",
   "metadata": {
    "cell_id": "00002-49fb3294-5596-4824-9efc-74aed5591d05",
    "deepnote_cell_type": "markdown",
    "deepnote_cell_height": 114
   }
  },
  {
   "cell_type": "markdown",
   "source": "### Agenda for today's class (80 minutes)\n\n\n1. [(10 minutes) Class Procedures](#Class_Procedures)\n2. [(10 minutes) Introductions](#Introductions)\n3. [(10 minutes) Example](#Example)\n4. [(25 minutes) Syllabus, Schedule and other Procedures](#Syllabus_and_Schedule)\n5. [(5 minutes) Download and review next pre-class assignment](#Download_and_review_next_pre-class_assignment)",
   "metadata": {
    "cell_id": "00003-0861bc66-b80a-471b-946a-d5929b0a88fe",
    "deepnote_cell_type": "markdown",
    "deepnote_cell_height": 214
   }
  },
  {
   "cell_type": "markdown",
   "source": "---\n<a name=\"Class_Procedures\"></a>\n## 1. Class Procedures\n\nAll in-class assignments are designed such that you can get started as soon as you show up in class. This is highly recommended.  See how far you can get on your own and then you will be ready when it is time for questions.   Here are the basic instructions.",
   "metadata": {
    "cell_id": "00004-bc8af8b4-4740-486c-9daa-5aab3c17ea54",
    "deepnote_cell_type": "markdown",
    "deepnote_cell_height": 167
   }
  },
  {
   "cell_type": "markdown",
   "source": "### &#9989; Step 1 - Get out your laptop\n\n",
   "metadata": {
    "cell_id": "00005-4b6b10f9-4606-4f49-a525-6459e5d3208b",
    "deepnote_cell_type": "markdown",
    "deepnote_cell_height": 62
   }
  },
  {
   "cell_type": "markdown",
   "source": "### &#9989; Step 2 - Create a Course Assignment Folder in your home directory\n\n\n> **_HINT_** Store all notebooks in the same folder on your computer. They will work better that way.",
   "metadata": {
    "cell_id": "00006-cdcf6255-b0ab-41b6-adf8-8a03e54b9a17",
    "deepnote_cell_type": "markdown",
    "deepnote_cell_height": 114
   }
  },
  {
   "cell_type": "markdown",
   "source": "### &#9989; Step 3 - Download this jupyter notebook\n\n> Download a copy of this notebook (ipynb file which stands for ipython notebook). \n",
   "metadata": {
    "cell_id": "00007-004563da-545b-4038-8aa2-7c0acef1728d",
    "deepnote_cell_type": "markdown",
    "deepnote_cell_height": 114
   }
  },
  {
   "cell_type": "markdown",
   "source": "### &#9989; Step 4 - Open this assignment in Jupyter\n\n> Open the downloaded file inside of jupyter either on your laptop or upload the file to an on-line server and open it there.  \n",
   "metadata": {
    "cell_id": "00008-44e21f9e-41e7-4c3f-9d5a-3d5a909d8448",
    "deepnote_cell_type": "markdown",
    "deepnote_cell_height": 114
   }
  },
  {
   "cell_type": "markdown",
   "source": "\n### &#9989; Step 5 - Activate your engineering account \n\n> When you enrolled in class you should have received an engineering login.  Go to the following URL to activate the account and set your password.\n\n> \n> * https://www.egr.msu.edu/decs/myaccount/?page=activate\n> \n>**_NOTE:_** The Default DECS password is APID then the @ symbol. \n>\n>**_ALSO NOTE:_** Anyone not enrolled in the course will likely not have an account. \n",
   "metadata": {
    "cell_id": "00009-a0807b7c-5a50-44a2-a35b-9183d051130f",
    "deepnote_cell_type": "markdown",
    "deepnote_cell_height": 244
   }
  },
  {
   "cell_type": "markdown",
   "source": "### &#9989; Step 6 - Log onto the Engineering JupyterHub Website\n\n> http://jupyterhub.egr.msu.edu\n",
   "metadata": {
    "cell_id": "00010-4280ca81-7ca3-46b1-bc74-9e2103cb244e",
    "deepnote_cell_type": "markdown",
    "deepnote_cell_height": 114
   }
  },
  {
   "cell_type": "markdown",
   "source": "### &#9989; Step 7 - Upload this notebook to newly created folder on Jupyterhub\n\n> Once the notebook is uploaded, open it.\n",
   "metadata": {
    "cell_id": "00011-31470db2-73cb-4918-896b-595055a777dc",
    "deepnote_cell_type": "markdown",
    "deepnote_cell_height": 146
   }
  },
  {
   "cell_type": "markdown",
   "source": "\n### &#9989; Step 8 - Sign in to the course Piazza forum.\n\n\n> We will be using Piazza for all asynchronous in-class discussions.  We use Piazza and our Help Sessions as the primary ways to communicate with students outside of class.  \n>\n> To join the course Piazza forum please use the following link:\n> \n> - [Link to join Piazza](https://piazza.com/msu/spring2022/mth314 )\n",
   "metadata": {
    "cell_id": "00012-e1dda10e-9c1b-4f76-80cc-c1a8639157de",
    "deepnote_cell_type": "markdown",
    "deepnote_cell_height": 208
   }
  },
  {
   "cell_type": "markdown",
   "source": "---\n<a name=\"Introductions\"></a>\n## 2. Introductions\n\nThis course appeals to students from many different backgrounds.  Let us use this time to go around the room and introduce ourselves to each other. ",
   "metadata": {
    "cell_id": "00013-4e141d9a-f1b6-4301-954f-1fe4d35a8afe",
    "deepnote_cell_type": "markdown",
    "deepnote_cell_height": 145
   }
  },
  {
   "cell_type": "markdown",
   "source": "---\n<a name=\"Example\"></a>\n## 3. Example:\n\nSuppose that we have three objects on a balanced beam. Also suppose we know that one has a mass of 2 kg, and we want to find the two unknown masses. Experimentation with a (assume weightless) meter stick produces these two balances. (diagram not to scale)\n \n<img src=\"https://lh6.googleusercontent.com/S-glvU6hZySH682ocl1T_2jNWL7S2MUCQeyDFgEZM8GPZ4xLjEkeD9KKsU5otJF0zfgcQtT-zQ=w740\" align=\"center\" width=\"70%\" alt=\"Image showing two balanced beams, each with three weights. In the top beam is unknown weight A is a distance of 40 to the left of the fulcrum, unknown weight B is a distance of 15 to the left of the fulcrum and a weight of 2 is 50 to the right of the fulcrum. In the bottom beam is the same unknown weights.  Weight A is now a distance of 50 to the right of the fulcrum, weight B is a distance of 25 to the left of the fulcrum and the weight of 2 is a distance of 25 to the right of the fulcrum.\">\n\nFor the masses to balance we must have the sum of the moments on the left equal to the sum of the moments on the right, where the moment of an object is its mass times its distance from the balance point.   That gives a system of two  equations:\n\n$$ 40A + 15B = 50 \\times 2$$\n$$25B = 25 \\times 2 + 50A$$\n",
   "metadata": {
    "cell_id": "00014-567e82d4-4bd1-46a0-a0f3-4da40e4db19a",
    "deepnote_cell_type": "markdown",
    "deepnote_cell_height": 309
   }
  },
  {
   "cell_type": "markdown",
   "source": "&#9989; **<span style=\"color:red\">Do This:</span>** Find a solution for the above system of equations and place your solution in the following cell. Make sure you delete the instructional text in the cell first. ",
   "metadata": {
    "cell_id": "00015-e27d31fc-c122-410a-b383-41a87383af98",
    "deepnote_cell_type": "markdown",
    "deepnote_cell_height": 74
   }
  },
  {
   "cell_type": "code",
   "metadata": {
    "cell_id": "00016-15458894-9b99-429f-99ac-7dfc5912ea8a",
    "deepnote_to_be_reexecuted": false,
    "source_hash": "1a621513",
    "execution_start": 1653196717825,
    "execution_millis": 1,
    "deepnote_cell_type": "code",
    "deepnote_cell_height": 117
   },
   "source": "# Put your answer to the above question here writing it in the form\nA=1\nB=4",
   "execution_count": null,
   "outputs": []
  },
  {
   "cell_type": "markdown",
   "source": "&#9989; **<span style=\"color:red\">Do This:</span>** Using Python as a calculator, verify that the solution you have found is correct.",
   "metadata": {
    "cell_id": "00017-b2ba7861-5c08-48f3-80c5-4153730e0c20",
    "deepnote_cell_type": "markdown",
    "deepnote_cell_height": 52
   }
  },
  {
   "cell_type": "code",
   "metadata": {
    "cell_id": "00018-66634eab-2314-4c89-bc41-13def02b9044",
    "deepnote_to_be_reexecuted": false,
    "source_hash": "f8bf08b7",
    "execution_start": 1653196717826,
    "execution_millis": 107,
    "owner_user_id": "1ad5cec8-d61b-447d-8e89-5b4e3e563ebd",
    "deepnote_cell_type": "code",
    "deepnote_cell_height": 294
   },
   "source": "# Put your answer to the above question here\nimport numpy as np\nimport scipy.linalg as la\nx = np.matrix([[40,15],[-50,25]])\ny = np.matrix([[100],[50]])\nAB = la.solve(x,y)\nA = AB[0,]\nB= AB[1,]\nprint(A)\nprint(B)",
   "execution_count": null,
   "outputs": [
    {
     "name": "stdout",
     "text": "[1.]\n[4.]\n",
     "output_type": "stream"
    }
   ]
  },
  {
   "cell_type": "markdown",
   "source": "Let us use the following code to test your functon further.  Note that this uses the ```answercheck``` function provided by your instructors. The cell below including ```answercheck.py``` in your working directory.",
   "metadata": {
    "cell_id": "00019-7e3b1cc6-a22f-4cc4-848e-9e55e4fa4c36",
    "deepnote_cell_type": "markdown",
    "deepnote_cell_height": 74
   }
  },
  {
   "cell_type": "code",
   "metadata": {
    "cell_id": "00020-3d9ce626-29b2-40cf-8f0d-cb6d34fcff44",
    "deepnote_to_be_reexecuted": false,
    "source_hash": "a362a992",
    "execution_start": 1653196717929,
    "execution_millis": 3,
    "deepnote_cell_type": "code",
    "deepnote_cell_height": 153
   },
   "source": "import os.path\nfrom urllib.request import urlretrieve\nif not os.path.isfile(\"answercheck.py\"):\n    urlretrieve('https://raw.githubusercontent.com/colbrydi/jupytercheck/master/answercheck.py', 'answercheck.py');\n",
   "execution_count": null,
   "outputs": []
  },
  {
   "cell_type": "code",
   "metadata": {
    "cell_id": "00021-d55e16f7-d232-4717-874e-31cfd10766cb",
    "deepnote_to_be_reexecuted": false,
    "source_hash": "467f15cd",
    "execution_start": 1653196717976,
    "execution_millis": 1316,
    "deepnote_cell_type": "code",
    "deepnote_cell_height": 266
   },
   "source": "from answercheck import checkanswer\ncheckanswer(A,'c4ca4238a0b923820dcc509a6f75849b')\ncheckanswer(B,'a87ff679a2f3e71d9181a67b7542122c')",
   "execution_count": null,
   "outputs": [
    {
     "name": "stdout",
     "text": "Testing [1.]\nAnswer seems to be incorrect\n\n",
     "output_type": "stream"
    },
    {
     "output_type": "error",
     "ename": "AssertionError",
     "evalue": "Answer is incorrect 2a71805f61de6436a1d3a07988edf5e0",
     "traceback": [
      "\u001b[0;31m---------------------------------------------------------------------------\u001b[0m",
      "\u001b[0;31mAssertionError\u001b[0m                            Traceback (most recent call last)",
      "\u001b[0;32m<ipython-input-5-425959e9ada4>\u001b[0m in \u001b[0;36m<module>\u001b[0;34m\u001b[0m\n\u001b[1;32m      1\u001b[0m \u001b[0;32mfrom\u001b[0m \u001b[0manswercheck\u001b[0m \u001b[0;32mimport\u001b[0m \u001b[0mcheckanswer\u001b[0m\u001b[0;34m\u001b[0m\u001b[0;34m\u001b[0m\u001b[0m\n\u001b[0;32m----> 2\u001b[0;31m \u001b[0mcheckanswer\u001b[0m\u001b[0;34m(\u001b[0m\u001b[0mA\u001b[0m\u001b[0;34m,\u001b[0m\u001b[0;34m'c4ca4238a0b923820dcc509a6f75849b'\u001b[0m\u001b[0;34m)\u001b[0m\u001b[0;34m\u001b[0m\u001b[0;34m\u001b[0m\u001b[0m\n\u001b[0m\u001b[1;32m      3\u001b[0m \u001b[0mcheckanswer\u001b[0m\u001b[0;34m(\u001b[0m\u001b[0mB\u001b[0m\u001b[0;34m,\u001b[0m\u001b[0;34m'a87ff679a2f3e71d9181a67b7542122c'\u001b[0m\u001b[0;34m)\u001b[0m\u001b[0;34m\u001b[0m\u001b[0;34m\u001b[0m\u001b[0m\n",
      "\u001b[0;32m/work/answercheck.py\u001b[0m in \u001b[0;36m__init__\u001b[0;34m(self, var, hashtag)\u001b[0m\n\u001b[1;32m     23\u001b[0m \u001b[0;34m\u001b[0m\u001b[0m\n\u001b[1;32m     24\u001b[0m     \u001b[0;32mdef\u001b[0m \u001b[0m__init__\u001b[0m\u001b[0;34m(\u001b[0m\u001b[0mself\u001b[0m\u001b[0;34m,\u001b[0m \u001b[0mvar\u001b[0m\u001b[0;34m,\u001b[0m \u001b[0mhashtag\u001b[0m\u001b[0;34m=\u001b[0m\u001b[0;32mNone\u001b[0m\u001b[0;34m)\u001b[0m\u001b[0;34m:\u001b[0m\u001b[0;34m\u001b[0m\u001b[0;34m\u001b[0m\u001b[0m\n\u001b[0;32m---> 25\u001b[0;31m         \u001b[0mcheckanswer\u001b[0m\u001b[0;34m.\u001b[0m\u001b[0mbasic\u001b[0m\u001b[0;34m(\u001b[0m\u001b[0mvar\u001b[0m\u001b[0;34m,\u001b[0m \u001b[0mhashtag\u001b[0m\u001b[0;34m)\u001b[0m\u001b[0;34m\u001b[0m\u001b[0;34m\u001b[0m\u001b[0m\n\u001b[0m\u001b[1;32m     26\u001b[0m \u001b[0;34m\u001b[0m\u001b[0m\n\u001b[1;32m     27\u001b[0m     \u001b[0;32mdef\u001b[0m \u001b[0mbasic\u001b[0m\u001b[0;34m(\u001b[0m\u001b[0mvar\u001b[0m\u001b[0;34m,\u001b[0m \u001b[0mhashtag\u001b[0m\u001b[0;34m=\u001b[0m\u001b[0;32mNone\u001b[0m\u001b[0;34m)\u001b[0m\u001b[0;34m:\u001b[0m\u001b[0;34m\u001b[0m\u001b[0;34m\u001b[0m\u001b[0m\n",
      "\u001b[0;32m/work/answercheck.py\u001b[0m in \u001b[0;36mbasic\u001b[0;34m(var, hashtag)\u001b[0m\n\u001b[1;32m     48\u001b[0m             \u001b[0;32melse\u001b[0m\u001b[0;34m:\u001b[0m\u001b[0;34m\u001b[0m\u001b[0;34m\u001b[0m\u001b[0m\n\u001b[1;32m     49\u001b[0m                 \u001b[0mprint\u001b[0m\u001b[0;34m(\u001b[0m\u001b[0;34m\"Answer seems to be incorrect\\n\"\u001b[0m\u001b[0;34m)\u001b[0m\u001b[0;34m\u001b[0m\u001b[0;34m\u001b[0m\u001b[0m\n\u001b[0;32m---> 50\u001b[0;31m                 \u001b[0;32massert\u001b[0m \u001b[0mchecktag\u001b[0m \u001b[0;34m==\u001b[0m \u001b[0mhashtag\u001b[0m\u001b[0;34m,\u001b[0m \u001b[0;34mf\"Answer is incorrect {checktag}\"\u001b[0m\u001b[0;34m\u001b[0m\u001b[0;34m\u001b[0m\u001b[0m\n\u001b[0m\u001b[1;32m     51\u001b[0m         \u001b[0;32melse\u001b[0m\u001b[0;34m:\u001b[0m\u001b[0;34m\u001b[0m\u001b[0;34m\u001b[0m\u001b[0m\n\u001b[1;32m     52\u001b[0m             \u001b[0;32mraise\u001b[0m \u001b[0mTypeError\u001b[0m\u001b[0;34m(\u001b[0m\u001b[0;34mf\"No answer hastag provided: {checktag}\"\u001b[0m\u001b[0;34m)\u001b[0m\u001b[0;34m\u001b[0m\u001b[0;34m\u001b[0m\u001b[0m\n",
      "\u001b[0;31mAssertionError\u001b[0m: Answer is incorrect 2a71805f61de6436a1d3a07988edf5e0"
     ]
    }
   ]
  },
  {
   "cell_type": "markdown",
   "source": "&#9989; **<span style=\"color:red\">Do This:</span>** Now let us consider a system where we have three unknown masses instead of two. Experimentation with a meter stick produces the two balanced states shown below (diagram not to scale). Write the equations for this system.\n\n<img src=\"https://lh5.googleusercontent.com/lw_dWSYcWURCr552UwgFmCKqPWByDDUDicBuq0UT7vllHzJm7uG_S9f6K8p70ix9J6SRD2UdWQ=w740\" width=\"70%\" alt=\"Image showing two balanced beams, each with four weights. In the top beam is unknown weight A which is a distance of 35 to the left of the fulcrum, unknown weight B is a distance of 21 to the left of the fulcrum, unknown weight C is a distance of 11 to the right of the fulcrum and a weight of 2 is 50 to the right of the fulcrum. In the bottom beam is the same unknown weights.  Weight A is now a distance of 10 to the right of the fulcrum, weight B is a distance of 24 to the right of the fulcrum, weight C is a distance of 25 to the left of the fulcrum and the weight of 2 is still at a distance of 50 to the right of the fulcrum.\">\n",
   "metadata": {
    "cell_id": "00022-aee65478-b4df-450d-abe0-5392977222c3",
    "deepnote_cell_type": "markdown",
    "deepnote_cell_height": 499
   }
  },
  {
   "cell_type": "markdown",
   "source": "Put your answer to the above question here\n\nEquation 1:\n$$ 35A + 21B = 11C + 50 \\times 2$$\n\nEquation 2:\n$$ 25C = 10A + 24B + 50 \\times 2$$",
   "metadata": {
    "cell_id": "00023-78537c26-d760-493f-adf4-108a47176e89",
    "deepnote_cell_type": "markdown",
    "deepnote_cell_height": 124
   }
  },
  {
   "cell_type": "markdown",
   "source": "&#9989; **<span style=\"color:red\">Do This:</span>** Find a solution to the second set of equations and report the mass for objects A, B and C.",
   "metadata": {
    "cell_id": "00024-560b10ee-d824-4c30-91df-b749eae3ff39",
    "owner_user_id": "eba6f924-8d0b-47b0-bf5a-ca6754bad4bd",
    "deepnote_cell_type": "markdown",
    "deepnote_cell_height": 52
   }
  },
  {
   "cell_type": "code",
   "metadata": {
    "cell_id": "00025-08fef163-7cbe-4b28-9184-61150403420d",
    "deepnote_to_be_reexecuted": false,
    "source_hash": "892ad206",
    "execution_start": 1653196741403,
    "execution_millis": 7,
    "deepnote_cell_type": "code",
    "deepnote_cell_height": 274
   },
   "source": "# Put your answer to the above question here\nA=A\nB=(3600/261)-(765/261)*A\nC=(10/25)*A+(24/25)*B+4\n\n#Solution:\n\nA=0\nprint(A,B,C)\n",
   "execution_count": null,
   "outputs": [
    {
     "name": "stdout",
     "text": "0 [10.86206897] [14.82758621]\n",
     "output_type": "stream"
    }
   ]
  },
  {
   "cell_type": "markdown",
   "source": "&#9989; **<span style=\"color:red\">Do This:</span>** Using Python as a calculator, verify that the solution you have found is correct.",
   "metadata": {
    "cell_id": "00026-c91b4fe0-d0e4-4c71-b0fb-7b71af16f1ae",
    "deepnote_cell_type": "markdown",
    "deepnote_cell_height": 52
   }
  },
  {
   "cell_type": "code",
   "metadata": {
    "cell_id": "00027-41af4109-4e2a-477c-9125-c36fd6bfd40d",
    "deepnote_to_be_reexecuted": false,
    "source_hash": "e8cd310d",
    "execution_start": 1653196738425,
    "execution_millis": 3,
    "deepnote_cell_type": "code",
    "deepnote_cell_height": 366
   },
   "source": "\n\n\nA=A\nB=(3600/261)-(765/261)*A\nC=(10/25)*A+(24/25)*B+4\n\n#Solution:\n\n\nprint(21*B+35*A == 100 + 11*C)\nprint(21*B+35*A,100 + 11*C)\n\n",
   "execution_count": null,
   "outputs": [
    {
     "name": "stdout",
     "text": "[ True]\n[263.10344828] [263.10344828]\n",
     "output_type": "stream"
    }
   ]
  },
  {
   "cell_type": "markdown",
   "source": "----\n<a name=\"Syllabus_and_Schedule\"></a>\n## 4. Syllabus, Schedule and other Procedures\nLet us now use the time to review the course Syllabus, schedule and other procedures.  ",
   "metadata": {
    "cell_id": "00028-0157ea5b-3790-4c83-8b63-2c52f790089b",
    "owner_user_id": "1ad92508-5214-4899-9be6-2377c49dba3a",
    "deepnote_cell_type": "markdown",
    "deepnote_cell_height": 123
   }
  },
  {
   "cell_type": "markdown",
   "source": "\n### Upcomming Assignment Due Date:\n\nPay attention to the schedule. Every class has a pre-class assignment that should be completed. There is also a major assignment due almost every week (either a quiz or a homework). \n\n- **<span style=\"color:red\">You will have a pre-class assignment and corresponding D2L quiz due by midnight the day before each class from here on.</span>**\n- **<span style=\"color:red\">Your First Homework is due Sunday, June 5th by 11:59 PM.</span>**\n- **<span style=\"color:red\">Your First Quiz is the following week</span>** ",
   "metadata": {
    "cell_id": "00029-f531746d-d528-4a0c-8b92-d85ad1b1f94c",
    "deepnote_cell_type": "markdown",
    "deepnote_cell_height": 244
   }
  },
  {
   "cell_type": "markdown",
   "source": "----\n<a name=\"Download_and_review_next_pre-class_assignment\"></a>\n##  5. Download and review next pre-class assignment\nWe will post each pre-class assignments at 12:01 AM on Mondays and Fridays.  Note pre-class assignments are generally due at midnight the day before class.  To get credit for the pre-class assignment you will need to do the readings, answer the questions and submit your answers through the pre-class quizzes on D2L.\n",
   "metadata": {
    "cell_id": "00030-f4503872-28dd-4f3f-8e95-dbedf455abc7",
    "deepnote_cell_type": "markdown",
    "deepnote_cell_height": 167
   }
  },
  {
   "cell_type": "markdown",
   "source": "----\n\nWritten by Dr. Dirk Colbry, Michigan State University\n\n<a rel=\"license\" href=\"http://creativecommons.org/licenses/by-nc/4.0/\"><img alt=\"Creative Commons License\" style=\"border-width:0\" src=\"https://i.creativecommons.org/l/by-nc/4.0/88x31.png\" /></a>\n\nThis work is licensed under a <a rel=\"license\" href=\"http://creativecommons.org/licenses/by-nc/4.0/\">Creative Commons Attribution-NonCommercial 4.0 International License</a>.",
   "metadata": {
    "cell_id": "00031-42d13aad-9c1f-4ca3-ab84-3ac29118b510",
    "deepnote_cell_type": "markdown",
    "deepnote_cell_height": 146
   }
  },
  {
   "cell_type": "markdown",
   "source": "<a style='text-decoration:none;line-height:16px;display:flex;color:#5B5B62;padding:10px;justify-content:end;' href='https://deepnote.com?utm_source=created-in-deepnote-cell&projectId=d305643f-c00c-4985-a40d-dcbee1f47f30' target=\"_blank\">\n<img alt='Created in deepnote.com' style='display:inline;max-height:16px;margin:0px;margin-right:7.5px;' src='data:image/svg+xml;base64,PD94bWwgdmVyc2lvbj0iMS4wIiBlbmNvZGluZz0iVVRGLTgiPz4KPHN2ZyB3aWR0aD0iODBweCIgaGVpZ2h0PSI4MHB4IiB2aWV3Qm94PSIwIDAgODAgODAiIHZlcnNpb249IjEuMSIgeG1sbnM9Imh0dHA6Ly93d3cudzMub3JnLzIwMDAvc3ZnIiB4bWxuczp4bGluaz0iaHR0cDovL3d3dy53My5vcmcvMTk5OS94bGluayI+CiAgICA8IS0tIEdlbmVyYXRvcjogU2tldGNoIDU0LjEgKDc2NDkwKSAtIGh0dHBzOi8vc2tldGNoYXBwLmNvbSAtLT4KICAgIDx0aXRsZT5Hcm91cCAzPC90aXRsZT4KICAgIDxkZXNjPkNyZWF0ZWQgd2l0aCBTa2V0Y2guPC9kZXNjPgogICAgPGcgaWQ9IkxhbmRpbmciIHN0cm9rZT0ibm9uZSIgc3Ryb2tlLXdpZHRoPSIxIiBmaWxsPSJub25lIiBmaWxsLXJ1bGU9ImV2ZW5vZGQiPgogICAgICAgIDxnIGlkPSJBcnRib2FyZCIgdHJhbnNmb3JtPSJ0cmFuc2xhdGUoLTEyMzUuMDAwMDAwLCAtNzkuMDAwMDAwKSI+CiAgICAgICAgICAgIDxnIGlkPSJHcm91cC0zIiB0cmFuc2Zvcm09InRyYW5zbGF0ZSgxMjM1LjAwMDAwMCwgNzkuMDAwMDAwKSI+CiAgICAgICAgICAgICAgICA8cG9seWdvbiBpZD0iUGF0aC0yMCIgZmlsbD0iIzAyNjVCNCIgcG9pbnRzPSIyLjM3NjIzNzYyIDgwIDM4LjA0NzY2NjcgODAgNTcuODIxNzgyMiA3My44MDU3NTkyIDU3LjgyMTc4MjIgMzIuNzU5MjczOSAzOS4xNDAyMjc4IDMxLjY4MzE2ODMiPjwvcG9seWdvbj4KICAgICAgICAgICAgICAgIDxwYXRoIGQ9Ik0zNS4wMDc3MTgsODAgQzQyLjkwNjIwMDcsNzYuNDU0OTM1OCA0Ny41NjQ5MTY3LDcxLjU0MjI2NzEgNDguOTgzODY2LDY1LjI2MTk5MzkgQzUxLjExMjI4OTksNTUuODQxNTg0MiA0MS42NzcxNzk1LDQ5LjIxMjIyODQgMjUuNjIzOTg0Niw0OS4yMTIyMjg0IEMyNS40ODQ5Mjg5LDQ5LjEyNjg0NDggMjkuODI2MTI5Niw0My4yODM4MjQ4IDM4LjY0NzU4NjksMzEuNjgzMTY4MyBMNzIuODcxMjg3MSwzMi41NTQ0MjUgTDY1LjI4MDk3Myw2Ny42NzYzNDIxIEw1MS4xMTIyODk5LDc3LjM3NjE0NCBMMzUuMDA3NzE4LDgwIFoiIGlkPSJQYXRoLTIyIiBmaWxsPSIjMDAyODY4Ij48L3BhdGg+CiAgICAgICAgICAgICAgICA8cGF0aCBkPSJNMCwzNy43MzA0NDA1IEwyNy4xMTQ1MzcsMC4yNTcxMTE0MzYgQzYyLjM3MTUxMjMsLTEuOTkwNzE3MDEgODAsMTAuNTAwMzkyNyA4MCwzNy43MzA0NDA1IEM4MCw2NC45NjA0ODgyIDY0Ljc3NjUwMzgsNzkuMDUwMzQxNCAzNC4zMjk1MTEzLDgwIEM0Ny4wNTUzNDg5LDc3LjU2NzA4MDggNTMuNDE4MjY3Nyw3MC4zMTM2MTAzIDUzLjQxODI2NzcsNTguMjM5NTg4NSBDNTMuNDE4MjY3Nyw0MC4xMjg1NTU3IDM2LjMwMzk1NDQsMzcuNzMwNDQwNSAyNS4yMjc0MTcsMzcuNzMwNDQwNSBDMTcuODQzMDU4NiwzNy43MzA0NDA1IDkuNDMzOTE5NjYsMzcuNzMwNDQwNSAwLDM3LjczMDQ0MDUgWiIgaWQ9IlBhdGgtMTkiIGZpbGw9IiMzNzkzRUYiPjwvcGF0aD4KICAgICAgICAgICAgPC9nPgogICAgICAgIDwvZz4KICAgIDwvZz4KPC9zdmc+' > </img>\nCreated in <span style='font-weight:600;margin-left:4px;'>Deepnote</span></a>",
   "metadata": {
    "tags": [],
    "created_in_deepnote_cell": true,
    "deepnote_cell_type": "markdown"
   }
  }
 ],
 "nbformat": 4,
 "nbformat_minor": 4,
 "metadata": {
  "kernelspec": {
   "display_name": "Python 3 (ipykernel)",
   "language": "python",
   "name": "python3"
  },
  "language_info": {
   "codemirror_mode": {
    "name": "ipython",
    "version": 3
   },
   "file_extension": ".py",
   "mimetype": "text/x-python",
   "name": "python",
   "nbconvert_exporter": "python",
   "pygments_lexer": "ipython3",
   "version": "3.9.7"
  },
  "deepnote_notebook_id": "be8d7ef0-55ee-4320-8306-316aa89ebec3",
  "deepnote": {},
  "deepnote_execution_queue": []
 }
}