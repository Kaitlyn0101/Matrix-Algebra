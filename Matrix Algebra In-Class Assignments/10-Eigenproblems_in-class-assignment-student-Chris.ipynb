{
 "cells": [
  {
   "cell_type": "markdown",
   "source": "## Put the names of all group members present today below:",
   "metadata": {
    "formattedRanges": [],
    "cell_id": "f91370cf8f4f43e3bf986b7b719a06b5",
    "is_collapsed": false,
    "tags": [],
    "deepnote_cell_type": "text-cell-h2"
   }
  },
  {
   "cell_type": "markdown",
   "source": "Haobo.Liu, Kaitlyn Watson, David Robbins, Christian Lulaj",
   "metadata": {
    "cell_id": "3c46b60c11b34e78a6460b92ac70cf97",
    "tags": [],
    "deepnote_cell_type": "markdown",
    "deepnote_cell_height": 52.390625
   }
  },
  {
   "cell_type": "markdown",
   "source": "# 10 In-Class Assignment: Eigenproblems\n\n<img src=\"https://campusinvolvement.umich.edu/files/campusinvolvement/field/image/helmets.jpg\" alt=\"Image of two football helmets hitting each other. One is MSU and one is UofM which matches an example we will do in class\" width=\"50%\">\n\nImage from: [https://campusinvolvement.umich.edu/](https://campusinvolvement.umich.edu/) ",
   "metadata": {
    "cell_id": "66956527-2ef9-4f8e-9e87-1ae4b81ee69e",
    "owner_user_id": "1ad92508-5214-4899-9be6-2377c49dba3a",
    "deepnote_cell_type": "markdown",
    "deepnote_cell_height": 411.65625
   }
  },
  {
   "cell_type": "markdown",
   "source": "### Objectives\n\n1. Recall the formula $Av=\\lambda v$ for finding eigenvalues/eigenvectors and be able to relate this to their geometric interpretation. \n1. Be able to calculate eigenvalues and eigenvectors for 2x2 matrices by hand\n1. Calculate eigenvalues and eigenvectors using python\n1. Scale eigenvectors so that they meet some criteria (entries sum to 1, entries sum to 24, a given entry is a fixed value, etc.) \n1. Markov Models\n - Create a matrix that represents a Markov Model\n - Use eigenvalues/eigenvectors of this matrix to find and interpret the steady-state solution of the system. \n\n",
   "metadata": {
    "cell_id": "00001-d7f62a63-1cf8-4813-a7d5-d677fb59d215",
    "deepnote_cell_type": "markdown",
    "deepnote_cell_height": 322.578125
   }
  },
  {
   "cell_type": "markdown",
   "source": "\n\n---\n<a name=Introduction-to-Markov-Models></a>\n## 1.  Markov Models\n\n\n>In probability theory, a Markov model is a stochastic model used to model randomly changing systems. \nIt is assumed that future states depend only on the current state, not on the events that occurred before it.\n>\n> <img src=\"https://upload.wikimedia.org/wikipedia/commons/thumb/2/2b/Markovkate_01.svg/1126px-Markovkate_01.svg.png\" width=25%>\n> A diagram representing a two-state Markov process, with the states labelled E and A. \nEach number represents the probability of the Markov process changing from one state to another state, with the direction indicated by the arrow. \nFor example, if the Markov process is in state A, then the probability it changes to state E is 0.4, while the probability it remains in state A is 0.6.\n\nFrom: [Wikipedia](https://en.wikipedia.org/wiki/Markov_model)",
   "metadata": {
    "cell_id": "00002-7197dc22-45d9-4f8d-89c6-457cf35f828e",
    "deepnote_cell_type": "markdown",
    "deepnote_cell_height": 539.28125
   }
  },
  {
   "cell_type": "markdown",
   "source": "The above state model can be represented by a transition matrix. \n\n$$\n\\begin{array}{cc}\n& \\text{Current State}  \\\\\nP =  &\n\\begin{bmatrix}\n    p_{A\\rightarrow A} & p_{E\\rightarrow A}  \\\\\n    p_{A\\rightarrow E} & p_{E\\rightarrow E} \n\\end{bmatrix}\n\\end{array}\n\\text{Next state}\n$$",
   "metadata": {
    "cell_id": "00003-ec19dbb2-912e-49c3-9430-d3648e120d9f",
    "deepnote_cell_type": "markdown",
    "deepnote_cell_height": 141.375
   }
  },
  {
   "cell_type": "markdown",
   "source": "In other words we can write the above as follows",
   "metadata": {
    "cell_id": "00004-ee1669ba-2188-4cdc-b5fc-852d8bd074e9",
    "deepnote_cell_type": "markdown",
    "deepnote_cell_height": 52.390625
   }
  },
  {
   "cell_type": "code",
   "metadata": {
    "cell_id": "00005-a38703e8-1664-49ba-8365-5d5bc2ef5fec",
    "deepnote_to_be_reexecuted": false,
    "source_hash": "55c787c0",
    "execution_start": 1655402668773,
    "execution_millis": 0,
    "deepnote_cell_type": "code",
    "deepnote_cell_height": 153
   },
   "source": "%matplotlib inline\nimport matplotlib.pylab as plt\nimport numpy as np\nimport sympy as sym\nsym.init_printing(use_unicode=True)",
   "execution_count": null,
   "outputs": []
  },
  {
   "cell_type": "code",
   "metadata": {
    "cell_id": "00006-78482a28-bf22-4fa3-b7bf-9bbac49b784a",
    "deepnote_to_be_reexecuted": false,
    "source_hash": "a02e08bf",
    "execution_start": 1655402670347,
    "execution_millis": 13,
    "deepnote_cell_type": "code",
    "deepnote_cell_height": 174.578125,
    "deepnote_output_heights": [
     59.578125
    ]
   },
   "source": "A = np.matrix([[0.6, 0.7],[0.4, 0.3]])\nsym.Matrix(A)",
   "execution_count": null,
   "outputs": [
    {
     "output_type": "execute_result",
     "execution_count": 5,
     "data": {
      "text/plain": "⎡0.6  0.7⎤\n⎢        ⎥\n⎣0.4  0.3⎦",
      "text/latex": "$\\displaystyle \\left[\\begin{matrix}0.6 & 0.7\\\\0.4 & 0.3\\end{matrix}\\right]$"
     },
     "metadata": {}
    }
   ]
  },
  {
   "cell_type": "markdown",
   "source": "Notice how the columns in the matrix all add to one. This is because all of the transition probabilities out of a matrix must add to 100 percent. ",
   "metadata": {
    "cell_id": "00007-bc7fadf6-086b-4056-a9ec-f6e53852fee1",
    "deepnote_cell_type": "markdown",
    "deepnote_cell_height": 74.796875
   }
  },
  {
   "cell_type": "markdown",
   "source": "Now, consider the following house map with cats in each room...\n\nAt each time step, there is an equal probability of a cat staying in their current room or moving to a new room. \nIf a cat chooses to leave a room, then there is an equal chance of that cat picking any of the doors in the room to leave. \n\n<img src=\"https://lh4.googleusercontent.com/CGFHfJgtrPu-2bZPhPul1ll8B3tqC1Vs8jRwnZ13v8MqRAagWhrSmJ0cznYIP3ePg5co5AVI8g=w712\" alt=\"Top down diagram of a house with three rooms (see text for more description\" width=\"50%\">",
   "metadata": {
    "cell_id": "00008-0c1bbf43-dc3c-476b-b420-fb796a684d6f",
    "deepnote_cell_type": "markdown",
    "deepnote_cell_height": 359.625
   }
  },
  {
   "cell_type": "markdown",
   "source": "&#9989;**<font color=red>DO THIS :</font>** Try to draw a Markov chain (Markov matrix) for the above system of equations. Be prepared to share your diagram with the class. ",
   "metadata": {
    "cell_id": "00009-7d554f7e-027f-4905-92cb-c03a35592a3f",
    "deepnote_cell_type": "markdown",
    "deepnote_cell_height": 74.796875
   }
  },
  {
   "cell_type": "code",
   "metadata": {
    "cell_id": "2b32c13bc58a4dac9cc93ddde87c3042",
    "tags": [],
    "deepnote_cell_type": "code",
    "deepnote_cell_height": 66
   },
   "source": "",
   "execution_count": null,
   "outputs": []
  },
  {
   "cell_type": "markdown",
   "source": "A Markov chain can be represented as a Markov transition model of the form $Ax=b$. \nWhere $A$ is your probability tranisition matrix (often represented as a $P$ instead of an $A$). \n$x$ is the state before the transition and $b$ is the state after the transition.\n\n&#9989;**<font color=red>QUESTION:</font>** Generate a Markov transition model represented as a matrix $P$ of the form:\n$$\n\\begin{array}{ccc}\n& \\text{Current Room}  \\\\\nP =  &\n\\begin{bmatrix}\n    p_{11} & p_{12} & p_{13} \\\\\n    p_{21} & p_{22} & p_{23} \\\\\n    p_{31} & p_{32} & p_{33} \n\\end{bmatrix}\n\\end{array}\n\\text{Next Room}\n$$\n\nWhere $p_{ij}$ are probability transitions of the cat moving between rooms (from room $j$ to room $i$):",
   "metadata": {
    "cell_id": "00010-43613841-2f55-4148-9252-b97d4b30178a",
    "deepnote_cell_type": "markdown",
    "deepnote_cell_height": 265.296875
   }
  },
  {
   "cell_type": "code",
   "metadata": {
    "cell_id": "00011-461f3c18-ecac-46a0-8b91-9bf091112a6a",
    "deepnote_to_be_reexecuted": false,
    "source_hash": "933bba16",
    "execution_start": 1655403837246,
    "execution_millis": 5,
    "deepnote_cell_type": "code",
    "deepnote_cell_height": 210.578125,
    "deepnote_output_heights": [
     59.578125
    ]
   },
   "source": "##put your answer here\n\nP = np.matrix([[0.5,1/3, 1/4],[1/3, 0.5, 1/4],[1/6, 1/6, 0.5]])\nP",
   "execution_count": null,
   "outputs": [
    {
     "output_type": "execute_result",
     "execution_count": 36,
     "data": {
      "text/plain": "matrix([[0.5       , 0.33333333, 0.25      ],\n        [0.33333333, 0.5       , 0.25      ],\n        [0.16666667, 0.16666667, 0.5       ]])"
     },
     "metadata": {}
    }
   ]
  },
  {
   "cell_type": "code",
   "metadata": {
    "cell_id": "5ceece447c424bd6ae883cd711cb6bd4",
    "tags": [],
    "deepnote_to_be_reexecuted": false,
    "source_hash": "3b030f16",
    "execution_start": 1655403837643,
    "execution_millis": 2,
    "deepnote_cell_type": "code",
    "deepnote_cell_height": 99
   },
   "source": "#P = np.matrix([[0.5,1/3, 1/6],[1/3, 0.5, 1/6],[1/4, 1/4, 0.5]]).T\n#P",
   "execution_count": null,
   "outputs": []
  },
  {
   "cell_type": "code",
   "metadata": {
    "cell_id": "00012-331617bc-3859-4df6-b0a5-446659970b38",
    "deepnote_to_be_reexecuted": false,
    "source_hash": "c0d97eff",
    "execution_start": 1655403838204,
    "execution_millis": 10,
    "deepnote_cell_type": "code",
    "deepnote_cell_height": 226.46875
   },
   "source": "from answercheck import checkanswer\n\ncheckanswer.matrix(P,'1001a6fa07727caf8ce05226b765542c');",
   "execution_count": null,
   "outputs": [
    {
     "name": "stdout",
     "text": "Testing [[0.5     0.33333 0.25   ]\n [0.33333 0.5     0.25   ]\n [0.16667 0.16667 0.5    ]]\nAnswer seems to be correct\n\n",
     "output_type": "stream"
    }
   ]
  },
  {
   "cell_type": "markdown",
   "source": "&#9989;**<font color=red>QUESTION:</font>**  Let's assume that the system starts with; 6 cats in room 1, 15 cats in room 2, and 3 cats in room 3. How many cats will be in each room after one time step (Store the values in a vector called ```current_state```)?",
   "metadata": {
    "cell_id": "00013-66274472-d16f-494f-9e90-05bb8a824585",
    "deepnote_cell_type": "markdown",
    "deepnote_cell_height": 74.796875
   }
  },
  {
   "cell_type": "code",
   "metadata": {
    "cell_id": "00014-fda3ebda-531a-4ea1-90f2-9eb81bb6f5d1",
    "deepnote_to_be_reexecuted": false,
    "source_hash": "cdaaec52",
    "execution_start": 1655403916863,
    "execution_millis": 122,
    "deepnote_cell_type": "code",
    "deepnote_cell_height": 228.578125,
    "deepnote_output_heights": [
     59.578125
    ]
   },
   "source": "#Put your answer to the above question here.\n\nC = np.matrix([[6], [15], [3]])\ncurrent_state = P * C\ncurrent_state",
   "execution_count": null,
   "outputs": [
    {
     "output_type": "execute_result",
     "execution_count": 46,
     "data": {
      "text/plain": "matrix([[ 8.75],\n        [10.25],\n        [ 5.  ]])"
     },
     "metadata": {}
    }
   ]
  },
  {
   "cell_type": "code",
   "metadata": {
    "cell_id": "00015-c3f1687d-f565-4acd-8058-e1604dd56704",
    "deepnote_to_be_reexecuted": false,
    "source_hash": "d4836b82",
    "execution_start": 1655403919948,
    "execution_millis": 3,
    "deepnote_cell_type": "code",
    "deepnote_cell_height": 265.859375
   },
   "source": "from answercheck import checkanswer\n\ncheckanswer.vector(current_state,'98d5519be82a0585654de5eda3a7f397');",
   "execution_count": null,
   "outputs": [
    {
     "name": "stdout",
     "text": "\nCheckWarning: numpy.matrix is row vector...\n    Trying to convert to a column vector using ```A = A.T```.\n\nTesting [[ 8.75 10.25  5.  ]]\nAnswer seems to be correct\n\n",
     "output_type": "stream"
    }
   ]
  },
  {
   "cell_type": "markdown",
   "source": "&#9989;**<font color=red>QUESTION:</font>** The following code will plot the number of cats as a function of time ($t$).  When this system converges, what is the steady state?",
   "metadata": {
    "cell_id": "00016-0f8f3339-af94-4faf-b24f-916a1efa3593",
    "deepnote_cell_type": "markdown",
    "deepnote_cell_height": 74.796875
   }
  },
  {
   "cell_type": "code",
   "metadata": {
    "cell_id": "00017-ce8007c2-b7f7-473b-9699-94a799617701",
    "deepnote_to_be_reexecuted": false,
    "source_hash": "4d7f95e3",
    "execution_start": 1655403875695,
    "execution_millis": 173,
    "deepnote_cell_type": "code",
    "deepnote_cell_height": 835.96875,
    "deepnote_output_heights": [
     null,
     250
    ]
   },
   "source": "#Define Start State\nroom1 = [6]\nroom2 = [15]\nroom3 = [3]\n\ncurrent_state = np.matrix([room1, room2, room3])\n\nfor i in range(10):\n    #update Current State\n    current_state = P*current_state\n    \n    #Store history for each room\n    room1.append(current_state[0])\n    room2.append(current_state[1])\n    room3.append(current_state[2])\n    \nplt.plot(room1, label=\"room1\");\nplt.plot(room2, label=\"room2\");\nplt.plot(room3, label=\"room3\");\nplt.legend();\nprint(current_state)",
   "execution_count": null,
   "outputs": [
    {
     "name": "stdout",
     "text": "[[9.00002533]\n [9.00002548]\n [5.99994919]]\n/shared-libs/python3.7/py/lib/python3.7/site-packages/numpy/core/shape_base.py:65: VisibleDeprecationWarning: Creating an ndarray from ragged nested sequences (which is a list-or-tuple of lists-or-tuples-or ndarrays with different lengths or shapes) is deprecated. If you meant to do this, you must specify 'dtype=object' when creating the ndarray.\n  ary = asanyarray(ary)\n",
     "output_type": "stream"
    },
    {
     "data": {
      "text/plain": "<Figure size 432x288 with 1 Axes>",
      "image/png": "[encoded data removed]"
     },
     "metadata": {
      "needs_background": "light",
      "image/png": {
       "width": 368,
       "height": 248
      }
     },
     "output_type": "display_data"
    }
   ]
  },
  {
   "cell_type": "markdown",
   "source": "Inspect the generated graph and put your answer to the above question here\n\nFor the above graph the steady state is: Room 1 is 9, Room 2 is 9, Room 3 is 6",
   "metadata": {
    "cell_id": "00018-616a2724-7519-4c25-98fb-4166468eeab7",
    "deepnote_cell_type": "markdown",
    "deepnote_cell_height": 88.796875
   }
  },
  {
   "cell_type": "markdown",
   "source": "&#9989;**<font color=red>QUESTION:</font>**  Calculate the eigenvalues and eigenvectors of your transition matrix $P$. ",
   "metadata": {
    "cell_id": "00019-e595efde-bb58-41f1-92af-1b6f8dd3ba5d",
    "deepnote_cell_type": "markdown",
    "deepnote_cell_height": 52.390625
   }
  },
  {
   "cell_type": "code",
   "metadata": {
    "cell_id": "00020-941e19c7-4e0c-4988-9669-3395076f2d14",
    "deepnote_to_be_reexecuted": false,
    "source_hash": "5ffc70d1",
    "execution_start": 1655403907114,
    "execution_millis": 4,
    "deepnote_cell_type": "code",
    "deepnote_cell_height": 259.078125
   },
   "source": "##put your answer here\n\neig = np.linalg.eig(P)\neig_vals = eig[0]\neig_vecs = eig[1]\nfor i in range(len(eig_vals)):\n    print(eig_vals[i], \": \", eig_vecs[i])",
   "execution_count": null,
   "outputs": [
    {
     "name": "stdout",
     "text": "0.9999999999999997 :  [[-0.63960215 -0.70710678 -0.40824829]]\n0.16666666666666677 :  [[-0.63960215  0.70710678 -0.40824829]]\n0.33333333333333326 :  [[-4.26401433e-01 -5.28299654e-17  8.16496581e-01]]\n",
     "output_type": "stream"
    }
   ]
  },
  {
   "cell_type": "markdown",
   "source": "The eigenvector associated with the eigenvalue of 1 represents the steady state probability for our original transition matrix $P$.  \n\n&#9989;**<font color=red>DO THIS:</font>** make a new vector called ```steadystate``` from the eigenvector of your $P$ matrix with a eigenvalue of 1.",
   "metadata": {
    "cell_id": "00021-7d956d0e-ff20-4341-98d7-55b9292d2133",
    "deepnote_cell_type": "markdown",
    "deepnote_cell_height": 111.1875
   }
  },
  {
   "cell_type": "code",
   "metadata": {
    "cell_id": "00022-a492f861-56d4-40ce-b971-e917f1ecb51c",
    "deepnote_to_be_reexecuted": false,
    "source_hash": "4eb841fe",
    "execution_start": 1655404736435,
    "execution_millis": 8,
    "deepnote_cell_type": "code",
    "deepnote_cell_height": 165.6875
   },
   "source": "## Put your answer here\n\nsteadystate = np.array(eig_vecs[0])\nprint(steadystate)",
   "execution_count": null,
   "outputs": [
    {
     "name": "stdout",
     "text": "[[-0.63960215 -0.70710678 -0.40824829]]\n",
     "output_type": "stream"
    }
   ]
  },
  {
   "cell_type": "markdown",
   "source": "Since the ```steadystate``` vectors represent long term probibilities, they should sum to one (1).  However, most programming libraries (ex. numpy and sympy) return \"normalized\" eigenvectors to length of 1 (i.e. norm(e)==1). \n\n&#9989;**<font color=red>DO THIS:</font>**  Correct for the normalization by multiplying the ```steadystate``` eigenvector by a constant such that the sum of the vector elements add to 1. ",
   "metadata": {
    "cell_id": "00023-3f806895-7d71-49bf-941f-171f36e82c0f",
    "deepnote_cell_type": "markdown",
    "deepnote_cell_height": 133.59375
   }
  },
  {
   "cell_type": "code",
   "metadata": {
    "cell_id": "00024-bb159bdf-93f7-4f31-b2ae-6e93a0984f80",
    "deepnote_to_be_reexecuted": false,
    "source_hash": "4d310fe2",
    "execution_start": 1655404857312,
    "execution_millis": 4,
    "deepnote_cell_type": "code",
    "deepnote_cell_height": 219.6875
   },
   "source": "#Put your answer here\nconstant = -1.57\nsumT = 0\nfor i in range(len(steadystate)):\n    sumT += constant * steadystate[0][i]\nprint(sumT)\n",
   "execution_count": null,
   "outputs": [
    {
     "name": "stdout",
     "text": "1.0041753740349249\n",
     "output_type": "stream"
    }
   ]
  },
  {
   "cell_type": "markdown",
   "source": "&#9989;**<font color=red>DO THIS:</font>**  Think about the cats problem, because one cat has to be in one of the three rooms. That means, the total number of cats will not change. If we add the number of cats at all rooms together, this number has to be the same. Therefore, if we start will 6+15+3=24 cats, there are also 24 cats at the ```steadystate```. Modify the steadystate to make sure the total number of cats is 24.",
   "metadata": {
    "cell_id": "00025-3745fabe-8fe1-4ce7-8bfa-7d5dd3c9baa8",
    "deepnote_cell_type": "markdown",
    "deepnote_cell_height": 119.59375
   }
  },
  {
   "cell_type": "code",
   "metadata": {
    "cell_id": "5d57653232654743ab61cd8c7191cd7d",
    "tags": [],
    "deepnote_to_be_reexecuted": false,
    "source_hash": "bc8d9166",
    "execution_start": 1655404924547,
    "execution_millis": 3,
    "deepnote_cell_type": "code",
    "deepnote_cell_height": 183.6875
   },
   "source": "constant = -37.6\nsumT = 0\nfor i in range(len(steadystate)):\n    sumT += constant * steadystate[0][i]\nprint(sumT)",
   "execution_count": null,
   "outputs": [
    {
     "name": "stdout",
     "text": "24.04904080491285\n",
     "output_type": "stream"
    }
   ]
  },
  {
   "cell_type": "markdown",
   "source": "&#9989;**<font color=red>QUESTION:</font>** Why does the sum of the numbers at every stage remain the same? \n",
   "metadata": {
    "cell_id": "00027-7fbef448-c9a9-40bb-9893-3c426a8fcfaf",
    "owner_user_id": "a464456a-c3c6-450f-a8c1-17fcb565d65e",
    "deepnote_cell_type": "markdown",
    "deepnote_cell_height": 52.390625
   }
  },
  {
   "cell_type": "markdown",
   "source": "The sum of the numbers at every stage must remain the same becuase the amount of cats will ALWAYS be 24 no matter where each cat goes. No cats leave the room.",
   "metadata": {
    "cell_id": "00028-6ebda3e2-6d13-494d-afd7-517ce9083260",
    "deepnote_cell_type": "markdown",
    "deepnote_cell_height": 74.796875
   }
  },
  {
   "cell_type": "markdown",
   "source": "---\n<a name=\"Epi_discrete\"></a>\n## 2. Epidemic Dynamics - Discrete Case\n\nThe dynamics of infection and the spread of an epidemic can be modeled as a linear dynamical system. \n\nWe count the fraction of the population in the following four groups:\n+ Susceptible: the individuals can be infected next day\n+ Infected: the infected individuals \n+ Recovered (and immune): recovered individuals from the disease and will not be infected again\n+ Deceased: the individuals died from the disease\n\nWe denote the fractions of these four groups in $x(t)$. For example $x(t)=(0.8,0.1,0.05,0.05)$ means that at day $t$, 80\\% of the population are susceptible, 10% are infected, 5% are recovered and immuned, and 5% died.\n\nWe choose a simple model here. After each day,\n\n+ 5% of the susceptible individuals will get infected \n+ 3% of infected inviduals will die\n+ 10% of infected inviduals will recover and become immune to the disease\n+ 4% of infected inviduals will recover but will not be immune to the disease\n+ 83% of the infected inviduals will remain infected\n",
   "metadata": {
    "cell_id": "00029-530de03d-4b48-421a-873f-d64043974ec8",
    "deepnote_cell_type": "markdown",
    "deepnote_cell_height": 519.578125
   }
  },
  {
   "cell_type": "markdown",
   "source": "&#9989;  **<font color=red>Do this:</font>** Complete the transition matrix for this model:\n\n$$\n\\begin{array}{ccc}\nA =  &\n\\begin{bmatrix}\n    0.95 & 0.04 & 0 & 0 \\\\\n    0.05 & 0.83 & * & * \\\\\n    * & * & * & * \\\\\n    * & * & * & * \\\\\n\\end{bmatrix}\n\\end{array}\n$$",
   "metadata": {
    "cell_id": "00030-fa5da103-4f33-4548-9274-64ff9f66d736",
    "deepnote_cell_type": "markdown",
    "deepnote_cell_height": 161.734375
   }
  },
  {
   "cell_type": "code",
   "metadata": {
    "cell_id": "010ebd75913d4224ad72d7c901013d35",
    "tags": [],
    "deepnote_to_be_reexecuted": false,
    "source_hash": "7643a522",
    "execution_start": 1655405483132,
    "execution_millis": 9,
    "deepnote_cell_type": "code",
    "deepnote_cell_height": 251.359375,
    "deepnote_output_heights": [
     136.359375
    ]
   },
   "source": "A = np.matrix([[0.95, 0.04, 0, 0],[0.05, 0.83, 0, 0],[0, 0.1, 1, 0],[0,0.03,0,1]])\nsym.Matrix(A)",
   "execution_count": null,
   "outputs": [
    {
     "output_type": "execute_result",
     "execution_count": 163,
     "data": {
      "text/plain": "⎡0.95  0.04   0    0 ⎤\n⎢                    ⎥\n⎢0.05  0.83   0    0 ⎥\n⎢                    ⎥\n⎢ 0    0.1   1.0   0 ⎥\n⎢                    ⎥\n⎣ 0    0.03   0   1.0⎦",
      "text/latex": "$\\displaystyle \\left[\\begin{matrix}0.95 & 0.04 & 0 & 0\\\\0.05 & 0.83 & 0 & 0\\\\0 & 0.1 & 1.0 & 0\\\\0 & 0.03 & 0 & 1.0\\end{matrix}\\right]$"
     },
     "metadata": {}
    }
   ]
  },
  {
   "cell_type": "markdown",
   "source": "&#9989;  **<font color=red>Do this:</font>** If we start with $x(0) = (1, 0, 0, 0)$ for day 0. Use the `for` loop to find the distribution of the four groups after 50 days.",
   "metadata": {
    "cell_id": "00032-5b23aabe-6641-47f7-8f5d-9c192f7fda39",
    "deepnote_cell_type": "markdown",
    "deepnote_cell_height": 74.796875
   }
  },
  {
   "cell_type": "code",
   "metadata": {
    "cell_id": "00033-56563b0a-5d37-4c7f-bf2b-21cf082c7622",
    "deepnote_to_be_reexecuted": false,
    "source_hash": "6f2cddb7",
    "execution_start": 1655405674245,
    "execution_millis": 8,
    "deepnote_cell_type": "code",
    "deepnote_cell_height": 242.78125
   },
   "source": "x0 = np.matrix([[1],[0],[0],[0]])\nx  = x0\nfor i in range(50):\n    x = A*x\nprint(x)",
   "execution_count": null,
   "outputs": [
    {
     "name": "stdout",
     "text": "[[0.15041595]\n [0.05576501]\n [0.61063003]\n [0.18318901]]\n",
     "output_type": "stream"
    }
   ]
  },
  {
   "cell_type": "markdown",
   "source": "&#9989;  **<font color=red>Do this:</font>** Use the following code to apply the above transformation matrix for 200 iterations and plot the results.",
   "metadata": {
    "cell_id": "00034-ec13e8a4-d6da-4158-b4b4-cf79144909a9",
    "deepnote_cell_type": "markdown",
    "deepnote_cell_height": 52.390625
   }
  },
  {
   "cell_type": "code",
   "metadata": {
    "cell_id": "00035-a9b43550-c7ab-4d2a-9722-4ca12d1ac6c7",
    "deepnote_to_be_reexecuted": false,
    "source_hash": "8365722c",
    "execution_start": 1655405849280,
    "execution_millis": 262,
    "deepnote_cell_type": "code",
    "deepnote_cell_height": 491,
    "deepnote_output_heights": [
     250
    ]
   },
   "source": "x0 = np.matrix([[1],[0],[0],[0]])\nn = 200 \nx  = x0\nx_all = np.matrix(np.zeros((4,n)))\nfor i in range(n):\n    x = A*x\n    x_all[:,i] = x[:,0]\nfor i in range(4):\n    plt.plot(x_all[i].T)",
   "execution_count": null,
   "outputs": [
    {
     "data": {
      "text/plain": "<Figure size 432x288 with 1 Axes>",
      "image/png": "[encoded data removed]"
     },
     "metadata": {
      "needs_background": "light",
      "image/png": {
       "width": 372,
       "height": 248
      }
     },
     "output_type": "display_data"
    }
   ]
  },
  {
   "cell_type": "markdown",
   "source": "---\n<a name=\"Epi_continuous\"></a>\n## 3. Epidemic Dynamics - Continuous Model\n\nInstead of using the discrete markov model, we can also use a continuous model with ordinary differential equations. \n\nFor example, we have that \n\n$$\n\\dot{x}_1 = {dx_1(t)\\over dt} = -0.05x_1(t)+ 0.04 x_2(t)\n$$\n\nIt means that the changes in the susceptible group depends on susceptible and infected individuals. It increases because of the recovered people from infected ones and it decreases because of the infection. \n\nSimilarly, we have the equations for all three groups.\n$$\n\\begin{aligned}\n\\dot{x}_2 &= {dx_2(t)\\over dt} = 0.05x_1(t)-0.17 x_2(t) \\\\ \n\\dot{x}_3 &= {dx_3(t)\\over dt}= 0.1 x_2(t) \\\\\n\\dot{x}_4 &= {dx_4(t)\\over dt} = 0.03 x_2(t)\n\\end{aligned}\n$$\n",
   "metadata": {
    "cell_id": "00036-098f9985-76fb-44c9-a315-6d3768d00279",
    "deepnote_cell_type": "markdown",
    "deepnote_cell_height": 455.40625
   }
  },
  {
   "cell_type": "markdown",
   "source": "&#9989;  **<font color=red>Do this:</font>** We can write it as system of ODEs as \n$$\n\\dot{x}(t) = Bx(t)\n$$\nWrite down the matrix $B$ in `numpy.matrix`",
   "metadata": {
    "cell_id": "00037-f33fe761-74b2-4fd6-994d-bca416b11707",
    "deepnote_cell_type": "markdown",
    "deepnote_cell_height": 125.1875
   }
  },
  {
   "cell_type": "code",
   "metadata": {
    "cell_id": "00038-37818af9-6bdf-493f-a9fc-c5812ed5ead7",
    "deepnote_to_be_reexecuted": false,
    "source_hash": "8252af74",
    "execution_start": 1655406140530,
    "execution_millis": 18,
    "deepnote_cell_type": "code",
    "deepnote_cell_height": 229.78125,
    "deepnote_output_heights": [
     78.78125
    ]
   },
   "source": "# Put your answer to the above question here.\n\nB=np.matrix([[-0.05,0.04, 0,0], [0.05, -0.17, 0, 0], [0,0.1, 0, 0], [0,.03, 0, 0]])\nB",
   "execution_count": null,
   "outputs": [
    {
     "output_type": "execute_result",
     "execution_count": 176,
     "data": {
      "text/plain": "matrix([[-0.05,  0.04,  0.  ,  0.  ],\n        [ 0.05, -0.17,  0.  ,  0.  ],\n        [ 0.  ,  0.1 ,  0.  ,  0.  ],\n        [ 0.  ,  0.03,  0.  ,  0.  ]])"
     },
     "metadata": {}
    }
   ]
  },
  {
   "cell_type": "markdown",
   "source": "&#9989;  **<font color=red>Do this:</font>** Plot $x_1$ through $x_4$ as functions of time, where $t$ ranges from 0 to 200 days. Then compare the graph of your solution with the discrete version.  ",
   "metadata": {
    "cell_id": "00039-244920c3-866e-44e9-afd7-e4b0f5128632",
    "deepnote_cell_type": "markdown",
    "deepnote_cell_height": 74.796875
   }
  },
  {
   "cell_type": "code",
   "metadata": {
    "cell_id": "00040-831ff35b-704a-46a4-b137-868ba2a19e11",
    "deepnote_to_be_reexecuted": false,
    "source_hash": "ed56b4f5",
    "execution_start": 1655406661595,
    "execution_millis": 163,
    "deepnote_cell_type": "code",
    "deepnote_cell_height": 491,
    "deepnote_output_heights": [
     250
    ]
   },
   "source": "x0 = np.matrix([[1],[0],[0],[0]])\nn = 200 \nx  = x0\nx_all = np.matrix(np.zeros((4,n)))\nfor i in range(n):\n    x = x + B*x\n    x_all[:,i] = x[:,0]\nfor i in range(4):\n    plt.plot(x_all[i].T)",
   "execution_count": null,
   "outputs": [
    {
     "data": {
      "text/plain": "<Figure size 432x288 with 1 Axes>",
      "image/png": "[encoded data removed]"
     },
     "metadata": {
      "needs_background": "light",
      "image/png": {
       "width": 372,
       "height": 248
      }
     },
     "output_type": "display_data"
    }
   ]
  },
  {
   "cell_type": "markdown",
   "source": "&#9989;  **<font color=red>Finished? Great!</font>** Parts (2) and (3) should have given you (roughly) the same final state. Are these final states (nearly) eigenvectors of your matrices $A$ and $B$? Use Python to compute the eigenvalues and eigenvectors of these two matrices. What do you notice? You may want to compare with your results from Part (1).",
   "metadata": {
    "cell_id": "c8bb90d0e9c94e7a8842f96a371b683b",
    "tags": [],
    "owner_user_id": "1e619e60-c5fd-4818-8055-ed2448616607",
    "deepnote_cell_type": "markdown",
    "deepnote_cell_height": 97.1875
   }
  },
  {
   "cell_type": "code",
   "metadata": {
    "cell_id": "23d99114f40b4b4a86da6413a5d4c4fe",
    "tags": [],
    "deepnote_to_be_reexecuted": false,
    "source_hash": "68201ef3",
    "execution_start": 1655406788676,
    "execution_millis": 3,
    "deepnote_cell_type": "code",
    "deepnote_cell_height": 524.640625
   },
   "source": "\neig = np.linalg.eig(A)\neig_vals = eig[0]\neig_vecs = eig[1]\nfor i in range(len(eig_vals)):\n    print(eig_vals[i], \": \", eig_vecs[i])\n\nprint(\"\\n\\n\")\neig1 = np.linalg.eig(B)\neig_vals1 = eig1[0]\neig_vecs1 = eig1[1]\nfor i in range(len(eig_vals1)):\n    print(eig_vals1[i], \": \", eig_vecs1[i])",
   "execution_count": null,
   "outputs": [
    {
     "name": "stdout",
     "text": "1.0 :  [[ 0.          0.          0.65239417 -0.25009572]]\n1.0 :  [[0.         0.         0.24192648 0.84302984]]\n0.9648331477354788 :  [[ 1.          0.         -0.68793896 -0.45610317]]\n0.8151668522645211 :  [[ 0.          1.         -0.20638169 -0.13683095]]\n\n\n\n0.0 :  [[ 0.          0.          0.65239417 -0.25009572]]\n0.0 :  [[0.         0.         0.24192648 0.84302984]]\n-0.03516685226452118 :  [[ 1.          0.         -0.68793896 -0.45610317]]\n-0.18483314773547885 :  [[ 0.          1.         -0.20638169 -0.13683095]]\n",
     "output_type": "stream"
    }
   ]
  },
  {
   "cell_type": "markdown",
   "source": "Summarize your findings here:  The eigenvectors for A and B are both the same. However, the eigenvalues are difference for A and B. Furthermore, x1 and x2 have the same eigenvalues in matrix A (e.v=1) and the same eigenvalues in Matrix B (e.v.=0). These eigenvalues for matrix B that are equal to zero are technically not allowed. ",
   "metadata": {
    "cell_id": "f176b796e709438c80a2db39ee974a36",
    "tags": [],
    "deepnote_cell_type": "markdown",
    "deepnote_cell_height": 97.1875
   }
  },
  {
   "cell_type": "markdown",
   "source": "----\n\nWritten by Dr. Dirk Colbry, Michigan State University\n<a rel=\"license\" href=\"http://creativecommons.org/licenses/by-nc/4.0/\"><img alt=\"Creative Commons License\" style=\"border-width:0\" src=\"https://i.creativecommons.org/l/by-nc/4.0/88x31.png\" /></a><br />This work is licensed under a <a rel=\"license\" href=\"http://creativecommons.org/licenses/by-nc/4.0/\">Creative Commons Attribution-NonCommercial 4.0 International License</a>.",
   "metadata": {
    "cell_id": "00041-e3a9edc7-c643-4fdd-80cf-5ea837b4a445",
    "deepnote_cell_type": "markdown",
    "deepnote_cell_height": 169.1875
   }
  },
  {
   "cell_type": "markdown",
   "source": "----",
   "metadata": {
    "cell_id": "00042-eba74fc6-173b-4e56-9313-6a61f033154a",
    "deepnote_cell_type": "markdown",
    "deepnote_cell_height": 46
   }
  },
  {
   "cell_type": "markdown",
   "source": "<a style='text-decoration:none;line-height:16px;display:flex;color:#5B5B62;padding:10px;justify-content:end;' href='https://deepnote.com?utm_source=created-in-deepnote-cell&projectId=eddc04b2-32a0-43fc-87cf-17e6670be569' target=\"_blank\">\n<img alt='Created in deepnote.com' style='display:inline;max-height:16px;margin:0px;margin-right:7.5px;' src='data:image/svg+xml;base64,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' > </img>\nCreated in <span style='font-weight:600;margin-left:4px;'>Deepnote</span></a>",
   "metadata": {
    "tags": [],
    "created_in_deepnote_cell": true,
    "deepnote_cell_type": "markdown"
   }
  }
 ],
 "nbformat": 4,
 "nbformat_minor": 4,
 "metadata": {
  "deepnote": {},
  "deepnote_execution_queue": [],
  "deepnote_notebook_id": "33deae83-2776-4b06-a0d1-2ac7cce19f15",
  "kernelspec": {
   "display_name": "Python 3",
   "language": "python",
   "name": "python3"
  },
  "language_info": {
   "codemirror_mode": {
    "name": "ipython",
    "version": 3
   },
   "file_extension": ".py",
   "mimetype": "text/x-python",
   "name": "python",
   "nbconvert_exporter": "python",
   "pygments_lexer": "ipython3",
   "version": "3.8.8"
  }
 }
}