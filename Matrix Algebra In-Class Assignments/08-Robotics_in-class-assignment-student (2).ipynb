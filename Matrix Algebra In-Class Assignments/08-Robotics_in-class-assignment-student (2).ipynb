{
 "cells": [
  {
   "cell_type": "markdown",
   "source": "In order to successfully complete this assignment we recommend that you participate both individually and in groups during class. **Turn in your assignment using D2L no later than 11:59pm on the day of class.** Grading is based on correctness and completion.",
   "metadata": {
    "cell_id": "6ee29e08-ac19-4ff6-b80d-8210cc50a751",
    "deepnote_cell_type": "markdown",
    "deepnote_cell_height": 74.796875
   }
  },
  {
   "cell_type": "markdown",
   "source": "## Put the names of all group members present today below:",
   "metadata": {
    "cell_id": "00001-11e81608-6de4-41d2-9576-67e1e01dd588",
    "deepnote_cell_type": "markdown",
    "deepnote_cell_height": 70
   }
  },
  {
   "cell_type": "markdown",
   "source": "Jacob Miller, David Robbins, Haobo.Liu, Kaitlyn Watson, Christian Lulaj",
   "metadata": {
    "cell_id": "00002-68caec19-f5c0-4b05-915b-66e8cfdc5f28",
    "deepnote_cell_type": "markdown",
    "deepnote_cell_height": 52.390625
   }
  },
  {
   "cell_type": "markdown",
   "source": "---",
   "metadata": {
    "cell_id": "00003-13480ad6-5b10-4211-b8c6-e6996a059642",
    "deepnote_cell_type": "markdown",
    "deepnote_cell_height": 46
   }
  },
  {
   "cell_type": "markdown",
   "source": "# 08 In-Class Assignment: The Kinematics of Robotics\n\n<img src=\"https://cdn.pixabay.com/photo/2013/07/13/12/04/android-159109__340.png\" alt=\"Cartoon Robot\" width=20%>\n\nImage from: https://pixabay.com/images/search/toy%20robot/\n\nToday, we will calculate the forward kinematics of some 3D robots. This means we would like to come up with a set of transformations such that we can know the $x,~y,~z$ coordinates of the end effector with respect to the world coordinate system which is at the base of the robot.  ",
   "metadata": {
    "cell_id": "00004-3cae7264-b743-4ba3-a691-52ba7d8e593c",
    "deepnote_cell_type": "markdown",
    "deepnote_cell_height": 481.6875
   }
  },
  {
   "cell_type": "markdown",
   "source": "### Objectives\n\n1. Be able to construct various transformation matrices, including rotation matrices around a given coordinate axis, scaling, reflexion, shear matrices. \n1. Be able to express translation in terms of matrix multiplication (by increasing the vector dimension).\n1. Be able to express certain simple robotic motions as compositions of the above transformation matrices.\n",
   "metadata": {
    "cell_id": "00005-c1477fb2-fe9b-43aa-9050-0e4941c335a5",
    "deepnote_cell_type": "markdown",
    "deepnote_cell_height": 187.59375
   }
  },
  {
   "cell_type": "markdown",
   "source": "### Agenda for today's class (80 minutes)\n1. [(30 minutes)] Address HW1 questions/misconceptions, Quiz 1 reminders/brief review\n1. [(20 minutes) Review Pre-Class Assignment](#Review)\n1. [(30 minutes) Robot Kinematics - Pick and Place](#Pick_and_Place)\n1. [Odd_Clock](#Odd_Clock) - optional",
   "metadata": {
    "cell_id": "00006-61ae3655-a1cd-4fa4-8b7c-71cfeeb5e652",
    "deepnote_cell_type": "markdown",
    "deepnote_cell_height": 190.59375
   }
  },
  {
   "cell_type": "markdown",
   "source": "----\n<a name=\"Pick_and_Place\"></a>\n## 3. Robot Kinematics - Pick and Place \n\nConsider the robot depicted in the following image. \n\n<img alt=\"Picture of a pick-and-place robot (see text)\" src=\"http://cfnewsads.thomasnet.com/images/large/489/489457.jpg\" width=\"50%\">\n   \nThis style of robot is often called a \"pick-and-place\" robot. \nIt has two motors that rotate around the z-axis to move the end effector in the $(x,y)$-plane; one \"linear actuator\" which moves up-and-down in the $z$-direction; and then finally a third rotating \"wrist\" joint that turns the \"hand\" of the robot.\nLet's model our robot using the following system diagram:\n\n\n<img alt=\"System diagram of pick-and-place robot\" src=\"https://lh4.googleusercontent.com/z5P5JHOmmn3GzXulvHwtqKeLSeUILEHe_9yndHp33gZ1m2mqblR8nmHgNDDzHq3W38jJBdh-Tg=w740\" width=\"35%\">\n\n**NOTE:** The origin for this robot is located at the base of the first \"tower\" and is in-line with the first joint.  The $x$-direction goes from the origin to the right and the $z$-axis goes from the origin upwards. \n\nThis is a little more tricky than the 2D case where everything was rotating around the axis that projects out of the $(x,y)$ plane.  \nIn 2D we only really worry about one axis of rotation. \nHowever in 3D we can rotate around any line. \nThe following are the 3D transformation matrices that combine rotation around the x, y, or z axes with translations:\n\n\n\n## X-Axis rotation\n\n$$ \n\\left[ \\begin{matrix}\n    x' \\\\\n    y' \\\\\n    z' \\\\\n    1 \n \\end{matrix}\n\\right] \n=\n\\left[ \\begin{matrix}\n    1 & 0 & 0 & dx \\\\\n    0 & \\cos(q) & -\\sin(q)  & dy \\\\\n    0 & \\sin(q) & \\cos(q)  & dz \\\\\n    0 & 0 & 0 & 1\n \\end{matrix}\n\\right] \n\\left[ \\begin{matrix}\n    x \\\\\n    y \\\\\n    z \\\\\n    1 \n \\end{matrix}\n\\right] \n$$ \n\n\n\n## Y-Axis rotation\n\n$$ \n\\left[ \\begin{matrix}\n    x' \\\\\n    y' \\\\\n    z' \\\\\n    1 \n \\end{matrix}\n\\right] \n=\n\\left[ \\begin{matrix}\n    \\cos(q) & 0 & -\\sin(q) & dx \\\\\n    0 & 1 & 0 & dy \\\\\n    \\sin(q) & 0 & \\cos(q) & dz \\\\\n    0 & 0 & 0 & 1\n \\end{matrix}\n\\right] \n\\left[ \\begin{matrix}\n    x \\\\\n    y \\\\\n    z \\\\\n    1 \n \\end{matrix}\n\\right] \n$$ \n\n\n\n## Z-Axis rotation\n\n$$ \n\\left[ \\begin{matrix}\n    x' \\\\\n    y' \\\\\n    z' \\\\\n    1 \n \\end{matrix}\n\\right] \n=\n\\left[ \\begin{matrix}\n    \\cos(q) & -\\sin(q) & 0 & dx \\\\\n    \\sin(q) & \\cos(q) & 0 & dy \\\\\n    0 & 0 & 1 & dz \\\\\n    0 & 0 & 0 & 1\n \\end{matrix}\n\\right] \n\\left[ \\begin{matrix}\n    x \\\\\n    y \\\\\n    z \\\\\n    1 \n \\end{matrix}\n\\right] \n$$ ",
   "metadata": {
    "cell_id": "00007-f6862924-b0ac-4125-8eef-0f2c6f28524e",
    "deepnote_cell_type": "markdown",
    "deepnote_cell_height": 1544.5625
   }
  },
  {
   "cell_type": "markdown",
   "source": "### Rotation around an arbitrary axis in $\\mathbb R^3$\n\nIn fact, in $\\mathbb R^3$ we could rotate a body around an arbitrary line. Such a general rotation can we expressed as a composition of rotations and translations (product of matrices) we've already considered. See this link for details:\n\nhttp://paulbourke.net/geometry/rotate/#:~:text=Rotation%20of%20a%20point%20in%203%20dimensional%20space,the%20rotation%20axis%20passes%20through%20the%20origin%20",
   "metadata": {
    "cell_id": "00008-aa0d392f-8663-4ac3-9853-4f94620d3c51",
    "deepnote_cell_type": "markdown",
    "deepnote_cell_height": 186.03125
   }
  },
  {
   "cell_type": "markdown",
   "source": "**<font color=red>Question:</font>** Construct a joint transformation matrix called $J_1$, which represents a coordinate system that is located at the top of the first \"tower\" (robot's shoulder) and moves by rotating (counterclockwise) around the $z$-axis by $\\theta_1$ degrees. Represent your matrix using ```sympy``` and the provided symbols:",
   "metadata": {
    "cell_id": "00009-3aed541e-2a26-463c-b018-52f19f5a4da3",
    "deepnote_cell_type": "markdown",
    "deepnote_cell_height": 97.84375
   }
  },
  {
   "cell_type": "code",
   "metadata": {
    "cell_id": "00010-ebb88766-2025-4cc9-ba49-6733941727e7",
    "deepnote_to_be_reexecuted": false,
    "source_hash": "3452fd76",
    "execution_start": 1656274071534,
    "execution_millis": 1721,
    "deepnote_cell_type": "code",
    "deepnote_cell_height": 189
   },
   "source": "# Here are some libraries you may need to use\n%matplotlib inline\nimport matplotlib.pylab as plt\nimport numpy as np\nimport sympy as sym\nimport math\nsym.init_printing()",
   "execution_count": null,
   "outputs": []
  },
  {
   "cell_type": "code",
   "metadata": {
    "cell_id": "00011-f40cb474-f6e6-4a33-b239-7e8c2783638e",
    "deepnote_to_be_reexecuted": false,
    "source_hash": "35754ebd",
    "execution_start": 1656274073260,
    "execution_millis": 2,
    "deepnote_cell_type": "code",
    "deepnote_cell_height": 117
   },
   "source": "#Use the following symbols\n\nq1,q2,d4,q4,v1,v2,a1,a2 = sym.symbols('Theta_1, Theta_2, d_4, Theta_4, V_1, V_2,A_1,A_2', negative=False)",
   "execution_count": null,
   "outputs": []
  },
  {
   "cell_type": "code",
   "metadata": {
    "cell_id": "00012-23688ef2-1e8f-4328-b4a0-5ca561a8301f",
    "deepnote_to_be_reexecuted": false,
    "source_hash": "1d42afd7",
    "execution_start": 1656274073268,
    "execution_millis": 453,
    "deepnote_cell_type": "code",
    "deepnote_cell_height": 269.375,
    "deepnote_output_heights": [
     136.390625
    ]
   },
   "source": "#put your answer here (small hint: use sym.cos and sym.sin)\nJ_1 = sym.Matrix([[sym.cos(q1), -sym.sin(q1), 0, 0], [sym.sin(q1), sym.cos(q1), 0, 0], [0, 0, 1, v1], [0, 0, 0, 1]])\nJ_1",
   "execution_count": null,
   "outputs": [
    {
     "output_type": "execute_result",
     "execution_count": 3,
     "data": {
      "text/plain": "⎡cos(Θ₁)  -sin(Θ₁)  0  0 ⎤\n⎢                        ⎥\n⎢sin(Θ₁)  cos(Θ₁)   0  0 ⎥\n⎢                        ⎥\n⎢   0        0      1  V₁⎥\n⎢                        ⎥\n⎣   0        0      0  1 ⎦",
      "text/latex": "$\\displaystyle \\left[\\begin{matrix}\\cos{\\left(\\Theta_{1} \\right)} & - \\sin{\\left(\\Theta_{1} \\right)} & 0 & 0\\\\\\sin{\\left(\\Theta_{1} \\right)} & \\cos{\\left(\\Theta_{1} \\right)} & 0 & 0\\\\0 & 0 & 1 & V_{1}\\\\0 & 0 & 0 & 1\\end{matrix}\\right]$"
     },
     "metadata": {}
    }
   ]
  },
  {
   "cell_type": "markdown",
   "source": "**<font color=red>Question:</font>** Construct a joint transformation matrix called $J_2$, which represents a coordinate system that is located at the \"elbow\" joint between the two rotating arms and rotates with the second arm around the $z$-axis by $\\theta_2$ degrees. Represent your matrix using ```sympy``` and the symbols provided above:",
   "metadata": {
    "cell_id": "00013-a5fd7d69-f20b-4c13-b1e8-2f8629d08e44",
    "deepnote_cell_type": "markdown",
    "deepnote_cell_height": 97.84375
   }
  },
  {
   "cell_type": "code",
   "metadata": {
    "cell_id": "00014-d99c6112-0555-4562-ae5a-b85d6270c8f8",
    "deepnote_to_be_reexecuted": false,
    "source_hash": "376382ea",
    "execution_start": 1656274074049,
    "execution_millis": 12,
    "deepnote_cell_type": "code",
    "deepnote_cell_height": 251.375,
    "deepnote_output_heights": [
     136.390625
    ]
   },
   "source": "J_2 = sym.Matrix([[sym.cos(q2), -sym.sin(q2), 0, a1], [sym.sin(q2), sym.cos(q2), 0, 0], [0, 0, 1, v2], [0, 0, 0, 1]])\nJ_2",
   "execution_count": null,
   "outputs": [
    {
     "output_type": "execute_result",
     "execution_count": 4,
     "data": {
      "text/plain": "⎡cos(Θ₂)  -sin(Θ₂)  0  A₁⎤\n⎢                        ⎥\n⎢sin(Θ₂)  cos(Θ₂)   0  0 ⎥\n⎢                        ⎥\n⎢   0        0      1  V₂⎥\n⎢                        ⎥\n⎣   0        0      0  1 ⎦",
      "text/latex": "$\\displaystyle \\left[\\begin{matrix}\\cos{\\left(\\Theta_{2} \\right)} & - \\sin{\\left(\\Theta_{2} \\right)} & 0 & A_{1}\\\\\\sin{\\left(\\Theta_{2} \\right)} & \\cos{\\left(\\Theta_{2} \\right)} & 0 & 0\\\\0 & 0 & 1 & V_{2}\\\\0 & 0 & 0 & 1\\end{matrix}\\right]$"
     },
     "metadata": {}
    }
   ]
  },
  {
   "cell_type": "markdown",
   "source": "**<font color=red>Question:</font>** Construct a joint transformation matrix called $J_3$, which represents a coordinate translation from the \"elbow\" joint all the way to the horizontal end of the robot arm above the wrist joint.  Note: there is no rotation in this transformation.  Represent your matrix using ```sympy``` and the symbols provided above:",
   "metadata": {
    "cell_id": "00015-c413ff6d-fb92-4898-b7f3-86416e3c7421",
    "deepnote_cell_type": "markdown",
    "deepnote_cell_height": 97.515625
   }
  },
  {
   "cell_type": "code",
   "metadata": {
    "cell_id": "00016-948621b8-4b80-4dbd-bb25-a9ab0c7b0530",
    "deepnote_to_be_reexecuted": false,
    "source_hash": "f39ba830",
    "execution_start": 1656274074603,
    "execution_millis": 7,
    "deepnote_cell_type": "code",
    "deepnote_cell_height": 251.375,
    "deepnote_output_heights": [
     136.390625
    ]
   },
   "source": "J_3 = sym.Matrix([[1, 0, 0, a2], [0, 1, 0, 0], [0, 0, 1, 0], [0, 0, 0, 1]])\nJ_3",
   "execution_count": null,
   "outputs": [
    {
     "output_type": "execute_result",
     "execution_count": 5,
     "data": {
      "text/plain": "⎡1  0  0  A₂⎤\n⎢           ⎥\n⎢0  1  0  0 ⎥\n⎢           ⎥\n⎢0  0  1  0 ⎥\n⎢           ⎥\n⎣0  0  0  1 ⎦",
      "text/latex": "$\\displaystyle \\left[\\begin{matrix}1 & 0 & 0 & A_{2}\\\\0 & 1 & 0 & 0\\\\0 & 0 & 1 & 0\\\\0 & 0 & 0 & 1\\end{matrix}\\right]$"
     },
     "metadata": {}
    }
   ]
  },
  {
   "cell_type": "markdown",
   "source": "**<font color=red>Question:</font>** Construct a joint transformation matrix called $J_4$, which represents a coordinate system that is located at the tip of the robot's \"hand\" and rotates around the $z$-axis by $\\theta_4$. This one is a little different, the configuration is such that the hand touches the table when $d_4=0$ so the translation component for the matrix in the z axis is $d_4-V_1-V_2$. ",
   "metadata": {
    "cell_id": "00017-ca0b3869-f444-451d-926a-e317a53803ce",
    "deepnote_cell_type": "markdown",
    "deepnote_cell_height": 98.171875
   }
  },
  {
   "cell_type": "code",
   "metadata": {
    "cell_id": "00018-1297e1b9-d996-4389-9610-0e178e2f1b3f",
    "deepnote_to_be_reexecuted": false,
    "source_hash": "e94e0ecb",
    "execution_start": 1656274075869,
    "execution_millis": 16,
    "deepnote_cell_type": "code",
    "deepnote_cell_height": 251.375,
    "deepnote_output_heights": [
     136.390625
    ]
   },
   "source": "J_4 = sym.Matrix([[sym.cos(q4), -sym.sin(q4), 0, 0], [sym.sin(q4), sym.cos(q4), 0, 0], [0, 0, 1, d4 - v1 - v2], [0, 0, 0, 1]])\nJ_4",
   "execution_count": null,
   "outputs": [
    {
     "output_type": "execute_result",
     "execution_count": 6,
     "data": {
      "text/plain": "⎡cos(Θ₄)  -sin(Θ₄)  0        0      ⎤\n⎢                                   ⎥\n⎢sin(Θ₄)  cos(Θ₄)   0        0      ⎥\n⎢                                   ⎥\n⎢   0        0      1  -V₁ - V₂ + d₄⎥\n⎢                                   ⎥\n⎣   0        0      0        1      ⎦",
      "text/latex": "$\\displaystyle \\left[\\begin{matrix}\\cos{\\left(\\Theta_{4} \\right)} & - \\sin{\\left(\\Theta_{4} \\right)} & 0 & 0\\\\\\sin{\\left(\\Theta_{4} \\right)} & \\cos{\\left(\\Theta_{4} \\right)} & 0 & 0\\\\0 & 0 & 1 & - V_{1} - V_{2} + d_{4}\\\\0 & 0 & 0 & 1\\end{matrix}\\right]$"
     },
     "metadata": {}
    }
   ]
  },
  {
   "cell_type": "markdown",
   "source": "**<font color=red>Question:</font>** Rewrite the joint transformation matrices $J_1, J_2, J_3, J_4$ as numpy matrices with discrete (instead of symbolic) values.  Plug in your transformations in the code below and use this to simulate the robot:",
   "metadata": {
    "cell_id": "00019-8f9aaaf4-3485-4418-a8c5-bb2c60839afc",
    "deepnote_cell_type": "markdown",
    "deepnote_cell_height": 75.125
   }
  },
  {
   "cell_type": "code",
   "metadata": {
    "cell_id": "00020-409cb054-35b0-44a2-8068-46556c0b72bc",
    "deepnote_to_be_reexecuted": false,
    "source_hash": "130dbd01",
    "execution_start": 1656274087123,
    "execution_millis": 309,
    "owner_user_id": "192b1d1b-306b-4bdd-8c69-79e2eeb9d053",
    "deepnote_cell_type": "code",
    "deepnote_cell_height": 1457,
    "deepnote_output_heights": [
     244
    ]
   },
   "source": "from ipywidgets import interact\nfrom mpl_toolkits.mplot3d import Axes3D\n\ndef Robot_Simulator(theta1=0,theta2=0,d4=0,theta4=0):\n\n    #Convert from degrees to radians\n    q1 = theta1/180 * math.pi\n    q2 = theta2/180 * math.pi\n    q4 = theta4/180 * math.pi\n\n    #Define robot geomitry\n    V1 = 4 \n    V2 = 0\n    A1 = 2 \n    A2 = 2 \n\n    #Define your transfomraiton matrices here. \n    J1 = np.matrix([[np.cos(q1), -np.sin(q1), 0, 0 ], \n                    [np.sin(q1), np.cos(q1), 0, 0], \n                    [0, 0, 1, V1],\n                    [0, 0, 0, 1]])\n\n    J2 = np.matrix([[np.cos(q2), -np.sin(q2), 0, A1 ], \n                    [np.sin(q2), np.cos(q2), 0, 0 ], \n                    [0, 0, 1, V2],\n                    [0, 0, 0, 1]])\n\n    J3 = np.matrix([[1, 0, 0, A2 ], \n                    [0, 1, 0, 0 ], \n                    [0, 0, 1, 0],\n                    [0, 0, 0, 1]])\n\n    J4 = np.matrix([[np.cos(q4), -np.sin(q4), 0, 0], \n                    [np.sin(q4), np.cos(q4), 0, 0], \n                    [0, 0, 1, d4 - V1 - V2],\n                    [0, 0, 0, 1]])\n\n    \n    #Make the rigid end effector\n    p = np.matrix([[-0.5,0,0, 1], [-0.5,0,0.5,1], [0.5,0,0.5, 1], [0.5,0,0,1],[0.5,0,0.5, 1], [0,0,0.5,1], [0,0,V1+V2,1]]).T\n    \n    #Propogate and add joint points though the simulation\n    p = np.concatenate((J4*p, np.matrix([0,0,0,1]).T), axis=1 )\n    p = np.concatenate((J3*p, np.matrix([0,0,0,1]).T), axis=1 )\n    p = np.concatenate((J2*p, np.matrix([0,0,0,1]).T), axis=1 )\n    p = np.concatenate((J1*p, np.matrix([0,0,0,1]).T), axis=1 )\n        \n    fig = plt.figure()\n    ax = fig.add_subplot(111, projection='3d')\n\n    ax.scatter(p[0,:].tolist()[0],(p[1,:]).tolist()[0], (p[2,:]).tolist()[0], s=20, facecolors='blue', edgecolors='r')\n    ax.scatter(0,0,0, s=20, facecolors='r', edgecolors='r')\n    ax.plot(p[0,:].tolist()[0],(p[1,:]).tolist()[0], (p[2,:]).tolist()[0])\n    ax.set_xlim([-5,5])\n    ax.set_ylim([-5,5])\n    ax.set_zlim([0,6])\n    ax.set_xlabel('x-axis')\n    ax.set_ylabel('y-axis')    \n    ax.set_zlabel('z-axis') \n\n    plt.show()\n    \ntarget = interact(Robot_Simulator, theta1=(-180,180), theta2=(-180,180), d4=(0,6), theta4=(-180,180)); ##TODO: Modify this line of code",
   "execution_count": null,
   "outputs": [
    {
     "data": {
      "text/plain": "<Figure size 432x288 with 1 Axes>",
      "image/png": "[encoded data removed]"
     },
     "metadata": {
      "needs_background": "light",
      "image/png": {
       "width": 265,
       "height": 242
      }
     },
     "output_type": "display_data"
    }
   ]
  },
  {
   "cell_type": "markdown",
   "source": "&#9989; **<font color=red>Question:</font>** Can we change the order of the transformation matrices? Why? You can try and see what happens.\n\n\nNo, we cannot change the order of the matrices. As we have learned before, matrix multiplication is not communative and therefore order matters. When we try it, it messes everything up.",
   "metadata": {
    "cell_id": "00021-8ca4196f-95cf-423e-b450-3004adea3863",
    "deepnote_cell_type": "markdown",
    "deepnote_cell_height": 111.1875
   }
  },
  {
   "cell_type": "markdown",
   "source": "----\n<a name=\"Odd_Clock\"></a>\n## 4. Odd Clock - Optional\n\nThis part of the assignment is completely optional and will not be graded. You can complete it for fun, if you have time.\n\nConsider the clock depicted in the following image. \n\n<img alt=\"Picture of an 'odd clock' with the minute hand attached to the end of the hour hand\" src=\"https://hackaday.com/wp-content/uploads/2015/05/hihclock.jpg\" width=80%>\n\nfrom: [Hackaday](https://hackaday.com/2015/05/26/odd-clock-moves-minute-hand-to-hour-hand/)\n\n\nInstead of a standard clock--which has independent hour and minute hands--this clock connects the minute hand at the end of the hour hand. Here is a video showing the sped-up clock motion: ",
   "metadata": {
    "cell_id": "00023-21e288a9-a25c-427b-b200-7174f09fd8c2",
    "deepnote_cell_type": "markdown",
    "deepnote_cell_height": 576.6875
   }
  },
  {
   "cell_type": "code",
   "metadata": {
    "cell_id": "00024-35af0ca2-88cf-4f3b-beed-43be9dd89a9d",
    "deepnote_to_be_reexecuted": false,
    "source_hash": "23599d1b",
    "execution_start": 1654801117915,
    "execution_millis": 39,
    "deepnote_cell_type": "code",
    "deepnote_cell_height": 477,
    "deepnote_output_heights": [
     362
    ]
   },
   "source": "from IPython.display import YouTubeVideo\nYouTubeVideo(\"bowLiSlm_gA\",width=640,height=360, mute=1)",
   "execution_count": null,
   "outputs": [
    {
     "output_type": "execute_result",
     "execution_count": 64,
     "data": {
      "text/plain": "<IPython.lib.display.YouTubeVideo at 0x7f1dc7422550>",
      "text/html": "\n        <iframe\n            width=\"640\"\n            height=\"360\"\n            src=\"https://www.youtube.com/embed/bowLiSlm_gA?mute=1\"\n            frameborder=\"0\"\n            allowfullscreen\n            \n        ></iframe>\n        ",
      "image/jpeg": "[encoded data removed]"
     },
     "metadata": {}
    }
   ]
  },
  {
   "cell_type": "markdown",
   "source": "The following code is an animated traditional clock which uses the function as a trick to animate things in jupyter:",
   "metadata": {
    "cell_id": "00025-35d23400-2782-4be2-853e-64b0116529f9",
    "deepnote_cell_type": "markdown",
    "deepnote_cell_height": 52.390625
   }
  },
  {
   "cell_type": "code",
   "metadata": {
    "cell_id": "00026-8c4bd3d8-2bd9-42f8-99a8-3dfbda556766",
    "deepnote_to_be_reexecuted": false,
    "source_hash": "e3c80cdb",
    "execution_start": 1654801139874,
    "execution_millis": 1,
    "deepnote_cell_type": "code",
    "deepnote_cell_height": 243
   },
   "source": "%matplotlib inline\nimport matplotlib.pylab as plt\nfrom IPython.display import display, clear_output\nimport time\ndef show_animation(delay=0.01):\n    fig = plt.gcf();\n    time.sleep(delay)       # Sleep for half a second to slow down the animation\n    clear_output(wait=True) # Clear output for dynamic display\n    display(fig)            # Reset display\n    fig.clear()             # Prevent overlapping and layered plots",
   "execution_count": null,
   "outputs": []
  },
  {
   "cell_type": "markdown",
   "source": "Lets see a standard analog clock run at high speed",
   "metadata": {
    "cell_id": "00027-88fcc12b-46d4-4633-a90d-cd82bc4d442e",
    "deepnote_cell_type": "markdown",
    "deepnote_cell_height": 52.390625
   }
  },
  {
   "cell_type": "code",
   "metadata": {
    "cell_id": "00028-a108e2ce-4920-44bb-8fb6-b6d48b430d1e",
    "deepnote_to_be_reexecuted": false,
    "source_hash": "7db74e04",
    "execution_start": 1654801497179,
    "execution_millis": 0,
    "owner_user_id": "1e619e60-c5fd-4818-8055-ed2448616607",
    "deepnote_cell_type": "code",
    "deepnote_cell_height": 729
   },
   "source": "import numpy as np\n'''\nAnalog clock plotter with time input as seconds\n'''\ndef analog_clock(tm=0):\n\n    #Convert from time to radians\n    a_minutes = -tm/(60*60) * np.pi * 2\n    a_hours = -tm/(60*60*12) * np.pi * 2\n\n    #Define clock hand sizees\n    d_minutes = 4\n    d_hours = 3 \n    arrow_width=0.5\n    arrow_length=1\n\n    # Set up figure\n    fig = plt.gcf()\n    ax = fig.gca();\n    ax.set_xlim([-15,15]);\n    ax.set_ylim([-10,10]);\n    ax.scatter(0,0, s=15000, color=\"navy\"); #Background Circle\n    plt.axis('off');\n        \n    # Calculation Minute hand transformation matrix\n    J2 = np.matrix([[np.cos(a_minutes), -np.sin(a_minutes)], \n                    [np.sin(a_minutes), np.cos(a_minutes)]] )\n    pm = np.matrix([[0,d_minutes], [-arrow_width,d_minutes], [0,arrow_length+d_minutes], [arrow_width,d_minutes], [0,d_minutes]] ).T;\n    pm = np.concatenate((J2*pm, np.matrix([0,0]).T), axis=1 );\n    ax.plot(pm[0,:].tolist()[0],(pm[1,:]).tolist()[0], color='cyan', linewidth=2);\n\n    # Calculation Hour hand transformation matrix    \n    J1 = np.matrix([[np.cos(a_hours), -np.sin(a_hours)], \n                    [np.sin(a_hours), np.cos(a_hours)]] )\n    ph = np.matrix([[0,d_hours], [0,d_hours], [-arrow_width,d_hours], [0,arrow_length+d_hours], [arrow_width,d_hours], [0,d_hours]]).T;\n    ph = np.concatenate((J1*ph, np.matrix([0,0]).T), axis=1 );\n    ax.plot(ph[0,:].tolist()[0],(ph[1,:]).tolist()[0], color='yellow', linewidth=2);",
   "execution_count": null,
   "outputs": []
  },
  {
   "cell_type": "code",
   "metadata": {
    "cell_id": "00029-07f795d2-8630-40e2-8cc3-a74eb7c49a17",
    "deepnote_to_be_reexecuted": false,
    "source_hash": "a399d553",
    "execution_start": 1654801995347,
    "execution_millis": 14045,
    "deepnote_cell_type": "code",
    "deepnote_cell_height": 436.1875,
    "deepnote_output_heights": [
     233,
     21.1875
    ]
   },
   "source": "#Run the clock for about 5 hours at 100 times speed so we can see the hands move\nfor tm in range(0,60*60*5, 100):\n    analog_clock(tm);\n    show_animation();",
   "execution_count": null,
   "outputs": [
    {
     "data": {
      "text/plain": "<Figure size 432x288 with 1 Axes>",
      "image/png": "[encoded data removed]"
     },
     "metadata": {
      "image/png": {
       "width": 349,
       "height": 231
      }
     },
     "output_type": "display_data"
    },
    {
     "data": {
      "text/plain": "<Figure size 432x288 with 0 Axes>"
     },
     "metadata": {},
     "output_type": "display_data"
    }
   ]
  },
  {
   "cell_type": "markdown",
   "source": "For the following few questions, consider the transformation matrix $J_1$ redefined below with an angle of 5 hours out of 12. ",
   "metadata": {
    "cell_id": "00030-a7b31f9f-524e-4c67-a995-66df10c676c2",
    "deepnote_cell_type": "markdown",
    "deepnote_cell_height": 52.71875
   }
  },
  {
   "cell_type": "code",
   "metadata": {
    "cell_id": "00031-99ae944c-b67d-49f7-8748-e3ff7f0edd2a",
    "deepnote_to_be_reexecuted": false,
    "source_hash": "ee438290",
    "execution_start": 1654801158276,
    "execution_millis": 11,
    "owner_user_id": "a464456a-c3c6-450f-a8c1-17fcb565d65e",
    "deepnote_cell_type": "code",
    "deepnote_cell_height": 300.578125,
    "deepnote_output_heights": [
     59.59375
    ]
   },
   "source": "import sympy as sym\nimport numpy as np\nsym.init_printing(use_unicode=True)\n\na_hours = 5/12 * 2 * np.pi\nJ1 = np.matrix([[np.cos(a_hours), -np.sin(a_hours)], \n                [np.sin(a_hours), np.cos(a_hours)]] )\n\nsym.Matrix(J1)",
   "execution_count": null,
   "outputs": [
    {
     "output_type": "execute_result",
     "execution_count": 69,
     "data": {
      "text/plain": "⎡-0.866025403784439         -0.5       ⎤\n⎢                                      ⎥\n⎣       0.5          -0.866025403784439⎦",
      "text/latex": "$\\displaystyle \\left[\\begin{matrix}-0.866025403784439 & -0.5\\\\0.5 & -0.866025403784439\\end{matrix}\\right]$"
     },
     "metadata": {}
    }
   ]
  },
  {
   "cell_type": "markdown",
   "source": "&#9989; **<font color=red>Question:</font>**  Using code, show that the transpose of $J_1$ is also the inverse of $J_1$, then explain how the code demonstrates the answer. ",
   "metadata": {
    "cell_id": "00032-fe7f47f8-8abe-4b3d-89ae-5f31cfdfdcc9",
    "deepnote_cell_type": "markdown",
    "deepnote_cell_height": 75.125
   }
  },
  {
   "cell_type": "code",
   "metadata": {
    "cell_id": "00033-bd03fa7f-b3ea-42f8-b729-0880ec728924",
    "deepnote_to_be_reexecuted": false,
    "source_hash": "bfa9588d",
    "execution_start": 1654802077875,
    "execution_millis": 9,
    "deepnote_cell_type": "code",
    "deepnote_cell_height": 280
   },
   "source": "#Put your answer here\n\nI_1=J1*J1.T\nI_2=J1.T*J1\n\nprint(I_1)\nprint(I_2)",
   "execution_count": null,
   "outputs": [
    {
     "name": "stdout",
     "text": "[[1.00000000e+00 7.43708407e-18]\n [7.43708407e-18 1.00000000e+00]]\n[[ 1.00000000e+00 -7.43708407e-18]\n [-7.43708407e-18  1.00000000e+00]]\n",
     "output_type": "stream"
    }
   ]
  },
  {
   "cell_type": "markdown",
   "source": "We know that any matrix times it inverse should equal the identity matrix. The above .T function used on the J1 matrix transposes the matrix. When we multiply the J1 matrix by its transpose matrix we get the identity matrix back. We do this in a different order as well and get the identity matrix again. Therefore the transpose of J1 is also the inverse of J1",
   "metadata": {
    "cell_id": "5914c492bee34ba88c8eec0b1ccef062",
    "tags": [],
    "deepnote_cell_type": "markdown",
    "deepnote_cell_height": 97.1875
   }
  },
  {
   "cell_type": "markdown",
   "source": "&#9989; **<font color=red>Question:</font>**  Given the trigonometric identity $\\cos^2(\\theta) + \\sin^2(\\theta) = 1$, prove by construction--using either Python or $\\LaTeX$/```Markdown``` or ```sympy``` (if you are feeling adventurous)--that the transpose of the $J_1$ matrix is also the inverse for ANY angle ```a_hours``` $\\in [0, 2\\pi]$. *Note: You may want to work this out on paper with your group, and then type up the proof on your own after class.*",
   "metadata": {
    "cell_id": "00035-ee9e74fc-92a3-41fe-88a7-f96b65c7b8b7",
    "deepnote_cell_type": "markdown",
    "deepnote_cell_height": 120.5625
   }
  },
  {
   "cell_type": "markdown",
   "source": "**Put your proof here.**",
   "metadata": {
    "cell_id": "00036-deb25ec2-98c7-4697-b674-a8d60d54624e",
    "deepnote_cell_type": "markdown",
    "deepnote_cell_height": 52.390625
   }
  },
  {
   "cell_type": "markdown",
   "source": "Now consider the following code which attempts to connect the hands on the clock together to make the Odd Clock shown in the video above.",
   "metadata": {
    "cell_id": "00037-76065ab0-a642-4db6-b6fc-5437f913ab1a",
    "deepnote_cell_type": "markdown",
    "deepnote_cell_height": 74.796875
   }
  },
  {
   "cell_type": "code",
   "metadata": {
    "cell_id": "00038-67c6a189-fea2-4c29-aed1-787aac0b3505",
    "deepnote_to_be_reexecuted": false,
    "source_hash": "e3c80cdb",
    "execution_start": 1654801877715,
    "execution_millis": 0,
    "deepnote_cell_type": "code",
    "deepnote_cell_height": 243
   },
   "source": "%matplotlib inline\nimport matplotlib.pylab as plt\nfrom IPython.display import display, clear_output\nimport time\ndef show_animation(delay=0.01):\n    fig = plt.gcf();\n    time.sleep(delay)       # Sleep for half a second to slow down the animation\n    clear_output(wait=True) # Clear output for dynamic display\n    display(fig)            # Reset display\n    fig.clear()             # Prevent overlapping and layered plots",
   "execution_count": null,
   "outputs": []
  },
  {
   "cell_type": "code",
   "metadata": {
    "cell_id": "00039-f1d16d00-59c9-4770-a2fd-229455563f1d",
    "deepnote_to_be_reexecuted": false,
    "source_hash": "571cd533",
    "execution_start": 1654802937303,
    "execution_millis": 1,
    "deepnote_cell_type": "code",
    "deepnote_cell_height": 909
   },
   "source": "import numpy as np\n\ndef odd_clock(tm=0):\n\n    #Convert from time to radians\n    a_seconds = -tm/60 * np.pi * 2\n    a_minutes = -tm/(60*60) * np.pi * 2\n    a_hours = -tm/(60*60*12) * np.pi * 2\n\n    #Define robot geomitry\n    #d_seconds = 2.5  \n    d_minutes = 2\n    d_hours = 1.5 \n    arrow_width=0.5\n    arrow_length=1\n\n    # Set up figure\n    fig = plt.gcf()\n    ax = fig.gca();\n    ax.set_xlim([-15,15]);\n    ax.set_ylim([-10,10]);\n    plt.axis('off');\n    \n    #Define the arrow at the end of the last hand \n    #p = np.matrix([[0,d_minutes,1], [0,0,1]]).T\n    p = np.matrix([[0,d_minutes,1], [-arrow_width,d_minutes,1], [0,arrow_length+d_minutes,1], \n                   [arrow_width,d_minutes,1 ], [0,d_minutes,1 ], [0,0,1]] ).T;\n    \n    # Calculation Second hand transformation matrix     \n    J3 = np.matrix([[np.cos(a_seconds), -np.sin(a_seconds), 0 ], \n                    [np.sin(a_seconds), np.cos(a_seconds), d_minutes ], \n                    [0, 0, 1]])\n    p = np.concatenate((J3*p, np.matrix([0,0,1]).T), axis=1 )\n\n    J2 = np.matrix([[np.cos(a_minutes), -np.sin(a_minutes), 0 ], \n                    [np.sin(a_minutes), np.cos(a_minutes), d_hours ], \n                    [0, 0, 1]])\n    p = np.concatenate((J2*p, np.matrix([0,0,1]).T), axis=1 )\n    \n    J1 = np.matrix([[np.cos(a_hours), -np.sin(a_hours), 0 ], \n                    [np.sin(a_hours), np.cos(a_hours), 0 ], \n                    [0, 0, 1]])\n    p = np.concatenate((J1*p, np.matrix([0,0,1]).T), axis=1 )\n\n    ax.scatter(0,0, s=20, facecolors='r', edgecolors='r')\n    ax.plot(p[0,:].tolist()[0],(p[1,:]).tolist()[0])\n",
   "execution_count": null,
   "outputs": []
  },
  {
   "cell_type": "code",
   "metadata": {
    "cell_id": "00040-75f439f3-e362-413a-bdc2-b7f247ee2477",
    "deepnote_to_be_reexecuted": false,
    "source_hash": "7abc11f7",
    "execution_start": 1654803012689,
    "execution_millis": 15027,
    "deepnote_cell_type": "code",
    "deepnote_cell_height": 436.1875,
    "deepnote_output_heights": [
     233,
     21.1875
    ]
   },
   "source": "#Run the clock for about 5 hours at 100 times speed so we can see the hands move\nfor tm in range(0,60*60*5, 100):\n    odd_clock(tm);\n    show_animation();",
   "execution_count": null,
   "outputs": [
    {
     "data": {
      "text/plain": "<Figure size 432x288 with 1 Axes>",
      "image/png": "[encoded data removed]"
     },
     "metadata": {
      "image/png": {
       "width": 349,
       "height": 231
      }
     },
     "output_type": "display_data"
    },
    {
     "data": {
      "text/plain": "<Figure size 432x288 with 0 Axes>"
     },
     "metadata": {},
     "output_type": "display_data"
    }
   ]
  },
  {
   "cell_type": "markdown",
   "source": "&#9989; **<font color=red>Question:</font>** Using the given point ($p$) written in \"minutes\" coordinates (**on line 26 of the above code**) and the above transformation matrices ($J_1,J_2$), write down the equation to transform $p$ into world coordinates $p_w$.",
   "metadata": {
    "cell_id": "00041-b91530e4-e3b2-4a24-8929-8da25fb7e6e1",
    "owner_user_id": "1ad92508-5214-4899-9be6-2377c49dba3a",
    "deepnote_cell_type": "markdown",
    "deepnote_cell_height": 75.4375
   }
  },
  {
   "cell_type": "markdown",
   "source": "**Put the answer to the above question here.**\n\n$p_w = J_1 * J_2 * p_e$",
   "metadata": {
    "cell_id": "00042-c6121e73-0dab-4bb8-8366-1e2b69a7149a",
    "owner_user_id": "9a33963a-103d-4e24-ab8f-aa9f5856df44",
    "deepnote_cell_type": "markdown",
    "deepnote_cell_height": 89.125
   }
  },
  {
   "cell_type": "markdown",
   "source": "&#9989; **<font color=red>Question:</font>** Notice the above ```odd_clock``` function has variables ```d_seconds``` and ```a_seconds``` commented out.  Use these variables and modify the above code to add a \"seconds\" hand on the tip of the minute hand such that the seconds hand moves around the minute hand just like the minute hand moves around the hour hand. If you have trouble, use the following cell to explain your thought process and where you are getting stuck.",
   "metadata": {
    "cell_id": "00043-de836cc7-9d07-4795-8f6d-f2afe7507450",
    "deepnote_cell_type": "markdown",
    "deepnote_cell_height": 119.59375
   }
  },
  {
   "cell_type": "markdown",
   "source": "**Explain your thought process here, and if applicable, where you are getting stuck.**\n\nWe figured it just had to be a new matrix with transformation using the a_seconds variable, and then we translated it to be on the end of the minutes hand.",
   "metadata": {
    "cell_id": "00044-3728e790-69f7-4c91-9af6-f053796db46d",
    "deepnote_cell_type": "markdown",
    "deepnote_cell_height": 111.1875
   }
  },
  {
   "cell_type": "markdown",
   "source": "----\n\nWritten by Dr. Dirk Colbry, Michigan State University\n<a rel=\"license\" href=\"http://creativecommons.org/licenses/by-nc/4.0/\"><img alt=\"Creative Commons License\" style=\"border-width:0\" src=\"https://i.creativecommons.org/l/by-nc/4.0/88x31.png\" /></a><br />This work is licensed under a <a rel=\"license\" href=\"http://creativecommons.org/licenses/by-nc/4.0/\">Creative Commons Attribution-NonCommercial 4.0 International License</a>.",
   "metadata": {
    "cell_id": "00045-83fa484e-fb36-4b06-8341-30eb0e4200a3",
    "deepnote_cell_type": "markdown",
    "deepnote_cell_height": 138.1875
   }
  },
  {
   "cell_type": "markdown",
   "source": "-----\n### Congratulations, we're done!\n",
   "metadata": {
    "cell_id": "00046-0a2357dc-8683-4f30-bae0-ab2adeda6b00",
    "deepnote_cell_type": "markdown",
    "deepnote_cell_height": 63
   }
  },
  {
   "cell_type": "markdown",
   "source": "<a style='text-decoration:none;line-height:16px;display:flex;color:#5B5B62;padding:10px;justify-content:end;' href='https://deepnote.com?utm_source=created-in-deepnote-cell&projectId=eddc04b2-32a0-43fc-87cf-17e6670be569' target=\"_blank\">\n<img alt='Created in deepnote.com' style='display:inline;max-height:16px;margin:0px;margin-right:7.5px;' src='data:image/svg+xml;base64,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' > </img>\nCreated in <span style='font-weight:600;margin-left:4px;'>Deepnote</span></a>",
   "metadata": {
    "tags": [],
    "created_in_deepnote_cell": true,
    "deepnote_cell_type": "markdown"
   }
  }
 ],
 "nbformat": 4,
 "nbformat_minor": 4,
 "metadata": {
  "kernelspec": {
   "display_name": "Python 3",
   "language": "python",
   "name": "python3"
  },
  "language_info": {
   "codemirror_mode": {
    "name": "ipython",
    "version": 3
   },
   "file_extension": ".py",
   "mimetype": "text/x-python",
   "name": "python",
   "nbconvert_exporter": "python",
   "pygments_lexer": "ipython3",
   "version": "3.8.8"
  },
  "deepnote_notebook_id": "13dae200-9af4-4978-bb20-e8318f41be1b",
  "deepnote": {},
  "deepnote_execution_queue": []
 }
}