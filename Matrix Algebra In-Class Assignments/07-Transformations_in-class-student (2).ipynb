{
 "cells": [
  {
   "cell_type": "markdown",
   "source": "In order to successfully complete this assignment we recommend that you participate both individually and in groups during class. **Turn in your assignment using Deepnote no later than 11:59pm on the day of class.** Grading is based on attendance, correctness, and completion.",
   "metadata": {
    "cell_id": "949f71e1-aa31-4acd-ad01-c9982d497d7b",
    "deepnote_cell_type": "markdown",
    "deepnote_cell_height": 97.1875
   }
  },
  {
   "cell_type": "markdown",
   "source": "## Put the names of all group members present today below:",
   "metadata": {
    "formattedRanges": [],
    "cell_id": "1601ace70df9411c936ffe2162f43f2a",
    "tags": [],
    "is_collapsed": false,
    "owner_user_id": "b20a8d7c-2019-4fff-955a-28e798448d8b",
    "deepnote_cell_type": "text-cell-h2"
   }
  },
  {
   "cell_type": "markdown",
   "source": "Kaitlyn Watson, Jacob Miller, Christian Lulaj，Haobo.Liu, David Robbins",
   "metadata": {
    "cell_id": "588ebcb3a6634b29bcf991bdb5f79357",
    "tags": [],
    "deepnote_cell_type": "markdown",
    "deepnote_cell_height": 52.390625
   }
  },
  {
   "cell_type": "code",
   "metadata": {
    "cell_id": "dadefe4e00464e88a3cc88aa6ba57e04",
    "tags": [],
    "deepnote_to_be_reexecuted": false,
    "source_hash": "a362a992",
    "execution_start": 1656273037683,
    "execution_millis": 1,
    "deepnote_cell_type": "code",
    "deepnote_cell_height": 153
   },
   "source": "import os.path\nfrom urllib.request import urlretrieve\nif not os.path.isfile(\"answercheck.py\"):\n    urlretrieve('https://raw.githubusercontent.com/colbrydi/jupytercheck/master/answercheck.py', 'answercheck.py');\n",
   "execution_count": null,
   "outputs": []
  },
  {
   "cell_type": "markdown",
   "source": "# 07 In-Class Assignment: Transformations\n\n    ",
   "metadata": {
    "cell_id": "00001-ed3c7a95-f3f6-4352-b782-26324dbbb593",
    "deepnote_cell_type": "markdown",
    "deepnote_cell_height": 82
   }
  },
  {
   "cell_type": "code",
   "metadata": {
    "cell_id": "00002-2ae78ef2-76b6-4792-a345-bda7cb70158b",
    "deepnote_to_be_reexecuted": false,
    "source_hash": "9b4dd713",
    "execution_start": 1656273038833,
    "execution_millis": 1015,
    "deepnote_cell_type": "code",
    "deepnote_cell_height": 135
   },
   "source": "#Some python packages we will be using\nimport numpy as np\nimport sympy as sym\nimport math",
   "execution_count": null,
   "outputs": []
  },
  {
   "cell_type": "markdown",
   "source": "### Objectives\n \n1. Be able to calculate the inverse of an invertible matrix using Python and by hand, using Gauss-Jordan Elimination.\n1. Be able to use properties of an inverse of a matrix:\n -  $(A^{-1})^{-1} = A$\n -  $(cA)^{-1} = \\frac{1}{c}A^{-1}$\n -  $(AB)^{-1} = B^{-1}A^{-1}$\n -  $(A^n)^{-1} = (A^{-1})^n$\n -  $(A^\\top)^{-1} = (A^{-1})^\\top$  here $A^\\top$ is the tranpose of the matrix $A$.\n\n1. Be able to calculate the inverse of an invertible matrix by hand, using the Gauss-Jordan method and forming an augmented matrix by the identity matrix on the right.\n1. Be able to express the inverse of a matrix as a product of elementary matrices (obtained by the Gauss-Jordan method).\n1. Given a simple transformation matrix, be able to identify what geometric transformation this matrix corresponds to.\n1. Given a composition of simple geometric transformations in $\\mathbb R^2$ (scaling, shear, rotation), be able to construct the corresponding matrix.\n",
   "metadata": {
    "cell_id": "00003-a11abe6d-a0b6-4fd8-a006-48acd8de197c",
    "deepnote_cell_type": "markdown",
    "deepnote_cell_height": 436.8125
   }
  },
  {
   "cell_type": "markdown",
   "source": "----\n<a name=\"Review_of_Pre-Class_Assignment\"></a>\n## 1. Review of Pre-Class Assignment\n\n* View multiplication by $A$ as a function from $\\mathbb R^n$ into $\\mathbb R^n$ and $A^{-1}$ (if it exists) as its inverse function.\n* When might $A^{-1}$ not exist for a given square matrix?\n    * row picture and a row that is a linear combination of the rest (what does this mean about the corresponding linear equations, depending on the right hand side?)\n    * column picture and a column that is a linear combination of the rest (what does this mean about being able to represent a given vector b as a linear combination of the columns?)\n* Calculating $A^{-1}$ by Gauss-Jordan Elimination using Augmented Matrix $[A \\mid I] = [A \\mid e_1 \\, e_2 \\, e_3]$ (if working in $\\mathbb R^3$)\n    * Provide an example  how we transform this to $[I \\mid A^{-1}]$ and explain how then $A^{-1}$ is the product of elementary matrices.",
   "metadata": {
    "cell_id": "00004-71290317-434c-4fdb-912b-e911007c6f40",
    "deepnote_cell_type": "markdown",
    "deepnote_cell_height": 321.5
   }
  },
  {
   "cell_type": "markdown",
   "source": "----\n<a name=\"Inverse-Matrices\"></a>\n## 2. Calculating an Inverse Matrix\n \n\n&#9989; **<font color=red>DO THIS:</font>** Consider the matrix $A$ given by\n\n$$\nA=\\left[\n\\begin{array}{rrr}\n2 & -1 & 0\\\\\n-1 & 2 & -1\\\\\n0 & -1 & 2\n\\end{array}\n\\right].\n$$\n\nUse the Gauss-Jordan Method to find $A^{-1}$ by converting $[A \\mid I]$ to $[I \\mid A^{-1}]$. A posible first step is\n\n$\n\\left[\n\\begin{array}{rrr|rrr}\n2 & -1 & 0& 1 & 0 &0 \\\\\n-1 & 2 & -1 & 0 & 1 &0 \\\\\n0 & -1 & 2 & 0 & 0 &1 \n\\end{array}\n\\right]\n$\n$\\frac{1}{2} \\mathcal{R}_1 + \\mathcal{R}_2 \\rightarrow \\mathcal{R}_2 $ \n$\n\\left[\n\\begin{array}{rrr|rrr}\n2 & -1 & 0& 1 & 0 &0 \\\\\n0 & \\frac{3}{2} & -1 & \\frac{1}{2} & 1 &0 \\\\\n0 & -1 & 2 & 0 & 0 &1 \n\\end{array}\n\\right]\n$\n\nComplete the rest of the steps to find $A^{-1}$ by hand. Show your work using LaTex (you may find it usefull to cut and paste the LaTex code from this cell making appropriate adjustments).",
   "metadata": {
    "cell_id": "00005-35455adb-2bf4-4979-a2ef-30078a1da495",
    "deepnote_cell_type": "markdown",
    "deepnote_cell_height": 369.609375
   }
  },
  {
   "cell_type": "markdown",
   "source": "\n$\n\\left[\n\\begin{array}{rrr|rrr}\n2 & -1 & 0& 1 & 0 &0 \\\\\n0 & \\frac{3}{2} & -1 & \\frac{1}{2} & 1 &0 \\\\\n0 & -1 & 2 & 0 & 0 &1 \n\\end{array}\n\\right]\n$\n$\\frac{1}{2} \\mathcal{R}_1 \\rightarrow \\mathcal{R}_1 $ \n$\n\\left[\n\\begin{array}{rrr|rrr}\n1 & -\\frac{1}{2} & 0 & \\frac{1}{2} & 0 &0 \\\\\n0 & \\frac{3}{2} & -1 & \\frac{1}{2} & 1 &0 \\\\\n0 & -1 & 2 & 0 & 0 &1 \n\\end{array}\n\\right]\n$\n\n$\n\\left[\n\\begin{array}{rrr|rrr}\n1 & -\\frac{1}{2} & 0 & \\frac{1}{2} & 0 &0 \\\\\n0 & \\frac{3}{2} & -1 & \\frac{1}{2} & 1 &0 \\\\\n0 & -1 & 2 & 0 & 0 &1 \n\\end{array}\n\\right]\n$\n$\\frac{2}{3} \\mathcal{R}_2 \\rightarrow \\mathcal{R}_2 $ \n$\n\\left[\n\\begin{array}{rrr|rrr}\n1 & -\\frac{1}{2} & 0 & \\frac{1}{2} & 0 &0 \\\\\n0 & 1 & -\\frac{2}{3} & \\frac{1}{3} & \\frac{2}{3} &0 \\\\\n0 & -1 & 2 & 0 & 0 &1 \n\\end{array}\n\\right]\n$\n\n$\n\\left[\n\\begin{array}{rrr|rrr}\n1 & -\\frac{1}{2} & 0 & \\frac{1}{2} & 0 &0 \\\\\n0 & 1 & -\\frac{2}{3} & \\frac{1}{3} & \\frac{2}{3} &0 \\\\\n0 & -1 & 2 & 0 & 0 &1 \n\\end{array}\n\\right]\n$\n$\\mathcal{R}_2 + \\mathcal{R}_3 \\rightarrow \\mathcal{R}_3 $ \n$\n\\left[\n\\begin{array}{rrr|rrr}\n1 & -\\frac{1}{2} & 0 & \\frac{1}{2} & 0 &0 \\\\\n0 & 1 & -\\frac{2}{3} & \\frac{1}{3} & \\frac{2}{3} &0 \\\\\n0 & 0 & \\frac{4}{3} & \\frac{1}{3} & \\frac{2}{3} &1 \n\\end{array}\n\\right]\n$\n\n$\n\\left[\n\\begin{array}{rrr|rrr}\n1 & -\\frac{1}{2} & 0 & \\frac{1}{2} & 0 &0 \\\\\n0 & 1 & -\\frac{2}{3} & \\frac{1}{3} & \\frac{2}{3} &0 \\\\\n0 & 0 & \\frac{4}{3} & \\frac{1}{3} & \\frac{2}{3} &1 \n\\end{array}\n\\right]\n$\n$ \\frac{1}{2} \\mathcal{R}_2 + \\mathcal{R}_1 \\rightarrow \\mathcal{R}_1 $ \n$\n\\left[\n\\begin{array}{rrr|rrr}\n1 & 0 & -\\frac{1}{3} & \\frac{2}{3} & \\frac{1}{3} &0 \\\\\n0 & 1 & -\\frac{2}{3} & \\frac{1}{3} & \\frac{2}{3} &0 \\\\\n0 & 0 & \\frac{4}{3} & \\frac{1}{3} & \\frac{2}{3} &1 \n\\end{array}\n\\right]\n$\n\n$\n\\left[\n\\begin{array}{rrr|rrr}\n1 & 0 & -\\frac{1}{3} & \\frac{2}{3} & \\frac{1}{3} &0 \\\\\n0 & 1 & -\\frac{2}{3} & \\frac{1}{3} & \\frac{2}{3} &0 \\\\\n0 & 0 & \\frac{4}{3} & \\frac{1}{3} & \\frac{2}{3} &1 \n\\end{array}\n\\right]\n$\n$ \\frac{3}{4} \\mathcal{R}_3 \\rightarrow \\mathcal{R}_3 $ \n$\n\\left[\n\\begin{array}{rrr|rrr}\n1 & 0 & -\\frac{1}{3} & \\frac{2}{3} & \\frac{1}{3} &0 \\\\\n0 & 1 & -\\frac{2}{3} & \\frac{1}{3} & \\frac{2}{3} &0 \\\\\n0 & 0 & 1 & \\frac{1}{4} & \\frac{1}{2} & \\frac{3}{4} \n\\end{array}\n\\right]\n$\n\n$\n\\left[\n\\begin{array}{rrr|rrr}\n1 & 0 & -\\frac{1}{3} & \\frac{2}{3} & \\frac{1}{3} &0 \\\\\n0 & 1 & -\\frac{2}{3} & \\frac{1}{3} & \\frac{2}{3} &0 \\\\\n0 & 0 & 1 & \\frac{1}{4} & \\frac{1}{2} & \\frac{3}{4} \n\\end{array}\n\\right]\n$\n$ \\frac{2}{3} \\mathcal{R}_3 + \\mathcal{R}_2 \\rightarrow \\mathcal{R}_2 $ \n$\n\\left[\n\\begin{array}{rrr|rrr}\n1 & 0 & -\\frac{1}{3} & \\frac{2}{3} & \\frac{1}{3} &0 \\\\\n0 & 1 & 0 & \\frac{1}{2} & 1 & \\frac{1}{2} \\\\\n0 & 0 & 1 & \\frac{1}{4} & \\frac{1}{2} & \\frac{3}{4} \n\\end{array}\n\\right]\n$\n\n$\n\\left[\n\\begin{array}{rrr|rrr}\n1 & 0 & -\\frac{1}{3} & \\frac{2}{3} & \\frac{1}{3} &0 \\\\\n0 & 1 & 0 & \\frac{1}{2} & 1 & \\frac{1}{2} \\\\\n0 & 0 & 1 & \\frac{1}{4} & \\frac{1}{2} & \\frac{3}{4} \n\\end{array}\n\\right]\n$\n$ \\frac{1}{3} \\mathcal{R}_3 + \\mathcal{R}_1 \\rightarrow \\mathcal{R}_1 $ \n$\n\\left[\n\\begin{array}{rrr|rrr}\n1 & 0 & 0 & \\frac{3}{4} & \\frac{1}{2} &\\frac{1}{4} \\\\\n0 & 1 & 0 & \\frac{1}{2} & 1 & \\frac{1}{2} \\\\\n0 & 0 & 1 & \\frac{1}{4} & \\frac{1}{2} & \\frac{3}{4} \n\\end{array}\n\\right]\n$",
   "metadata": {
    "cell_id": "00006-7c2d16d7-f4e6-49e3-be5f-0aeedd1036b2",
    "deepnote_cell_type": "markdown",
    "deepnote_cell_height": 542.484375
   }
  },
  {
   "cell_type": "markdown",
   "source": "Put your result in this cell for $A^{-1}$ when working by hand:\n$$\nA^{-1}=\\left[\n\\begin{array}{rrr}\n.75 & .5 & .25\\\\\n.5 & 1 & .5\\\\\n.25 & .5 & .75\n\\end{array}\n\\right].\n$$\n",
   "metadata": {
    "cell_id": "00007-11f7e307-8b7e-40eb-b9f0-67213d27e5cb",
    "deepnote_cell_type": "markdown",
    "deepnote_cell_height": 141.6875
   }
  },
  {
   "cell_type": "code",
   "metadata": {
    "cell_id": "84f516138d3f4e20b3ed19464ebcc22f",
    "tags": [],
    "deepnote_to_be_reexecuted": false,
    "source_hash": "9cc452cf",
    "execution_start": 1655688597773,
    "execution_millis": 6,
    "deepnote_cell_type": "code",
    "deepnote_cell_height": 210.578125,
    "deepnote_output_heights": [
     59.59375
    ]
   },
   "source": "A = np.matrix([[2, -1, 0], [-1, 2, -1], [0, -1, 2]])\n\nA_inv = np.linalg.inv(A) \nA_inv",
   "execution_count": null,
   "outputs": [
    {
     "output_type": "execute_result",
     "execution_count": 3,
     "data": {
      "text/plain": "matrix([[0.75, 0.5 , 0.25],\n        [0.5 , 1.  , 0.5 ],\n        [0.25, 0.5 , 0.75]])"
     },
     "metadata": {}
    }
   ]
  },
  {
   "cell_type": "code",
   "metadata": {
    "cell_id": "d33bc48977104bea976816dd7581c96a",
    "tags": [],
    "deepnote_to_be_reexecuted": false,
    "source_hash": "87f651a4",
    "execution_start": 1655688597782,
    "execution_millis": 7,
    "deepnote_cell_type": "code",
    "deepnote_cell_height": 156.578125,
    "deepnote_output_heights": [
     59.59375
    ]
   },
   "source": "A*A_inv",
   "execution_count": null,
   "outputs": [
    {
     "output_type": "execute_result",
     "execution_count": 4,
     "data": {
      "text/plain": "matrix([[ 1.00000000e+00,  0.00000000e+00,  0.00000000e+00],\n        [ 5.55111512e-17,  1.00000000e+00, -1.11022302e-16],\n        [-1.11022302e-16, -2.22044605e-16,  1.00000000e+00]])"
     },
     "metadata": {}
    }
   ]
  },
  {
   "cell_type": "code",
   "metadata": {
    "cell_id": "c3badd6da116430b97f94bdb72783abf",
    "tags": [],
    "deepnote_to_be_reexecuted": false,
    "source_hash": "ddecdc05",
    "execution_start": 1655688597793,
    "execution_millis": 5,
    "deepnote_cell_type": "code",
    "deepnote_cell_height": 118.1875,
    "deepnote_output_heights": [
     21.1875
    ]
   },
   "source": "np.allclose(A*A_inv, [[1,0,0],[0,1,0],[0,0,1]])",
   "execution_count": null,
   "outputs": [
    {
     "output_type": "execute_result",
     "execution_count": 5,
     "data": {
      "text/plain": "True"
     },
     "metadata": {}
    }
   ]
  },
  {
   "cell_type": "markdown",
   "source": "## 3. Orthogonal vectors\n",
   "metadata": {
    "cell_id": "00009-4662f24b-b9f7-4703-845c-87e2c2d152b8",
    "deepnote_cell_type": "markdown",
    "deepnote_cell_height": 70
   }
  },
  {
   "cell_type": "markdown",
   "source": "&#9989; **<font color=red>DO THIS:</font>** Create or copy from previous assignments functions that take in lists or lists of lists that proform the following operations: vector addition, vector scaling, and dot product. Use these functions to create a function `vec_proj` that takes in two vectors as lists and projects the first vector onto the second.",
   "metadata": {
    "cell_id": "00010-2485a510-b510-4302-8b7d-4f3442caad07",
    "deepnote_cell_type": "markdown",
    "deepnote_cell_height": 97.1875
   }
  },
  {
   "cell_type": "code",
   "metadata": {
    "cell_id": "00011-ca035b10-2b97-4cb4-8b10-626f017a42e7",
    "deepnote_to_be_reexecuted": false,
    "source_hash": "b820577e",
    "execution_start": 1655688597799,
    "execution_millis": 46,
    "deepnote_cell_type": "code",
    "deepnote_cell_height": 711
   },
   "source": "def add_vectors(arr1, arr2):\n    result = []\n    if len(arr1) != len(arr2):\n        raise Exception(\"Vectors are different lengths\")\n    for i in range(len(arr1)):\n        result.append(arr1[i] + arr2[i])\n    return result\n\ndef scalar_multiply(arr, num):\n    for x in range(len(arr)):\n        arr[x] *= num\n    return arr\n\ndef dot_product(arr1, arr2):\n    if isinstance(arr1, int) or isinstance(arr2, int):\n        return 'This is scalar multiplication not a dot product'\n    elif len(arr1) != len(arr2):\n        return 'The lengths of the vectors do not match'\n    else:\n        return sum([i * j for (i, j) in zip(arr1, arr2)])\n\ndef vec_norm(a):\n    n = math.sqrt(dot_product(a, a))\n    return n\n\ndef one_vec(a):\n    norm = 1 / vec_norm(a)\n    for x in range(len(a)):\n        a[x] = a[x] * norm\n    return a\n\ndef vec_proj(arr1, arr2):\n    projection = (dot_product(arr1, arr2) / dot_product(arr2, arr2))\n    for x in range(len(arr2)):\n        arr2[x] = arr2[x] * projection\n    return arr2",
   "execution_count": null,
   "outputs": []
  },
  {
   "cell_type": "code",
   "metadata": {
    "cell_id": "00012-3a0d0faf-b639-4dae-ad71-e2db5f457da7",
    "deepnote_to_be_reexecuted": false,
    "source_hash": "9729f7c9",
    "execution_start": 1655688597853,
    "execution_millis": 14,
    "deepnote_cell_type": "code",
    "deepnote_cell_height": 166
   },
   "source": "#Test your function here.\nu = [1,2,0,3]\nv = [4,0,5,8]\nprint(vec_proj(v,u))",
   "execution_count": null,
   "outputs": [
    {
     "name": "stdout",
     "text": "[2.0, 4.0, 0.0, 6.0]\n",
     "output_type": "stream"
    }
   ]
  },
  {
   "cell_type": "code",
   "metadata": {
    "cell_id": "00013-39c2e202-bab1-4de8-a623-f4f310e5e579",
    "deepnote_to_be_reexecuted": false,
    "source_hash": "fa8dbe9f",
    "execution_start": 1655688597863,
    "execution_millis": 42,
    "deepnote_cell_type": "code",
    "deepnote_cell_height": 348
   },
   "source": "from answercheck import checkanswer\n\ncheckanswer.vector(vec_proj(v,u),'b400dee73da5b8fa07602efd89f20ac1');",
   "execution_count": null,
   "outputs": [
    {
     "name": "stdout",
     "text": "\nCheckWarning: passed variable is <class 'list'> and not a numpy.matrix.\n    Trying to convert to a array matrix using ```A = np.matrix(A)```.\n\n\nCheckWarning: Vector contains negative values for zero...\n    Converting to positive values of zero using  ```A[A==-0] = 0```.\n\nTesting [[2. 4. 0. 6.]]\nAnswer seems to be correct\n\n",
     "output_type": "stream"
    }
   ]
  },
  {
   "cell_type": "markdown",
   "source": "&#9989; **<font color=red>DO THIS:</font>** Use the previous functions to create a function `ortho_vec` that takes in two vectors as lists and returns a vector that is orthogonal to the first. ",
   "metadata": {
    "cell_id": "00014-197908d1-9dc1-425a-bddf-a1cafd259ee9",
    "deepnote_cell_type": "markdown",
    "deepnote_cell_height": 74.796875
   }
  },
  {
   "cell_type": "code",
   "metadata": {
    "cell_id": "95218d69731f4660a5f15714d4a3e94e",
    "tags": [],
    "deepnote_to_be_reexecuted": false,
    "source_hash": "fea27dba",
    "execution_start": 1656271601543,
    "execution_millis": 0,
    "deepnote_cell_type": "code",
    "deepnote_cell_height": 207
   },
   "source": "def ortho_vec(arr1, arr2):\n    u = arr1\n    v = arr2\n    proj = vec_proj(v, u)\n    result = []\n    for i in range(len(v)):\n        result.append(v[i] - proj[i])\n    return result",
   "execution_count": null,
   "outputs": []
  },
  {
   "cell_type": "markdown",
   "source": "&#9989; **<font color=red>DO THIS:</font>** Use your dot product function to test your ortho_vec function.",
   "metadata": {
    "cell_id": "00016-d83e83ed-eda1-4cd5-a7e6-4ec4fbc50615",
    "deepnote_cell_type": "markdown",
    "deepnote_cell_height": 52.390625
   }
  },
  {
   "cell_type": "code",
   "metadata": {
    "cell_id": "d19b8c8f975643c3b3e85a15c63316cf",
    "tags": [],
    "deepnote_to_be_reexecuted": false,
    "source_hash": "1eb1e345",
    "execution_start": 1655688597904,
    "execution_millis": 2,
    "deepnote_cell_type": "code",
    "deepnote_cell_height": 136.1875,
    "deepnote_output_heights": [
     21.1875
    ]
   },
   "source": "d = dot_product(u, ortho_vec(u, v))\nd == 0",
   "execution_count": null,
   "outputs": [
    {
     "output_type": "execute_result",
     "execution_count": 10,
     "data": {
      "text/plain": "True"
     },
     "metadata": {}
    }
   ]
  },
  {
   "cell_type": "markdown",
   "source": "----\n<a name=\"Affine_Transforms\"></a>\n## 4. Affine Transforms\n\nIn this section, we are going to explore different types of transformation matrices. \nThe following code is designed to demonstrate the properties of some different transformation matrices.  \n\n&#9989; **<font color=red>DO THIS:</font>** Review the following code.  ",
   "metadata": {
    "cell_id": "00018-0ba16971-be91-4f29-b715-9e90964c402c",
    "deepnote_cell_type": "markdown",
    "deepnote_cell_height": 182.1875
   }
  },
  {
   "cell_type": "code",
   "metadata": {
    "cell_id": "00019-c408d3dd-d09d-4fa7-9317-7a63c126dc10",
    "deepnote_to_be_reexecuted": false,
    "source_hash": "95057ccd",
    "execution_start": 1656273055869,
    "execution_millis": 979,
    "deepnote_cell_type": "code",
    "deepnote_cell_height": 207
   },
   "source": "#Some python packages we will be using\n%matplotlib inline\nimport numpy as np\nimport matplotlib.pyplot as plt\nfrom mpl_toolkits.mplot3d import Axes3D # Lets make 3D plots\nimport numpy as np\nimport sympy as sym\nsym.init_printing(use_unicode=True) # Trick to make matrixes look nice in jupyter",
   "execution_count": null,
   "outputs": []
  },
  {
   "cell_type": "code",
   "metadata": {
    "cell_id": "00020-5701eb7a-1837-49c6-9673-f841f408f6c2",
    "deepnote_to_be_reexecuted": false,
    "source_hash": "6b32ca67",
    "execution_start": 1656273057549,
    "execution_millis": 992,
    "deepnote_cell_type": "code",
    "deepnote_cell_height": 597,
    "deepnote_output_heights": [
     266
    ]
   },
   "source": "# Define some points\nx = [0.0,  0.0,  2.0,  8.0, 10.0, 10.0, 8.0, 4.0, 3.0, 3.0, 4.0, 6.0, 7.0, 7.0, 10.0, \n     10.0,  8.0,  2.0, 0.0, 0.0, 2.0, 6.0, 7.0,  7.0,  6.0,  4.0,  3.0, 3.0, 0.0]\ny = [0.0, -2.0, -4.0, -4.0, -2.0,  2.0, 4.0, 4.0, 5.0, 7.0, 8.0, 8.0, 7.0, 6.0,  6.0,\n     8.0, 10.0, 10.0, 8.0, 4.0, 2.0, 2.0, 1.0, -1.0, -2.0, -2.0, -1.0, 0.0, 0.0]\ncon = [ 1.0 for i in range(len(x))] \np = np.matrix([x,y,con])\nmp = p.copy()\n\n#Plot Points\nplt.plot(mp[0,:].tolist()[0],mp[1,:].tolist()[0], color='green');\nplt.axis('scaled');\nplt.axis([-10,20,-15,15]);\nplt.title('Start Location');",
   "execution_count": null,
   "outputs": [
    {
     "data": {
      "text/plain": "<Figure size 432x288 with 1 Axes>",
      "image/png": "[encoded data removed]"
     },
     "metadata": {
      "needs_background": "light",
      "image/png": {
       "width": 266,
       "height": 264
      }
     },
     "output_type": "display_data"
    }
   ]
  },
  {
   "cell_type": "markdown",
   "source": "### Example Scaling Matrix",
   "metadata": {
    "cell_id": "00021-dab9f1f0-c5d7-4587-8dd9-bf4898f93676",
    "deepnote_cell_type": "markdown",
    "deepnote_cell_height": 62
   }
  },
  {
   "cell_type": "code",
   "metadata": {
    "cell_id": "00022-baaf1ea4-a701-4f71-b8da-04ffbf9d5185",
    "deepnote_to_be_reexecuted": false,
    "source_hash": "b09f5f77",
    "execution_start": 1656273059292,
    "execution_millis": 518,
    "deepnote_cell_type": "code",
    "deepnote_cell_height": 834,
    "deepnote_output_heights": [
     98,
     266
    ]
   },
   "source": "#Example Scaling Matrix\n\n#Define Matrix\nscale = 0.5  #The amount that coordinates are scaled.\nS = np.matrix([[scale,0,0], [0,scale,0], [0,0,1]])\n\n#Apply matrix\nmp = p.copy()\nmp = S*mp\n\n#Plot points after transform\nplt.plot(mp[0,:].tolist()[0],mp[1,:].tolist()[0], color='green')\nplt.axis('scaled')\nplt.axis([-10,20,-15,15])\nplt.title('After Scaling')\n\n#Uncomment the next line if you want to see the original.\n# plt.plot(p[0,:].tolist()[0],p[1,:].tolist()[0], color='blue',alpha=0.3);\n\nsym.Matrix(S)",
   "execution_count": null,
   "outputs": [
    {
     "output_type": "execute_result",
     "execution_count": 8,
     "data": {
      "text/plain": "⎡0.5   0    0 ⎤\n⎢             ⎥\n⎢ 0   0.5   0 ⎥\n⎢             ⎥\n⎣ 0    0   1.0⎦",
      "text/latex": "$\\displaystyle \\left[\\begin{matrix}0.5 & 0 & 0\\\\0 & 0.5 & 0\\\\0 & 0 & 1.0\\end{matrix}\\right]$"
     },
     "metadata": {}
    },
    {
     "data": {
      "text/plain": "<Figure size 432x288 with 1 Axes>",
      "image/png": "[encoded data removed]"
     },
     "metadata": {
      "needs_background": "light",
      "image/png": {
       "width": 266,
       "height": 264
      }
     },
     "output_type": "display_data"
    }
   ]
  },
  {
   "cell_type": "markdown",
   "source": "### Example Translation Matrix",
   "metadata": {
    "cell_id": "00023-92683e72-ef7e-4c22-96aa-ebd979e2fcce",
    "deepnote_cell_type": "markdown",
    "deepnote_cell_height": 62
   }
  },
  {
   "cell_type": "code",
   "metadata": {
    "cell_id": "00024-bf7d4004-de1c-480a-8836-81a590dce84a",
    "deepnote_to_be_reexecuted": false,
    "source_hash": "927eec62",
    "execution_start": 1656273061665,
    "execution_millis": 270,
    "deepnote_cell_type": "code",
    "deepnote_cell_height": 852,
    "deepnote_output_heights": [
     98,
     266
    ]
   },
   "source": "#Example Translation Matrix\n\n#Define Matrix\ndx = 1  #The amount shifted in the x-direction\ndy = 1  #The amount shifted in the y-direction\nT = np.matrix([[1,0,dx], [0,1,dy], [0,0,1]])\n\n#Apply matrix\nmp = p.copy()\nmp = T*mp\n\n#Plot points after transform\nplt.plot(mp[0,:].tolist()[0],mp[1,:].tolist()[0], color='green')\nplt.axis('scaled')\nplt.axis([-10,20,-15,15])\nplt.title('After Translation')\n\n#Uncomment the next line if you want to see the original.\n# plt.plot(p[0,:].tolist()[0],p[1,:].tolist()[0], color='blue',alpha=0.3);\n\nsym.Matrix(T)",
   "execution_count": null,
   "outputs": [
    {
     "output_type": "execute_result",
     "execution_count": 9,
     "data": {
      "text/plain": "⎡1  0  1⎤\n⎢       ⎥\n⎢0  1  1⎥\n⎢       ⎥\n⎣0  0  1⎦",
      "text/latex": "$\\displaystyle \\left[\\begin{matrix}1 & 0 & 1\\\\0 & 1 & 1\\\\0 & 0 & 1\\end{matrix}\\right]$"
     },
     "metadata": {}
    },
    {
     "data": {
      "text/plain": "<Figure size 432x288 with 1 Axes>",
      "image/png": "[encoded data removed]"
     },
     "metadata": {
      "needs_background": "light",
      "image/png": {
       "width": 266,
       "height": 264
      }
     },
     "output_type": "display_data"
    }
   ]
  },
  {
   "cell_type": "markdown",
   "source": "### Example Reflection Matrix",
   "metadata": {
    "cell_id": "00025-e97c78b3-a829-4898-9c5f-c7b3252c496f",
    "deepnote_cell_type": "markdown",
    "deepnote_cell_height": 62
   }
  },
  {
   "cell_type": "code",
   "metadata": {
    "cell_id": "00026-09c15abe-95c4-4f7d-b9d5-574f0ad8df03",
    "deepnote_to_be_reexecuted": false,
    "source_hash": "2db10b6e",
    "execution_start": 1656273086883,
    "execution_millis": 210,
    "deepnote_cell_type": "code",
    "deepnote_cell_height": 786,
    "deepnote_output_heights": [
     98,
     254
    ]
   },
   "source": "#Example Reflection Matrix\n\n#Define Matrix\nRe = np.matrix([[1,0,0],[0,1,0],[0,0,1]]) ## Makes all y-values opposite so it reflects over the x-axis.\n\n#Apply matrix\nmp = p.copy()\nmp = Re*mp\n\n#Plot points after transform\nplt.plot(mp[0,:].tolist()[0],mp[1,:].tolist()[0], color='green')\nplt.axis('scaled')\nplt.axis([-10,20,-15,15])\n\n#Uncomment the next line if you want to see the original.\n# plt.plot(p[0,:].tolist()[0],p[1,:].tolist()[0], color='blue',alpha=0.3);\n\nsym.Matrix(Re)",
   "execution_count": null,
   "outputs": [
    {
     "output_type": "execute_result",
     "execution_count": 14,
     "data": {
      "text/plain": "⎡1  0  0⎤\n⎢       ⎥\n⎢0  1  0⎥\n⎢       ⎥\n⎣0  0  1⎦",
      "text/latex": "$\\displaystyle \\left[\\begin{matrix}1 & 0 & 0\\\\0 & 1 & 0\\\\0 & 0 & 1\\end{matrix}\\right]$"
     },
     "metadata": {}
    },
    {
     "data": {
      "text/plain": "<Figure size 432x288 with 1 Axes>",
      "image/png": "[encoded data removed]"
     },
     "metadata": {
      "needs_background": "light",
      "image/png": {
       "width": 266,
       "height": 252
      }
     },
     "output_type": "display_data"
    }
   ]
  },
  {
   "cell_type": "markdown",
   "source": "### Example Rotation Matrix",
   "metadata": {
    "cell_id": "00027-674b5414-9024-40af-894c-721fefb0d65a",
    "deepnote_cell_type": "markdown",
    "deepnote_cell_height": 62
   }
  },
  {
   "cell_type": "code",
   "metadata": {
    "cell_id": "00028-2fcb469a-e6cb-4376-af47-db612ab9eeb5",
    "deepnote_to_be_reexecuted": false,
    "source_hash": "bb30688e",
    "execution_start": 1656273088672,
    "execution_millis": 207,
    "deepnote_cell_type": "code",
    "deepnote_cell_height": 858,
    "deepnote_output_heights": [
     98,
     254
    ]
   },
   "source": "#Example Rotation Matrix\n\n#Define Matrix\ndegrees = 30\ntheta = degrees * np.pi / 180  ##Make sure to always convert from degrees to radians. \n\n# Rotates the points 30 degrees counterclockwise.\nR = np.matrix([[np.cos(theta),-np.sin(theta),0],[np.sin(theta), np.cos(theta),0],[0,0,1]]) \n\n#Apply matrix\nmp = p.copy()\nmp = R*mp\n\n#Plot points after transform\nplt.plot(mp[0,:].tolist()[0],mp[1,:].tolist()[0], color='green')\nplt.axis('scaled')\nplt.axis([-10,20,-15,15])\n\n#Uncomment the next line if you want to see the original.\n# plt.plot(p[0,:].tolist()[0],p[1,:].tolist()[0], color='blue',alpha=0.3);\n\nsym.Matrix(R)",
   "execution_count": null,
   "outputs": [
    {
     "output_type": "execute_result",
     "execution_count": 15,
     "data": {
      "text/plain": "⎡0.866025403784439        -0.5          0 ⎤\n⎢                                         ⎥\n⎢       0.5         0.866025403784439   0 ⎥\n⎢                                         ⎥\n⎣        0                  0          1.0⎦",
      "text/latex": "$\\displaystyle \\left[\\begin{matrix}0.866025403784439 & -0.5 & 0\\\\0.5 & 0.866025403784439 & 0\\\\0 & 0 & 1.0\\end{matrix}\\right]$"
     },
     "metadata": {}
    },
    {
     "data": {
      "text/plain": "<Figure size 432x288 with 1 Axes>",
      "image/png": "[encoded data removed]"
     },
     "metadata": {
      "needs_background": "light",
      "image/png": {
       "width": 266,
       "height": 252
      }
     },
     "output_type": "display_data"
    }
   ]
  },
  {
   "cell_type": "markdown",
   "source": "### Example Shear Matrix",
   "metadata": {
    "cell_id": "00029-577db4ac-be9a-4de4-a453-7c09f79d3433",
    "deepnote_cell_type": "markdown",
    "deepnote_cell_height": 62
   }
  },
  {
   "cell_type": "code",
   "metadata": {
    "cell_id": "00030-5c791f7f-29b0-4707-a777-a7c92e6059f1",
    "deepnote_to_be_reexecuted": false,
    "source_hash": "fd387989",
    "execution_start": 1656273203685,
    "execution_millis": 212,
    "deepnote_cell_type": "code",
    "deepnote_cell_height": 822,
    "deepnote_output_heights": [
     98,
     254
    ]
   },
   "source": "#Example Shear Matrix\n\n#Define Matrix\nshx=0.5 # shear in the x-direction\nshy=0.3 #shear in the y-direction\nSHx =   np.matrix([[1,shx,0], [0,1,0], [0,0,1]])\nSHy =   np.matrix([[1,0,0], [shy,1,0], [0,0,1]])\n#Apply shearing in the x-direction matrix\nmp = p.copy()\nmp = SHx*mp\n\n#Plot points after transform\nplt.plot(mp[0,:].tolist()[0],mp[1,:].tolist()[0], color='green')\nplt.axis('scaled')\nplt.axis([-10,20,-15,15])\n\n#Uncomment the next line if you want to see the original.\nplt.plot(p[0,:].tolist()[0],p[1,:].tolist()[0], color='blue',alpha=0.3);\n\nsym.Matrix(SHx)",
   "execution_count": null,
   "outputs": [
    {
     "output_type": "execute_result",
     "execution_count": 18,
     "data": {
      "text/plain": "⎡1.0  0.5   0 ⎤\n⎢             ⎥\n⎢ 0   1.0   0 ⎥\n⎢             ⎥\n⎣ 0    0   1.0⎦",
      "text/latex": "$\\displaystyle \\left[\\begin{matrix}1.0 & 0.5 & 0\\\\0 & 1.0 & 0\\\\0 & 0 & 1.0\\end{matrix}\\right]$"
     },
     "metadata": {}
    },
    {
     "data": {
      "text/plain": "<Figure size 432x288 with 1 Axes>",
      "image/png": "[encoded data removed]"
     },
     "metadata": {
      "needs_background": "light",
      "image/png": {
       "width": 266,
       "height": 252
      }
     },
     "output_type": "display_data"
    }
   ]
  },
  {
   "cell_type": "code",
   "metadata": {
    "cell_id": "00031-d962fc46-7966-468f-bc5b-bc72d9002c1b",
    "deepnote_to_be_reexecuted": false,
    "source_hash": "fd318781",
    "execution_start": 1655688600285,
    "execution_millis": 225,
    "owner_user_id": "192b1d1b-306b-4bdd-8c69-79e2eeb9d053",
    "deepnote_cell_type": "code",
    "deepnote_cell_height": 852,
    "deepnote_output_heights": [
     98,
     266
    ]
   },
   "source": "#Example Shear Matrix\n\n#Define Matrix\nshy=0.3 #shear in the y-direction\nSHy =   np.matrix([[1,0,0], [shy,1,0], [0,0,1]])\n\n#Apply matrix\nmp = p.copy()\n\nmp = SHy*mp\n\n#Plot points after transform\nplt.plot(mp[0,:].tolist()[0],mp[1,:].tolist()[0], color='green')\nplt.axis('scaled')\nplt.axis([-10,20,-15,15])\nplt.title('After Shear along y-axis')\n\n#Uncomment the next line if you want to see the original.\n# plt.plot(p[0,:].tolist()[0],p[1,:].tolist()[0], color='blue',alpha=0.3);\n\nsym.Matrix(SHy)",
   "execution_count": null,
   "outputs": [
    {
     "output_type": "execute_result",
     "execution_count": 18,
     "data": {
      "text/plain": "⎡1.0   0    0 ⎤\n⎢             ⎥\n⎢0.3  1.0   0 ⎥\n⎢             ⎥\n⎣ 0    0   1.0⎦",
      "text/latex": "$\\displaystyle \\left[\\begin{matrix}1.0 & 0 & 0\\\\0.3 & 1.0 & 0\\\\0 & 0 & 1.0\\end{matrix}\\right]$"
     },
     "metadata": {}
    },
    {
     "data": {
      "text/plain": "<Figure size 432x288 with 1 Axes>",
      "image/png": "[encoded data removed]"
     },
     "metadata": {
      "needs_background": "light",
      "image/png": {
       "width": 266,
       "height": 264
      }
     },
     "output_type": "display_data"
    }
   ]
  },
  {
   "cell_type": "markdown",
   "source": "&#9989; **<font color=red>DO THIS:</font>** Experiment with different values of ``shx`` and ``shy`` to see their effect.",
   "metadata": {
    "cell_id": "00032-913de883-2e18-4adf-a2a9-c89745c0265e",
    "deepnote_cell_type": "markdown",
    "deepnote_cell_height": 52.390625
   }
  },
  {
   "cell_type": "markdown",
   "source": "### Combine Transforms\n\nWe have  transforms $R$, $S$, $T$, $Re$, $SHx$, and $SHy$ \n\n&#9989; **<font color=red>DO THIS:</font>** Construct a ($3 \\times 3$) transformation Matrix (called $M$) which combines these six transforms into a single matrix. You can choose different orders for these five matrix, then compare your result with other students. ",
   "metadata": {
    "cell_id": "00033-9d08d678-f9cc-4ac2-ac9b-edb6350453f5",
    "owner_user_id": "1ad92508-5214-4899-9be6-2377c49dba3a",
    "deepnote_cell_type": "markdown",
    "deepnote_cell_height": 159.84375
   }
  },
  {
   "cell_type": "code",
   "metadata": {
    "cell_id": "00034-c68e9da4-0498-4150-a846-166835274822",
    "deepnote_to_be_reexecuted": false,
    "source_hash": "83e12f7b",
    "execution_start": 1655688600496,
    "execution_millis": 1,
    "deepnote_cell_type": "code",
    "deepnote_cell_height": 99
   },
   "source": "#Put your code here\nM = T*S*Re*R*SHx*SHy",
   "execution_count": null,
   "outputs": []
  },
  {
   "cell_type": "code",
   "metadata": {
    "cell_id": "00035-4edbb6a1-0499-40d6-961a-ce34b0e3a186",
    "deepnote_to_be_reexecuted": false,
    "source_hash": "76c8b99",
    "execution_start": 1655688600497,
    "execution_millis": 158,
    "deepnote_cell_type": "code",
    "deepnote_cell_height": 471,
    "deepnote_output_heights": [
     266
    ]
   },
   "source": "#Plot combined transformed points\nmp = p.copy()\nmp = M*mp\nplt.plot(mp[0,:].tolist()[0],mp[1,:].tolist()[0], color='green');\nplt.axis('scaled');\nplt.axis([-10,20,-15,15]);\nplt.title('Start Location');",
   "execution_count": null,
   "outputs": [
    {
     "data": {
      "text/plain": "<Figure size 432x288 with 1 Axes>",
      "image/png": "[encoded data removed]"
     },
     "metadata": {
      "needs_background": "light",
      "image/png": {
       "width": 266,
       "height": 264
      }
     },
     "output_type": "display_data"
    }
   ]
  },
  {
   "cell_type": "markdown",
   "source": "&#9989; **<font color=red>Questions:</font>** Did you can get the same result with others? You can compare the matrix $M$ to see the difference. If not, can you explain why it happens?",
   "metadata": {
    "cell_id": "00036-75fd66a4-ef9a-4e8f-8910-ac0b1db34e4c",
    "deepnote_cell_type": "markdown",
    "deepnote_cell_height": 75.125
   }
  },
  {
   "cell_type": "markdown",
   "source": "**Put your answer here.** We do not get the same result as others becuase we are multiplying each of the transform matrices in a different order. Becuase order matters in matrix multiplication, we will get a different result than other people.",
   "metadata": {
    "cell_id": "00037-c22aba60-8f3b-4dec-bbbc-e0b44c0b00e4",
    "deepnote_cell_type": "markdown",
    "deepnote_cell_height": 74.796875
   }
  },
  {
   "cell_type": "markdown",
   "source": "### Interactive Example",
   "metadata": {
    "cell_id": "00038-4349045b-7636-421b-8842-31cdbd40888c",
    "deepnote_cell_type": "markdown",
    "deepnote_cell_height": 62
   }
  },
  {
   "cell_type": "code",
   "metadata": {
    "cell_id": "72e15cc2f6dd44f09e9fa171e74b47f1",
    "tags": [],
    "deepnote_to_be_reexecuted": false,
    "source_hash": "2297785c",
    "execution_start": 1655688600656,
    "execution_millis": 3158,
    "deepnote_cell_type": "code",
    "deepnote_cell_height": 746
   },
   "source": "!pip install ipywidgets==7.7.0",
   "execution_count": null,
   "outputs": [
    {
     "name": "stdout",
     "text": "Requirement already satisfied: ipywidgets==7.7.0 in /root/venv/lib/python3.7/site-packages (7.7.0)\nRequirement already satisfied: ipython>=4.0.0 in /shared-libs/python3.7/py-core/lib/python3.7/site-packages (from ipywidgets==7.7.0) (7.34.0)\nRequirement already satisfied: traitlets>=4.3.1 in /shared-libs/python3.7/py-core/lib/python3.7/site-packages (from ipywidgets==7.7.0) (4.3.3)\nRequirement already satisfied: ipython-genutils~=0.2.0 in /shared-libs/python3.7/py-core/lib/python3.7/site-packages (from ipywidgets==7.7.0) (0.2.0)\nRequirement already satisfied: jupyterlab-widgets>=1.0.0 in /root/venv/lib/python3.7/site-packages (from ipywidgets==7.7.0) (1.1.0)\nRequirement already satisfied: ipykernel>=4.5.1 in /shared-libs/python3.7/py-core/lib/python3.7/site-packages (from ipywidgets==7.7.0) (5.5.5)\nRequirement already satisfied: widgetsnbextension~=3.6.0 in /root/venv/lib/python3.7/site-packages (from ipywidgets==7.7.0) (3.6.0)\nRequirement already satisfied: nbformat>=4.2.0 in /shared-libs/python3.7/py-core/lib/python3.7/site-packages (from ipywidgets==7.7.0) (5.1.3)\nRequirement already satisfied: tornado>=4.2 in /shared-libs/python3.7/py-core/lib/python3.7/site-packages (from ipykernel>=4.5.1->ipywidgets==7.7.0) (6.1)\nRequirement already satisfied: jupyter-client in /shared-libs/python3.7/py-core/lib/python3.7/site-packages (from ipykernel>=4.5.1->ipywidgets==7.7.0) (6.1.12)\nRequirement already satisfied: backcall in /shared-libs/python3.7/py-core/lib/python3.7/site-packages (from ipython>=4.0.0->ipywidgets==7.7.0) (0.2.0)\nRequirement already satisfied: jedi>=0.16 in /shared-libs/python3.7/py-core/lib/python3.7/site-packages (from ipython>=4.0.0->ipywidgets==7.7.0) (0.17.2)\nRequirement already satisfied: pygments in /shared-libs/python3.7/py-core/lib/python3.7/site-packages (from ipython>=4.0.0->ipywidgets==7.7.0) (2.12.0)\nRequirement already satisfied: pexpect>4.3 in /shared-libs/python3.7/py-core/lib/python3.7/site-packages (from ipython>=4.0.0->ipywidgets==7.7.0) (4.8.0)\nRequirement already satisfied: setuptools>=18.5 in /root/venv/lib/python3.7/site-packages (from ipython>=4.0.0->ipywidgets==7.7.0) (47.1.0)\nRequirement already satisfied: pickleshare in /shared-libs/python3.7/py-core/lib/python3.7/site-packages (from ipython>=4.0.0->ipywidgets==7.7.0) (0.7.5)\nRequirement already satisfied: prompt-toolkit!=3.0.0,!=3.0.1,<3.1.0,>=2.0.0 in /shared-libs/python3.7/py-core/lib/python3.7/site-packages (from ipython>=4.0.0->ipywidgets==7.7.0) (3.0.29)\nRequirement already satisfied: decorator in /shared-libs/python3.7/py-core/lib/python3.7/site-packages (from ipython>=4.0.0->ipywidgets==7.7.0) (5.1.1)\nRequirement already satisfied: matplotlib-inline in /shared-libs/python3.7/py-core/lib/python3.7/site-packages (from ipython>=4.0.0->ipywidgets==7.7.0) (0.1.3)\nRequirement already satisfied: jsonschema!=2.5.0,>=2.4 in /shared-libs/python3.7/py-core/lib/python3.7/site-packages (from nbformat>=4.2.0->ipywidgets==7.7.0) (3.2.0)\nRequirement already satisfied: jupyter-core in /shared-libs/python3.7/py-core/lib/python3.7/site-packages (from nbformat>=4.2.0->ipywidgets==7.7.0) (4.7.1)\nRequirement already satisfied: six in /shared-libs/python3.7/py-core/lib/python3.7/site-packages (from traitlets>=4.3.1->ipywidgets==7.7.0) (1.16.0)\nRequirement already satisfied: notebook>=4.4.1 in /shared-libs/python3.7/py-core/lib/python3.7/site-packages (from widgetsnbextension~=3.6.0->ipywidgets==7.7.0) (6.3.0)\nRequirement already satisfied: parso<0.8.0,>=0.7.0 in /shared-libs/python3.7/py-core/lib/python3.7/site-packages (from jedi>=0.16->ipython>=4.0.0->ipywidgets==7.7.0) (0.7.1)\nRequirement already satisfied: pyrsistent>=0.14.0 in /shared-libs/python3.7/py-core/lib/python3.7/site-packages (from jsonschema!=2.5.0,>=2.4->nbformat>=4.2.0->ipywidgets==7.7.0) (0.18.1)\nRequirement already satisfied: importlib-metadata in /shared-libs/python3.7/py-core/lib/python3.7/site-packages (from jsonschema!=2.5.0,>=2.4->nbformat>=4.2.0->ipywidgets==7.7.0) (4.11.4)\nRequirement already satisfied: attrs>=17.4.0 in /shared-libs/python3.7/py-core/lib/python3.7/site-packages (from jsonschema!=2.5.0,>=2.4->nbformat>=4.2.0->ipywidgets==7.7.0) (21.4.0)\nRequirement already satisfied: nbconvert==6.0.7 in /shared-libs/python3.7/py-core/lib/python3.7/site-packages (from notebook>=4.4.1->widgetsnbextension~=3.6.0->ipywidgets==7.7.0) (6.0.7)\nRequirement already satisfied: jinja2 in /shared-libs/python3.7/py-core/lib/python3.7/site-packages (from notebook>=4.4.1->widgetsnbextension~=3.6.0->ipywidgets==7.7.0) (2.11.3)\nRequirement already satisfied: Send2Trash>=1.5.0 in /shared-libs/python3.7/py-core/lib/python3.7/site-packages (from notebook>=4.4.1->widgetsnbextension~=3.6.0->ipywidgets==7.7.0) (1.8.0)\nRequirement already satisfied: pyzmq>=17 in /shared-libs/python3.7/py-core/lib/python3.7/site-packages (from notebook>=4.4.1->widgetsnbextension~=3.6.0->ipywidgets==7.7.0) (23.1.0)\nRequirement already satisfied: terminado>=0.8.3 in /shared-libs/python3.7/py-core/lib/python3.7/site-packages (from notebook>=4.4.1->widgetsnbextension~=3.6.0->ipywidgets==7.7.0) (0.15.0)\nRequirement already satisfied: prometheus-client in /shared-libs/python3.7/py-core/lib/python3.7/site-packages (from notebook>=4.4.1->widgetsnbextension~=3.6.0->ipywidgets==7.7.0) (0.14.1)\nRequirement already satisfied: argon2-cffi in /shared-libs/python3.7/py-core/lib/python3.7/site-packages (from notebook>=4.4.1->widgetsnbextension~=3.6.0->ipywidgets==7.7.0) (21.3.0)\nRequirement already satisfied: python-dateutil>=2.1 in /shared-libs/python3.7/py-core/lib/python3.7/site-packages (from jupyter-client->ipykernel>=4.5.1->ipywidgets==7.7.0) (2.8.2)\nRequirement already satisfied: testpath in /shared-libs/python3.7/py-core/lib/python3.7/site-packages (from nbconvert==6.0.7->notebook>=4.4.1->widgetsnbextension~=3.6.0->ipywidgets==7.7.0) (0.6.0)\nRequirement already satisfied: defusedxml in /shared-libs/python3.7/py-core/lib/python3.7/site-packages (from nbconvert==6.0.7->notebook>=4.4.1->widgetsnbextension~=3.6.0->ipywidgets==7.7.0) (0.7.1)\nRequirement already satisfied: pandocfilters>=1.4.1 in /shared-libs/python3.7/py-core/lib/python3.7/site-packages (from nbconvert==6.0.7->notebook>=4.4.1->widgetsnbextension~=3.6.0->ipywidgets==7.7.0) (1.5.0)\nRequirement already satisfied: entrypoints>=0.2.2 in /shared-libs/python3.7/py-core/lib/python3.7/site-packages (from nbconvert==6.0.7->notebook>=4.4.1->widgetsnbextension~=3.6.0->ipywidgets==7.7.0) (0.4)\nRequirement already satisfied: jupyterlab-pygments in /shared-libs/python3.7/py-core/lib/python3.7/site-packages (from nbconvert==6.0.7->notebook>=4.4.1->widgetsnbextension~=3.6.0->ipywidgets==7.7.0) (0.2.2)\nRequirement already satisfied: nbclient<0.6.0,>=0.5.0 in /shared-libs/python3.7/py-core/lib/python3.7/site-packages (from nbconvert==6.0.7->notebook>=4.4.1->widgetsnbextension~=3.6.0->ipywidgets==7.7.0) (0.5.9)\nRequirement already satisfied: bleach in /shared-libs/python3.7/py-core/lib/python3.7/site-packages (from nbconvert==6.0.7->notebook>=4.4.1->widgetsnbextension~=3.6.0->ipywidgets==7.7.0) (5.0.0)\nRequirement already satisfied: mistune<2,>=0.8.1 in /shared-libs/python3.7/py-core/lib/python3.7/site-packages (from nbconvert==6.0.7->notebook>=4.4.1->widgetsnbextension~=3.6.0->ipywidgets==7.7.0) (0.8.4)\nRequirement already satisfied: ptyprocess>=0.5 in /shared-libs/python3.7/py-core/lib/python3.7/site-packages (from pexpect>4.3->ipython>=4.0.0->ipywidgets==7.7.0) (0.7.0)\nRequirement already satisfied: wcwidth in /shared-libs/python3.7/py-core/lib/python3.7/site-packages (from prompt-toolkit!=3.0.0,!=3.0.1,<3.1.0,>=2.0.0->ipython>=4.0.0->ipywidgets==7.7.0) (0.2.5)\nRequirement already satisfied: MarkupSafe>=0.23 in /shared-libs/python3.7/py-core/lib/python3.7/site-packages (from jinja2->notebook>=4.4.1->widgetsnbextension~=3.6.0->ipywidgets==7.7.0) (2.0.1)\nRequirement already satisfied: argon2-cffi-bindings in /shared-libs/python3.7/py-core/lib/python3.7/site-packages (from argon2-cffi->notebook>=4.4.1->widgetsnbextension~=3.6.0->ipywidgets==7.7.0) (21.2.0)\nRequirement already satisfied: typing-extensions in /shared-libs/python3.7/py-core/lib/python3.7/site-packages (from argon2-cffi->notebook>=4.4.1->widgetsnbextension~=3.6.0->ipywidgets==7.7.0) (4.2.0)\nRequirement already satisfied: zipp>=0.5 in /shared-libs/python3.7/py-core/lib/python3.7/site-packages (from importlib-metadata->jsonschema!=2.5.0,>=2.4->nbformat>=4.2.0->ipywidgets==7.7.0) (3.8.0)\nRequirement already satisfied: nest-asyncio in /shared-libs/python3.7/py-core/lib/python3.7/site-packages (from nbclient<0.6.0,>=0.5.0->nbconvert==6.0.7->notebook>=4.4.1->widgetsnbextension~=3.6.0->ipywidgets==7.7.0) (1.5.5)\nRequirement already satisfied: cffi>=1.0.1 in /shared-libs/python3.7/py-core/lib/python3.7/site-packages (from argon2-cffi-bindings->argon2-cffi->notebook>=4.4.1->widgetsnbextension~=3.6.0->ipywidgets==7.7.0) (1.15.0)\nRequirement already satisfied: webencodings in /shared-libs/python3.7/py-core/lib/python3.7/site-packages (from bleach->nbconvert==6.0.7->notebook>=4.4.1->widgetsnbextension~=3.6.0->ipywidgets==7.7.0) (0.5.1)\nRequirement already satisfied: pycparser in /shared-libs/python3.7/py-core/lib/python3.7/site-packages (from cffi>=1.0.1->argon2-cffi-bindings->argon2-cffi->notebook>=4.4.1->widgetsnbextension~=3.6.0->ipywidgets==7.7.0) (2.21)\n\u001b[33mWARNING: You are using pip version 22.0.4; however, version 22.1.2 is available.\nYou should consider upgrading via the '/root/venv/bin/python -m pip install --upgrade pip' command.\u001b[0m\u001b[33m\n\u001b[0m",
     "output_type": "stream"
    }
   ]
  },
  {
   "cell_type": "code",
   "metadata": {
    "cell_id": "00039-6a28a89f-b392-4c28-93c7-3976ebad4e5a",
    "deepnote_to_be_reexecuted": false,
    "source_hash": "68156dc",
    "execution_start": 1655688603813,
    "execution_millis": 36,
    "owner_user_id": "a464456a-c3c6-450f-a8c1-17fcb565d65e",
    "deepnote_cell_type": "code",
    "deepnote_cell_height": 477
   },
   "source": "from ipywidgets import interact,interact_manual\n\ndef affine_image(angle=0,scale=1.0,dx=0,dy=0, shx=0, shy=0):\n    theta = -angle/180  * np.pi\n    \n    plt.plot(p[0,:].tolist()[0],p[1,:].tolist()[0], color='green')\n    \n    S = np.matrix([[scale,0,0], [0,scale,0], [0,0,1]])\n    SHx = np.matrix([[1,shx,0], [0,1,0], [0,0,1]])\n    SHy = np.matrix([[1,0,0], [shy,1,0], [0,0,1]])\n    T = np.matrix([[1,0,dx], [0,1,dy], [0,0,1]])\n    R = np.matrix([[np.cos(theta),-np.sin(theta),0],[np.sin(theta), np.cos(theta),0],[0,0,1]])\n    \n    #Full Transform\n    FT = T*SHx*SHy*R*S;\n    #Apply Transforms\n    p2 =  FT*p;\n    \n    #Plot Output\n    plt.plot(p2[0,:].tolist()[0],p2[1,:].tolist()[0], color='black')\n    plt.axis('scaled')\n    plt.axis([-10,20,-15,15])\n    return sym.Matrix(FT)",
   "execution_count": null,
   "outputs": []
  },
  {
   "cell_type": "code",
   "metadata": {
    "cell_id": "00040-24b2e816-e3da-4d43-9067-2ba7d7d8e2a8",
    "deepnote_to_be_reexecuted": false,
    "source_hash": "8b57be84",
    "execution_start": 1655688603857,
    "execution_millis": 248,
    "deepnote_cell_type": "code",
    "deepnote_cell_height": 480,
    "deepnote_output_heights": [
     98,
     254
    ]
   },
   "source": "interact(affine_image, angle=(-180,180), scale_manual=(0.01,2), dx=(-5,15,0.5), dy=(-15,15,0.5), shx = (-1,1,0.1), shy = (-1,1,0.1)); ##TODO: Modify this line of code",
   "execution_count": null,
   "outputs": [
    {
     "data": {
      "text/plain": "⎡1.0   0    0 ⎤\n⎢             ⎥\n⎢ 0   1.0   0 ⎥\n⎢             ⎥\n⎣ 0    0   1.0⎦",
      "text/latex": "$\\displaystyle \\left[\\begin{matrix}1.0 & 0 & 0\\\\0 & 1.0 & 0\\\\0 & 0 & 1.0\\end{matrix}\\right]$"
     },
     "metadata": {},
     "output_type": "display_data"
    },
    {
     "data": {
      "text/plain": "<Figure size 432x288 with 1 Axes>",
      "image/png": "[encoded data removed]"
     },
     "metadata": {
      "needs_background": "light",
      "image/png": {
       "width": 266,
       "height": 252
      }
     },
     "output_type": "display_data"
    }
   ]
  },
  {
   "cell_type": "markdown",
   "source": "The following command can also be used but it may be slow on some peoples computers.",
   "metadata": {
    "cell_id": "00041-4469e8b6-1cc8-4fc2-9e35-edf3ac946ff8",
    "deepnote_cell_type": "markdown",
    "deepnote_cell_height": 52.390625
   }
  },
  {
   "cell_type": "code",
   "metadata": {
    "cell_id": "00042-d3b05da1-ae87-424e-9397-4c513ca31c14",
    "deepnote_to_be_reexecuted": false,
    "source_hash": "31549310",
    "execution_start": 1655688604116,
    "execution_millis": 366,
    "owner_user_id": "9a33963a-103d-4e24-ab8f-aa9f5856df44",
    "deepnote_cell_type": "code",
    "deepnote_cell_height": 532.1875,
    "deepnote_output_heights": [
     98,
     21.1875,
     254
    ]
   },
   "source": "interact(affine_image, angle=(164), scale=(0.8), dx=(11.5), dy=(-7.5), shx = (-0.7), shy = (-0.3)) ##TODO: Modify this line of code",
   "execution_count": null,
   "outputs": [
    {
     "data": {
      "text/plain": "⎡-0.776144402410773  0.805123510156314   11.5⎤\n⎢                                            ⎥\n⎢0.0101929223715972  -0.835162322146735  -7.5⎥\n⎢                                            ⎥\n⎣        0                   0           1.0 ⎦",
      "text/latex": "$\\displaystyle \\left[\\begin{matrix}-0.776144402410773 & 0.805123510156314 & 11.5\\\\0.0101929223715972 & -0.835162322146735 & -7.5\\\\0 & 0 & 1.0\\end{matrix}\\right]$"
     },
     "metadata": {},
     "output_type": "display_data"
    },
    {
     "output_type": "execute_result",
     "execution_count": 24,
     "data": {
      "text/plain": "<function __main__.affine_image(angle=0, scale=1.0, dx=0, dy=0, shx=0, shy=0)>"
     },
     "metadata": {}
    },
    {
     "data": {
      "text/plain": "<Figure size 432x288 with 1 Axes>",
      "image/png": "[encoded data removed]"
     },
     "metadata": {
      "needs_background": "light",
      "image/png": {
       "width": 266,
       "height": 252
      }
     },
     "output_type": "display_data"
    }
   ]
  },
  {
   "cell_type": "markdown",
   "source": "&#9989; **<font color=red>DO THIS:</font>**  Using the above interactive enviornment to see if you can figure out the transformation matrix to make the following image:\n\n<img src=\"https://lh6.googleusercontent.com/_0-jr5Z0DQzqVM3TD3Xa3QWC43PBT6ru5M-B-_7dfbib2SSvkNkxtioBFaU__jTvEJMMG9SAVg=w380\">",
   "metadata": {
    "cell_id": "00043-790e9fc6-66b8-4f87-9d42-dd193320a12e",
    "deepnote_cell_type": "markdown",
    "deepnote_cell_height": 366.796875
   }
  },
  {
   "cell_type": "markdown",
   "source": "&#9989; **<font color=red>Question:</font>** What where the input values?",
   "metadata": {
    "cell_id": "00044-85c91569-356d-4b66-812d-aef3268c1d2e",
    "deepnote_cell_type": "markdown",
    "deepnote_cell_height": 52.390625
   }
  },
  {
   "cell_type": "markdown",
   "source": "**Put your answer here:**\n\nangle = 164\n\nscale = 0.8\n\ndx = 11.5\n\ndy = -7.5\n\nshx = -0.7\n\nshy = -0.3",
   "metadata": {
    "cell_id": "00045-f25a9cc9-a054-4897-9e31-801694f269e9",
    "deepnote_cell_type": "markdown",
    "deepnote_cell_height": 270.796875
   }
  },
  {
   "cell_type": "markdown",
   "source": "&#9989; **<font color=red>Question:</font>** Construct a $2\\times 2$ matrix, which scales the figure to be 2 times its original size, then rotates by 45 degrees counterclockwise, and finally shears parallel to the x axis with a shear factor 3, i.e. $x'=x+3y$ and $y'=y$. save your answer in a numpy matrix $A$. \n\nNote: The above examples employ $3 \\times 3$ matrices to describe transformations in $\\mathbb R^2$ only because they need to also incorporate translations. If no translations are needed, then we can get away with $2\\times 2$ matrices to describe rotation, scaling, shear, relfection in $\\mathbb R^2$.",
   "metadata": {
    "cell_id": "00046-830c2d8e-c7e6-4e1b-9b9d-abb452d3d036",
    "deepnote_cell_type": "markdown",
    "deepnote_cell_height": 179.046875
   }
  },
  {
   "cell_type": "code",
   "metadata": {
    "cell_id": "00047-30ae8378-c1cf-4820-854e-27cad24b5ca2",
    "deepnote_to_be_reexecuted": false,
    "source_hash": "817a84cb",
    "execution_start": 1655688604484,
    "execution_millis": 4,
    "deepnote_cell_type": "code",
    "deepnote_cell_height": 240
   },
   "source": "import numpy as np\nS = np.matrix([[2, 0], [0, 2]])  # scaling by a factor of 2\ntheta = 45/180  * np.pi\nR = np.matrix([[np.cos(theta),-np.sin(theta)],[np.sin(theta), np.cos(theta)]]) # rotation by 45 deg counterclockwise\nSx = np.matrix([[1, 3], [0, 1]])\nA= Sx * R * S \nprint(A)",
   "execution_count": null,
   "outputs": [
    {
     "name": "stdout",
     "text": "[[5.65685425 2.82842712]\n [1.41421356 1.41421356]]\n",
     "output_type": "stream"
    }
   ]
  },
  {
   "cell_type": "code",
   "metadata": {
    "cell_id": "00048-b6ca9d17-bbbd-40ff-8678-0bc922e12818",
    "deepnote_to_be_reexecuted": false,
    "source_hash": "7ccfa2b2",
    "execution_start": 1655688604531,
    "execution_millis": 1,
    "deepnote_cell_type": "code",
    "deepnote_cell_height": 190
   },
   "source": "from answercheck import checkanswer\ncheckanswer.matrix(A,'fc71594aba0d3c7408c00221ac9210b3');",
   "execution_count": null,
   "outputs": [
    {
     "name": "stdout",
     "text": "Testing [[5.65685 2.82843]\n [1.41421 1.41421]]\nAnswer seems to be correct\n\n",
     "output_type": "stream"
    }
   ]
  },
  {
   "cell_type": "markdown",
   "source": "----\nWritten by Dr. Dirk Colbry, Michigan State University\n<a rel=\"license\" href=\"http://creativecommons.org/licenses/by-nc/4.0/\"><img alt=\"Creative Commons License\" style=\"border-width:0\" src=\"https://i.creativecommons.org/l/by-nc/4.0/88x31.png\" /></a><br />This work is licensed under a <a rel=\"license\" href=\"http://creativecommons.org/licenses/by-nc/4.0/\">Creative Commons Attribution-NonCommercial 4.0 International License</a>.",
   "metadata": {
    "cell_id": "00049-e807b6b5-0af3-40df-bea9-b7e33d52fa2e",
    "deepnote_cell_type": "markdown",
    "deepnote_cell_height": 169.1875
   }
  },
  {
   "cell_type": "markdown",
   "source": "<a style='text-decoration:none;line-height:16px;display:flex;color:#5B5B62;padding:10px;justify-content:end;' href='https://deepnote.com?utm_source=created-in-deepnote-cell&projectId=eddc04b2-32a0-43fc-87cf-17e6670be569' target=\"_blank\">\n<img alt='Created in deepnote.com' style='display:inline;max-height:16px;margin:0px;margin-right:7.5px;' src='data:image/svg+xml;base64,PD94bWwgdmVyc2lvbj0iMS4wIiBlbmNvZGluZz0iVVRGLTgiPz4KPHN2ZyB3aWR0aD0iODBweCIgaGVpZ2h0PSI4MHB4IiB2aWV3Qm94PSIwIDAgODAgODAiIHZlcnNpb249IjEuMSIgeG1sbnM9Imh0dHA6Ly93d3cudzMub3JnLzIwMDAvc3ZnIiB4bWxuczp4bGluaz0iaHR0cDovL3d3dy53My5vcmcvMTk5OS94bGluayI+CiAgICA8IS0tIEdlbmVyYXRvcjogU2tldGNoIDU0LjEgKDc2NDkwKSAtIGh0dHBzOi8vc2tldGNoYXBwLmNvbSAtLT4KICAgIDx0aXRsZT5Hcm91cCAzPC90aXRsZT4KICAgIDxkZXNjPkNyZWF0ZWQgd2l0aCBTa2V0Y2guPC9kZXNjPgogICAgPGcgaWQ9IkxhbmRpbmciIHN0cm9rZT0ibm9uZSIgc3Ryb2tlLXdpZHRoPSIxIiBmaWxsPSJub25lIiBmaWxsLXJ1bGU9ImV2ZW5vZGQiPgogICAgICAgIDxnIGlkPSJBcnRib2FyZCIgdHJhbnNmb3JtPSJ0cmFuc2xhdGUoLTEyMzUuMDAwMDAwLCAtNzkuMDAwMDAwKSI+CiAgICAgICAgICAgIDxnIGlkPSJHcm91cC0zIiB0cmFuc2Zvcm09InRyYW5zbGF0ZSgxMjM1LjAwMDAwMCwgNzkuMDAwMDAwKSI+CiAgICAgICAgICAgICAgICA8cG9seWdvbiBpZD0iUGF0aC0yMCIgZmlsbD0iIzAyNjVCNCIgcG9pbnRzPSIyLjM3NjIzNzYyIDgwIDM4LjA0NzY2NjcgODAgNTcuODIxNzgyMiA3My44MDU3NTkyIDU3LjgyMTc4MjIgMzIuNzU5MjczOSAzOS4xNDAyMjc4IDMxLjY4MzE2ODMiPjwvcG9seWdvbj4KICAgICAgICAgICAgICAgIDxwYXRoIGQ9Ik0zNS4wMDc3MTgsODAgQzQyLjkwNjIwMDcsNzYuNDU0OTM1OCA0Ny41NjQ5MTY3LDcxLjU0MjI2NzEgNDguOTgzODY2LDY1LjI2MTk5MzkgQzUxLjExMjI4OTksNTUuODQxNTg0MiA0MS42NzcxNzk1LDQ5LjIxMjIyODQgMjUuNjIzOTg0Niw0OS4yMTIyMjg0IEMyNS40ODQ5Mjg5LDQ5LjEyNjg0NDggMjkuODI2MTI5Niw0My4yODM4MjQ4IDM4LjY0NzU4NjksMzEuNjgzMTY4MyBMNzIuODcxMjg3MSwzMi41NTQ0MjUgTDY1LjI4MDk3Myw2Ny42NzYzNDIxIEw1MS4xMTIyODk5LDc3LjM3NjE0NCBMMzUuMDA3NzE4LDgwIFoiIGlkPSJQYXRoLTIyIiBmaWxsPSIjMDAyODY4Ij48L3BhdGg+CiAgICAgICAgICAgICAgICA8cGF0aCBkPSJNMCwzNy43MzA0NDA1IEwyNy4xMTQ1MzcsMC4yNTcxMTE0MzYgQzYyLjM3MTUxMjMsLTEuOTkwNzE3MDEgODAsMTAuNTAwMzkyNyA4MCwzNy43MzA0NDA1IEM4MCw2NC45NjA0ODgyIDY0Ljc3NjUwMzgsNzkuMDUwMzQxNCAzNC4zMjk1MTEzLDgwIEM0Ny4wNTUzNDg5LDc3LjU2NzA4MDggNTMuNDE4MjY3Nyw3MC4zMTM2MTAzIDUzLjQxODI2NzcsNTguMjM5NTg4NSBDNTMuNDE4MjY3Nyw0MC4xMjg1NTU3IDM2LjMwMzk1NDQsMzcuNzMwNDQwNSAyNS4yMjc0MTcsMzcuNzMwNDQwNSBDMTcuODQzMDU4NiwzNy43MzA0NDA1IDkuNDMzOTE5NjYsMzcuNzMwNDQwNSAwLDM3LjczMDQ0MDUgWiIgaWQ9IlBhdGgtMTkiIGZpbGw9IiMzNzkzRUYiPjwvcGF0aD4KICAgICAgICAgICAgPC9nPgogICAgICAgIDwvZz4KICAgIDwvZz4KPC9zdmc+' > </img>\nCreated in <span style='font-weight:600;margin-left:4px;'>Deepnote</span></a>",
   "metadata": {
    "tags": [],
    "created_in_deepnote_cell": true,
    "deepnote_cell_type": "markdown"
   }
  }
 ],
 "nbformat": 4,
 "nbformat_minor": 4,
 "metadata": {
  "kernelspec": {
   "display_name": "Python 3 (ipykernel)",
   "language": "python",
   "name": "python3"
  },
  "language_info": {
   "codemirror_mode": {
    "name": "ipython",
    "version": 3
   },
   "file_extension": ".py",
   "mimetype": "text/x-python",
   "name": "python",
   "nbconvert_exporter": "python",
   "pygments_lexer": "ipython3",
   "version": "3.9.7"
  },
  "deepnote_notebook_id": "1acaa0e3-6a7e-463f-9957-65b5c77c0529",
  "deepnote": {},
  "deepnote_execution_queue": []
 }
}