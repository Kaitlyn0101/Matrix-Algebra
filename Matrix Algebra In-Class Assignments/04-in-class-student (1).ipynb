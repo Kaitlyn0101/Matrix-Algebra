{
 "cells": [
  {
   "cell_type": "markdown",
   "source": "In order to successfully complete this assignment we recommend that you participate both individually and in groups during class. **Turn in your assignment using D2L no later than 11:59pm on the day of class.** Grading is based on correctness and completion.",
   "metadata": {
    "cell_id": "3b25ac3d-2f1d-477f-8744-858379fb7836",
    "deepnote_cell_type": "markdown",
    "deepnote_cell_height": 141.953125
   }
  },
  {
   "cell_type": "markdown",
   "source": "## Put the names of all group members present today below:",
   "metadata": {
    "cell_id": "00001-f479aa53-3c81-449f-9e01-043403ca59ea",
    "deepnote_cell_type": "markdown",
    "deepnote_cell_height": 150
   }
  },
  {
   "cell_type": "markdown",
   "source": "Aryan Sharma, Kaitlyn Watson, Benjamin Maves",
   "metadata": {
    "cell_id": "00002-6444fef6-de50-4528-bb33-396e3d6eda62",
    "owner_user_id": "1ad5cec8-d61b-447d-8e89-5b4e3e563ebd",
    "deepnote_cell_type": "markdown",
    "deepnote_cell_height": 52.390625
   }
  },
  {
   "cell_type": "markdown",
   "source": "# 04 In-Class Assignment: Linear Algebra and Python\n\n<img src=\"https://i.ytimg.com/vi/fSCz7jH_vHI/maxresdefault.jpg\" width=\"70%\" alt=\"Image showing an instructor writing on the board instruction for Gauss-Jordan.  These include 1) 1 Row 1 column 1 2) Kill the rest of the column 3) 1 Row 2 Column 2 4) Kill the rest of the column 4) Answer as a point (x,y).  Although not really an algorithm these instructions give a general idea of how Gauss-Jordan works\">\n\nImage from:  Mathbyfives @[YouTube](https://www.youtube.com/watch?v=fSCz7jH_vHI)\n    \n\n    ",
   "metadata": {
    "cell_id": "00003-76cd2b59-ea04-43ef-a878-c4c9bff824cf",
    "deepnote_cell_type": "markdown",
    "deepnote_cell_height": 445.28125
   }
  },
  {
   "cell_type": "markdown",
   "source": "### Objectives for o4 and 05\n\n1. Knowing what it means for a matrix to be in a Row Echelon Form and in Reduced Row Echelon Form\n1. Being able to apply elementary row operations to put a matrix in REF or RREF\n1. Given an augmented matrix in RREF, be able to write down (a formula for) ALL solutions or determine no solution exists.\n1. Being able to apply the Gauss-Jordan algorithm to solve a linear system.\n1. Being able to use Python functions like np.linalg.solve, sym.Matrix(A).rref() to solve linear systems\n1. Being able to find general and particular solutions to underdetermined systems.\n1. Being able to find\n     - The dot product of two vectors\n     - The norm of a vector\n     - The distance between two points\n1. Being able to program a basic Gauss-Jordan algorithm and know when it does/does not work.\n",
   "metadata": {
    "cell_id": "00004-84edd677-d61e-4fda-9e54-7c832a98f6c8",
    "deepnote_cell_type": "markdown",
    "deepnote_cell_height": 580.8125
   }
  },
  {
   "cell_type": "markdown",
   "source": "### Agenda for today's class (80 minutes)\n\n1. (20 minutes) [Pre Class Review](#Pre-Class-Review)\n2. (20 minutes) [Solving Systems of Linear Equations](#Solving-Systems-of-Linear-Equations)\n3. (20 minutes) [Underdetermined Systems](#Underdetermined-Systems)\n4. (20 minutes) [Practice   Curve Fitting Example](#Practice---Curve-Fitting-Example)\n",
   "metadata": {
    "cell_id": "00005-eb60eba2-206e-4957-9212-9a4c8925e49d",
    "deepnote_cell_type": "markdown",
    "deepnote_cell_height": 222.5625
   }
  },
  {
   "cell_type": "markdown",
   "source": "\n---\n<a name=Pre-Class-Review></a>\n## 1. Pre Class Review\n",
   "metadata": {
    "cell_id": "00006-a4c8194c-88b8-4659-bd87-655196f02166",
    "deepnote_cell_type": "markdown",
    "deepnote_cell_height": 85
   }
  },
  {
   "cell_type": "code",
   "metadata": {
    "cell_id": "00007-04659dee-b6aa-4873-be93-cbead34b5120",
    "deepnote_to_be_reexecuted": false,
    "source_hash": "3452fd76",
    "execution_start": 1653591267209,
    "execution_millis": 2,
    "deepnote_cell_type": "code",
    "deepnote_cell_height": 189
   },
   "source": "# Here are some libraries you may need to use\n%matplotlib inline\nimport matplotlib.pylab as plt\nimport numpy as np\nimport sympy as sym\nimport math\nsym.init_printing()",
   "execution_count": null,
   "outputs": []
  },
  {
   "cell_type": "markdown",
   "source": "Discuss Ax=b format as it relates to augmented matrix. ",
   "metadata": {
    "cell_id": "00008-56493046-5448-44e1-b92d-e35037708bd7",
    "deepnote_cell_type": "markdown",
    "deepnote_cell_height": 52.390625
   }
  },
  {
   "cell_type": "markdown",
   "source": "\n\n---\n<a name=Solving-Systems-of-Linear-Equations></a>\n## 2. Solving Systems of Linear Equations\n\n\nRemember the following set of equations from the mass weight example:\n\n<img src=\"https://lh6.googleusercontent.com/S-glvU6hZySH682ocl1T_2jNWL7S2MUCQeyDFgEZM8GPZ4xLjEkeD9KKsU5otJF0zfgcQtT-zQ=w740\" align=\"center\" width=\"70%\" alt=\"Image showing two balanced beams, each with three weights. In the top beam is unknown weight A is a distance of 40 to the left of the fulcrum, unknown weight B is a distance of 15 to the left of the fulcrum and a weight of 2 is 50 to the right of the fulcrum. In the bottom beam is the same unknown weights.  Weight A is now a distance of 50 to the right of the fulcrum, weight B is a distance of 25 to the left of the fulcrum and the weight of 2 is a distance of 25 to the right of the fulcrum.\">\n\n$$40A + 15B = 100$$\n$$25B = 50 + 50A$$\n",
   "metadata": {
    "cell_id": "00009-c69c8e78-ec10-4a75-82a9-5f355bb020ee",
    "deepnote_cell_type": "markdown",
    "deepnote_cell_height": 400.984375
   }
  },
  {
   "cell_type": "markdown",
   "source": "As you know, the above system of equations can be written as an Augmented Matrix in the following form:\n\n\n$$ \n\\left[\n\\begin{matrix}\n    40  & 15  \\\\\n    -50 & 25  \n \\end{matrix}\n\\, \\middle\\vert \\,\n\\begin{matrix}\n100 \\\\ 50 \n\\end{matrix}\n\\right] \n$$\n\n",
   "metadata": {
    "cell_id": "00010-e5e674df-2396-4491-9bab-983a9cea39b0",
    "deepnote_cell_type": "markdown",
    "deepnote_cell_height": 143.84375
   }
  },
  {
   "cell_type": "markdown",
   "source": "&#9989; **<font color=red>QUESTION:</font>**  Split apart the augmented matrix  ($ \n\\left[\n\\begin{matrix}\n    A\n \\end{matrix}\n\\, \\middle\\vert \\,\n\\begin{matrix}\nb\n\\end{matrix}\n\\right] \n$) into its left size ($2 \\times 2$) matrix $A$ and its right ($2x1$) matrix $b$. Define the matrices $A$ and $b$ as ```numpy``` matrices:",
   "metadata": {
    "cell_id": "00011-956d3ace-7f7f-4bba-8755-f3da7aebda9e",
    "deepnote_cell_type": "markdown",
    "deepnote_cell_height": 119.5625
   }
  },
  {
   "cell_type": "code",
   "metadata": {
    "cell_id": "00012-7f2919da-3cb5-4c79-9c86-ed4515e1a744",
    "deepnote_to_be_reexecuted": false,
    "source_hash": "e687a041",
    "execution_start": 1653591269882,
    "execution_millis": 2,
    "deepnote_cell_type": "code",
    "deepnote_cell_height": 117
   },
   "source": "#Put your code here\nA = np.matrix([[40,15],[-50,25]])\nb = np.matrix([[100],[50]])",
   "execution_count": null,
   "outputs": []
  },
  {
   "cell_type": "code",
   "metadata": {
    "cell_id": "00013-ca60e642-7ae2-4575-a4b5-3f375080b9fe",
    "deepnote_to_be_reexecuted": false,
    "source_hash": "7b7e09a2",
    "execution_start": 1653591271286,
    "execution_millis": 8,
    "deepnote_cell_type": "code",
    "deepnote_cell_height": 293.5
   },
   "source": "from answercheck import checkanswer\n\ncheckanswer.matrix(A,'f5bfd7c52824d5ac580d0ce1ab98fe68');",
   "execution_count": null,
   "outputs": [
    {
     "name": "stdout",
     "text": "\nCheckWarning: passed matrix is int64 and not <class 'numpy.float64'>...\n    Trying to convert to float using ```A = A.astype(float)```.\n\nTesting [[ 40.  15.]\n [-50.  25.]]\nAnswer seems to be correct\n\n",
     "output_type": "stream"
    }
   ]
  },
  {
   "cell_type": "code",
   "metadata": {
    "cell_id": "00014-e22d62c8-4631-4021-aad2-df438c67982f",
    "deepnote_to_be_reexecuted": false,
    "source_hash": "52a14011",
    "execution_start": 1653591272712,
    "execution_millis": 4,
    "deepnote_cell_type": "code",
    "deepnote_cell_height": 293.5
   },
   "source": "from answercheck import checkanswer\n\ncheckanswer.matrix(b,'c760cd470439f5db82bb165edf4dc3f8');",
   "execution_count": null,
   "outputs": [
    {
     "name": "stdout",
     "text": "\nCheckWarning: passed matrix is int64 and not <class 'numpy.float64'>...\n    Trying to convert to float using ```A = A.astype(float)```.\n\nTesting [[100.]\n [ 50.]]\nAnswer seems to be correct\n\n",
     "output_type": "stream"
    }
   ]
  },
  {
   "cell_type": "markdown",
   "source": "&#9989; **<font color=red>QUESTION:</font>**  solve the above system of equations using the ```np.linalg.solve``` function and store the value in a vector named x:",
   "metadata": {
    "cell_id": "00015-49a440ec-b267-4bb6-ac60-5895c067a9cc",
    "deepnote_cell_type": "markdown",
    "deepnote_cell_height": 97.171875
   }
  },
  {
   "cell_type": "code",
   "metadata": {
    "cell_id": "00016-02f0701a-9026-448e-ad07-69f6107bb17f",
    "deepnote_to_be_reexecuted": false,
    "source_hash": "d3be3739",
    "execution_start": 1653591295184,
    "execution_millis": 2,
    "deepnote_cell_type": "code",
    "deepnote_cell_height": 99
   },
   "source": "# Put your code to the above question here\nx = np.linalg.solve(A,b)",
   "execution_count": null,
   "outputs": []
  },
  {
   "cell_type": "code",
   "metadata": {
    "cell_id": "00017-3cca299d-beeb-46a3-8e64-172b1c7c61fa",
    "deepnote_to_be_reexecuted": false,
    "source_hash": "9c9cf09c",
    "execution_start": 1653591296186,
    "execution_millis": 607,
    "deepnote_cell_type": "code",
    "deepnote_cell_height": 273.3125
   },
   "source": "from answercheck import checkanswer\n\ncheckanswer.vector(x,'fc02fe6d0577c4452ee70252e1e17654');",
   "execution_count": null,
   "outputs": [
    {
     "name": "stdout",
     "text": "\nCheckWarning: numpy.matrix is row vector...\n    Trying to convert to a column vector using ```A = A.T```.\n\nTesting [[1. 4.]]\nAnswer seems to be correct\n\n",
     "output_type": "stream"
    }
   ]
  },
  {
   "cell_type": "markdown",
   "source": "### Sympy RREF function",
   "metadata": {
    "cell_id": "00018-04c05a9c-3b28-4c2a-923a-355c84179a13",
    "deepnote_cell_type": "markdown",
    "deepnote_cell_height": 62
   }
  },
  {
   "cell_type": "markdown",
   "source": "The Python ``sympy`` library has a \"reduced row echelon form\" (rref) function that runs a much more efficient version of the Gauss-Jordan elimination. To use the rref function you must first convert your matrix into a ``sympy.Matrix`` and then run the function. For example, let's do this for the following matrix $B$:",
   "metadata": {
    "cell_id": "00019-3aea8548-706a-4169-80fc-d7457176b344",
    "deepnote_cell_type": "markdown",
    "deepnote_cell_height": 164.34375
   }
  },
  {
   "cell_type": "code",
   "metadata": {
    "cell_id": "00020-6215e253-89f9-4abc-a508-090072d95604",
    "deepnote_to_be_reexecuted": false,
    "source_hash": "a2700e31",
    "execution_start": 1653591303843,
    "execution_millis": 10,
    "deepnote_cell_type": "code",
    "deepnote_cell_height": 212.9375,
    "deepnote_output_heights": [
     97.9375
    ]
   },
   "source": "B = np.matrix([[ 50, 13, 30 ], [100, 26, 60 ],  [20.5, 25, 650]])\nsym.Matrix(B).rref()",
   "execution_count": null,
   "outputs": [
    {
     "output_type": "execute_result",
     "execution_count": 9,
     "data": {
      "text/plain": "⎛⎡1  0  -7.82918149466192⎤        ⎞\n⎜⎢                       ⎥        ⎟\n⎜⎢0  1  32.4199288256228 ⎥, (0, 1)⎟\n⎜⎢                       ⎥        ⎟\n⎝⎣0  0          0        ⎦        ⎠",
      "text/latex": "$\\displaystyle \\left( \\left[\\begin{matrix}1 & 0 & -7.82918149466192\\\\0 & 1 & 32.4199288256228\\\\0 & 0 & 0\\end{matrix}\\right], \\  \\left( 0, \\  1\\right)\\right)$"
     },
     "metadata": {}
    }
   ]
  },
  {
   "cell_type": "markdown",
   "source": "This function outputs two values (a matrix and a tuple).  For the purposes of this class we only care about the matrix.  I generally use the following syntax when using ```rref()```",
   "metadata": {
    "cell_id": "00021-d62d1ad3-d114-4a66-8346-4dbfb8f51305",
    "deepnote_cell_type": "markdown",
    "deepnote_cell_height": 119.5625
   }
  },
  {
   "cell_type": "code",
   "metadata": {
    "scrolled": true,
    "cell_id": "00022-e1486276-ec03-4148-9289-734dcb81b819",
    "deepnote_to_be_reexecuted": false,
    "source_hash": "a01b14b1",
    "execution_start": 1653591319150,
    "execution_millis": 2,
    "deepnote_cell_type": "code",
    "deepnote_cell_height": 194.9375,
    "deepnote_output_heights": [
     97.9375
    ]
   },
   "source": "sym.Matrix(B).rref()[0]",
   "execution_count": null,
   "outputs": [
    {
     "output_type": "execute_result",
     "execution_count": 11,
     "data": {
      "text/plain": "⎡1  0  -7.82918149466192⎤\n⎢                       ⎥\n⎢0  1  32.4199288256228 ⎥\n⎢                       ⎥\n⎣0  0          0        ⎦",
      "text/latex": "$\\displaystyle \\left[\\begin{matrix}1 & 0 & -7.82918149466192\\\\0 & 1 & 32.4199288256228\\\\0 & 0 & 0\\end{matrix}\\right]$"
     },
     "metadata": {}
    }
   ]
  },
  {
   "cell_type": "markdown",
   "source": "&#9989;**<font color=red>QUESTION</font>**: Although we do not use it often in this course, what does the second output of the ```rref``` mean (i.e. what does ```(0,1)``` mean? **_Hint_**: read the documentation for ```rref```. ",
   "metadata": {
    "cell_id": "00023-317c4fae-30b3-4643-aad6-561ce1522f70",
    "deepnote_cell_type": "markdown",
    "deepnote_cell_height": 119.5625
   }
  },
  {
   "cell_type": "markdown",
   "source": "the second output of rref() is a tuple of indices of the pivot columns",
   "metadata": {
    "cell_id": "00024-1a17d2e3-b8aa-4846-afd2-bcd497b40921",
    "deepnote_cell_type": "markdown",
    "deepnote_cell_height": 74.78125
   }
  },
  {
   "cell_type": "markdown",
   "source": "\n\n---\n<a name=Underdetermined-Systems></a>\n## 3. Underdetermined Systems\n\n\n\n\nSometimes we have systems of linear equations where we have more unknowns than equations, in this case we call the system \"underdetermined.\" These types of systems can have an infinite number of solutions.  i.e., we can not find a unique $x$ such that $Ax=b$. In this case, we can find a set of equations that represent all of the solutions that solve the problem by using Gauss Jordan and the Reduced Row Echelon form. Let's consider the following example:\n\n\n$$\\begin{bmatrix}5&-2&2 & 1 \\\\ 4 & -3 &4 &2  \\\\ 4& -6 &7  & 4\\end{bmatrix}\\begin{bmatrix}x_1\\\\x_2\\\\x_3\\\\x_4\\end{bmatrix}=\\begin{bmatrix}1\\\\2\\\\3\\end{bmatrix}$$\n\n\n\n&#9989; **<font color=red>QUESTION</font>** Define an augmented matrix $M$ that represents the above system of equations:",
   "metadata": {
    "cell_id": "00025-623015b4-c01b-4b21-a6e4-e4a4fc7dbae7",
    "owner_user_id": "4d0edd73-5996-47f3-8a71-6799b081c670",
    "deepnote_cell_type": "markdown",
    "deepnote_cell_height": 496.640625
   }
  },
  {
   "cell_type": "code",
   "metadata": {
    "cell_id": "00026-72f63930-17fd-4093-87bc-76490aa5d10f",
    "deepnote_to_be_reexecuted": false,
    "source_hash": "c88e2f5b",
    "execution_start": 1653591542237,
    "execution_millis": 2,
    "deepnote_cell_type": "code",
    "deepnote_cell_height": 99
   },
   "source": "M = np.matrix([[5,-2, 2, 1,1],[4,-3,4,2,2], [4,-6,7,4,3]])\n",
   "execution_count": null,
   "outputs": []
  },
  {
   "cell_type": "code",
   "metadata": {
    "cell_id": "00027-a3f32a5d-979b-4e0e-890a-2d2c942af871",
    "deepnote_to_be_reexecuted": false,
    "source_hash": "8a4a7cbc",
    "execution_start": 1653591543790,
    "execution_millis": 4,
    "deepnote_cell_type": "code",
    "deepnote_cell_height": 313.6875
   },
   "source": "from answercheck import checkanswer\n\ncheckanswer.matrix(M,'efb9b2da0e44984a18f595d7892980e2');",
   "execution_count": null,
   "outputs": [
    {
     "name": "stdout",
     "text": "\nCheckWarning: passed matrix is int64 and not <class 'numpy.float64'>...\n    Trying to convert to float using ```A = A.astype(float)```.\n\nTesting [[ 5. -2.  2.  1.  1.]\n [ 4. -3.  4.  2.  2.]\n [ 4. -6.  7.  4.  3.]]\nAnswer seems to be correct\n\n",
     "output_type": "stream"
    }
   ]
  },
  {
   "cell_type": "markdown",
   "source": "&#9989; **<font color=red>QUESTION</font>** What is the Reduced Row Echelon form for $M$?",
   "metadata": {
    "cell_id": "00028-6eefbf1b-da4f-4dc2-af42-5019b81f9b87",
    "deepnote_cell_type": "markdown",
    "deepnote_cell_height": 74.78125
   }
  },
  {
   "cell_type": "code",
   "metadata": {
    "cell_id": "00029-4942ba71-391b-4365-8984-1b1d9f663e48",
    "deepnote_to_be_reexecuted": false,
    "source_hash": "adf770a2",
    "execution_start": 1653591571154,
    "execution_millis": 0,
    "deepnote_cell_type": "code",
    "deepnote_cell_height": 99
   },
   "source": "# Put your answer to the above question here (store it in a variable called RREF)\nRREF =sym.Matrix(M).rref()[0]",
   "execution_count": null,
   "outputs": []
  },
  {
   "cell_type": "code",
   "metadata": {
    "cell_id": "00030-9015543e-f4a5-4610-8a14-26bc33aea586",
    "deepnote_to_be_reexecuted": false,
    "source_hash": "136523cd",
    "execution_start": 1653591574865,
    "execution_millis": 7,
    "deepnote_cell_type": "code",
    "deepnote_cell_height": 475.1875
   },
   "source": "from answercheck import checkanswer\n\ncheckanswer.matrix(RREF,'f1fa8baac1df4c378db20cff9e91ca5b');",
   "execution_count": null,
   "outputs": [
    {
     "name": "stdout",
     "text": "\nCheckWarning: passed variable is <class 'sympy.matrices.dense.MutableDenseMatrix'> and not a numpy.matrix...\n    Trying to convert to a array matrix using ```A = np.matrix(A)```.\n\n\nCheckWarning: passed matrix is object and not <class 'numpy.float64'>...\n    Trying to convert to float using ```A = A.astype(float)```.\n\n\nCheckWarning: Matrix contains negative values for zero...\n    Converting to positive values of zero using  ```A[A==-0] = 0```.\n\nTesting [[ 1.       0.       0.      -0.06667  0.06667]\n [ 0.       1.       0.      -0.4      0.4    ]\n [ 0.       0.       1.       0.26667  0.73333]]\nAnswer seems to be correct\n\n",
     "output_type": "stream"
    }
   ]
  },
  {
   "cell_type": "markdown",
   "source": "Notice how the above RREF form of the matrix $M$ is different from what we have seen in the past.  In this case not all of our values for $x$ are unique. When we write down a solution to this problem by defining the variables by one or more of the undefined variables.  For example, here we can see that $x_4$ is undefined.  So we say $x_4 = x_4$, i.e. $x_4$ can be any number we want.  Then we can define $x_3$ in terms of $x_4$.  In this case $x_3 = \\frac{11}{15} - \\frac{4}{15}x_4$.  The entire solution can be written out as follows:\n\n$$\n\\begin{align*} \nx_1 &= \\frac{1}{15} + \\frac{1}{15}x_4 \\\\\nx_2 &= \\frac{2}{5} + \\frac{2}{5}x_4 \\\\\nx_3 &= \\frac{11}{15} - \\frac{4}{15}x_4 \\\\\nx_4 &= x_4 \n\\end{align*}\n$$",
   "metadata": {
    "cell_id": "00031-f83a7223-7205-49e0-8110-836cb75ff13f",
    "deepnote_cell_type": "markdown",
    "deepnote_cell_height": 357.46875
   }
  },
  {
   "cell_type": "markdown",
   "source": "&#9989; **<font color=red>DO THIS</font>** Review the above answer and make sure you understand how we get this answer from the Reduced Row Echelon form from above. ",
   "metadata": {
    "cell_id": "00032-94642c97-5062-4f79-8478-0611b4262199",
    "deepnote_cell_type": "markdown",
    "deepnote_cell_height": 97.171875
   }
  },
  {
   "cell_type": "markdown",
   "source": "Sometimes, in an effort to make the solution more clear, we introduce new variables (typically, $r,s,t$) and substitute them in for our undefined variables so the solution would look like the following:\n\n\n$$\n\\begin{align*} \nx_1 &= \\frac{1}{15} + \\frac{1}{15}r \\\\\nx_2 &= \\frac{2}{5} + \\frac{2}{5}r \\\\\nx_3 &= \\frac{11}{15} - \\frac{4}{15}r \\\\\nx_4 &= r \n\\end{align*}\n$$",
   "metadata": {
    "cell_id": "00033-4028efe8-971e-40d6-9a7a-e3cecbde8979",
    "deepnote_cell_type": "markdown",
    "deepnote_cell_height": 223.125
   }
  },
  {
   "cell_type": "markdown",
   "source": "We can find a particular solution to the above problem by inputing any number for $r$.  For example, set $r$ equal to zero and create a vector for all of the $x$ values.\n\n\n$$\n\\begin{align*} \nx_1 &= \\frac{1}{15}\\\\\nx_2 &= \\frac{2}{5}\\\\\nx_3 &= \\frac{11}{15}  \\\\\nx_4 &= 0\n\\end{align*}\n$$",
   "metadata": {
    "cell_id": "00034-4f7c4067-985f-43bf-93d0-f289fd6a0172",
    "deepnote_cell_type": "markdown",
    "deepnote_cell_height": 200.734375
   }
  },
  {
   "cell_type": "code",
   "metadata": {
    "cell_id": "00035-631343ed-3fb5-40d4-9522-640b7cc3bc8d",
    "deepnote_to_be_reexecuted": false,
    "source_hash": "30ab0a5d",
    "execution_start": 1653591601930,
    "execution_millis": 4,
    "deepnote_cell_type": "code",
    "deepnote_cell_height": 247.75,
    "deepnote_output_heights": [
     78.75
    ]
   },
   "source": "##here is the same basic math in python\n\nr = 0\nx = np.matrix([1/15+1/15*r, 2/5+2/5*r, 11/15-4/15*r, r]).T\nx",
   "execution_count": null,
   "outputs": [
    {
     "output_type": "execute_result",
     "execution_count": 25,
     "data": {
      "text/plain": "matrix([[0.06666667],\n        [0.4       ],\n        [0.73333333],\n        [0.        ]])"
     },
     "metadata": {}
    }
   ]
  },
  {
   "cell_type": "markdown",
   "source": "\n---\n<a name=Practice---Curve-Fitting-Example></a>\n## 4. Practice   Curve Fitting Example\n\nConsider the following polynomial with constant scalars $a$, $b$, and $c$, that falls on the $xy$-plane:\n\n$$f(x) = ax^2 + bx + c$$\n",
   "metadata": {
    "cell_id": "00036-8dc3edef-2073-4ca1-ad0b-2babf2c63f00",
    "deepnote_cell_type": "markdown",
    "deepnote_cell_height": 222.171875
   }
  },
  {
   "cell_type": "markdown",
   "source": "&#9989; **<font color=red>QUESTION:</font>**  Is this function linear? Why or why not?",
   "metadata": {
    "cell_id": "00037-dcd5e2c9-7eee-4421-bf7f-40cb533f824f",
    "deepnote_cell_type": "markdown",
    "deepnote_cell_height": 52.390625
   }
  },
  {
   "cell_type": "markdown",
   "source": "**Put your answer to the above question here.**\n\nNo the function is a quadratice because it involves an exponential in the first term.",
   "metadata": {
    "cell_id": "00038-d74705c2-f6c9-406e-9a69-980bbb67b00f",
    "deepnote_cell_type": "markdown",
    "deepnote_cell_height": 111.171875
   }
  },
  {
   "cell_type": "markdown",
   "source": "Assume that we do not know the values of $a$, $b$ and $c$, but we do know that the points (1,2), (-1,12), and (2,3) are on the graph of the above polynomial. We can substitute the known points into the equation above. For example, using point (1,2) we get the following equation:\n\n$$2 = a1^2 + b1 + c$$\n$$\\text{or}$$\n$$2 = a + b + c$$\n\n&#9989; **<font color=red>QUESTION:</font>**  Generate two more equations by substituting points (-1,12) and (2,3) into the above equation:",
   "metadata": {
    "cell_id": "00039-62d8953e-26ce-4c2a-aeac-1e3df6bef97f",
    "deepnote_cell_type": "markdown",
    "deepnote_cell_height": 281.90625
   }
  },
  {
   "cell_type": "markdown",
   "source": "**Put your answer to the above question here. (See if you can use latex as I did above)**\n\n$$12 = a(-1)^2 + b(-1) + c$$\n\n$$3 = a(2)^2 + b(2) + c$$",
   "metadata": {
    "cell_id": "00040-49efd62e-0d27-4999-aa77-efaa1f8f7521",
    "deepnote_cell_type": "markdown",
    "deepnote_cell_height": 147.5625
   }
  },
  {
   "cell_type": "markdown",
   "source": "&#9989; **<font color=red>QUESTION:</font>**  If we did this right, we should have three equations and three unknowns ($a,b,c$).  Note also that these equations are linear (how did that happen?).  Transform this system of equations into two matrices $A$ and $b$ like we did above.",
   "metadata": {
    "cell_id": "00041-d88d8273-3ad4-4d1f-99e0-c14bad20aeee",
    "deepnote_cell_type": "markdown",
    "deepnote_cell_height": 141.953125
   }
  },
  {
   "cell_type": "code",
   "metadata": {
    "cell_id": "00042-d4a6870b-e052-4ee8-9329-cfddce430931",
    "deepnote_to_be_reexecuted": false,
    "source_hash": "60e1a9c4",
    "execution_start": 1653592972010,
    "execution_millis": 0,
    "deepnote_cell_type": "code",
    "deepnote_cell_height": 99
   },
   "source": "A = np.matrix([[1,1,1],[1,-1,1],[4,2,1]])\nb = np.matrix([[2],[12],[3]])",
   "execution_count": null,
   "outputs": []
  },
  {
   "cell_type": "code",
   "metadata": {
    "cell_id": "00043-a9379f55-535d-49f8-818d-f112dcef4af8",
    "deepnote_to_be_reexecuted": false,
    "source_hash": "33ea2892",
    "execution_start": 1653591881633,
    "execution_millis": 3,
    "owner_user_id": "1ad92508-5214-4899-9be6-2377c49dba3a",
    "deepnote_cell_type": "code",
    "deepnote_cell_height": 313.6875
   },
   "source": "from answercheck import checkanswer\n\ncheckanswer.matrix(A,'1896041ded9eebf1cba7e04f32dd1069');",
   "execution_count": null,
   "outputs": [
    {
     "name": "stdout",
     "text": "\nCheckWarning: passed matrix is int64 and not <class 'numpy.float64'>...\n    Trying to convert to float using ```A = A.astype(float)```.\n\nTesting [[ 1.  1.  1.]\n [ 1. -1.  1.]\n [ 4.  2.  1.]]\nAnswer seems to be correct\n\n",
     "output_type": "stream"
    }
   ]
  },
  {
   "cell_type": "code",
   "metadata": {
    "cell_id": "00044-dca991b5-4dbb-49fb-a8dc-acc2f788d5c3",
    "deepnote_to_be_reexecuted": false,
    "source_hash": "e8d6a856",
    "execution_start": 1653591882350,
    "execution_millis": 3,
    "deepnote_cell_type": "code",
    "deepnote_cell_height": 313.6875
   },
   "source": "from answercheck import checkanswer\n\ncheckanswer.matrix(b,'01e594bb535b4e2f5a04758ff567f918');",
   "execution_count": null,
   "outputs": [
    {
     "name": "stdout",
     "text": "\nCheckWarning: passed matrix is int64 and not <class 'numpy.float64'>...\n    Trying to convert to float using ```A = A.astype(float)```.\n\nTesting [[ 2.]\n [12.]\n [ 3.]]\nAnswer seems to be correct\n\n",
     "output_type": "stream"
    }
   ]
  },
  {
   "cell_type": "markdown",
   "source": "&#9989; **<font color=red>QUESTION</font>** Write the code to solve for $x$ (i.e., ($a,b,c$)) using ```numpy```.",
   "metadata": {
    "cell_id": "00045-d4ba44bf-5447-4d29-91b6-936a788b5f95",
    "deepnote_cell_type": "markdown",
    "deepnote_cell_height": 74.78125
   }
  },
  {
   "cell_type": "code",
   "metadata": {
    "cell_id": "00046-5d782fa3-042e-4e42-bc8d-4dbe48e946b9",
    "deepnote_to_be_reexecuted": false,
    "source_hash": "1d6acd19",
    "execution_start": 1653591918076,
    "execution_millis": 1,
    "deepnote_cell_type": "code",
    "deepnote_cell_height": 99
   },
   "source": "#Put your answer to the above question here.\nx = np.linalg.solve(A,b)",
   "execution_count": null,
   "outputs": []
  },
  {
   "cell_type": "code",
   "metadata": {
    "cell_id": "00047-c7df50f1-7545-42f7-aaa5-84967cf7b94f",
    "deepnote_to_be_reexecuted": false,
    "source_hash": "7136ec04",
    "execution_start": 1653591918081,
    "execution_millis": 16,
    "deepnote_cell_type": "code",
    "deepnote_cell_height": 273.3125
   },
   "source": "from answercheck import checkanswer\n\ncheckanswer.vector(x,'1dab22f81c2c156e6adca8ea7ee35dd7');",
   "execution_count": null,
   "outputs": [
    {
     "name": "stdout",
     "text": "\nCheckWarning: numpy.matrix is row vector...\n    Trying to convert to a column vector using ```A = A.T```.\n\nTesting [[ 2. -5.  5.]]\nAnswer seems to be correct\n\n",
     "output_type": "stream"
    }
   ]
  },
  {
   "cell_type": "markdown",
   "source": "&#9989; **<font color=red>QUESTION</font>** Given the value of your ```x``` matrix derived in the previous question, what are the values for $a$, $b$, and $c$?",
   "metadata": {
    "cell_id": "00048-2a48dc44-7b3a-4c42-bf42-316a13753733",
    "deepnote_cell_type": "markdown",
    "deepnote_cell_height": 97.171875
   }
  },
  {
   "cell_type": "code",
   "metadata": {
    "cell_id": "00049-40a3aa2f-e791-46b1-b415-7978e8f15924",
    "deepnote_to_be_reexecuted": false,
    "source_hash": "cbcee894",
    "execution_start": 1653591929158,
    "execution_millis": 2,
    "deepnote_cell_type": "code",
    "deepnote_cell_height": 135
   },
   "source": "#Put your answer to the above question here.\na = 2\nb = -5\nc = 5",
   "execution_count": null,
   "outputs": []
  },
  {
   "cell_type": "markdown",
   "source": "Assuming the above is correct, the following code will print your 2nd order polynomial and plot the original points:",
   "metadata": {
    "cell_id": "00050-b2663f84-4a48-46ad-ba10-c6a129eec5d4",
    "deepnote_cell_type": "markdown",
    "deepnote_cell_height": 97.171875
   }
  },
  {
   "cell_type": "code",
   "metadata": {
    "cell_id": "00051-15a2af0b-792b-4220-980c-695e6d1338e4",
    "deepnote_to_be_reexecuted": false,
    "source_hash": "e2651ed1",
    "execution_start": 1653591930817,
    "execution_millis": 336,
    "deepnote_cell_type": "code",
    "deepnote_cell_height": 611.1875,
    "deepnote_output_heights": [
     21.1875,
     264
    ]
   },
   "source": "x = np.linspace(-3,3)\ny = a*x**2 + b*x + c\n\n#plot the function. (Transpose is needed to make the data line up).\nplt.plot(x,y.transpose())\n\n#Plot the original points\nplt.scatter(1, 2)\nplt.scatter(-1, 12)\nplt.scatter(2, 3)\nplt.xlabel('x-axis')\nplt.ylabel('y-axis')",
   "execution_count": null,
   "outputs": [
    {
     "output_type": "execute_result",
     "execution_count": 42,
     "data": {
      "text/plain": "Text(0, 0.5, 'y-axis')"
     },
     "metadata": {}
    },
    {
     "data": {
      "text/plain": "<Figure size 432x288 with 1 Axes>",
      "image/png": "[encoded data removed]"
     },
     "metadata": {
      "needs_background": "light",
      "image/png": {
       "width": 382,
       "height": 262
      }
     },
     "output_type": "display_data"
    }
   ]
  },
  {
   "cell_type": "markdown",
   "source": "&#9989; **<font color=red>QUESTION</font>** The following program is intended to take four points as inputs ($p1, p2, p3, p4 \\in \\mathbb{R}^2$) and calculate the coefficients $a$, $b$, $c$, and $d$ so that the graph of $f(x) = ax^3 + bx^2 + cx + d$ passes smoothly through the points.  Test the function with the following points (1,2), (-1,6), (2,3), (3,2) as inputs and print the values for $a$, $b$, $c$, and $d$.",
   "metadata": {
    "cell_id": "00052-e4a3fce5-bea2-4dd8-a9d0-a4aa50bb6519",
    "deepnote_cell_type": "markdown",
    "deepnote_cell_height": 186.734375
   }
  },
  {
   "cell_type": "code",
   "metadata": {
    "cell_id": "00053-86b36ea4-f9e6-4168-87ac-20365941749e",
    "deepnote_to_be_reexecuted": false,
    "source_hash": "1c99797a",
    "execution_start": 1653592428063,
    "execution_millis": 0,
    "deepnote_cell_type": "code",
    "deepnote_cell_height": 333
   },
   "source": "def fitPoly3(p1,p2,p3,p4):\n    A = np.matrix([[p1[0]**3, p1[0]**2, p1[0], 1],\n                   [p2[0]**3, p2[0]**2, p2[0], 1],\n                   [p3[0]**3, p3[0]**2, p3[0], 1],\n                   [p4[0]**3, p4[0]**2, p4[0], 1]])\n    \n    b = np.matrix([p1[1],p2[1],p3[1],p4[1]]).T\n\n    X = np.linalg.solve(A, b)\n    a = X[0]\n    b = X[1]\n    c = X[2]\n    d = X[3]\n\n    return (a,b,c,d)",
   "execution_count": null,
   "outputs": []
  },
  {
   "cell_type": "code",
   "metadata": {
    "cell_id": "00054-003e9e71-da25-4728-9c98-a2e17785f795",
    "deepnote_to_be_reexecuted": false,
    "source_hash": "fc87c61a",
    "execution_start": 1653592428064,
    "execution_millis": 32,
    "deepnote_cell_type": "code",
    "deepnote_cell_height": 136.1875,
    "deepnote_output_heights": [
     21.1875
    ]
   },
   "source": "#put your answer to the above question here\nfitPoly3([1,2],[-1,6],[2,3],[3,2])",
   "execution_count": null,
   "outputs": [
    {
     "output_type": "execute_result",
     "execution_count": 60,
     "data": {
      "text/plain": "(matrix([[-0.5]]), matrix([[2.]]), matrix([[-1.5]]), matrix([[2.]]))"
     },
     "metadata": {}
    }
   ]
  },
  {
   "cell_type": "markdown",
   "source": "&#9989; **<font color=red>QUESTION</font>** Modify the above ```fitpoly3``` function to also generate a figure of the input points and the resulting polynomial in range ```x=(-2,4)```. ",
   "metadata": {
    "cell_id": "00055-720beb05-abed-4ade-acd7-c531035fc459",
    "deepnote_cell_type": "markdown",
    "deepnote_cell_height": 97.171875
   }
  },
  {
   "cell_type": "code",
   "metadata": {
    "cell_id": "00056-c6f8c918-fe3b-4273-813d-7899d4368e08",
    "deepnote_to_be_reexecuted": false,
    "source_hash": "cb78216b",
    "execution_start": 1653592850190,
    "execution_millis": 229,
    "deepnote_cell_type": "code",
    "deepnote_cell_height": 1025.1875,
    "deepnote_output_heights": [
     21.1875,
     264
    ]
   },
   "source": "# Put the answer to the above question above or copy and paste the above function and modify it in this cell. \ndef fitPoly3(p1,p2,p3,p4):\n    A = np.matrix([[p1[0]**3, p1[0]**2, p1[0], 1],\n                   [p2[0]**3, p2[0]**2, p2[0], 1],\n                   [p3[0]**3, p3[0]**2, p3[0], 1],\n                   [p4[0]**3, p4[0]**2, p4[0], 1]])\n    \n    b = np.matrix([p1[1],p2[1],p3[1],p4[1]]).T\n\n    X = np.linalg.solve(A, b)\n    a = X[0]\n    b = X[1]\n    c = X[2]\n    d = X[3]\n\n    #Try to put your figure generation code here for the next question \n    #####Start your code here #####\n    x = np.linspace(-2,4)\n    y = a*x**3 + b*x**2 + c*x + d\n\n    #plot the function. (Transpose is needed to make the data line up).\n    plt.plot(x,y.transpose())\n\n    #Plot the original points\n    plt.scatter(p1[0], p1[1])\n    plt.scatter(p2[0], p2[1])\n    plt.scatter(p3[0], p3[1])\n    plt.scatter(p4[0], p4[1])\n    plt.xlabel('x-axis')\n    plt.ylabel('y-axis')\n    \n    #####End of your code here#####       \n    return (a,b,c,d)\n\nfitPoly3([1,2],[-1,6],[2,3],[3,2])",
   "execution_count": null,
   "outputs": [
    {
     "output_type": "execute_result",
     "execution_count": 66,
     "data": {
      "text/plain": "(matrix([[-0.5]]), matrix([[2.]]), matrix([[-1.5]]), matrix([[2.]]))"
     },
     "metadata": {}
    },
    {
     "data": {
      "text/plain": "<Figure size 432x288 with 1 Axes>",
      "image/png": "[encoded data removed]"
     },
     "metadata": {
      "needs_background": "light",
      "image/png": {
       "width": 384,
       "height": 262
      }
     },
     "output_type": "display_data"
    }
   ]
  },
  {
   "cell_type": "markdown",
   "source": "&#9989; **<font color=red>QUESTION</font>** Give any four $\\mathbb{R}^2$ input points to ```fitPoly3```, is there always a unique solution?  Explain your answer. ",
   "metadata": {
    "cell_id": "00057-cd6a4cb4-bcf1-4b68-bcea-13985f4a14d6",
    "owner_user_id": "eba6f924-8d0b-47b0-bf5a-ca6754bad4bd",
    "deepnote_cell_type": "markdown",
    "deepnote_cell_height": 97.171875
   }
  },
  {
   "cell_type": "markdown",
   "source": "Given that fitPoly3 is a cubic equation, it will not always produce a unique solution. If two points are directly stacked above each other, it does not pass the verticle line test, hence not a unique solution. Furthermore, two different cubic curves could hit the same points.",
   "metadata": {
    "cell_id": "00058-0851cc84-2fc0-434f-84c5-2524f4355483",
    "deepnote_cell_type": "markdown",
    "deepnote_cell_height": 141.953125
   }
  },
  {
   "cell_type": "markdown",
   "source": "----\n\nWritten by Dr. Dirk Colbry, Michigan State University\n<a rel=\"license\" href=\"http://creativecommons.org/licenses/by-nc/4.0/\"><img alt=\"Creative Commons License\" style=\"border-width:0\" src=\"https://i.creativecommons.org/l/by-nc/4.0/88x31.png\" /></a><br />This work is licensed under a <a rel=\"license\" href=\"http://creativecommons.org/licenses/by-nc/4.0/\">Creative Commons Attribution-NonCommercial 4.0 International License</a>.",
   "metadata": {
    "cell_id": "00059-4198c7e7-f23a-455c-ae0c-e799a6e32db2",
    "deepnote_cell_type": "markdown",
    "deepnote_cell_height": 191.5625
   }
  },
  {
   "cell_type": "markdown",
   "source": "<a style='text-decoration:none;line-height:16px;display:flex;color:#5B5B62;padding:10px;justify-content:end;' href='https://deepnote.com?utm_source=created-in-deepnote-cell&projectId=d305643f-c00c-4985-a40d-dcbee1f47f30' target=\"_blank\">\n<img alt='Created in deepnote.com' style='display:inline;max-height:16px;margin:0px;margin-right:7.5px;' src='data:image/svg+xml;base64,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' > </img>\nCreated in <span style='font-weight:600;margin-left:4px;'>Deepnote</span></a>",
   "metadata": {
    "tags": [],
    "created_in_deepnote_cell": true,
    "deepnote_cell_type": "markdown"
   }
  }
 ],
 "nbformat": 4,
 "nbformat_minor": 4,
 "metadata": {
  "kernelspec": {
   "display_name": "Python 3",
   "language": "python",
   "name": "python3"
  },
  "language_info": {
   "codemirror_mode": {
    "name": "ipython",
    "version": 3
   },
   "file_extension": ".py",
   "mimetype": "text/x-python",
   "name": "python",
   "nbconvert_exporter": "python",
   "pygments_lexer": "ipython3",
   "version": "3.8.8"
  },
  "deepnote_notebook_id": "a2c82d73-39a3-49e7-9488-025edd371904",
  "deepnote": {},
  "deepnote_execution_queue": []
 }
}