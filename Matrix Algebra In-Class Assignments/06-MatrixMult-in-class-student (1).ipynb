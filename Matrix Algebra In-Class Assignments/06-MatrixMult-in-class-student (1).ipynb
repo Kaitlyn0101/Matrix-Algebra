{
 "cells": [
  {
   "cell_type": "markdown",
   "source": "In order to successfully complete this assignment we recommend that you participate both individually and in groups during class. **Turn in your assignment using D2L no later than 11:59pm on the day of class.** Grading is based on correctness and completion.\n\n---",
   "metadata": {
    "cell_id": "81dc9c84-1efa-4876-b58c-6613d9c53b6d",
    "deepnote_cell_type": "markdown",
    "deepnote_cell_height": 89
   }
  },
  {
   "cell_type": "markdown",
   "source": "",
   "metadata": {
    "cell_id": "ffe93f7e07a24a72ab6695a522888fa0",
    "tags": [],
    "deepnote_cell_type": "markdown",
    "deepnote_cell_height": 46
   }
  },
  {
   "cell_type": "markdown",
   "source": "## Put the names of all group members present today below:",
   "metadata": {
    "formattedRanges": [],
    "cell_id": "7a3491bb614648af8faaa42f50f0d298",
    "tags": [],
    "is_collapsed": false,
    "owner_user_id": "b20a8d7c-2019-4fff-955a-28e798448d8b",
    "deepnote_cell_type": "text-cell-h2"
   }
  },
  {
   "cell_type": "markdown",
   "source": "Kaitlyn Watson, David Robbins,Haobo.Liu, Jacob Miller, Christian Lulaj",
   "metadata": {
    "cell_id": "d356ea68273f429987c6ca18fc9de4a7",
    "tags": [],
    "deepnote_cell_type": "markdown",
    "deepnote_cell_height": 52
   }
  },
  {
   "cell_type": "markdown",
   "source": "# 06 In-Class Assignment: Matrix Multiply\n\n<img src=\"https://www.mathsisfun.com/algebra/images/matrix-multiply-a.svg\" alt=\"Image showing how matrix multiply works.  There is a 2 by 3 matrix multiplied by a 3 by 2 matrix to get a 2 by 2 matrix.  The first row in the first matrix is highlighted and the first column of the second matrix is highlighted. The words 'Dot Product' are pointing to the highlighted row and column and the single value output is shown in as the only element in the upper left of the 2 by 2 result.  Basically the image is showing that the row [1,2,3] dotted with the column [7,9,11] results in the single output of 58.\">\n\nImage from: [www.mathsisfun.com](https://www.mathsisfun.com/algebra/matrix-multiplying.html)",
   "metadata": {
    "cell_id": "00001-d90145bb-c6d0-4f37-8fce-954823fa8575",
    "deepnote_cell_type": "markdown",
    "deepnote_cell_height": 144
   }
  },
  {
   "cell_type": "markdown",
   "source": "### Objectives\n\n1. Know under what conditions on their sizes one can multiply two matrices\n1. Be able to calculate the product of two matrices\n1. Be able to derive conditions under which two matrices commute\n1. Be able to express elementary row operations in terms of multiplication by elementary matrices\n1. Be able to write systems of linear equations with the same left-hand side and different right-hand sides as an augmented matrix and solve them simultaneously.\n1. Be able to program matrix multiplication using elementary operations\n",
   "metadata": {
    "cell_id": "00002-da217bb1-d020-4028-b220-11ff263f0d15",
    "deepnote_cell_type": "markdown",
    "deepnote_cell_height": 261
   }
  },
  {
   "cell_type": "markdown",
   "source": "### Agenda for today's class (80 minutes)\n\n1. (20 minutes) [Review of Pre class assignment](#Review-of-Pre-class-assignment)\n2. (30 minutes) [Systems of Linear Equations with Many Solutions](#Systems-of-Linear-Equations-with-Many-Solutions)\n3. (30 minutes) [Matrix Multiply](#Matrix-Multiply)\n",
   "metadata": {
    "cell_id": "00003-f4f4fcb0-3d55-484c-ac36-c956c5da99c0",
    "deepnote_cell_type": "markdown",
    "deepnote_cell_height": 164
   }
  },
  {
   "cell_type": "markdown",
   "source": "---\n<a name=Review-of-Pre-class-assignment></a>\n## 1. Review of Pre class assignment\n\n",
   "metadata": {
    "cell_id": "00004-c65bab35-dc1e-4ac4-9e04-402aac172a51",
    "deepnote_cell_type": "markdown",
    "deepnote_cell_height": 85
   }
  },
  {
   "cell_type": "markdown",
   "source": "\n---\n<a name=Systems-of-Linear-Equations-with-Many-Solutions></a>\n## 2. Systems of Linear Equations with Many Solutions\n\n\n\n\nWhen we solve a system of equations of the form $Ax=b$, we mentioned that we may have three outcomes: \n\n- a unique solution\n- no solution \n- infinitely many solutions\n\nAssume that we have $m$ equations and $n$ unkowns. \n\n- **Case 1** $m < n$, we do not have enough equations, there will be only **TWO** outcomes: no solution, or infinitely many solutions. \n\n- **Case 2** $m = n$, we may have all **THREE** outcomes. If the determinant is nonzero, we have a unique solution, otherwise, we have to decide the outcome based on the right hand side. \n\n- **Case 3** $m>n$, we have more equations than the number of unknowns. That means there will be redundant equations (we can remove them) or conflicting equations (no solution). We may have all **THREE** outcomes. \n\n",
   "metadata": {
    "cell_id": "00005-01d19829-4296-43d0-b4fb-eb739cdb4b2d",
    "deepnote_cell_type": "markdown",
    "deepnote_cell_height": 389
   }
  },
  {
   "cell_type": "markdown",
   "source": "We talked about several methods for solving the system of equations. The most general one is the Gauss-Jordan or Gaussian elimination, which works for all three cases. Note that Jacobi iterative method can not work on Case 1 and Case 3. \n\nWe will focus on the Gaussian elimination.  After the Gaussian elimiation, we look at the last several rows (could be zero) with all zeros except possibly the last column. \n\nIf one element from the corresponding right hand side is not zero, we have that $0$ equals some nonzero number, which is impossible. Therefore, there is no solution. E.g., \n\n$$\\left[\n\\begin{matrix}\n    1 & 0 & 0  \\\\\n    0 & 1 & 0  \\\\\n    0 & 0 & 1  \\\\\n    0 & 0 & 0\n \\end{matrix}\n \\, \\middle\\vert \\,\n\\begin{matrix}\n2 \\\\ 3 \\\\ 4 \\\\ 5\n\\end{matrix}\n\\right] \n$$\nIn this case, we say that the system is *inconsistent*. Later in the semester we will look into methods that try to find a \"good enough\" solution for an inconsistant system (regression). \n\nOtherwise, we remove all the rows with all zeros (which is the same as removing redundant equations). \nIf the number of remaining equations is the same as the number of unknowns, the rref is an identity matrix, and we have unique solution. E.g.,\n$$\\left[\n\\begin{matrix}\n    1 & 0 & 0  \\\\\n    0 & 1 & 0  \\\\\n    0 & 0 & 1  \\\\\n    0 & 0 & 0\n \\end{matrix}\n \\, \\middle\\vert \\,\n\\begin{matrix}\n2 \\\\ 3 \\\\ 4 \\\\ 0\n\\end{matrix}\n\\right] \n \\Rightarrow \\left[\n\\begin{matrix}\n    1 & 0 & 0  \\\\\n    0 & 1 & 0  \\\\\n    0 & 0 & 1  \\\\\n \\end{matrix}\n \\, \\middle\\vert \\,\n\\begin{matrix}\n2 \\\\ 3 \\\\ 4 \n\\end{matrix}\n\\right] $$",
   "metadata": {
    "cell_id": "00006-0ad6c0dc-6793-4635-87e9-d5fd4768f5c0",
    "owner_user_id": "192b1d1b-306b-4bdd-8c69-79e2eeb9d053",
    "deepnote_cell_type": "markdown",
    "deepnote_cell_height": 408
   }
  },
  {
   "cell_type": "markdown",
   "source": "If the number of remaining equations is less than the number of unknowns, we have infinitely many solutions. Consider the following three examples:\n\n$$\\left[\n\\begin{matrix}\n    1 & 0 & 0  \\\\\n    0 & 1 & 0  \\\\\n    0 & 0 & 0\n \\end{matrix}\n \\, \\middle\\vert \\,\n\\begin{matrix}\n2 \\\\ 3  \\\\ 0\n\\end{matrix}\n\\right] \n \\Rightarrow \\left[\n\\begin{matrix}\n    1 & 0 & 0  \\\\\n    0 & 1 & 0  \\\\\n \\end{matrix}\n \\, \\middle\\vert \\,\n\\begin{matrix}\n2 \\\\ 3  \n\\end{matrix}\n\\right] \\Rightarrow x= [2, 3, x_3]^\\top $$\nwhere $x_3$ is a free variable.\n\n$$\\left[\n\\begin{matrix}\n    1 & 2 & 0  \\\\\n    0 & 0 & 1  \\\\\n    0 & 0 & 0\n \\end{matrix}\n \\, \\middle\\vert \\,\n\\begin{matrix}\n2 \\\\ 3  \\\\ 0\n\\end{matrix}\n\\right] \n \\Rightarrow \\left[\n\\begin{matrix}\n    1 & 2 & 0  \\\\\n    0 & 0 & 1  \\\\\n \\end{matrix}\n \\, \\middle\\vert \\,\n\\begin{matrix}\n2 \\\\ 3  \n\\end{matrix}\n\\right]  \\Rightarrow x= [2-2x_2, x_2, 3]$$\nwhere $x_2$ is a free variable.\n\n$$\\left[\n\\begin{matrix}\n    1 & 2 & 0 & 1 \\\\\n    0 & 0 & 1 & 3 \\\\\n    0 & 0 & 0 & 0\n \\end{matrix}\n \\, \\middle\\vert \\,\n\\begin{matrix}\n2 \\\\ 5  \\\\ 0\n\\end{matrix}\n\\right] \n \\Rightarrow \\left[\n\\begin{matrix}\n    1 & 2 & 0 & 1 \\\\\n    0 & 0 & 1 & 3 \\\\\n \\end{matrix}\n \\, \\middle\\vert \\,\n\\begin{matrix}\n2 \\\\ 5 \n\\end{matrix}\n\\right]  \\Rightarrow x= [2-2x_2-x_4, x_2, 5-3x_4, x_4]$$\nwhere $x_2$ and $x_4$ are free variables.",
   "metadata": {
    "cell_id": "00007-870a4f6b-d79e-43c0-8793-4827a32f6454",
    "deepnote_cell_type": "markdown",
    "deepnote_cell_height": 132
   }
  },
  {
   "cell_type": "markdown",
   "source": "&#9989; **<font color=red>QUESTION:</font>**  Assume that the system is consistent, explain why the number of equations can not be larger than the number of unknowns after the redundant equations are removed? ",
   "metadata": {
    "cell_id": "00008-0d231542-d3e3-4ba4-acd6-e24735c9cb0f",
    "deepnote_cell_type": "markdown",
    "deepnote_cell_height": 74
   }
  },
  {
   "cell_type": "markdown",
   "source": "  If all redundant equations are removed, then there will be conflicting equations resulting in no solution to the system.",
   "metadata": {
    "cell_id": "00009-a0288f33-d9d3-47cb-8192-868048b4b941",
    "deepnote_cell_type": "markdown",
    "deepnote_cell_height": 52
   }
  },
  {
   "cell_type": "markdown",
   "source": "&#9989; **<font color=red>DO THIS:</font>** If there are two solutions for $Ax=b$, that is $Ax=b$ and $Ax'=b$ while $x\\neq x'$. Check that $A(cx+(1-c)x') = b$ for any real number $c$. Therefore, if we have two different solutions, we have infinitely many solutions.",
   "metadata": {
    "cell_id": "00010-aea02b1f-1bf5-4244-8c42-73f0bc1bbe84",
    "deepnote_cell_type": "markdown",
    "deepnote_cell_height": 74
   }
  },
  {
   "cell_type": "markdown",
   "source": "A(cx+ x'-cx')=b \n\nA(cx)+ Ax'-A(cx')=b\n\nc(Ax)+ (1-c)Ax'=b\n\nc(b)+(1-c)b=b\n\ncb+(1-c)b=b\n\ncb+b-cb=b\n\nb=b\n",
   "metadata": {
    "cell_id": "00011-a31739e1-1712-4243-b278-d9df934c7c7f",
    "deepnote_cell_type": "markdown",
    "deepnote_cell_height": 268
   }
  },
  {
   "cell_type": "markdown",
   "source": "If $Ax=b$ and $Ax'=b$, then we have $A(x-x')=0$. If $x$ is a **particular** solution to $Ax=b$, then all the solutions to $Ax=b$ are $\\{x+v: v \\mbox{ is a solution to the homogeneous system } Av=0\\}$. \n\nLet a given solution  $x$ of $Ax=b$ be in $\\mathbb R^n$. **The set of solutions for $Av=0$ forms a subspace of $\\mathbb R^n$,** in other words, if $Av=0$ and $Av'=0$, then $A(v+v')=0$ (closure under addition) and if $Av=0$ and $c$ is any scalar, then $A(cv)=0$, i.e. $cv$ is also a solution to the homogeneous system (closure under scalar multiplication). ",
   "metadata": {
    "cell_id": "00012-f9d51a3f-411d-40d3-9fb2-515fd82c6f17",
    "deepnote_cell_type": "markdown"
   }
  },
  {
   "cell_type": "markdown",
   "source": "After removing the redundant rows, if the number of equations is the same as the number of unknowns, we have a unique solution. If the difference between the number of equations and the number of unknowns is 1, all the solutions lie on a line. If the difference is 2, all the solutions lie on a 2-D plane.  ",
   "metadata": {
    "cell_id": "00013-e6f3bdce-7154-4507-82de-3ab2cf97692a",
    "deepnote_cell_type": "markdown"
   }
  },
  {
   "cell_type": "markdown",
   "source": "&#9989; **<font color=red>QUESTION:</font>**  What is the solution to the following set of linear equations in augmented matrix form?\n\n$$A = \n\\left[\n\\begin{matrix}\n    -2 & 4 & 8  \\\\\n    1 & -2 & 4  \\\\\n    4 & -8 & 16 \n \\end{matrix}\n \\, \\middle\\vert \\,\n\\begin{matrix}\n0 \\\\ 0 \\\\ 0\n\\end{matrix}\n\\right] \n$$",
   "metadata": {
    "cell_id": "00014-ba8fff9d-abbc-4f07-a797-769d0f898050",
    "deepnote_cell_type": "markdown"
   }
  },
  {
   "cell_type": "markdown",
   "source": "**Put the solution to the above question here.**",
   "metadata": {
    "cell_id": "00015-1e670362-6a8b-4b87-89fd-faca7afa898b",
    "deepnote_cell_type": "markdown"
   }
  },
  {
   "cell_type": "code",
   "metadata": {
    "cell_id": "e5b4dde13854487e9c2f8b4787c161da",
    "tags": [],
    "deepnote_to_be_reexecuted": false,
    "source_hash": "b318c4a0",
    "execution_start": 1656270868622,
    "execution_millis": 632,
    "deepnote_cell_type": "code"
   },
   "source": "import sympy\nM = np.matrix([[-2,4,8,0], [1,-2,4,0], [4,-8,16,0]])\nRREF = sympy.Matrix(M).rref()[0]\nRREF\n\n# From RREF, we get:\n# x1 - 2x2 = 0\n# x3 = 0\n# so x2 is dependent and the solution is \n\n# x1 = 2x2\n# x2 = x2\n# x3 = 0",
   "execution_count": null,
   "outputs": [
    {
     "output_type": "error",
     "ename": "NameError",
     "evalue": "name 'np' is not defined",
     "traceback": [
      "\u001b[0;31m---------------------------------------------------------------------------\u001b[0m",
      "\u001b[0;31mNameError\u001b[0m                                 Traceback (most recent call last)",
      "\u001b[0;32m<ipython-input-5-91b526edf1a0>\u001b[0m in \u001b[0;36m<module>\u001b[0;34m\u001b[0m\n\u001b[1;32m      1\u001b[0m \u001b[0;32mimport\u001b[0m \u001b[0msympy\u001b[0m\u001b[0;34m\u001b[0m\u001b[0;34m\u001b[0m\u001b[0m\n\u001b[0;32m----> 2\u001b[0;31m \u001b[0mM\u001b[0m \u001b[0;34m=\u001b[0m \u001b[0mnp\u001b[0m\u001b[0;34m.\u001b[0m\u001b[0mmatrix\u001b[0m\u001b[0;34m(\u001b[0m\u001b[0;34m[\u001b[0m\u001b[0;34m[\u001b[0m\u001b[0;34m-\u001b[0m\u001b[0;36m2\u001b[0m\u001b[0;34m,\u001b[0m\u001b[0;36m4\u001b[0m\u001b[0;34m,\u001b[0m\u001b[0;36m8\u001b[0m\u001b[0;34m,\u001b[0m\u001b[0;36m0\u001b[0m\u001b[0;34m]\u001b[0m\u001b[0;34m,\u001b[0m \u001b[0;34m[\u001b[0m\u001b[0;36m1\u001b[0m\u001b[0;34m,\u001b[0m\u001b[0;34m-\u001b[0m\u001b[0;36m2\u001b[0m\u001b[0;34m,\u001b[0m\u001b[0;36m4\u001b[0m\u001b[0;34m,\u001b[0m\u001b[0;36m0\u001b[0m\u001b[0;34m]\u001b[0m\u001b[0;34m,\u001b[0m \u001b[0;34m[\u001b[0m\u001b[0;36m4\u001b[0m\u001b[0;34m,\u001b[0m\u001b[0;34m-\u001b[0m\u001b[0;36m8\u001b[0m\u001b[0;34m,\u001b[0m\u001b[0;36m16\u001b[0m\u001b[0;34m,\u001b[0m\u001b[0;36m0\u001b[0m\u001b[0;34m]\u001b[0m\u001b[0;34m]\u001b[0m\u001b[0;34m)\u001b[0m\u001b[0;34m\u001b[0m\u001b[0;34m\u001b[0m\u001b[0m\n\u001b[0m\u001b[1;32m      3\u001b[0m \u001b[0mRREF\u001b[0m \u001b[0;34m=\u001b[0m \u001b[0msympy\u001b[0m\u001b[0;34m.\u001b[0m\u001b[0mMatrix\u001b[0m\u001b[0;34m(\u001b[0m\u001b[0mM\u001b[0m\u001b[0;34m)\u001b[0m\u001b[0;34m.\u001b[0m\u001b[0mrref\u001b[0m\u001b[0;34m(\u001b[0m\u001b[0;34m)\u001b[0m\u001b[0;34m[\u001b[0m\u001b[0;36m0\u001b[0m\u001b[0;34m]\u001b[0m\u001b[0;34m\u001b[0m\u001b[0;34m\u001b[0m\u001b[0m\n\u001b[1;32m      4\u001b[0m \u001b[0mRREF\u001b[0m\u001b[0;34m\u001b[0m\u001b[0;34m\u001b[0m\u001b[0m\n\u001b[1;32m      5\u001b[0m \u001b[0;34m\u001b[0m\u001b[0m\n",
      "\u001b[0;31mNameError\u001b[0m: name 'np' is not defined"
     ]
    }
   ]
  },
  {
   "cell_type": "markdown",
   "source": "\n---\n<a name=Matrix-Multiply></a>\n## 3. Matrix Multiply\n\n\n\n&#9989; **<font color=red>DO THIS:</font>** Write your own matrix multiplication function using the template below and compare it to the built-in matrix multiplication that can be found in ```numpy```. Your function should take two \"lists of lists\" as inputs and return the result as a third list of lists.  ",
   "metadata": {
    "cell_id": "00016-ea2ab820-d071-4a2d-95dc-dce3fb15b1a3",
    "deepnote_cell_type": "markdown"
   }
  },
  {
   "cell_type": "code",
   "metadata": {
    "cell_id": "00017-69587918-d6ed-4aae-b265-87081765949c",
    "deepnote_to_be_reexecuted": false,
    "source_hash": "65dc34ce",
    "execution_start": 1656270870539,
    "execution_millis": 1374,
    "deepnote_cell_type": "code"
   },
   "source": "#some libraries (maybe not all) you will need in this notebook\n%matplotlib inline\nimport matplotlib.pyplot as plt\nimport numpy as np\nimport sympy as sym\nsym.init_printing(use_unicode=True)\n\nimport random\nimport time",
   "execution_count": null,
   "outputs": []
  },
  {
   "cell_type": "markdown",
   "source": "",
   "metadata": {
    "cell_id": "69bd56ecdc594943a589da568a53a560",
    "tags": [],
    "deepnote_cell_type": "markdown"
   }
  },
  {
   "cell_type": "code",
   "metadata": {
    "cell_id": "00018-17227f39-dd45-4358-b3b0-1144c8ec8840",
    "deepnote_to_be_reexecuted": false,
    "source_hash": "5aecd54a",
    "execution_start": 1656270871920,
    "execution_millis": 1,
    "owner_user_id": "a464456a-c3c6-450f-a8c1-17fcb565d65e",
    "deepnote_cell_type": "code"
   },
   "source": "def multiply(m1,m2):\n    #first matrix is nxd in size\n    #second matrix is dxm in size\n    n = len(m1) \n    d = len(m2)\n    m = len(m2[0])\n    \n    #check to make sure sizes match\n    if len(m1[0]) != d:\n        print(\"ERROR - inner dimentions not equal\")\n\n    #### put your matrix multiply code here #####\n \n    result=[[0]*m for j in range(n)]\n   \n    for i in range(n):\n        for j in range(m):\n            for k in range(d):\n                result[i][j] += m1[i][k] * m2[k][j]\n    \n    for r in result:\n        \n        return result\n   \n ",
   "execution_count": null,
   "outputs": []
  },
  {
   "cell_type": "markdown",
   "source": "Test your code with the following examples",
   "metadata": {
    "cell_id": "00019-de918402-da92-42d0-8819-46ad76a50fd3",
    "deepnote_cell_type": "markdown"
   }
  },
  {
   "cell_type": "code",
   "metadata": {
    "cell_id": "00020-5821760e-5ad5-462d-ba86-cfd0f3d15bed",
    "deepnote_to_be_reexecuted": false,
    "source_hash": "e0ccaf10",
    "execution_start": 1656270871927,
    "execution_millis": 272,
    "deepnote_cell_type": "code"
   },
   "source": "#Basic test 1\nn = 3\nd = 2\nm = 4\n\n#generate two random lists of lists.\nmatrix1 = [[random.random() for i in range(d)] for j in range(n)]\nmatrix2 = [[random.random() for i in range(m)] for j in range(d)]\nmultiply(matrix1,matrix2)",
   "execution_count": null,
   "outputs": [
    {
     "output_type": "execute_result",
     "execution_count": 8,
     "data": {
      "text/plain": "[[0.5126318584716838, 0.7717362028610819, 0.42861248102203753, 0.7337311603994\n124], [0.7872101580184926, 1.037141459994142, 0.6484450167505357, 1.0310380429\n805306], [0.5419749036293492, 0.8323759865453708, 0.45423052013297516, 0.78637\n98720947963]]",
      "image/png": "[encoded data removed]",
      "text/latex": "$\\displaystyle \\left[ \\left[ 0.512631858471684, \\  0.771736202861082, \\  0.428612481022038, \\  0.733731160399412\\right], \\  \\left[ 0.787210158018493, \\  1.03714145999414, \\  0.648445016750536, \\  1.03103804298053\\right], \\  \\left[ 0.541974903629349, \\  0.832375986545371, \\  0.454230520132975, \\  0.786379872094796\\right]\\right]$"
     },
     "metadata": {
      "image/png": {
       "width": 2731,
       "height": 21
      }
     }
    }
   ]
  },
  {
   "cell_type": "code",
   "metadata": {
    "cell_id": "00021-b123deea-0759-4dda-8d6e-94c170fa9f8f",
    "deepnote_to_be_reexecuted": false,
    "source_hash": "d760957e",
    "execution_start": 1656270872206,
    "execution_millis": 15,
    "deepnote_cell_type": "code"
   },
   "source": "sym.init_printing(use_unicode=True) # Trick to make matrixes look nice in jupyter\n\nsym.Matrix(matrix1) # Show matrix using sympy",
   "execution_count": null,
   "outputs": [
    {
     "output_type": "execute_result",
     "execution_count": 9,
     "data": {
      "text/plain": "⎡0.534100800494782  0.531896784631197⎤\n⎢                                    ⎥\n⎢0.836599548486712  0.609259217979046⎥\n⎢                                    ⎥\n⎣0.562845260692982  0.585438541248434⎦",
      "text/latex": "$\\displaystyle \\left[\\begin{matrix}0.534100800494782 & 0.531896784631197\\\\0.836599548486712 & 0.609259217979046\\\\0.562845260692982 & 0.585438541248434\\end{matrix}\\right]$"
     },
     "metadata": {}
    }
   ]
  },
  {
   "cell_type": "code",
   "metadata": {
    "cell_id": "00022-d10a2a52-fb39-4229-af71-c901b3615399",
    "deepnote_to_be_reexecuted": false,
    "source_hash": "7f217f44",
    "execution_start": 1656270872223,
    "execution_millis": 58,
    "deepnote_cell_type": "code"
   },
   "source": "sym.Matrix(matrix2) # Show matrix using sympy",
   "execution_count": null,
   "outputs": [
    {
     "output_type": "execute_result",
     "execution_count": 10,
     "data": {
      "text/plain": "⎡0.889696919157413   0.681264824235438  0.700540001635121  0.847753691168719⎤\n⎢                                                                           ⎥\n⎣0.0703971575574206  0.766825682488013  0.102376075478365  0.528195024752017⎦",
      "text/latex": "$\\displaystyle \\left[\\begin{matrix}0.889696919157413 & 0.681264824235438 & 0.700540001635121 & 0.847753691168719\\\\0.0703971575574206 & 0.766825682488013 & 0.102376075478365 & 0.528195024752017\\end{matrix}\\right]$"
     },
     "metadata": {}
    }
   ]
  },
  {
   "cell_type": "code",
   "metadata": {
    "cell_id": "00023-387ec5c4-0024-4e9b-83dc-53b5ee3a5699",
    "deepnote_to_be_reexecuted": false,
    "source_hash": "e9852486",
    "execution_start": 1656270873397,
    "execution_millis": 4,
    "deepnote_cell_type": "code"
   },
   "source": "#Compute matrix multiply using your function\nx = multiply(matrix1, matrix2)",
   "execution_count": null,
   "outputs": []
  },
  {
   "cell_type": "code",
   "metadata": {
    "cell_id": "00024-9521872e-2641-47fa-940b-f3751003fe9a",
    "deepnote_to_be_reexecuted": false,
    "source_hash": "ddbb8347",
    "execution_start": 1656270873408,
    "execution_millis": 14,
    "deepnote_cell_type": "code"
   },
   "source": "#Compare to numpy result\nnp_x = np.matrix(matrix1)*np.matrix(matrix2)\n\n#use allclose function to see if they are numrically \"close enough\"\nprint(np.allclose(x, np_x))\n\n#Result should be True",
   "execution_count": null,
   "outputs": [
    {
     "name": "stdout",
     "text": "True\n",
     "output_type": "stream"
    }
   ]
  },
  {
   "cell_type": "code",
   "metadata": {
    "cell_id": "00025-15bd63ab-8a38-4212-b35a-6d2e377bdd39",
    "deepnote_to_be_reexecuted": false,
    "source_hash": "dee70bbb",
    "execution_start": 1656270873437,
    "execution_millis": 39,
    "deepnote_cell_type": "code"
   },
   "source": "#Test identity matrix\nn = 4\n\n# Make a Random Matrix\nmatrix1 = [[random.random() for i in range(n)] for j in range(n)]\nsym.Matrix(matrix1) # Show matrix using sympy",
   "execution_count": null,
   "outputs": [
    {
     "output_type": "execute_result",
     "execution_count": 13,
     "data": {
      "text/plain": "⎡0.160318830302873  0.313613170719952  0.578914528385445   0.761173013298702⎤\n⎢                                                                           ⎥\n⎢0.353194051972333  0.460243582331071  0.0549263631404713  0.790587083303649⎥\n⎢                                                                           ⎥\n⎢0.203151543988773  0.157108809704402  0.859924308330777   0.727250244105707⎥\n⎢                                                                           ⎥\n⎣0.047172770302913  0.651277802042437  0.473778082587318   0.144563469868934⎦",
      "text/latex": "$\\displaystyle \\left[\\begin{matrix}0.160318830302873 & 0.313613170719952 & 0.578914528385445 & 0.761173013298702\\\\0.353194051972333 & 0.460243582331071 & 0.0549263631404713 & 0.790587083303649\\\\0.203151543988773 & 0.157108809704402 & 0.859924308330777 & 0.727250244105707\\\\0.047172770302913 & 0.651277802042437 & 0.473778082587318 & 0.144563469868934\\end{matrix}\\right]$"
     },
     "metadata": {}
    }
   ]
  },
  {
   "cell_type": "code",
   "metadata": {
    "cell_id": "00026-824dfedb-fe73-4039-a572-0ec92555feda",
    "deepnote_to_be_reexecuted": false,
    "source_hash": "b2aa998c",
    "execution_start": 1656270874438,
    "execution_millis": 12,
    "deepnote_cell_type": "code"
   },
   "source": "#generate a 3x3 identity matrix\nmatrix2 = [[0 for i in range(n)] for j in range(n)]\nfor i in range(n):\n    matrix2[i][i] = 1\nsym.Matrix(matrix2) # Show matrix using sympy",
   "execution_count": null,
   "outputs": [
    {
     "output_type": "execute_result",
     "execution_count": 14,
     "data": {
      "text/plain": "⎡1  0  0  0⎤\n⎢          ⎥\n⎢0  1  0  0⎥\n⎢          ⎥\n⎢0  0  1  0⎥\n⎢          ⎥\n⎣0  0  0  1⎦",
      "text/latex": "$\\displaystyle \\left[\\begin{matrix}1 & 0 & 0 & 0\\\\0 & 1 & 0 & 0\\\\0 & 0 & 1 & 0\\\\0 & 0 & 0 & 1\\end{matrix}\\right]$"
     },
     "metadata": {}
    }
   ]
  },
  {
   "cell_type": "code",
   "metadata": {
    "cell_id": "00027-2d897a1a-103f-4086-9767-ff19b01c2711",
    "deepnote_to_be_reexecuted": false,
    "source_hash": "a8867948",
    "execution_start": 1656270875142,
    "execution_millis": 9,
    "deepnote_cell_type": "code"
   },
   "source": "result = multiply(matrix1, matrix2)\n\n#Verify results are the same as the original\nnp.allclose(matrix1, result)",
   "execution_count": null,
   "outputs": [
    {
     "output_type": "execute_result",
     "execution_count": 15,
     "data": {
      "text/plain": "True"
     },
     "metadata": {}
    }
   ]
  },
  {
   "cell_type": "markdown",
   "source": "### Timing Study\nIn this part, you will compare your matrix multiplication with the ```numpy``` matrix multiplication. \nYou will multiply two randomly generated $n\\times n$ matrices using both the ```multiply()``` function defined above and the ```numpy``` matrix multiplication. \nHere is the basic structure of your timing study:\n\n1. Initialize two empty lists called ```my_time``` and ```numpy_time```\n2. Loop over values of n (100, 200, 300, 400, 500)\n3. For each value of $n$ use the time.clock() function to calculate the time it takes to use your algorithm and append that time (in seconds) to the ```my_time``` list.\n4. For each value of $n$ use the time.clock() function to calculate the time it takes to use the ```numpy``` matrix multiplication and append that time (in seconds) to the ```numpy_time``` list.\n5. Use the provided code to generate a scatter plot of your results.",
   "metadata": {
    "cell_id": "00028-8a7fd00d-2b4f-4ade-b2a5-f1137b57aee3",
    "deepnote_cell_type": "markdown"
   }
  },
  {
   "cell_type": "code",
   "metadata": {
    "cell_id": "00029-9e3078eb-1bdf-462e-b3d1-97b1e23bbd3d",
    "deepnote_to_be_reexecuted": false,
    "source_hash": "d0336336",
    "execution_start": 1656270876365,
    "execution_millis": 4,
    "deepnote_cell_type": "code"
   },
   "source": "n_list = [100, 200, 300, 400, 500]\nmy_time = []\nnumpy_time = []",
   "execution_count": null,
   "outputs": []
  },
  {
   "cell_type": "code",
   "metadata": {
    "cell_id": "00030-7ef1c53c-da61-4ec2-8cf1-28dee2f57393",
    "deepnote_to_be_reexecuted": false,
    "source_hash": "f3fa7c77",
    "execution_start": 1656270876700,
    "execution_millis": 20685,
    "deepnote_cell_type": "code"
   },
   "source": "# RUN AT YOUR OWN RISK.\n# THIS MAY TAKE A WHILE!!!!\n\nfor n in n_list:\n    print(f\"Measureing time it takes to multiply matrixes of size {n}\")\n    #Generate random nxn array of two lists\n    matrix1 = [[random.random() for i in range(n)] for j in range(n)]\n    matrix2 = [[random.random() for i in range(n)] for j in range(n)]\n    start = time.time()\n    x = multiply(matrix1, matrix2)\n    stop = time.time()\n    my_time.append(stop - start)\n    \n    #Convert the lists to a numpy matrix\n    npm1 = np.matrix(matrix1)\n    npm2 = np.matrix(matrix2)\n\n    #Calculate the time it takes to run the numpy matrix. \n    start = time.time()\n    answer = npm1*npm2\n    stop = time.time()\n    numpy_time.append(stop - start)",
   "execution_count": null,
   "outputs": [
    {
     "name": "stdout",
     "text": "Measureing time it takes to multiply matrixes of size 100\nMeasureing time it takes to multiply matrixes of size 200\nMeasureing time it takes to multiply matrixes of size 300\nMeasureing time it takes to multiply matrixes of size 400\n",
     "output_type": "stream"
    },
    {
     "output_type": "error",
     "ename": "KeyboardInterrupt",
     "evalue": "",
     "traceback": [
      "\u001b[0;31m---------------------------------------------------------------------------\u001b[0m",
      "\u001b[0;31mKeyboardInterrupt\u001b[0m                         Traceback (most recent call last)",
      "\u001b[0;32m<ipython-input-17-0e4a5dad09bb>\u001b[0m in \u001b[0;36m<module>\u001b[0;34m\u001b[0m\n\u001b[1;32m      8\u001b[0m     \u001b[0mmatrix2\u001b[0m \u001b[0;34m=\u001b[0m \u001b[0;34m[\u001b[0m\u001b[0;34m[\u001b[0m\u001b[0mrandom\u001b[0m\u001b[0;34m.\u001b[0m\u001b[0mrandom\u001b[0m\u001b[0;34m(\u001b[0m\u001b[0;34m)\u001b[0m \u001b[0;32mfor\u001b[0m \u001b[0mi\u001b[0m \u001b[0;32min\u001b[0m \u001b[0mrange\u001b[0m\u001b[0;34m(\u001b[0m\u001b[0mn\u001b[0m\u001b[0;34m)\u001b[0m\u001b[0;34m]\u001b[0m \u001b[0;32mfor\u001b[0m \u001b[0mj\u001b[0m \u001b[0;32min\u001b[0m \u001b[0mrange\u001b[0m\u001b[0;34m(\u001b[0m\u001b[0mn\u001b[0m\u001b[0;34m)\u001b[0m\u001b[0;34m]\u001b[0m\u001b[0;34m\u001b[0m\u001b[0;34m\u001b[0m\u001b[0m\n\u001b[1;32m      9\u001b[0m     \u001b[0mstart\u001b[0m \u001b[0;34m=\u001b[0m \u001b[0mtime\u001b[0m\u001b[0;34m.\u001b[0m\u001b[0mtime\u001b[0m\u001b[0;34m(\u001b[0m\u001b[0;34m)\u001b[0m\u001b[0;34m\u001b[0m\u001b[0;34m\u001b[0m\u001b[0m\n\u001b[0;32m---> 10\u001b[0;31m     \u001b[0mx\u001b[0m \u001b[0;34m=\u001b[0m \u001b[0mmultiply\u001b[0m\u001b[0;34m(\u001b[0m\u001b[0mmatrix1\u001b[0m\u001b[0;34m,\u001b[0m \u001b[0mmatrix2\u001b[0m\u001b[0;34m)\u001b[0m\u001b[0;34m\u001b[0m\u001b[0;34m\u001b[0m\u001b[0m\n\u001b[0m\u001b[1;32m     11\u001b[0m     \u001b[0mstop\u001b[0m \u001b[0;34m=\u001b[0m \u001b[0mtime\u001b[0m\u001b[0;34m.\u001b[0m\u001b[0mtime\u001b[0m\u001b[0;34m(\u001b[0m\u001b[0;34m)\u001b[0m\u001b[0;34m\u001b[0m\u001b[0;34m\u001b[0m\u001b[0m\n\u001b[1;32m     12\u001b[0m     \u001b[0mmy_time\u001b[0m\u001b[0;34m.\u001b[0m\u001b[0mappend\u001b[0m\u001b[0;34m(\u001b[0m\u001b[0mstop\u001b[0m \u001b[0;34m-\u001b[0m \u001b[0mstart\u001b[0m\u001b[0;34m)\u001b[0m\u001b[0;34m\u001b[0m\u001b[0;34m\u001b[0m\u001b[0m\n",
      "\u001b[0;32m<ipython-input-7-8e6df89c4d66>\u001b[0m in \u001b[0;36mmultiply\u001b[0;34m(m1, m2)\u001b[0m\n\u001b[1;32m     17\u001b[0m         \u001b[0;32mfor\u001b[0m \u001b[0mj\u001b[0m \u001b[0;32min\u001b[0m \u001b[0mrange\u001b[0m\u001b[0;34m(\u001b[0m\u001b[0mm\u001b[0m\u001b[0;34m)\u001b[0m\u001b[0;34m:\u001b[0m\u001b[0;34m\u001b[0m\u001b[0;34m\u001b[0m\u001b[0m\n\u001b[1;32m     18\u001b[0m             \u001b[0;32mfor\u001b[0m \u001b[0mk\u001b[0m \u001b[0;32min\u001b[0m \u001b[0mrange\u001b[0m\u001b[0;34m(\u001b[0m\u001b[0md\u001b[0m\u001b[0;34m)\u001b[0m\u001b[0;34m:\u001b[0m\u001b[0;34m\u001b[0m\u001b[0;34m\u001b[0m\u001b[0m\n\u001b[0;32m---> 19\u001b[0;31m                 \u001b[0mresult\u001b[0m\u001b[0;34m[\u001b[0m\u001b[0mi\u001b[0m\u001b[0;34m]\u001b[0m\u001b[0;34m[\u001b[0m\u001b[0mj\u001b[0m\u001b[0;34m]\u001b[0m \u001b[0;34m+=\u001b[0m \u001b[0mm1\u001b[0m\u001b[0;34m[\u001b[0m\u001b[0mi\u001b[0m\u001b[0;34m]\u001b[0m\u001b[0;34m[\u001b[0m\u001b[0mk\u001b[0m\u001b[0;34m]\u001b[0m \u001b[0;34m*\u001b[0m \u001b[0mm2\u001b[0m\u001b[0;34m[\u001b[0m\u001b[0mk\u001b[0m\u001b[0;34m]\u001b[0m\u001b[0;34m[\u001b[0m\u001b[0mj\u001b[0m\u001b[0;34m]\u001b[0m\u001b[0;34m\u001b[0m\u001b[0;34m\u001b[0m\u001b[0m\n\u001b[0m\u001b[1;32m     20\u001b[0m \u001b[0;34m\u001b[0m\u001b[0m\n\u001b[1;32m     21\u001b[0m     \u001b[0;32mfor\u001b[0m \u001b[0mr\u001b[0m \u001b[0;32min\u001b[0m \u001b[0mresult\u001b[0m\u001b[0;34m:\u001b[0m\u001b[0;34m\u001b[0m\u001b[0;34m\u001b[0m\u001b[0m\n",
      "\u001b[0;31mKeyboardInterrupt\u001b[0m: "
     ]
    }
   ]
  },
  {
   "cell_type": "code",
   "metadata": {
    "cell_id": "00031-75b68e76-569f-4918-9c51-fd382e056e2b",
    "deepnote_to_be_reexecuted": false,
    "source_hash": "3f986313",
    "execution_start": 1656270901617,
    "execution_millis": 238,
    "deepnote_cell_type": "code"
   },
   "source": "plt.scatter(n_list,my_time, color='red', label = 'my time')\nplt.scatter(n_list,numpy_time, color='green', label='numpy time')\n\nplt.xlabel('Size of $n x n$ matrix');\nplt.ylabel('time (seconds)')\nplt.legend();",
   "execution_count": null,
   "outputs": [
    {
     "output_type": "error",
     "ename": "ValueError",
     "evalue": "x and y must be the same size",
     "traceback": [
      "\u001b[0;31m---------------------------------------------------------------------------\u001b[0m",
      "\u001b[0;31mValueError\u001b[0m                                Traceback (most recent call last)",
      "\u001b[0;32m<ipython-input-18-f76aca6efc05>\u001b[0m in \u001b[0;36m<module>\u001b[0;34m\u001b[0m\n\u001b[0;32m----> 1\u001b[0;31m \u001b[0mplt\u001b[0m\u001b[0;34m.\u001b[0m\u001b[0mscatter\u001b[0m\u001b[0;34m(\u001b[0m\u001b[0mn_list\u001b[0m\u001b[0;34m,\u001b[0m\u001b[0mmy_time\u001b[0m\u001b[0;34m,\u001b[0m \u001b[0mcolor\u001b[0m\u001b[0;34m=\u001b[0m\u001b[0;34m'red'\u001b[0m\u001b[0;34m,\u001b[0m \u001b[0mlabel\u001b[0m \u001b[0;34m=\u001b[0m \u001b[0;34m'my time'\u001b[0m\u001b[0;34m)\u001b[0m\u001b[0;34m\u001b[0m\u001b[0;34m\u001b[0m\u001b[0m\n\u001b[0m\u001b[1;32m      2\u001b[0m \u001b[0mplt\u001b[0m\u001b[0;34m.\u001b[0m\u001b[0mscatter\u001b[0m\u001b[0;34m(\u001b[0m\u001b[0mn_list\u001b[0m\u001b[0;34m,\u001b[0m\u001b[0mnumpy_time\u001b[0m\u001b[0;34m,\u001b[0m \u001b[0mcolor\u001b[0m\u001b[0;34m=\u001b[0m\u001b[0;34m'green'\u001b[0m\u001b[0;34m,\u001b[0m \u001b[0mlabel\u001b[0m\u001b[0;34m=\u001b[0m\u001b[0;34m'numpy time'\u001b[0m\u001b[0;34m)\u001b[0m\u001b[0;34m\u001b[0m\u001b[0;34m\u001b[0m\u001b[0m\n\u001b[1;32m      3\u001b[0m \u001b[0;34m\u001b[0m\u001b[0m\n\u001b[1;32m      4\u001b[0m \u001b[0mplt\u001b[0m\u001b[0;34m.\u001b[0m\u001b[0mxlabel\u001b[0m\u001b[0;34m(\u001b[0m\u001b[0;34m'Size of $n x n$ matrix'\u001b[0m\u001b[0;34m)\u001b[0m\u001b[0;34m;\u001b[0m\u001b[0;34m\u001b[0m\u001b[0;34m\u001b[0m\u001b[0m\n\u001b[1;32m      5\u001b[0m \u001b[0mplt\u001b[0m\u001b[0;34m.\u001b[0m\u001b[0mylabel\u001b[0m\u001b[0;34m(\u001b[0m\u001b[0;34m'time (seconds)'\u001b[0m\u001b[0;34m)\u001b[0m\u001b[0;34m\u001b[0m\u001b[0;34m\u001b[0m\u001b[0m\n",
      "\u001b[0;32m/shared-libs/python3.7/py/lib/python3.7/site-packages/matplotlib/pyplot.py\u001b[0m in \u001b[0;36mscatter\u001b[0;34m(x, y, s, c, marker, cmap, norm, vmin, vmax, alpha, linewidths, edgecolors, plotnonfinite, data, **kwargs)\u001b[0m\n\u001b[1;32m   2821\u001b[0m         \u001b[0mvmin\u001b[0m\u001b[0;34m=\u001b[0m\u001b[0mvmin\u001b[0m\u001b[0;34m,\u001b[0m \u001b[0mvmax\u001b[0m\u001b[0;34m=\u001b[0m\u001b[0mvmax\u001b[0m\u001b[0;34m,\u001b[0m \u001b[0malpha\u001b[0m\u001b[0;34m=\u001b[0m\u001b[0malpha\u001b[0m\u001b[0;34m,\u001b[0m \u001b[0mlinewidths\u001b[0m\u001b[0;34m=\u001b[0m\u001b[0mlinewidths\u001b[0m\u001b[0;34m,\u001b[0m\u001b[0;34m\u001b[0m\u001b[0;34m\u001b[0m\u001b[0m\n\u001b[1;32m   2822\u001b[0m         \u001b[0medgecolors\u001b[0m\u001b[0;34m=\u001b[0m\u001b[0medgecolors\u001b[0m\u001b[0;34m,\u001b[0m \u001b[0mplotnonfinite\u001b[0m\u001b[0;34m=\u001b[0m\u001b[0mplotnonfinite\u001b[0m\u001b[0;34m,\u001b[0m\u001b[0;34m\u001b[0m\u001b[0;34m\u001b[0m\u001b[0m\n\u001b[0;32m-> 2823\u001b[0;31m         **({\"data\": data} if data is not None else {}), **kwargs)\n\u001b[0m\u001b[1;32m   2824\u001b[0m     \u001b[0msci\u001b[0m\u001b[0;34m(\u001b[0m\u001b[0m__ret\u001b[0m\u001b[0;34m)\u001b[0m\u001b[0;34m\u001b[0m\u001b[0;34m\u001b[0m\u001b[0m\n\u001b[1;32m   2825\u001b[0m     \u001b[0;32mreturn\u001b[0m \u001b[0m__ret\u001b[0m\u001b[0;34m\u001b[0m\u001b[0;34m\u001b[0m\u001b[0m\n",
      "\u001b[0;32m/shared-libs/python3.7/py/lib/python3.7/site-packages/matplotlib/__init__.py\u001b[0m in \u001b[0;36minner\u001b[0;34m(ax, data, *args, **kwargs)\u001b[0m\n\u001b[1;32m   1410\u001b[0m     \u001b[0;32mdef\u001b[0m \u001b[0minner\u001b[0m\u001b[0;34m(\u001b[0m\u001b[0max\u001b[0m\u001b[0;34m,\u001b[0m \u001b[0;34m*\u001b[0m\u001b[0margs\u001b[0m\u001b[0;34m,\u001b[0m \u001b[0mdata\u001b[0m\u001b[0;34m=\u001b[0m\u001b[0;32mNone\u001b[0m\u001b[0;34m,\u001b[0m \u001b[0;34m**\u001b[0m\u001b[0mkwargs\u001b[0m\u001b[0;34m)\u001b[0m\u001b[0;34m:\u001b[0m\u001b[0;34m\u001b[0m\u001b[0;34m\u001b[0m\u001b[0m\n\u001b[1;32m   1411\u001b[0m         \u001b[0;32mif\u001b[0m \u001b[0mdata\u001b[0m \u001b[0;32mis\u001b[0m \u001b[0;32mNone\u001b[0m\u001b[0;34m:\u001b[0m\u001b[0;34m\u001b[0m\u001b[0;34m\u001b[0m\u001b[0m\n\u001b[0;32m-> 1412\u001b[0;31m             \u001b[0;32mreturn\u001b[0m \u001b[0mfunc\u001b[0m\u001b[0;34m(\u001b[0m\u001b[0max\u001b[0m\u001b[0;34m,\u001b[0m \u001b[0;34m*\u001b[0m\u001b[0mmap\u001b[0m\u001b[0;34m(\u001b[0m\u001b[0msanitize_sequence\u001b[0m\u001b[0;34m,\u001b[0m \u001b[0margs\u001b[0m\u001b[0;34m)\u001b[0m\u001b[0;34m,\u001b[0m \u001b[0;34m**\u001b[0m\u001b[0mkwargs\u001b[0m\u001b[0;34m)\u001b[0m\u001b[0;34m\u001b[0m\u001b[0;34m\u001b[0m\u001b[0m\n\u001b[0m\u001b[1;32m   1413\u001b[0m \u001b[0;34m\u001b[0m\u001b[0m\n\u001b[1;32m   1414\u001b[0m         \u001b[0mbound\u001b[0m \u001b[0;34m=\u001b[0m \u001b[0mnew_sig\u001b[0m\u001b[0;34m.\u001b[0m\u001b[0mbind\u001b[0m\u001b[0;34m(\u001b[0m\u001b[0max\u001b[0m\u001b[0;34m,\u001b[0m \u001b[0;34m*\u001b[0m\u001b[0margs\u001b[0m\u001b[0;34m,\u001b[0m \u001b[0;34m**\u001b[0m\u001b[0mkwargs\u001b[0m\u001b[0;34m)\u001b[0m\u001b[0;34m\u001b[0m\u001b[0;34m\u001b[0m\u001b[0m\n",
      "\u001b[0;32m/shared-libs/python3.7/py/lib/python3.7/site-packages/matplotlib/axes/_axes.py\u001b[0m in \u001b[0;36mscatter\u001b[0;34m(self, x, y, s, c, marker, cmap, norm, vmin, vmax, alpha, linewidths, edgecolors, plotnonfinite, **kwargs)\u001b[0m\n\u001b[1;32m   4360\u001b[0m         \u001b[0my\u001b[0m \u001b[0;34m=\u001b[0m \u001b[0mnp\u001b[0m\u001b[0;34m.\u001b[0m\u001b[0mma\u001b[0m\u001b[0;34m.\u001b[0m\u001b[0mravel\u001b[0m\u001b[0;34m(\u001b[0m\u001b[0my\u001b[0m\u001b[0;34m)\u001b[0m\u001b[0;34m\u001b[0m\u001b[0;34m\u001b[0m\u001b[0m\n\u001b[1;32m   4361\u001b[0m         \u001b[0;32mif\u001b[0m \u001b[0mx\u001b[0m\u001b[0;34m.\u001b[0m\u001b[0msize\u001b[0m \u001b[0;34m!=\u001b[0m \u001b[0my\u001b[0m\u001b[0;34m.\u001b[0m\u001b[0msize\u001b[0m\u001b[0;34m:\u001b[0m\u001b[0;34m\u001b[0m\u001b[0;34m\u001b[0m\u001b[0m\n\u001b[0;32m-> 4362\u001b[0;31m             \u001b[0;32mraise\u001b[0m \u001b[0mValueError\u001b[0m\u001b[0;34m(\u001b[0m\u001b[0;34m\"x and y must be the same size\"\u001b[0m\u001b[0;34m)\u001b[0m\u001b[0;34m\u001b[0m\u001b[0;34m\u001b[0m\u001b[0m\n\u001b[0m\u001b[1;32m   4363\u001b[0m \u001b[0;34m\u001b[0m\u001b[0m\n\u001b[1;32m   4364\u001b[0m         \u001b[0;32mif\u001b[0m \u001b[0ms\u001b[0m \u001b[0;32mis\u001b[0m \u001b[0;32mNone\u001b[0m\u001b[0;34m:\u001b[0m\u001b[0;34m\u001b[0m\u001b[0;34m\u001b[0m\u001b[0m\n",
      "\u001b[0;31mValueError\u001b[0m: x and y must be the same size"
     ]
    },
    {
     "data": {
      "text/plain": "<Figure size 432x288 with 1 Axes>",
      "image/png": "[encoded data removed]"
     },
     "metadata": {
      "needs_background": "light",
      "image/png": {
       "width": 380,
       "height": 252
      }
     },
     "output_type": "display_data"
    }
   ]
  },
  {
   "cell_type": "markdown",
   "source": "Based on the above results, you can see that the ```numpy``` algorithm not only is faster but also \"scales\" at a slower rate than your algorithm.  ",
   "metadata": {
    "cell_id": "00032-69b799e1-9750-46fd-a001-7b818b286d5d",
    "deepnote_cell_type": "markdown"
   }
  },
  {
   "cell_type": "markdown",
   "source": "&#9989; **<font color=red>QUESTION:</font>** Why do you think the ```numpy``` matrix multiplication is so much faster?  ",
   "metadata": {
    "cell_id": "00033-9d043d3e-35df-4a76-8731-feefde84eede",
    "deepnote_cell_type": "markdown"
   }
  },
  {
   "cell_type": "markdown",
   "source": "**Put your answer to the above question here** The numpy matrix is so much faster because the code is much more efficient.",
   "metadata": {
    "cell_id": "00034-374de011-c853-4bf2-8406-95d52187ce24",
    "deepnote_cell_type": "markdown"
   }
  },
  {
   "cell_type": "markdown",
   "source": "---\n<a Elementary Matrices></a>\n## 4. Elementary Matrices",
   "metadata": {
    "cell_id": "00035-dd09f624-5ed9-4636-af32-b5f864f5cf95",
    "deepnote_cell_type": "markdown"
   }
  },
  {
   "cell_type": "markdown",
   "source": "Consider the following system of linear equations\n\n$$\\begin{align*}\nx_1 - x_2 + 2x_3 &= 1 \\\\\n2x_1 + x_2 + x_3 &= 8 \\\\\nx_1 + x_2 &= 5\n\\end{align*}$$",
   "metadata": {
    "cell_id": "00036-3ad7dfa1-9f06-42fa-971f-c34d2b631a50",
    "deepnote_cell_type": "markdown"
   }
  },
  {
   "cell_type": "markdown",
   "source": "&#9989; **<font color=red>DO THIS:</font>** Give the coefficient matrix $A$ and the constant vector $b$ for the system above.",
   "metadata": {
    "cell_id": "00037-51e51ffb-bb7e-43eb-8669-e4176996ccd0",
    "deepnote_cell_type": "markdown"
   }
  },
  {
   "cell_type": "code",
   "metadata": {
    "tags": [],
    "cell_id": "00038-ca441a05-e077-459a-8c57-de61f9a2b6d2",
    "deepnote_to_be_reexecuted": false,
    "source_hash": "ef133e92",
    "execution_start": 1656294592057,
    "execution_millis": 4,
    "owner_user_id": "9a33963a-103d-4e24-ab8f-aa9f5856df44",
    "deepnote_cell_type": "code"
   },
   "source": "## Coefficieng matrix\nA = sym.Matrix([[1,-1,2],[2,1,1],[1,1,0]])\n## Constant vector\nb = sym.Matrix([[1],[8],[5]])\n## Augmented matrix\nM = A.row_join(b)\nM",
   "execution_count": null,
   "outputs": [
    {
     "output_type": "execute_result",
     "execution_count": 4,
     "data": {
      "text/plain": "Matrix([\n[1, -1, 2, 1],\n[2,  1, 1, 8],\n[1,  1, 0, 5]])",
      "text/latex": "$\\displaystyle \\left[\\begin{matrix}1 & -1 & 2 & 1\\\\2 & 1 & 1 & 8\\\\1 & 1 & 0 & 5\\end{matrix}\\right]$"
     },
     "metadata": {}
    }
   ]
  },
  {
   "cell_type": "markdown",
   "source": "&#9989; **<font color=red>DO THIS:</font>** Put the augmented matrix $M$ in reduced row echelon form BY HAND, recording each row operation you perform. This should take arounde 5 steps. Give the elementary matrices correxponding to these row operations below as $E_1, E_2,E_3,\\dots$.\n\nStore the row-reduced matrix as RREF.",
   "metadata": {
    "cell_id": "00039-43a3c62f-24f6-46f0-a540-2d24a17b97ef",
    "deepnote_cell_type": "markdown"
   }
  },
  {
   "cell_type": "code",
   "metadata": {
    "tags": [],
    "cell_id": "00040-e04f6083-b4ad-492d-95a6-d47cea6a6817",
    "deepnote_to_be_reexecuted": false,
    "source_hash": "96593335",
    "execution_start": 1656294595349,
    "execution_millis": 3,
    "deepnote_cell_type": "code"
   },
   "source": "E1 = sym.Matrix([[1, 0, 0], [0, 1, 0], [-1, 0, 1]])\nE2 = sym.Matrix([[1, 0, 0], [-2, 1, 0], [0, 0, 1]])\nE3 = sym.Matrix([[1, 0, 0], [0, 1, -1], [0, 0, 1]])\nE4 = sym.Matrix([[1, 1, 0], [0, 1, 0], [0, 0, 1]])\nE5 = sym.Matrix([[1, 0, 0], [0, 1, 0], [0, -2, 1]])\n\nRREF = sym.Matrix([E5 * E4 * E3 * E2 * E1 * M])\n\nRREF",
   "execution_count": null,
   "outputs": [
    {
     "output_type": "execute_result",
     "execution_count": 5,
     "data": {
      "text/plain": "Matrix([\n[1, 0,  1, 3],\n[0, 1, -1, 2],\n[0, 0,  0, 0]])",
      "text/latex": "$\\displaystyle \\left[\\begin{matrix}1 & 0 & 1 & 3\\\\0 & 1 & -1 & 2\\\\0 & 0 & 0 & 0\\end{matrix}\\right]$"
     },
     "metadata": {}
    }
   ]
  },
  {
   "cell_type": "markdown",
   "source": "&#9989; **<font color=red>DO THIS:</font>** Make a single matrix $E$ from the above elementary matrices that will perform these operations and row-reduce $M$ in a single step and verify that $EM = RREF$.",
   "metadata": {
    "cell_id": "00041-ef33ef19-740f-4350-aa8a-e024f4e89a32",
    "deepnote_cell_type": "markdown"
   }
  },
  {
   "cell_type": "code",
   "metadata": {
    "cell_id": "00042-6f1f4528-81fe-41c2-998d-3da6838cdbb8",
    "deepnote_to_be_reexecuted": false,
    "source_hash": "6a7f733a",
    "execution_start": 1656294605045,
    "execution_millis": 292,
    "deepnote_cell_type": "code"
   },
   "source": "E = E5 * E4 * E3 * E2 * E1",
   "execution_count": null,
   "outputs": [
    {
     "output_type": "execute_result",
     "execution_count": 7,
     "data": {
      "text/plain": "Matrix([\n[ 0,  1, -1],\n[-1,  1, -1],\n[ 1, -2,  3]])",
      "text/latex": "$\\displaystyle \\left[\\begin{matrix}0 & 1 & -1\\\\-1 & 1 & -1\\\\1 & -2 & 3\\end{matrix}\\right]$"
     },
     "metadata": {}
    }
   ]
  },
  {
   "cell_type": "code",
   "metadata": {
    "cell_id": "00043-0f68be11-c2b9-449a-9a3a-ff548298d590",
    "deepnote_to_be_reexecuted": false,
    "source_hash": "10b4257d",
    "execution_start": 1656270924655,
    "execution_millis": 23,
    "deepnote_cell_type": "code"
   },
   "source": "E * M",
   "execution_count": null,
   "outputs": [
    {
     "output_type": "execute_result",
     "execution_count": 24,
     "data": {
      "text/plain": "⎡1  0  1   3⎤\n⎢           ⎥\n⎢0  1  -1  2⎥\n⎢           ⎥\n⎣0  0  0   0⎦",
      "text/latex": "$\\displaystyle \\left[\\begin{matrix}1 & 0 & 1 & 3\\\\0 & 1 & -1 & 2\\\\0 & 0 & 0 & 0\\end{matrix}\\right]$"
     },
     "metadata": {}
    }
   ]
  },
  {
   "cell_type": "code",
   "metadata": {
    "cell_id": "7001d77171af433392a8a7c5657e0f31",
    "tags": [],
    "deepnote_to_be_reexecuted": false,
    "source_hash": "b623e53d",
    "execution_start": 1654199020401,
    "execution_millis": 15,
    "deepnote_cell_type": "code"
   },
   "source": "",
   "execution_count": null,
   "outputs": []
  },
  {
   "cell_type": "markdown",
   "source": "-----\n\n### Congratulations, we're done!",
   "metadata": {
    "tags": [],
    "cell_id": "00044-0e97dc21-fac5-4d14-b15b-4cc472f9099b",
    "deepnote_cell_type": "markdown"
   }
  },
  {
   "cell_type": "markdown",
   "source": "Written by Dr. Dirk Colbry, Michigan State University and Dr. Ming Yan, Michigan State University\n<a rel=\"license\" href=\"http://creativecommons.org/licenses/by-nc/4.0/\"><img alt=\"Creative Commons License\" style=\"border-width:0\" src=\"https://i.creativecommons.org/l/by-nc/4.0/88x31.png\" /></a><br />This work is licensed under a <a rel=\"license\" href=\"http://creativecommons.org/licenses/by-nc/4.0/\">Creative Commons Attribution-NonCommercial 4.0 International License</a>.",
   "metadata": {
    "cell_id": "00045-1f3e031e-5d4c-4980-9f8d-b8f0063b0ba7",
    "deepnote_cell_type": "markdown"
   }
  },
  {
   "cell_type": "markdown",
   "source": "----",
   "metadata": {
    "cell_id": "00046-495a3474-7667-400e-91be-8cde4e77e5c0",
    "deepnote_cell_type": "markdown"
   }
  },
  {
   "cell_type": "markdown",
   "source": "<a style='text-decoration:none;line-height:16px;display:flex;color:#5B5B62;padding:10px;justify-content:end;' href='https://deepnote.com?utm_source=created-in-deepnote-cell&projectId=eddc04b2-32a0-43fc-87cf-17e6670be569' target=\"_blank\">\n<img alt='Created in deepnote.com' style='display:inline;max-height:16px;margin:0px;margin-right:7.5px;' src='data:image/svg+xml;base64,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' > </img>\nCreated in <span style='font-weight:600;margin-left:4px;'>Deepnote</span></a>",
   "metadata": {
    "tags": [],
    "created_in_deepnote_cell": true,
    "deepnote_cell_type": "markdown"
   }
  }
 ],
 "nbformat": 4,
 "nbformat_minor": 4,
 "metadata": {
  "kernelspec": {
   "display_name": "Python 3",
   "language": "python",
   "name": "python3"
  },
  "language_info": {
   "codemirror_mode": {
    "name": "ipython",
    "version": 3
   },
   "file_extension": ".py",
   "mimetype": "text/x-python",
   "name": "python",
   "nbconvert_exporter": "python",
   "pygments_lexer": "ipython3",
   "version": "3.8.8"
  },
  "deepnote_notebook_id": "1f6a3f36-26e4-414e-b3d8-1903bc7c2603",
  "deepnote": {},
  "deepnote_execution_queue": []
 }
}