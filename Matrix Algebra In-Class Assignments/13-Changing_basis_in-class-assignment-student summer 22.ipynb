{
 "cells": [
  {
   "cell_type": "markdown",
   "source": "## Put the names of all group members present today below:",
   "metadata": {
    "formattedRanges": [],
    "cell_id": "aceb82c90cda4f78968d077fa0b561a0",
    "tags": [],
    "is_collapsed": false,
    "deepnote_cell_type": "text-cell-h2"
   }
  },
  {
   "cell_type": "markdown",
   "source": "Kaitlyn Watson, Jacob Miller, Christian Lulaj, David Robbins,Haobo.Liu",
   "metadata": {
    "cell_id": "65ab766b3f9a492b8d352a8317675ce0",
    "tags": [],
    "deepnote_cell_type": "markdown",
    "deepnote_cell_height": 55
   }
  },
  {
   "cell_type": "markdown",
   "source": "# 13 In-Class Assignment: Change of Basis\n\n<img alt=\"Change of basis visualization\" src=\"https://upload.wikimedia.org/wikipedia/commons/thumb/a/a6/Vector_components_and_base_change.svg/200px-Vector_components_and_base_change.svg.png\" width=\"25%\">\n\nImage from: Wikimedia\n\n",
   "metadata": {
    "cell_id": "d8101be0-ddfe-4e7a-89df-c15f8ef5e7dd",
    "deepnote_cell_type": "markdown",
    "deepnote_cell_height": 397
   }
  },
  {
   "cell_type": "markdown",
   "source": "### Objectives\n1. Be able to determine a transition matrix that converts the components of a vector in the standard basis to those in a different basis $B_1$.\n1. Be able to determine a transition matrix that converts the components of a vector in (non-standard) basis $B_1$ to the standard basis.\n1. Determine a transition matrix that converts a vector between two bases $B_1$  and $B_2$. \n1. Be able to explain why for a Markov Matrix $A$, $A^nv$ converges to a multiple of the steady state.\n",
   "metadata": {
    "cell_id": "00001-72ddc90f-74c4-4084-917c-d6a414fbf276",
    "deepnote_cell_type": "markdown",
    "deepnote_cell_height": 256
   }
  },
  {
   "cell_type": "code",
   "metadata": {
    "cell_id": "00002-79cf8426-6182-4857-a34a-f8f59b49d9e8",
    "deepnote_to_be_reexecuted": false,
    "source_hash": "fde390d7",
    "execution_start": 1656439080726,
    "execution_millis": 0,
    "deepnote_cell_type": "code",
    "deepnote_cell_height": 207
   },
   "source": "%matplotlib inline\nimport matplotlib.pylab as plt\nimport numpy as np\nimport sympy as sym\nsym.init_printing(use_unicode=True)\n\n# import for checking answers\nfrom answercheck import checkanswer",
   "execution_count": null,
   "outputs": []
  },
  {
   "cell_type": "markdown",
   "source": "----\n<a name=\"Ex1\"></a>\n## 1. Change of Basis - Example 1",
   "metadata": {
    "cell_id": "00003-2fadaec8-a085-491d-9538-408f43eff90a",
    "deepnote_cell_type": "markdown",
    "deepnote_cell_height": 87
   }
  },
  {
   "cell_type": "markdown",
   "source": "Recall that the standard basis in $\\mathbb R^2$ is given by\n$$\n\\vec{e}_1=\\left(\\begin{array}{r}\n1\\\\\n0\n\\end{array}\n\\right),\\,\\,\\,\\,\\,\n\\vec{e}_2=\\left(\\begin{array}{r}\n0\\\\\n1\n\\end{array}\n\\right).\n$$",
   "metadata": {
    "cell_id": "00004-601a1a6e-a864-4f20-93cb-51539de31440",
    "deepnote_cell_type": "markdown",
    "deepnote_cell_height": 129
   }
  },
  {
   "cell_type": "markdown",
   "source": "Consider three column vectors:\n$$\n\\vec{b}_1=\\left(\\begin{array}{r}\n1\\\\\n1\\end{array}\n\\right),\\,\\,\\,\\,\\,\n\\vec{b}_2=\\left(\\begin{array}{r}\n2\\\\\n4\n\\end{array}\n\\right).\n$$",
   "metadata": {
    "cell_id": "00005-d28bee94-3363-4e1a-9393-c3509a7db848",
    "deepnote_cell_type": "markdown",
    "deepnote_cell_height": 129
   }
  },
  {
   "cell_type": "markdown",
   "source": "&#9989;  **<font color=red>QUESTION:</font>** \\\nForm a $2\\times2$ (numpy) matrix $B$ whose columns are the vectors $\\vec{b}_1$ and $\\vec{b}_2$.",
   "metadata": {
    "cell_id": "00006-86d6a7de-ec7b-44e6-816e-b2bc6099f0f1",
    "deepnote_cell_type": "markdown",
    "deepnote_cell_height": 81
   }
  },
  {
   "cell_type": "code",
   "metadata": {
    "cell_id": "00007-ddb7840e-2d66-4d9e-8b0f-df2d7d72f0ab",
    "deepnote_to_be_reexecuted": false,
    "source_hash": "91c72efd",
    "execution_start": 1656439174795,
    "execution_millis": 0,
    "deepnote_cell_type": "code",
    "deepnote_cell_height": 117
   },
   "source": "# Put your answer to the above question here\n\nB=np.matrix([[1,2], [1,4]])",
   "execution_count": null,
   "outputs": []
  },
  {
   "cell_type": "code",
   "metadata": {
    "cell_id": "00008-a1527f24-d56e-498f-bc99-f9d2292d970e",
    "deepnote_to_be_reexecuted": false,
    "source_hash": "7cc026da",
    "execution_start": 1656439176313,
    "execution_millis": 6,
    "deepnote_cell_type": "code",
    "deepnote_cell_height": 300
   },
   "source": "checkanswer.matrix( B, '9ef7fffdd71c6e7715c345ec28aeee0f' );",
   "execution_count": null,
   "outputs": [
    {
     "name": "stdout",
     "text": "\nCheckWarning: passed matrix is int64 and not <class 'numpy.float64'>...\n    Trying to convert to float using ```A = A.astype(float)```.\n\nTesting [[1. 2.]\n [1. 4.]]\nAnswer seems to be correct\n\n",
     "output_type": "stream"
    }
   ]
  },
  {
   "cell_type": "markdown",
   "source": "&#9989;  **<font color=red>QUESTION:</font>** \nCheck that vectors are linearly independent, i.e. they can form a basis.",
   "metadata": {
    "cell_id": "00009-5ea6179e-5ee6-44eb-b1ba-3d2c0386213b",
    "deepnote_cell_type": "markdown",
    "deepnote_cell_height": 55
   }
  },
  {
   "cell_type": "code",
   "metadata": {
    "cell_id": "00010-7c575ba3-7a14-4b60-81ad-8f0f4fc2e7d0",
    "deepnote_to_be_reexecuted": false,
    "source_hash": "231fbe83",
    "execution_start": 1656439447908,
    "execution_millis": 8,
    "deepnote_cell_type": "code",
    "deepnote_cell_height": 332
   },
   "source": "# Put your answer to the above question here\n\n#if the determinant in non-zero, then it forms a basis\n\ndet=np.linalg.det(B)\nprint(det)\n\nB_inv=np.linalg.inv(B)\n\nprint(B_inv)",
   "execution_count": null,
   "outputs": [
    {
     "name": "stdout",
     "text": "2.0\n[[ 2.  -1. ]\n [-0.5  0.5]]\n",
     "output_type": "stream"
    }
   ]
  },
  {
   "cell_type": "markdown",
   "source": "&#9989;  **<font color=red>QUESTION:</font>** \nConsider a point whose coordinates in the standard basis are $(3,2)^T$. Calculate its coordinates in the basis of $\\vec{b}_1$ and $\\vec{b}_2$. Store the result in variable `ub`.",
   "metadata": {
    "cell_id": "00011-69fed501-e3cc-4f89-9620-5539456f3702",
    "deepnote_cell_type": "markdown",
    "deepnote_cell_height": 81
   }
  },
  {
   "cell_type": "code",
   "metadata": {
    "cell_id": "00012-4e8d3c66-b71f-4c9b-b44a-4eb260b18322",
    "deepnote_to_be_reexecuted": false,
    "source_hash": "e2c52dec",
    "execution_start": 1656439566935,
    "execution_millis": 2,
    "deepnote_cell_type": "code",
    "deepnote_cell_height": 239,
    "deepnote_output_heights": [
     52
    ]
   },
   "source": "# Put your answer to the above question here\n\nu=np.matrix([[3], [2]])\n\nub=B_inv*u\nub",
   "execution_count": null,
   "outputs": [
    {
     "output_type": "execute_result",
     "execution_count": 24,
     "data": {
      "text/plain": "matrix([[ 4. ],\n        [-0.5]])"
     },
     "metadata": {}
    }
   ]
  },
  {
   "cell_type": "code",
   "metadata": {
    "cell_id": "00013-d6522490-3061-42da-8e38-f58ea4151819",
    "deepnote_to_be_reexecuted": false,
    "source_hash": "7de2ae38",
    "execution_start": 1656439529121,
    "execution_millis": 687,
    "deepnote_cell_type": "code",
    "deepnote_cell_height": 196
   },
   "source": "checkanswer.matrix( ub, '6a556cde9d129145fc84542f5fa623fd' );",
   "execution_count": null,
   "outputs": [
    {
     "name": "stdout",
     "text": "Testing [[ 4. ]\n [-0.5]]\nAnswer seems to be correct\n\n",
     "output_type": "stream"
    }
   ]
  },
  {
   "cell_type": "markdown",
   "source": "&#9989;  **<font color=red>QUESTION:</font>** \nConsider a point whose coordinates in the $(\\vec{b}_1, \\vec{b}_2)$ basis are $(5,7)^T$. Calculate its coordinates in the standard basis. Store the result in variable `u`.",
   "metadata": {
    "cell_id": "00014-91198e70-515f-468a-a483-17e586a089a4",
    "deepnote_cell_type": "markdown",
    "deepnote_cell_height": 81
   }
  },
  {
   "cell_type": "code",
   "metadata": {
    "cell_id": "00015-ecc2947f-e44d-4209-80b9-7889eca9fb5b",
    "deepnote_to_be_reexecuted": false,
    "source_hash": "660a5f98",
    "execution_start": 1656439595863,
    "execution_millis": 1,
    "deepnote_cell_type": "code",
    "deepnote_cell_height": 117
   },
   "source": "# Put your answer to the above question here\nu_b = np.matrix([5,7]).T\nu = B * u_b",
   "execution_count": null,
   "outputs": []
  },
  {
   "cell_type": "code",
   "metadata": {
    "cell_id": "00016-510b5530-0c95-4069-85bc-80e02c277939",
    "deepnote_to_be_reexecuted": false,
    "source_hash": "df28a194",
    "execution_start": 1656439596552,
    "execution_millis": 7,
    "deepnote_cell_type": "code",
    "deepnote_cell_height": 300
   },
   "source": "checkanswer.matrix( u,  'a0f5d18547c5adc3810a04695105db3b');",
   "execution_count": null,
   "outputs": [
    {
     "name": "stdout",
     "text": "\nCheckWarning: passed matrix is int64 and not <class 'numpy.float64'>...\n    Trying to convert to float using ```A = A.astype(float)```.\n\nTesting [[19.]\n [33.]]\nAnswer seems to be correct\n\n",
     "output_type": "stream"
    }
   ]
  },
  {
   "cell_type": "markdown",
   "source": "&#9989;  **<font color=red>QUESTION:</font>** \nConsider a point whose coordinates in the $(\\vec{b}_1, \\vec{b}_2)$ basis are $(5,7)^T$. Calculate its coordinates in the basis given by\n$$\n\\vec{v}_1=\\left(\\begin{array}{r}\n1\\\\\n-1\\end{array}\n\\right),\\,\\,\\,\\,\\,\n\\vec{v}_2=\\left(\\begin{array}{r}\n2\\\\\n2\n\\end{array}\n\\right).\n$$\n\nStore the result in variable `uv`.",
   "metadata": {
    "cell_id": "00017-ab0b05eb-38e1-4470-b8d5-d0b28c8e7257",
    "deepnote_cell_type": "markdown",
    "deepnote_cell_height": 180
   }
  },
  {
   "cell_type": "code",
   "metadata": {
    "cell_id": "00018-d11145fd-5e27-43ef-a7fc-9bf7a9be1414",
    "deepnote_to_be_reexecuted": false,
    "source_hash": "e333111",
    "execution_start": 1656439764886,
    "execution_millis": 17,
    "deepnote_cell_type": "code",
    "deepnote_cell_height": 329,
    "deepnote_output_heights": [
     52
    ]
   },
   "source": "# provide your answer here\n\nV=np.matrix([[1,2], [-1,2]])\n\nV_inv=np.linalg.inv(V)\n\nu=np.matrix([[5],[7]]).T\n\nuv=V_inv*B*u\n\nuv",
   "execution_count": null,
   "outputs": [
    {
     "output_type": "execute_result",
     "execution_count": 38,
     "data": {
      "text/plain": "matrix([[-7.],\n        [13.]])"
     },
     "metadata": {}
    }
   ]
  },
  {
   "cell_type": "code",
   "metadata": {
    "cell_id": "00019-73c7706e-754b-4f49-98a7-229bafe858fe",
    "deepnote_to_be_reexecuted": false,
    "source_hash": "ea64977b",
    "execution_start": 1656439766305,
    "execution_millis": 4,
    "deepnote_cell_type": "code",
    "deepnote_cell_height": 196
   },
   "source": "checkanswer.matrix( uv, '630589d0210ba72be9cde5a17eebc7af');",
   "execution_count": null,
   "outputs": [
    {
     "name": "stdout",
     "text": "Testing [[-7.]\n [13.]]\nAnswer seems to be correct\n\n",
     "output_type": "stream"
    }
   ]
  },
  {
   "cell_type": "markdown",
   "source": "----\n<a name=\"Ex2\"></a>\n## Example 2 - Coordinates in a rotated basis",
   "metadata": {
    "cell_id": "00020-f6713814-1b1b-466d-bb2d-5287cf9b7034",
    "deepnote_cell_type": "markdown",
    "deepnote_cell_height": 87
   }
  },
  {
   "cell_type": "markdown",
   "source": "Note that in physics, robotics, etc. we often need to change our frame of reference, i.e. change the coordinate system we are using. In the questions below we consider two coordinate systems rotated with respect to each other.",
   "metadata": {
    "cell_id": "00021-12f8b62d-8764-4b91-a9e3-8a4f375cbff2",
    "deepnote_cell_type": "markdown",
    "deepnote_cell_height": 105
   }
  },
  {
   "cell_type": "markdown",
   "source": "Rotate the $xy-$axes in the plane counterclockwise through an angle  $\\theta = 60^{\\circ}$ to obtain new $x'y'$-axes. Use the methods above to answer the following two questions.",
   "metadata": {
    "cell_id": "00022-7b90443e-2a97-4507-b948-18496208d60e",
    "deepnote_cell_type": "markdown",
    "deepnote_cell_height": 80
   }
  },
  {
   "cell_type": "markdown",
   "source": "&#9989;  **<font color=red>QUESTION:</font>** Find the $x'y'$-coordinates of the point whose $xy$- coordinates are $(3,2)$. Store your answer in a variable `rprime`.",
   "metadata": {
    "cell_id": "00023-89d79234-53cd-4489-9400-9a4438453bee",
    "deepnote_cell_type": "markdown",
    "deepnote_cell_height": 80
   }
  },
  {
   "cell_type": "code",
   "metadata": {
    "cell_id": "00024-59d5401e-7bd5-40ad-9b8a-2156818e95a5",
    "deepnote_to_be_reexecuted": false,
    "source_hash": "1ec0cba2",
    "execution_start": 1656440381658,
    "execution_millis": 2,
    "deepnote_cell_type": "code",
    "deepnote_cell_height": 225
   },
   "source": "# provide your answer here\ncoord = np.matrix([[3, 2]]).T\n\ntheta = 60 * np.pi / 180.0\n\nrotation = np.matrix(([np.cos(theta), -np.sin(theta)], [np.sin(theta), np.cos(theta)]))\nrotation_inv = np.linalg.inv(rotation)\n\nrprime = rotation_inv*coord",
   "execution_count": null,
   "outputs": []
  },
  {
   "cell_type": "code",
   "metadata": {
    "cell_id": "00025-d51bc4d8-a853-4c14-b8e2-2df8dd85b183",
    "deepnote_to_be_reexecuted": false,
    "source_hash": "166c06",
    "execution_start": 1656440296000,
    "execution_millis": 6,
    "deepnote_cell_type": "code",
    "deepnote_cell_height": 196
   },
   "source": "checkanswer.matrix( rprime, '966d4c3604f84708413ae2d25c289755');",
   "execution_count": null,
   "outputs": [
    {
     "name": "stdout",
     "text": "Testing [[ 3.23205]\n [-1.59808]]\nAnswer seems to be correct\n\n",
     "output_type": "stream"
    }
   ]
  },
  {
   "cell_type": "markdown",
   "source": "&#9989;  **<font color=red>QUESTION:</font>** Find the $xy$-coordinates of the point whose $x'y'$- coordinates are $(4,-4)$. Store your answer in a variable `r`.",
   "metadata": {
    "cell_id": "00026-2714df40-49bb-47dc-b69d-21bc6b1d57a7",
    "deepnote_cell_type": "markdown",
    "deepnote_cell_height": 80
   }
  },
  {
   "cell_type": "code",
   "metadata": {
    "cell_id": "00027-94d9694b-38d7-4ebe-82ea-7462eda6bdb8",
    "deepnote_to_be_reexecuted": false,
    "source_hash": "bbd1f8b6",
    "execution_start": 1656440337481,
    "execution_millis": 3,
    "deepnote_cell_type": "code",
    "deepnote_cell_height": 257,
    "deepnote_output_heights": [
     52
    ]
   },
   "source": "# provide your answer here\n\ncoord2=np.matrix([[4], [-4]])\n\nr=rotation*coord2\n\nr",
   "execution_count": null,
   "outputs": [
    {
     "output_type": "execute_result",
     "execution_count": 66,
     "data": {
      "text/plain": "matrix([[5.46410162],\n        [1.46410162]])"
     },
     "metadata": {}
    }
   ]
  },
  {
   "cell_type": "code",
   "metadata": {
    "cell_id": "00028-fedca911-8950-4bb4-88c8-51f56295f8c5",
    "deepnote_to_be_reexecuted": false,
    "source_hash": "bd6c5161",
    "execution_start": 1656440332248,
    "execution_millis": 4,
    "deepnote_cell_type": "code",
    "deepnote_cell_height": 196
   },
   "source": "checkanswer.matrix( r, '5265b74a4b1a858fdfebb6ae5e7bd6b4');",
   "execution_count": null,
   "outputs": [
    {
     "name": "stdout",
     "text": "Testing [[5.4641]\n [1.4641]]\nAnswer seems to be correct\n\n",
     "output_type": "stream"
    }
   ]
  },
  {
   "cell_type": "markdown",
   "source": "# 2 Fundamental spaces\n\n<img alt=\"Alternative visual representation showing how the four Fundamental Subspaces spaces map to each other\" src=\"https://upload.wikimedia.org/wikipedia/commons/4/4c/KerIm_2015Joz_L2.png\" width=\"30%\">\n\nImage from: [wikipedia](https://en.wikipedia.org/wiki/Kernel_(linear_algebra))",
   "metadata": {
    "cell_id": "00029-52daecf5-9874-4815-b4a1-100511cce295",
    "deepnote_cell_type": "markdown",
    "deepnote_cell_height": 309
   }
  },
  {
   "cell_type": "markdown",
   "source": "> *Row space of $A$*, $\\mathcal R(A)$: linear combination of all rows of $A$\n\n> *Column space of $A$*,  $\\mathcal{C}(A)$: linear combination of all columns of $A$\n\n> *Null space or kernel of $A$*, $\\mathcal{N}(A)$: all $x$ such that $Ax=0$\n\n> *Null space of $A^\\top$*, $\\mathcal{N}(A^\\top)$: all $y$ such that $A^\\top y =0$\n\nDiscussion on how to find the fudamental spaces for a given matrix, especially if it is not already in RREF. Note - in the pre-class assignment the matrix was in RREF. Pay special attention to finding a basis for $\\mathcal C(A)$. Related to Question 3 below, be sure to discuss why we are finding RREF of $A^T$ in order to find a basis for $\\mathcal C(A)$ and why the pivot columns of rref(A) do not necessarily give a basis for $\\mathcal C(A)$, if $A$ is not in RREF.",
   "metadata": {
    "cell_id": "00030-94874b09-59ef-4100-827e-8c641f1ed63f",
    "deepnote_cell_type": "markdown",
    "deepnote_cell_height": 319
   }
  },
  {
   "cell_type": "markdown",
   "source": "<img alt=\"Classic picture of the four fundamental spaces. Please see text for detailed description.\" src=\"https://kevinbinz.files.wordpress.com/2017/02/linear-algebra-fundamental-space-interpretation-6.png\" width=\"90%\">\n\nImage from: https://kevinbinz.com/2017/02/20/linear-algebra/",
   "metadata": {
    "cell_id": "00031-8a9f1d61-e766-4436-abe1-e810e566d04f",
    "deepnote_cell_type": "markdown",
    "deepnote_cell_height": 421
   }
  },
  {
   "cell_type": "markdown",
   "source": "Consider the following matrix $A$. \n\n$$ \n\\left[\n\\begin{matrix}\n    1 & 0 & 3  \\\\\n    0 & 1 & 5  \\\\\n    1 & 1 & 8 \n\\end{matrix}\n\\right] \n$$",
   "metadata": {
    "cell_id": "00032-6f4a8b48-9799-483a-a149-bc5c3f618a0c",
    "deepnote_cell_type": "markdown",
    "deepnote_cell_height": 149
   }
  },
  {
   "cell_type": "markdown",
   "source": "&#9989; **<font color=red>QUESTION 1:</font>** What is the reduced row echelon form of $A$?",
   "metadata": {
    "cell_id": "00033-4754c372-0850-40d9-85e1-8d16ede0ad00",
    "deepnote_cell_type": "markdown",
    "deepnote_cell_height": 55
   }
  },
  {
   "cell_type": "code",
   "metadata": {
    "cell_id": "00034-1956d866-7df8-4ba3-ae99-3d613aebb005",
    "deepnote_to_be_reexecuted": false,
    "source_hash": "289a7b94",
    "execution_start": 1656440884679,
    "execution_millis": 1,
    "deepnote_cell_type": "code",
    "deepnote_cell_height": 246,
    "deepnote_output_heights": [
     77
    ]
   },
   "source": "A=np.matrix([[1,0,3], [0,1,5], [1,1,8]])\n\nrref=sym.Matrix(A).rref()[0]\nrref = np.matrix(rref, dtype=float)\nrref",
   "execution_count": null,
   "outputs": [
    {
     "output_type": "execute_result",
     "execution_count": 89,
     "data": {
      "text/plain": "matrix([[1., 0., 3.],\n        [0., 1., 5.],\n        [0., 0., 0.]])"
     },
     "metadata": {}
    }
   ]
  },
  {
   "cell_type": "code",
   "metadata": {
    "cell_id": "00035-5cec0bd7-92e2-4cc5-afb2-afeb38eb428a",
    "deepnote_to_be_reexecuted": false,
    "source_hash": "cf455efb",
    "execution_start": 1656440451422,
    "execution_millis": 3,
    "deepnote_cell_type": "code",
    "deepnote_cell_height": 576
   },
   "source": "from answercheck import checkanswer\n\ncheckanswer.matrix(rref,'1731818a1555cc33a778a4eb76af945c');",
   "execution_count": null,
   "outputs": [
    {
     "name": "stdout",
     "text": "\nCheckWarning: passed variable is <class 'sympy.matrices.dense.MutableDenseMatrix'> and not a numpy.matrix...\n    Trying to convert to a array matrix using ```A = np.matrix(A)```.\n\n\nCheckWarning: passed matrix is object and not <class 'numpy.float64'>...\n    Trying to convert to float using ```A = A.astype(float)```.\n\n\nCheckWarning: Matrix contains negative values for zero...\n    Converting to positive values of zero using  ```A[A==-0] = 0```.\n\nTesting [[1. 0. 3.]\n [0. 1. 5.]\n [0. 0. 0.]]\nAnswer seems to be correct\n\n",
     "output_type": "stream"
    }
   ]
  },
  {
   "cell_type": "markdown",
   "source": "**ROW SPACE** The first and second (non zero) rows of the above matrix \"spans\" the same space as the orignal three row vectors in $A$. We often call this the \"row space\" and it can be written as a linear combination of the non-zero rows of the reduced row echelon form:\n\n$$row(A) = \\{r(1,0,3)^\\top+s(0,1,5)^\\top\\} = \\operatorname{span}((1,0,3)^\\top,(0,1,5)^\\top)$$",
   "metadata": {
    "cell_id": "00036-e421e331-a9af-4b62-b5cd-662f5468ff19",
    "deepnote_cell_type": "markdown",
    "deepnote_cell_height": 146
   }
  },
  {
   "cell_type": "markdown",
   "source": "&#9989; **<font color=red>DO THIS:</font>** Calculate  the solutions to the system of homogeneous equations $Ax=0$. This is often called the **NULL SPACE** or sometimes **KERNEL** of $A$.",
   "metadata": {
    "cell_id": "00037-3a98f843-5f29-4c88-9008-175004f02f8a",
    "deepnote_cell_type": "markdown",
    "deepnote_cell_height": 80
   }
  },
  {
   "cell_type": "code",
   "metadata": {
    "cell_id": "00038-cdc274bc-5ce0-4ce3-b1f6-05703b4ba1c5",
    "deepnote_to_be_reexecuted": false,
    "source_hash": "e5a6ee20",
    "execution_start": 1656441247970,
    "execution_millis": 39,
    "owner_user_id": "1e619e60-c5fd-4818-8055-ed2448616607",
    "deepnote_cell_type": "code",
    "deepnote_cell_height": 242,
    "deepnote_output_heights": [
     127
    ]
   },
   "source": "RREF=sym.Matrix(rref)\nRREF",
   "execution_count": null,
   "outputs": [
    {
     "output_type": "execute_result",
     "execution_count": 99,
     "data": {
      "text/plain": "⎡1.0   0   3.0⎤\n⎢             ⎥\n⎢ 0   1.0  5.0⎥\n⎢             ⎥\n⎣ 0    0    0 ⎦",
      "text/latex": "$\\displaystyle \\left[\\begin{matrix}1.0 & 0 & 3.0\\\\0 & 1.0 & 5.0\\\\0 & 0 & 0\\end{matrix}\\right]$"
     },
     "metadata": {}
    }
   ]
  },
  {
   "cell_type": "markdown",
   "source": "$x_1 + 3x_3 = 0$\n\n$x_2 + 5X_3=0$\n\n$x_3=x_3$\n",
   "metadata": {
    "cell_id": "00039-47407b02-c4cf-4dba-9127-b7686504bec4",
    "deepnote_cell_type": "markdown",
    "deepnote_cell_height": 140
   }
  },
  {
   "cell_type": "markdown",
   "source": "&#9989; **<font color=red>DO THIS:</font>** Calculate  a basis for the Null space of $A$.",
   "metadata": {
    "cell_id": "00040-637d4816-6632-4314-97be-38af46136ffa",
    "deepnote_cell_type": "markdown",
    "deepnote_cell_height": 55
   }
  },
  {
   "cell_type": "markdown",
   "source": "$x_1 = -3t$\n\n$x_2=-5t$\n\n$x_3 = t$\n\nso x=[-3t, -5t, t].T\n\nor ([[-3],[-5],[1]])*t\n\nso the basis: B=[-3,-5,1].T",
   "metadata": {
    "cell_id": "00041-591413ae-2a72-485d-8181-7167aa17eb70",
    "deepnote_cell_type": "markdown",
    "deepnote_cell_height": 263
   }
  },
  {
   "cell_type": "markdown",
   "source": "&#9989; **<font color=red>DO THIS:</font>** We introduced two subspaces of $\\mathbb R^3$. \nPick one vector from the row space of $A$ and another vector from the null space of $A$. \nFind the dot product of these two vector.",
   "metadata": {
    "cell_id": "00042-d4185c95-46a1-4938-8282-90150d090bbe",
    "deepnote_cell_type": "markdown",
    "deepnote_cell_height": 80
   }
  },
  {
   "cell_type": "code",
   "metadata": {
    "cell_id": "00043-e5db1e77-db83-4aad-a06e-0625f01651aa",
    "deepnote_to_be_reexecuted": false,
    "source_hash": "87a7c7e2",
    "execution_start": 1656441584396,
    "execution_millis": 4,
    "deepnote_cell_type": "code",
    "deepnote_cell_height": 190
   },
   "source": "A=np.array([0,1,5])\nB=np.array([-3,-5,1])\n\nDot_product=np.dot(A,B)\nprint(Dot_product)",
   "execution_count": null,
   "outputs": [
    {
     "name": "stdout",
     "text": "0\n",
     "output_type": "stream"
    }
   ]
  },
  {
   "cell_type": "markdown",
   "source": "&#9989; **<font color=red>QUESTION  2:</font>** Did you get the same value for the dot product as your neighbor (or if you are working by yourself, did you get the same value for the dot product if you made different choices for the representatives of the row space and null space of $A$)? Explain your answer.",
   "metadata": {
    "cell_id": "00044-2b798e98-7ee0-4cc6-9670-0e81057f3f19",
    "deepnote_cell_type": "markdown",
    "deepnote_cell_height": 105
   }
  },
  {
   "cell_type": "markdown",
   "source": "yes, becuase the row space and the null space are perpendicular to each other. This means they are orthogonal and the dot product of a vector from each space is 0. They also both share the zero vector. We could have chosen any row vector with the null space vector.",
   "metadata": {
    "cell_id": "00045-6a93ddea-3fc2-4f44-9f02-b105f8f9fc52",
    "deepnote_cell_type": "markdown",
    "deepnote_cell_height": 105
   }
  },
  {
   "cell_type": "markdown",
   "source": "### Expanding in an eigenbasis\n\nNow imagine we are given a $2\\times 2$ matrix $A$  with eigenvalues $\\lambda_1$ and $\\lambda_2$ and corresponding eigenvectors $u_1$ and $u_2$. Further assume that $\\{u_1, u_2\\}$ form a basis for $\\mathbb R^2$. Recall that this means that $Au_1=\\lambda_1 u_1$ and $Au_2=\\lambda_2 u_2$. Then, $A^2u_1 = A(Au_1) = A(\\lambda_1 u_1) = \\lambda_1 (Au_1) = \\lambda_1^2 u_1$.",
   "metadata": {
    "cell_id": "00046-905e2dc2-4c26-4474-b63e-3da5203d7825",
    "deepnote_cell_type": "markdown",
    "deepnote_cell_height": 156
   }
  },
  {
   "cell_type": "markdown",
   "source": "&#9989;  **<font color=red>QUESTION:</font>** Using the above, give a simple formula for $A^nu_1$ and  $A^nu_2$ in terms of $\\lambda_i$ and $u_i$ (noting that $u_1$ and $u_2$ are eigenvectors of $A$ with corresponding eigenvalues $\\lambda_1$ and $\\lambda_2$).",
   "metadata": {
    "cell_id": "00047-3b8e2177-a073-461d-8d66-ff754bc0eb93",
    "deepnote_cell_type": "markdown",
    "deepnote_cell_height": 82
   }
  },
  {
   "cell_type": "markdown",
   "source": "$A^nu_i=\\lambda_i^nu_i$",
   "metadata": {
    "cell_id": "00048-128507fe-5080-4cd6-9f26-10b06ef40d09",
    "deepnote_cell_type": "markdown",
    "deepnote_cell_height": 56
   }
  },
  {
   "cell_type": "markdown",
   "source": "**Note:** Now note that our Markov matrix (and this generally holds true) has an eigenvalue 1 and the other eigenvalue has absolute value less than 1. Let's say $\\lambda_1=1$ and $|\\lambda_2|<1$. This means that $\\lambda_1^n = 1$ for any $n$.",
   "metadata": {
    "cell_id": "00049-ee84c596-e906-4400-9987-f82521b8e96d",
    "deepnote_cell_type": "markdown",
    "deepnote_cell_height": 81
   }
  },
  {
   "cell_type": "markdown",
   "source": "&#9989;  **<font color=red>QUESTION:</font>** What do we know about $\\lambda_2^n$ for large $n$?",
   "metadata": {
    "cell_id": "00050-30d1a818-35e3-4adc-ac4c-fde48ab9b14e",
    "deepnote_cell_type": "markdown",
    "deepnote_cell_height": 56
   }
  },
  {
   "cell_type": "markdown",
   "source": "$|\\lambda_2^n| < 1$ It will be significantly small",
   "metadata": {
    "cell_id": "00051-425cc968-8c9f-4d9f-8c35-ea27500f9f88",
    "deepnote_cell_type": "markdown",
    "deepnote_cell_height": 56
   }
  },
  {
   "cell_type": "markdown",
   "source": "**Note:** Now consider a vector $v\\in \\mathbb R^2$. Since $\\{u_1, u_2\\}$ form a basis for $\\mathbb R^2$, we can express $v=au_1+bu_2$ for some scalars $a, b$. Note that we can say $(a,b)$ are the coordinates of $v$ in the eigenbasis of $A$.",
   "metadata": {
    "cell_id": "00052-f91e8738-ebcd-4f09-be1a-92135506b7d6",
    "deepnote_cell_type": "markdown",
    "deepnote_cell_height": 81
   }
  },
  {
   "cell_type": "markdown",
   "source": "&#9989;  **<font color=red>QUESTION:</font>** Find a formula for $A^nv$ in temrs of $n, a, b, \\lambda_i, u_i$.",
   "metadata": {
    "cell_id": "00053-01d10006-3d05-40ad-a425-aa041dfa265b",
    "deepnote_cell_type": "markdown",
    "deepnote_cell_height": 56
   }
  },
  {
   "cell_type": "markdown",
   "source": "$A^n(au_i+bu_i)= \\lambda^n (au_i+bu_i)$",
   "metadata": {
    "cell_id": "00054-7ddd7500-ee79-46aa-b284-88960df0c795",
    "deepnote_cell_type": "markdown",
    "deepnote_cell_height": 56
   }
  },
  {
   "cell_type": "markdown",
   "source": "&#9989;  **<font color=red>QUESTION:</font>** Based on the formula you provided for $A^nv$ (when $v$ was expanded in the eigenbasis), what does $A^nv$ approach as $n$ grows larger and larger, i.e. what happens in the long run? ",
   "metadata": {
    "cell_id": "00055-be14a553-7e3b-44a9-81ce-3aee8b276e59",
    "deepnote_cell_type": "markdown",
    "deepnote_cell_height": 80
   }
  },
  {
   "cell_type": "markdown",
   "source": "In the long run, becuase the first eigenvalue will be equal to one, the other eigenvalue will be significantly smaller, which means as n becomes larger and larger then lambda will approach zero",
   "metadata": {
    "cell_id": "00056-022f363f-92cc-4f4f-828b-e2640c3b494f",
    "deepnote_cell_type": "markdown",
    "deepnote_cell_height": 80
   }
  },
  {
   "cell_type": "markdown",
   "source": "&#9989;  **<font color=red>QUESTION:</font>** Expand the vector $w0=(1,0)^T$ (the initial distribution of the polulation) in the basis of the eigenvectors of the transition matrix. Store the coordinates of $w0$ in the eigenbasis in a variable `w0B`",
   "metadata": {
    "cell_id": "00057-b3aad9c1-c75a-4388-aa03-e3c87648d8a2",
    "owner_user_id": "192b1d1b-306b-4bdd-8c69-79e2eeb9d053",
    "deepnote_cell_type": "markdown",
    "deepnote_cell_height": 80
   }
  },
  {
   "cell_type": "code",
   "metadata": {
    "cell_id": "00058-543664e8-0dfd-4b91-96bf-a7c909674dea",
    "deepnote_to_be_reexecuted": false,
    "source_hash": "c32d6336",
    "execution_start": 1656442796644,
    "execution_millis": 13,
    "owner_user_id": "1ad92508-5214-4899-9be6-2377c49dba3a",
    "deepnote_cell_type": "code",
    "deepnote_cell_height": 154,
    "deepnote_output_heights": [
     27
    ]
   },
   "source": "#provide your answer here\nw0 = np.matrix([[1],[0]])\n",
   "execution_count": null,
   "outputs": [
    {
     "name": "stdout",
     "text": "[1. 0.]\n",
     "output_type": "stream"
    }
   ]
  },
  {
   "cell_type": "code",
   "metadata": {
    "cell_id": "00059-a3233c0d-3c06-4cdc-ae2a-719608700246",
    "deepnote_to_be_reexecuted": false,
    "source_hash": "187e0733",
    "execution_start": 1656442799150,
    "execution_millis": 34,
    "deepnote_cell_type": "code",
    "deepnote_cell_height": 465
   },
   "source": "checkanswer.matrix(w0B, '1ce6459eb481ce381664b1542d6fa31a');",
   "execution_count": null,
   "outputs": [
    {
     "name": "stdout",
     "text": "\nCheckWarning: passed variable is <class 'int'> and not a numpy.matrix...\n    Trying to convert to a array matrix using ```A = np.matrix(A)```.\n\n\nCheckWarning: passed matrix is int64 and not <class 'numpy.float64'>...\n    Trying to convert to float using ```A = A.astype(float)```.\n\nTesting [[-1.]]\nAnswer seems to be incorrect\n\n",
     "output_type": "stream"
    },
    {
     "output_type": "error",
     "ename": "AssertionError",
     "evalue": "Answer is incorrect 6f5dfd4b64dcb175c6333134baa33247",
     "traceback": [
      "\u001b[0;31m---------------------------------------------------------------------------\u001b[0m",
      "\u001b[0;31mAssertionError\u001b[0m                            Traceback (most recent call last)",
      "\u001b[0;32m<ipython-input-128-858793879ea2>\u001b[0m in \u001b[0;36m<module>\u001b[0;34m\u001b[0m\n\u001b[0;32m----> 1\u001b[0;31m \u001b[0mcheckanswer\u001b[0m\u001b[0;34m.\u001b[0m\u001b[0mmatrix\u001b[0m\u001b[0;34m(\u001b[0m\u001b[0mw0B\u001b[0m\u001b[0;34m,\u001b[0m \u001b[0;34m'1ce6459eb481ce381664b1542d6fa31a'\u001b[0m\u001b[0;34m)\u001b[0m\u001b[0;34m;\u001b[0m\u001b[0;34m\u001b[0m\u001b[0;34m\u001b[0m\u001b[0m\n\u001b[0m",
      "\u001b[0;32m~/work/answercheck.py\u001b[0m in \u001b[0;36mmatrix\u001b[0;34m(A, hashtag, decimal_accuracy)\u001b[0m\n\u001b[1;32m    150\u001b[0m         \u001b[0;34m\"\"\"Function to check matrix type before hashing.\"\"\"\u001b[0m\u001b[0;34m\u001b[0m\u001b[0;34m\u001b[0m\u001b[0m\n\u001b[1;32m    151\u001b[0m         \u001b[0mA\u001b[0m \u001b[0;34m=\u001b[0m \u001b[0mcheckanswer\u001b[0m\u001b[0;34m.\u001b[0m\u001b[0mmake_matrix\u001b[0m\u001b[0;34m(\u001b[0m\u001b[0mA\u001b[0m\u001b[0;34m,\u001b[0m \u001b[0mdecimal_accuracy\u001b[0m\u001b[0;34m)\u001b[0m\u001b[0;34m\u001b[0m\u001b[0;34m\u001b[0m\u001b[0m\n\u001b[0;32m--> 152\u001b[0;31m         \u001b[0;32mreturn\u001b[0m \u001b[0mcheckanswer\u001b[0m\u001b[0;34m.\u001b[0m\u001b[0mbasic\u001b[0m\u001b[0;34m(\u001b[0m\u001b[0mA\u001b[0m\u001b[0;34m,\u001b[0m \u001b[0mhashtag\u001b[0m\u001b[0;34m)\u001b[0m\u001b[0;34m\u001b[0m\u001b[0;34m\u001b[0m\u001b[0m\n\u001b[0m\u001b[1;32m    153\u001b[0m \u001b[0;34m\u001b[0m\u001b[0m\n\u001b[1;32m    154\u001b[0m     \u001b[0;31m# TODO: Not complete or tested.\u001b[0m\u001b[0;34m\u001b[0m\u001b[0;34m\u001b[0m\u001b[0;34m\u001b[0m\u001b[0m\n",
      "\u001b[0;32m~/work/answercheck.py\u001b[0m in \u001b[0;36mbasic\u001b[0;34m(var, hashtag)\u001b[0m\n\u001b[1;32m     48\u001b[0m             \u001b[0;32melse\u001b[0m\u001b[0;34m:\u001b[0m\u001b[0;34m\u001b[0m\u001b[0;34m\u001b[0m\u001b[0m\n\u001b[1;32m     49\u001b[0m                 \u001b[0mprint\u001b[0m\u001b[0;34m(\u001b[0m\u001b[0;34m\"Answer seems to be incorrect\\n\"\u001b[0m\u001b[0;34m)\u001b[0m\u001b[0;34m\u001b[0m\u001b[0;34m\u001b[0m\u001b[0m\n\u001b[0;32m---> 50\u001b[0;31m                 \u001b[0;32massert\u001b[0m \u001b[0mchecktag\u001b[0m \u001b[0;34m==\u001b[0m \u001b[0mhashtag\u001b[0m\u001b[0;34m,\u001b[0m \u001b[0;34mf\"Answer is incorrect {checktag}\"\u001b[0m\u001b[0;34m\u001b[0m\u001b[0;34m\u001b[0m\u001b[0m\n\u001b[0m\u001b[1;32m     51\u001b[0m         \u001b[0;32melse\u001b[0m\u001b[0;34m:\u001b[0m\u001b[0;34m\u001b[0m\u001b[0;34m\u001b[0m\u001b[0m\n\u001b[1;32m     52\u001b[0m             \u001b[0;32mraise\u001b[0m \u001b[0mTypeError\u001b[0m\u001b[0;34m(\u001b[0m\u001b[0;34mf\"No answer hastag provided: {checktag}\"\u001b[0m\u001b[0;34m)\u001b[0m\u001b[0;34m\u001b[0m\u001b[0;34m\u001b[0m\u001b[0m\n",
      "\u001b[0;31mAssertionError\u001b[0m: Answer is incorrect 6f5dfd4b64dcb175c6333134baa33247"
     ]
    }
   ]
  },
  {
   "cell_type": "markdown",
   "source": "&#9989;  **<font color=red>QUESTION:</font>** Calculate $\\lambda_1^4 a u_1 + \\lambda_2^4 b u_2$, where $(a,b)$ are the coordinates of $w0$ in the eigenbasis $u_1, u_2$. Based on the theoretical discussion above, explain the closeness of $A^4w_0$ and the steady state $u_1$. In this case what is $\\lambda_2^4$?",
   "metadata": {
    "cell_id": "00060-73636e2a-c352-46e4-89ee-15c3894ffe66",
    "deepnote_cell_type": "markdown",
    "deepnote_cell_height": 108
   }
  },
  {
   "cell_type": "markdown",
   "source": "",
   "metadata": {
    "cell_id": "00061-0ef85f86-55ad-4456-9d5e-d1b9318cfadc",
    "deepnote_cell_type": "markdown",
    "deepnote_cell_height": 46
   }
  },
  {
   "cell_type": "markdown",
   "source": "<a style='text-decoration:none;line-height:16px;display:flex;color:#5B5B62;padding:10px;justify-content:end;' href='https://deepnote.com?utm_source=created-in-deepnote-cell&projectId=eddc04b2-32a0-43fc-87cf-17e6670be569' target=\"_blank\">\n<img alt='Created in deepnote.com' style='display:inline;max-height:16px;margin:0px;margin-right:7.5px;' src='data:image/svg+xml;base64,PD94bWwgdmVyc2lvbj0iMS4wIiBlbmNvZGluZz0iVVRGLTgiPz4KPHN2ZyB3aWR0aD0iODBweCIgaGVpZ2h0PSI4MHB4IiB2aWV3Qm94PSIwIDAgODAgODAiIHZlcnNpb249IjEuMSIgeG1sbnM9Imh0dHA6Ly93d3cudzMub3JnLzIwMDAvc3ZnIiB4bWxuczp4bGluaz0iaHR0cDovL3d3dy53My5vcmcvMTk5OS94bGluayI+CiAgICA8IS0tIEdlbmVyYXRvcjogU2tldGNoIDU0LjEgKDc2NDkwKSAtIGh0dHBzOi8vc2tldGNoYXBwLmNvbSAtLT4KICAgIDx0aXRsZT5Hcm91cCAzPC90aXRsZT4KICAgIDxkZXNjPkNyZWF0ZWQgd2l0aCBTa2V0Y2guPC9kZXNjPgogICAgPGcgaWQ9IkxhbmRpbmciIHN0cm9rZT0ibm9uZSIgc3Ryb2tlLXdpZHRoPSIxIiBmaWxsPSJub25lIiBmaWxsLXJ1bGU9ImV2ZW5vZGQiPgogICAgICAgIDxnIGlkPSJBcnRib2FyZCIgdHJhbnNmb3JtPSJ0cmFuc2xhdGUoLTEyMzUuMDAwMDAwLCAtNzkuMDAwMDAwKSI+CiAgICAgICAgICAgIDxnIGlkPSJHcm91cC0zIiB0cmFuc2Zvcm09InRyYW5zbGF0ZSgxMjM1LjAwMDAwMCwgNzkuMDAwMDAwKSI+CiAgICAgICAgICAgICAgICA8cG9seWdvbiBpZD0iUGF0aC0yMCIgZmlsbD0iIzAyNjVCNCIgcG9pbnRzPSIyLjM3NjIzNzYyIDgwIDM4LjA0NzY2NjcgODAgNTcuODIxNzgyMiA3My44MDU3NTkyIDU3LjgyMTc4MjIgMzIuNzU5MjczOSAzOS4xNDAyMjc4IDMxLjY4MzE2ODMiPjwvcG9seWdvbj4KICAgICAgICAgICAgICAgIDxwYXRoIGQ9Ik0zNS4wMDc3MTgsODAgQzQyLjkwNjIwMDcsNzYuNDU0OTM1OCA0Ny41NjQ5MTY3LDcxLjU0MjI2NzEgNDguOTgzODY2LDY1LjI2MTk5MzkgQzUxLjExMjI4OTksNTUuODQxNTg0MiA0MS42NzcxNzk1LDQ5LjIxMjIyODQgMjUuNjIzOTg0Niw0OS4yMTIyMjg0IEMyNS40ODQ5Mjg5LDQ5LjEyNjg0NDggMjkuODI2MTI5Niw0My4yODM4MjQ4IDM4LjY0NzU4NjksMzEuNjgzMTY4MyBMNzIuODcxMjg3MSwzMi41NTQ0MjUgTDY1LjI4MDk3Myw2Ny42NzYzNDIxIEw1MS4xMTIyODk5LDc3LjM3NjE0NCBMMzUuMDA3NzE4LDgwIFoiIGlkPSJQYXRoLTIyIiBmaWxsPSIjMDAyODY4Ij48L3BhdGg+CiAgICAgICAgICAgICAgICA8cGF0aCBkPSJNMCwzNy43MzA0NDA1IEwyNy4xMTQ1MzcsMC4yNTcxMTE0MzYgQzYyLjM3MTUxMjMsLTEuOTkwNzE3MDEgODAsMTAuNTAwMzkyNyA4MCwzNy43MzA0NDA1IEM4MCw2NC45NjA0ODgyIDY0Ljc3NjUwMzgsNzkuMDUwMzQxNCAzNC4zMjk1MTEzLDgwIEM0Ny4wNTUzNDg5LDc3LjU2NzA4MDggNTMuNDE4MjY3Nyw3MC4zMTM2MTAzIDUzLjQxODI2NzcsNTguMjM5NTg4NSBDNTMuNDE4MjY3Nyw0MC4xMjg1NTU3IDM2LjMwMzk1NDQsMzcuNzMwNDQwNSAyNS4yMjc0MTcsMzcuNzMwNDQwNSBDMTcuODQzMDU4NiwzNy43MzA0NDA1IDkuNDMzOTE5NjYsMzcuNzMwNDQwNSAwLDM3LjczMDQ0MDUgWiIgaWQ9IlBhdGgtMTkiIGZpbGw9IiMzNzkzRUYiPjwvcGF0aD4KICAgICAgICAgICAgPC9nPgogICAgICAgIDwvZz4KICAgIDwvZz4KPC9zdmc+' > </img>\nCreated in <span style='font-weight:600;margin-left:4px;'>Deepnote</span></a>",
   "metadata": {
    "tags": [],
    "created_in_deepnote_cell": true,
    "deepnote_cell_type": "markdown"
   }
  }
 ],
 "nbformat": 4,
 "nbformat_minor": 4,
 "metadata": {
  "kernelspec": {
   "display_name": "Python 3 (ipykernel)",
   "language": "python",
   "name": "python3"
  },
  "language_info": {
   "codemirror_mode": {
    "name": "ipython",
    "version": 3
   },
   "file_extension": ".py",
   "mimetype": "text/x-python",
   "name": "python",
   "nbconvert_exporter": "python",
   "pygments_lexer": "ipython3",
   "version": "3.9.7"
  },
  "deepnote_notebook_id": "ce9e8bf6-3051-437d-97d4-d0daa1d0e6f0",
  "deepnote": {},
  "deepnote_execution_queue": []
 }
}