{
 "cells": [
  {
   "cell_type": "markdown",
   "source": "\nIn order to successfully complete this assignment we recommend that you participate both individually and in groups during class. **Turn in your assignment using D2L no later than 11:59pm on the day of class.** Grading is based on correctness and completion.",
   "metadata": {
    "cell_id": "7a9fc275-64d8-4729-96e7-75d0c7a25c52",
    "owner_user_id": "b20a8d7c-2019-4fff-955a-28e798448d8b",
    "deepnote_cell_type": "markdown",
    "deepnote_cell_height": 96
   }
  },
  {
   "cell_type": "markdown",
   "source": "## Put the names of all group members present today below:\n\n\n",
   "metadata": {
    "cell_id": "00001-ba42ea0d-8329-49ce-8724-3665d30d1954",
    "deepnote_cell_type": "markdown",
    "deepnote_cell_height": 110
   }
  },
  {
   "cell_type": "markdown",
   "source": "",
   "metadata": {
    "cell_id": "00002-480fd15b-081d-4311-8a2b-aba59165f1c4",
    "deepnote_cell_type": "markdown",
    "deepnote_cell_height": 46
   }
  },
  {
   "cell_type": "code",
   "metadata": {
    "cell_id": "5c74eef2b905440f8e1939a419aef881",
    "tags": [],
    "deepnote_to_be_reexecuted": false,
    "source_hash": "f29cab6b",
    "execution_start": 1652984787755,
    "execution_millis": 1,
    "deepnote_cell_type": "code",
    "deepnote_cell_height": 112
   },
   "source": "print(\"Names: Fangjun Huang, Benjamin Maves, Aryan Sharma\")",
   "execution_count": null,
   "outputs": [
    {
     "name": "stdout",
     "text": "Names: Fangjun Huang, Benjamin Maves, Aryan Sharma\n",
     "output_type": "stream"
    }
   ]
  },
  {
   "cell_type": "markdown",
   "source": "# 02 In-Class Assignment: Vectors\n",
   "metadata": {
    "cell_id": "00003-c980d26b-79fd-478d-89f1-21f7a580c3d5",
    "deepnote_cell_type": "markdown",
    "deepnote_cell_height": 82
   }
  },
  {
   "cell_type": "markdown",
   "source": "### Objectives\n\n1. Be able to work with different representations of vectors in Python and know the implications of using each - tuple, list, numpy array, etc.\n2.  Know what types of operations are valid in the vector space $\\mathbb R^n$.\n3. Be able to express a given vector as a linear combination of given vectors or determine if this is impossible.\n",
   "metadata": {
    "cell_id": "00004-0ad4d6d2-eba9-4d69-9232-a62b9c43e6ef",
    "deepnote_cell_type": "markdown",
    "deepnote_cell_height": 186
   }
  },
  {
   "cell_type": "markdown",
   "source": "### Agenda for today's class (80 minutes)\n\n1. [(30 minutes) Review pre-class assignment](#Pre-class_assignment_review) - discuss vector spaces, linear combinations, and graphical interpretation of vector addition and scalar multiplication in $\\mathbb R^2$.\n1. [(40 minutes) Vectors in Python](#Vectors_in_Python)\n1. [(10 minutes) Linear Combinations Relation to Linear Systems](#Linear_comb_sys)",
   "metadata": {
    "cell_id": "00005-add1b7a1-6937-4570-8420-3905653c4390",
    "deepnote_cell_type": "markdown",
    "deepnote_cell_height": 186
   }
  },
  {
   "cell_type": "markdown",
   "source": "---\n<a name=\"Pre-class_assignment_review\"></a>\n## 1. Pre-class assignment review\n\n",
   "metadata": {
    "cell_id": "00006-8814d33c-1028-4367-a2a6-b8937f4f8ca8",
    "deepnote_cell_type": "markdown",
    "deepnote_cell_height": 85
   }
  },
  {
   "cell_type": "markdown",
   "source": "### Vector Addition Properties\nFor any vectors ```x```, ```y```, and ```z``` of the same size/dimension, we have the following properties:\n1. Vector addition is commutative: ```x + y = y + x```.\n1. Vector addition is associative: ```(x + y) + z = x + (y + z)```. We can therefore write both as ```x + y + z```.\n1. Adding the zero vector to a vector results in the original vector: ```x + 0 = 0 + x = x```.  (This is an example where the size of the zero vector follows from the context, i.e., its size must be the same as the size of ```x```)\n1. ```x − x = 0```. Subtracting a vector from itself yields the zero vector. (Here too the size of 0 is the size of ```x```.)\n",
   "metadata": {
    "cell_id": "00007-7b4c49f7-55ab-4a2b-9c89-dfe4bf858209",
    "deepnote_cell_type": "markdown",
    "deepnote_cell_height": 247
   }
  },
  {
   "cell_type": "markdown",
   "source": "### Scalar-Vector Multiply Properties\nFor any vectors ```x```, ```y```, and scalars ```a```, ```b```, we have the following properties\n\n* Scalar-vector multiply is commutative: ``` ax  = x * a```; This means that scalar-vector multiplication can be written in either order.\n* Scalar-vector multiply is associative: ```(ab)x = a(bx)``` \n* Scalar-vector multiply is distributive: ```a(x + y) = ax + ay```, ```(x+y)a = xa + ya```, and ```(a+b)x = ax + bx```.",
   "metadata": {
    "cell_id": "00008-6c006ba0-ce5b-454c-899c-380984b782e7",
    "deepnote_cell_type": "markdown",
    "deepnote_cell_height": 222
   }
  },
  {
   "cell_type": "markdown",
   "source": "&#9989; **<font color=red>DO THIS:</font>**  Discuss which of the following operations are valid operations in Linear Algebra. In the case when an operation is well defined, determine the result. In the case when an operation is not well defined, explain why.",
   "metadata": {
    "cell_id": "00009-3da8c5aa-8775-453f-a3a5-9eb435a59f45",
    "deepnote_cell_type": "markdown",
    "deepnote_cell_height": 74
   }
  },
  {
   "cell_type": "markdown",
   "source": "* $(-\\pi, 3, \\sqrt{2}) + \\pi$\n* $(-\\pi, 3, \\sqrt{2}) + (0,1,2)$\n* $\\pi(7,2) + 3(0,0,0)$\n* $\\pi(7,2,0) + 3(0,0,0)$\n* $2/(1,1,1)$\n* $(1,1,1)/2$",
   "metadata": {
    "cell_id": "00010-a4bae506-1273-4add-896a-1cc5802c232f",
    "owner_user_id": "1ad92508-5214-4899-9be6-2377c49dba3a",
    "deepnote_cell_type": "markdown",
    "deepnote_cell_height": 194
   }
  },
  {
   "cell_type": "markdown",
   "source": "Put your answer here:\n* Not defined cannot add scalar and vector\n* $(-\\pi, 4, \\sqrt{2})$\n* NOt defined cannot add vectors of different dimmensions\n* $(7\\pi,2\\pi,0) $\n* NOt defined cannot divide scalar by vector\n* $(\\frac{1}{2},\\frac{1}{2},\\frac{1}{2})$\n",
   "metadata": {
    "cell_id": "00011-8727a652-5d8c-432b-a791-afe3fdf94e5b",
    "deepnote_cell_type": "markdown",
    "deepnote_cell_height": 227
   }
  },
  {
   "cell_type": "markdown",
   "source": "Note that we have not defined multiplication of two vectors yet! Soon we will define the dot product of two vectors of the same dimension, the result of which will be a scalar. ",
   "metadata": {
    "cell_id": "00012-eab331c9-46ea-47c5-b346-211f73ee1b31",
    "owner_user_id": "1ad5cec8-d61b-447d-8e89-5b4e3e563ebd",
    "deepnote_cell_type": "markdown",
    "deepnote_cell_height": 74
   }
  },
  {
   "cell_type": "markdown",
   "source": "### Linear Combinations \n\nLet $x$ and $y$ be two n-dimesional vectors. We can define the **linear combination** of these two vectors as $ax + by$ where $a$ and $b$ are scalar coefficients. Since a vector space is closed under addition and scalar multipication, it is closed under linear combitations. **Explain why!**\n",
   "metadata": {
    "cell_id": "00013-15f31b09-9997-4930-b1e5-a94e5a5516ba",
    "deepnote_cell_type": "markdown",
    "deepnote_cell_height": 144
   }
  },
  {
   "cell_type": "markdown",
   "source": "&#9989; **<font color=red>DO THIS:</font>**  Express the following as linear combinations of the vectors $x$ and $y$, i.e., find the coefficients $a$ and $b$ in the linear combination $ax + by$.",
   "metadata": {
    "cell_id": "00014-8327106e-65fc-4aab-b171-ad15a9f22697",
    "deepnote_cell_type": "markdown",
    "deepnote_cell_height": 74
   }
  },
  {
   "cell_type": "markdown",
   "source": "* $x+y$\n* $x-y$\n* $3x$\n* $y/2$",
   "metadata": {
    "cell_id": "00015-abe7fb42-fdc9-4274-a340-036e1e80affd",
    "deepnote_cell_type": "markdown",
    "deepnote_cell_height": 144
   }
  },
  {
   "cell_type": "markdown",
   "source": "* $x+y: a=1, b=1$\n* $x-y: a=1, b=-1$\n* $3x:  a=3, b=0$\n* $y/2: a=0, b=1/2$",
   "metadata": {
    "cell_id": "66cb31cb4fe7402893718e0797cfe865",
    "tags": [],
    "deepnote_cell_type": "markdown",
    "deepnote_cell_height": 144
   }
  },
  {
   "cell_type": "markdown",
   "source": "---\n<a name=\"Vectors_in_Python\"></a>\n\n## 2. Vectors in Python\n",
   "metadata": {
    "cell_id": "00017-c9213aa0-8475-4aef-8cd7-359a95417b85",
    "deepnote_cell_type": "markdown",
    "deepnote_cell_height": 85
   }
  },
  {
   "cell_type": "markdown",
   "source": "For those who are new to Python, there are many common mistakes that can happen in this course. Try to fix the following codes.\n\n\n### SyntaxError   \nIt means that the code does not make sense in Python. We would like to define a vector with four numbers.",
   "metadata": {
    "cell_id": "00018-43712d43-0a8b-4143-89b9-e767720c47f2",
    "deepnote_cell_type": "markdown",
    "deepnote_cell_height": 158
   }
  },
  {
   "cell_type": "markdown",
   "source": "&#9989; **<font color=red>DO THIS:</font>** Fix the following code to create three vectors with four numbers.",
   "metadata": {
    "cell_id": "00019-2a6db04f-2ff1-496c-80d3-97f4d0041aa3",
    "deepnote_cell_type": "markdown",
    "deepnote_cell_height": 52
   }
  },
  {
   "cell_type": "code",
   "metadata": {
    "cell_id": "00020-ae5d1de4-af62-4253-93b5-a84390650388",
    "deepnote_to_be_reexecuted": false,
    "source_hash": "109a0c31",
    "execution_start": 1652984757329,
    "execution_millis": 0,
    "deepnote_cell_type": "code",
    "deepnote_cell_height": 117
   },
   "source": "x = [1, 2, 3.4, 4]\ny = [1, 2, 3, 5]\nz = [1, 2, 3, 6.3]",
   "execution_count": null,
   "outputs": []
  },
  {
   "cell_type": "markdown",
   "source": "Although you may have been able to get rid of the error messages the answer to your problem may still not be correct.  Throughout the semester we will be using a Python program called ```answercheck``` to allow you to check some of your answers.  This program doesn't tell you the right answer but it is intended to be used as a way to get immediate feedback and accelerate learning.\n\n&#9989; **<font color=red>DO THIS:</font>** First we will need to download ```answercheck.py``` to your current working directory.  You only really need to do this once.  However, if you delete this file by mistake sometime during the semester, you can come back to this notebook and download it again by running the following cell:",
   "metadata": {
    "cell_id": "00021-d8707b5a-7080-43ad-9323-d262d33cec12",
    "deepnote_cell_type": "markdown",
    "deepnote_cell_height": 198
   }
  },
  {
   "cell_type": "code",
   "metadata": {
    "cell_id": "00022-cf4f70f6-d16d-49c1-a75c-1d93025094bc",
    "deepnote_to_be_reexecuted": false,
    "source_hash": "a3403eae",
    "execution_start": 1652984757662,
    "execution_millis": 18,
    "deepnote_cell_type": "code",
    "deepnote_cell_height": 135
   },
   "source": "from urllib.request import urlretrieve\n\nurlretrieve('https://raw.githubusercontent.com/colbrydi/jupytercheck/master/answercheck.py', \n            'answercheck.py');",
   "execution_count": null,
   "outputs": []
  },
  {
   "cell_type": "markdown",
   "source": "&#9989; **<font color=red>DO THIS:</font>** Just run the following command to see if you got ```x```, ```y``` and ```z``` correct when you fixed the code above. ",
   "metadata": {
    "cell_id": "00023-d8fda1c7-3371-4603-86cf-0772128bbf58",
    "deepnote_cell_type": "markdown",
    "deepnote_cell_height": 52
   }
  },
  {
   "cell_type": "code",
   "metadata": {
    "cell_id": "00024-126df58c-755d-4976-a655-4e89615b602f",
    "deepnote_to_be_reexecuted": false,
    "source_hash": "cdcc8d30",
    "execution_start": 1652984760834,
    "execution_millis": 5,
    "deepnote_cell_type": "code",
    "deepnote_cell_height": 188
   },
   "source": "from answercheck import checkanswer\n\ncheckanswer([x,y,z],'e80321644979a873b273aebbbcd0e450');",
   "execution_count": null,
   "outputs": [
    {
     "name": "stdout",
     "text": "Testing [[1, 2, 3.4, 4], [1, 2, 3, 5], [1, 2, 3, 6.3]]\nAnswer seems to be correct\n\n",
     "output_type": "stream"
    }
   ]
  },
  {
   "cell_type": "markdown",
   "source": "**_NOTE_** make sure you do not change the ```checkanswer``` commands.  The long string with numbers and letters is the secret code that encodes the true answer.  This code is also called the HASH.  Feel free to look at the ```answercheck.py``` code and see if you can figure out how it works?  ",
   "metadata": {
    "cell_id": "00025-7b1991f3-0f38-4a0a-9b90-29313a49c87a",
    "deepnote_cell_type": "markdown",
    "deepnote_cell_height": 96
   }
  },
  {
   "cell_type": "markdown",
   "source": "\n### Numpy   \nNumpy is a common way to represent vectors, and you are suggested to use ```numpy``` unless otherwise specified. The benefit of ```numpy``` is that it can perform the linear algebra operations listed in the previous section.  \n\nFor example, the following code uses ```numpy.array``` to define a vector of four elements.",
   "metadata": {
    "cell_id": "00026-e98c8944-15fe-44a0-88d7-38b6ac71b666",
    "deepnote_cell_type": "markdown",
    "deepnote_cell_height": 158
   }
  },
  {
   "cell_type": "code",
   "metadata": {
    "cell_id": "00027-fd314a83-15b0-44cf-8d2d-114b54ae4c10",
    "deepnote_to_be_reexecuted": false,
    "source_hash": "816abc62",
    "execution_start": 1652984785915,
    "execution_millis": 21,
    "deepnote_cell_type": "code",
    "deepnote_cell_height": 154,
    "deepnote_output_heights": [
     21
    ]
   },
   "source": "import numpy as np\nx_np = np.array([-1, 0, 2, 3.1])\nx_np",
   "execution_count": null,
   "outputs": [
    {
     "output_type": "execute_result",
     "execution_count": 14,
     "data": {
      "text/plain": "array([-1. ,  0. ,  2. ,  3.1])"
     },
     "metadata": {}
    }
   ]
  },
  {
   "cell_type": "markdown",
   "source": "#### Scalars versus 1-vectors\nIn mathematics, 1-vector is considered as a scalar. But in Python, they are not the same. ",
   "metadata": {
    "cell_id": "00028-db63c511-8e2b-4f20-a202-b7bfbfd454c3",
    "deepnote_cell_type": "markdown",
    "deepnote_cell_height": 88
   }
  },
  {
   "cell_type": "code",
   "metadata": {
    "cell_id": "00029-999889da-c3c7-498d-a541-e26a6101e993",
    "deepnote_to_be_reexecuted": false,
    "source_hash": "30b49b98",
    "execution_start": 1652984786997,
    "execution_millis": 5,
    "deepnote_cell_type": "code",
    "deepnote_cell_height": 154,
    "deepnote_output_heights": [
     21
    ]
   },
   "source": "x = 2.4\ny = [2.4]\nx == y",
   "execution_count": null,
   "outputs": [
    {
     "output_type": "execute_result",
     "execution_count": 15,
     "data": {
      "text/plain": "False"
     },
     "metadata": {}
    }
   ]
  },
  {
   "cell_type": "code",
   "metadata": {
    "cell_id": "00030-c49738de-d380-461f-aaea-d369a13acd06",
    "deepnote_to_be_reexecuted": false,
    "source_hash": "80cef2b6",
    "execution_start": 1652984791057,
    "execution_millis": 8,
    "deepnote_cell_type": "code",
    "deepnote_cell_height": 118,
    "deepnote_output_heights": [
     21
    ]
   },
   "source": "x == y[0]",
   "execution_count": null,
   "outputs": [
    {
     "output_type": "execute_result",
     "execution_count": 17,
     "data": {
      "text/plain": "True"
     },
     "metadata": {}
    }
   ]
  },
  {
   "cell_type": "markdown",
   "source": "#### Lists of vectors \nWe can have a list of numpy arrays or a list of lists. In this case, the vectors can have different dimensions. ",
   "metadata": {
    "cell_id": "00031-ecf1c68c-c543-441f-910b-76a91e5474a5",
    "deepnote_cell_type": "markdown",
    "deepnote_cell_height": 88
   }
  },
  {
   "cell_type": "markdown",
   "source": "&#9989; **<font color=red>DO THIS:</font>** Modify the print statement using indexing to only print the value 3 from the ```list_of_vectors``` defined below. ",
   "metadata": {
    "cell_id": "00032-c83981c8-898a-4901-b17e-22cf16832761",
    "deepnote_cell_type": "markdown",
    "deepnote_cell_height": 74
   }
  },
  {
   "cell_type": "code",
   "metadata": {
    "cell_id": "00033-3e97c5a5-7df8-4cc0-9aa7-d046045852c9",
    "deepnote_to_be_reexecuted": false,
    "source_hash": "b015d9c",
    "execution_start": 1653357897538,
    "execution_millis": 141,
    "deepnote_cell_type": "code",
    "deepnote_cell_height": 234
   },
   "source": "x_np = np.array([-1,0, 2, 3.1])\ny_np = np.array([1,-1,3])\nz_np = np.array([0,1])\nlist_of_vectors = [x_np,y_np,z_np]\n\nprint(list_of_vectors[1][2])",
   "execution_count": null,
   "outputs": [
    {
     "output_type": "error",
     "ename": "NameError",
     "evalue": "name 'np' is not defined",
     "traceback": [
      "\u001b[0;31m---------------------------------------------------------------------------\u001b[0m",
      "\u001b[0;31mNameError\u001b[0m                                 Traceback (most recent call last)",
      "\u001b[0;32m<ipython-input-1-780fe2c3a164>\u001b[0m in \u001b[0;36m<module>\u001b[0;34m\u001b[0m\n\u001b[0;32m----> 1\u001b[0;31m \u001b[0mx_np\u001b[0m \u001b[0;34m=\u001b[0m \u001b[0mnp\u001b[0m\u001b[0;34m.\u001b[0m\u001b[0marray\u001b[0m\u001b[0;34m(\u001b[0m\u001b[0;34m[\u001b[0m\u001b[0;34m-\u001b[0m\u001b[0;36m1\u001b[0m\u001b[0;34m,\u001b[0m\u001b[0;36m0\u001b[0m\u001b[0;34m,\u001b[0m \u001b[0;36m2\u001b[0m\u001b[0;34m,\u001b[0m \u001b[0;36m3.1\u001b[0m\u001b[0;34m]\u001b[0m\u001b[0;34m)\u001b[0m\u001b[0;34m\u001b[0m\u001b[0;34m\u001b[0m\u001b[0m\n\u001b[0m\u001b[1;32m      2\u001b[0m \u001b[0my_np\u001b[0m \u001b[0;34m=\u001b[0m \u001b[0mnp\u001b[0m\u001b[0;34m.\u001b[0m\u001b[0marray\u001b[0m\u001b[0;34m(\u001b[0m\u001b[0;34m[\u001b[0m\u001b[0;36m1\u001b[0m\u001b[0;34m,\u001b[0m\u001b[0;34m-\u001b[0m\u001b[0;36m1\u001b[0m\u001b[0;34m,\u001b[0m\u001b[0;36m3\u001b[0m\u001b[0;34m]\u001b[0m\u001b[0;34m)\u001b[0m\u001b[0;34m\u001b[0m\u001b[0;34m\u001b[0m\u001b[0m\n\u001b[1;32m      3\u001b[0m \u001b[0mz_np\u001b[0m \u001b[0;34m=\u001b[0m \u001b[0mnp\u001b[0m\u001b[0;34m.\u001b[0m\u001b[0marray\u001b[0m\u001b[0;34m(\u001b[0m\u001b[0;34m[\u001b[0m\u001b[0;36m0\u001b[0m\u001b[0;34m,\u001b[0m\u001b[0;36m1\u001b[0m\u001b[0;34m]\u001b[0m\u001b[0;34m)\u001b[0m\u001b[0;34m\u001b[0m\u001b[0;34m\u001b[0m\u001b[0m\n\u001b[1;32m      4\u001b[0m \u001b[0mlist_of_vectors\u001b[0m \u001b[0;34m=\u001b[0m \u001b[0;34m[\u001b[0m\u001b[0mx_np\u001b[0m\u001b[0;34m,\u001b[0m\u001b[0my_np\u001b[0m\u001b[0;34m,\u001b[0m\u001b[0mz_np\u001b[0m\u001b[0;34m]\u001b[0m\u001b[0;34m\u001b[0m\u001b[0;34m\u001b[0m\u001b[0m\n\u001b[1;32m      5\u001b[0m \u001b[0;34m\u001b[0m\u001b[0m\n",
      "\u001b[0;31mNameError\u001b[0m: name 'np' is not defined"
     ]
    }
   ]
  },
  {
   "cell_type": "markdown",
   "source": "\n#### Indexing   \nThe index of a vector runs from 0 to $n-1$ for a $n$-vector.",
   "metadata": {
    "cell_id": "00034-fb2d2f37-c844-48f8-9590-fb4308bdde4d",
    "deepnote_cell_type": "markdown",
    "deepnote_cell_height": 88
   }
  },
  {
   "cell_type": "markdown",
   "source": "&#9989; **<font color=red>DO THIS:</font>**  The following code tries to get the third element of ```x_np```, which is the number ```2.0```. Fix this code to provide the correct answer.",
   "metadata": {
    "cell_id": "00035-2c419671-6930-4e5b-b631-ddeee20d7537",
    "deepnote_cell_type": "markdown",
    "deepnote_cell_height": 74
   }
  },
  {
   "cell_type": "code",
   "metadata": {
    "cell_id": "00036-26451e2f-9e2a-449d-a529-6046274cc358",
    "deepnote_to_be_reexecuted": false,
    "source_hash": "9b3d955f",
    "execution_start": 1652985162430,
    "execution_millis": 9,
    "deepnote_cell_type": "code",
    "deepnote_cell_height": 112
   },
   "source": "print(x_np[2])",
   "execution_count": null,
   "outputs": [
    {
     "name": "stdout",
     "text": "2.0\n",
     "output_type": "stream"
    }
   ]
  },
  {
   "cell_type": "markdown",
   "source": "&#9989; **<font color=red>DO THIS:</font>**  Replace only the third element of ```x_np``` with the number ```20.0``` such that the new values of ```x_np``` is [-1, 0, 20., 3.1]",
   "metadata": {
    "cell_id": "00037-69a5c11c-c4c1-480c-9e39-cb8c50dba443",
    "deepnote_cell_type": "markdown",
    "deepnote_cell_height": 74
   }
  },
  {
   "cell_type": "code",
   "metadata": {
    "cell_id": "00038-7f0b83be-7058-4aed-814a-c714bd60ac41",
    "deepnote_to_be_reexecuted": false,
    "source_hash": "b1c83097",
    "execution_start": 1652985172684,
    "execution_millis": 3,
    "deepnote_cell_type": "code",
    "deepnote_cell_height": 202
   },
   "source": "# Replace the third element using 20.0, then the resulting element is \n#####Start your code here #####\nx_np[2] = 20\n#####End of your code here#####\nprint(x_np)\n",
   "execution_count": null,
   "outputs": [
    {
     "name": "stdout",
     "text": "[-1.   0.  20.   3.1]\n",
     "output_type": "stream"
    }
   ]
  },
  {
   "cell_type": "code",
   "metadata": {
    "cell_id": "00039-39423b7f-e2f5-4bac-bfce-d1d2fbc2b5de",
    "deepnote_to_be_reexecuted": false,
    "source_hash": "ea30f4ab",
    "execution_start": 1652985172685,
    "execution_millis": 3,
    "deepnote_cell_type": "code",
    "deepnote_cell_height": 188
   },
   "source": "from answercheck import checkanswer\n\ncheckanswer(x_np,'993d5cbc6ddeb10776ed48159780a5d3');",
   "execution_count": null,
   "outputs": [
    {
     "name": "stdout",
     "text": "Testing [-1.   0.  20.   3.1]\nAnswer seems to be correct\n\n",
     "output_type": "stream"
    }
   ]
  },
  {
   "cell_type": "markdown",
   "source": "There is a special index -1, which represents the last element in an array. \nThere are several ways to get more than one consecutive element. \n+ x_np[1:3] gives the 2nd and 3rd elements only. It starts with the first index and ends before the second index. So the number of element is just the difference between these two numbers.  \n+ x_np[1:-1] is the same as x_np[1:3] for a 4-vector.\n+ If you want the last element also, then you do not need to put the index, e.g., x_n[1:] gives all elements except the first one. You can do the same thing as the first one. \n",
   "metadata": {
    "cell_id": "00040-26e0be05-7e27-4c09-bb48-de6b5440a19f",
    "deepnote_cell_type": "markdown",
    "deepnote_cell_height": 218
   }
  },
  {
   "cell_type": "markdown",
   "source": "&#9989; **<font color=red>DO THIS:</font>** you are given a vector (```x_np```) of $n$ elements, define a new vector (```d```) of size $n-1$ such that $d_i = x_{i+1}-x_i$ for $i=1,\\dots,n-1$.  **_Hint_** try doing this without writing your own loop.  You should be able to use simple ```numpy``` indexing as described above. ",
   "metadata": {
    "cell_id": "00041-b939dc95-103a-4af5-ae4d-3d9f663db6d8",
    "deepnote_cell_type": "markdown",
    "deepnote_cell_height": 96
   }
  },
  {
   "cell_type": "code",
   "metadata": {
    "cell_id": "00042-e869d81a-411e-452b-bae5-76c705edcd29",
    "deepnote_to_be_reexecuted": false,
    "source_hash": "b6663af0",
    "execution_start": 1652985201877,
    "execution_millis": 611,
    "deepnote_cell_type": "code",
    "deepnote_cell_height": 190,
    "deepnote_output_heights": [
     21
    ]
   },
   "source": "x_np = np.array([1,8,3,2,1,9,7])\n\n## Put your answer to the above question here.\nd = x_np[1:]- x_np[0:-1]\nd",
   "execution_count": null,
   "outputs": [
    {
     "output_type": "execute_result",
     "execution_count": 47,
     "data": {
      "text/plain": "array([ 7, -5, -1, -1,  8, -2])"
     },
     "metadata": {}
    }
   ]
  },
  {
   "cell_type": "code",
   "metadata": {
    "cell_id": "00043-ec2b76f2-5059-4e36-ae0b-ff167ad09564",
    "deepnote_to_be_reexecuted": false,
    "source_hash": "24950",
    "execution_start": 1652985202611,
    "execution_millis": 4,
    "deepnote_cell_type": "code",
    "deepnote_cell_height": 188
   },
   "source": "from answercheck import checkanswer\n\ncheckanswer(d,'14205415f0ed56e608d0a87e7253fa70');",
   "execution_count": null,
   "outputs": [
    {
     "name": "stdout",
     "text": "Testing [ 7 -5 -1 -1  8 -2]\nAnswer seems to be correct\n\n",
     "output_type": "stream"
    }
   ]
  },
  {
   "cell_type": "markdown",
   "source": "### Vector equality in numpy and list\n\nThe relational operator (```==```, ```<```, ```>```, ```!=```, etc.) can be used to check whether the vectors are the same or not. However, they will act differently if the code is comparing ```numpy.array``` objects or a ```list```. For example, in ```numpy```,  ```==``` checks whether the corresponding elements in the ```array```are equal and returns an array whose components have True or False values. For ```list```, ```==``` checks whether the corresponding components in the two lists are equal and returns a single True or False value.  The result will be true only if **all** components in the first list are equal to the corresponding components in the second list.",
   "metadata": {
    "cell_id": "00044-03d5ed31-78c2-44a9-b784-903f475ce9c1",
    "deepnote_cell_type": "markdown",
    "deepnote_cell_height": 210
   }
  },
  {
   "cell_type": "code",
   "metadata": {
    "cell_id": "00045-ec530fcd-e6df-49ec-b3d7-8cd885764847",
    "deepnote_to_be_reexecuted": false,
    "source_hash": "8f5de3d5",
    "execution_start": 1652985930633,
    "execution_millis": 1,
    "deepnote_cell_type": "code",
    "deepnote_cell_height": 171
   },
   "source": "x = [-1, 0, 2, 3.1]\ny = x.copy()\ny[2] = 20.2\n\nx_np = np.array(x)\ny_np = np.array(y)",
   "execution_count": null,
   "outputs": []
  },
  {
   "cell_type": "code",
   "metadata": {
    "cell_id": "00046-19b24e3e-d900-4ea8-abb2-dea32f4135cf",
    "deepnote_to_be_reexecuted": false,
    "source_hash": "217b0f0d",
    "execution_start": 1652985931353,
    "execution_millis": 676,
    "deepnote_cell_type": "code",
    "deepnote_cell_height": 118,
    "deepnote_output_heights": [
     21
    ]
   },
   "source": "x == y",
   "execution_count": null,
   "outputs": [
    {
     "output_type": "execute_result",
     "execution_count": 81,
     "data": {
      "text/plain": "False"
     },
     "metadata": {}
    }
   ]
  },
  {
   "cell_type": "code",
   "metadata": {
    "cell_id": "00047-9b0db9ba-ab2e-4161-a826-cbf64010d9be",
    "deepnote_to_be_reexecuted": false,
    "source_hash": "fe6d4d19",
    "execution_start": 1652985932440,
    "execution_millis": 16,
    "deepnote_cell_type": "code",
    "deepnote_cell_height": 118,
    "deepnote_output_heights": [
     21
    ]
   },
   "source": "np.array(x_np) == np.array(y_np)",
   "execution_count": null,
   "outputs": [
    {
     "output_type": "execute_result",
     "execution_count": 82,
     "data": {
      "text/plain": "array([ True,  True, False,  True])"
     },
     "metadata": {}
    }
   ]
  },
  {
   "cell_type": "markdown",
   "source": "### Zero vectors and Ones vectors in numpy\n\n+ np.zeros(n) creates a vector of size n with all 0s\n+ np.ones(n) creates a vector of size n with all 1s",
   "metadata": {
    "cell_id": "00048-40e6f62a-9245-4c3f-a421-8c073bf0c37a",
    "deepnote_cell_type": "markdown",
    "deepnote_cell_height": 139
   }
  },
  {
   "cell_type": "markdown",
   "source": "&#9989; **<font color=red>DO THIS:</font>** Create a zero vector (called ```zero_np```) with the same dimension as vector ```x_np```. Create a ones vector (called ```ones_np```) also with the same dimension as vector ```x_np```. ",
   "metadata": {
    "cell_id": "00049-c7ad8e7f-c5a9-4f7f-9f72-b2a6db96f572",
    "deepnote_cell_type": "markdown",
    "deepnote_cell_height": 74
   }
  },
  {
   "cell_type": "code",
   "metadata": {
    "cell_id": "00050-605e4bea-7cad-48bb-9c9b-a71ebbd092c6",
    "deepnote_to_be_reexecuted": false,
    "source_hash": "63eb23ee",
    "execution_start": 1652985019429,
    "execution_millis": 2,
    "deepnote_cell_type": "code",
    "deepnote_cell_height": 135
   },
   "source": "x_np = np.array([-1, 0, 2, 3.1])\n### Define zero_np and ones_np here \nzero_np = np.zeros(np.shape(x_np))\nones_np = np.ones(np.shape(x_np))",
   "execution_count": null,
   "outputs": []
  },
  {
   "cell_type": "code",
   "metadata": {
    "cell_id": "00051-33eae893-f19b-4e8d-949f-6ec42baccf44",
    "deepnote_to_be_reexecuted": false,
    "source_hash": "42ee7048",
    "execution_start": 1652985025901,
    "execution_millis": 28,
    "deepnote_cell_type": "code",
    "deepnote_cell_height": 188
   },
   "source": "from answercheck import checkanswer\n\ncheckanswer([zero_np, ones_np],'7f874c2e446786655ff96f0bbae8a0c6');",
   "execution_count": null,
   "outputs": [
    {
     "name": "stdout",
     "text": "Testing [array([0., 0., 0., 0.]), array([1., 1., 1., 1.])]\nAnswer seems to be correct\n\n",
     "output_type": "stream"
    }
   ]
  },
  {
   "cell_type": "markdown",
   "source": "### Vector addition and subtraction\nIn this section, you will understand why we use numpy for linear algebra operations. If x and y are numpy arrays of the same size, we can have x + y and x-y for their addition and subtraction, respectively.",
   "metadata": {
    "cell_id": "00052-48a0027c-0769-4459-8142-27f01f38f70c",
    "deepnote_cell_type": "markdown",
    "deepnote_cell_height": 122
   }
  },
  {
   "cell_type": "code",
   "metadata": {
    "cell_id": "00053-541d82a1-2e81-4877-8bd6-510f8907e638",
    "deepnote_to_be_reexecuted": false,
    "source_hash": "123b2722",
    "execution_start": 1652985055675,
    "execution_millis": 5,
    "deepnote_cell_type": "code",
    "deepnote_cell_height": 258
   },
   "source": "x_np = np.array([1,2,3])\ny_np = np.array([100,200,300])\n\nv_sum = x_np + y_np\nv_diff = x_np - y_np\n\nprint (f'Sum of vectors: {v_sum}')\nprint (f'Difference of vectors: {v_diff}')",
   "execution_count": null,
   "outputs": [
    {
     "name": "stdout",
     "text": "Sum of vectors: [101 202 303]\nDifference of vectors: [ -99 -198 -297]\n",
     "output_type": "stream"
    }
   ]
  },
  {
   "cell_type": "markdown",
   "source": "For comparison, we also put the addition of two lists below. Recall from the pre-class assignment, we have to define a function to add two lists for linear algebra. \n\n\n&#9989; **<font color=red>DO THIS:</font>**  Modify the following code to properly add and subtract the two lists.  You can copy the relevant code from the pre-class assignment.",
   "metadata": {
    "cell_id": "00054-46e79795-02e6-4c13-95a8-b4afe7f46103",
    "deepnote_cell_type": "markdown",
    "deepnote_cell_height": 132
   }
  },
  {
   "cell_type": "code",
   "metadata": {
    "cell_id": "00055-95b50782-9198-4343-a0ad-fa7ed64ad490",
    "deepnote_to_be_reexecuted": false,
    "source_hash": "8e120365",
    "execution_start": 1652985340252,
    "execution_millis": 3,
    "deepnote_cell_type": "code",
    "deepnote_cell_height": 312
   },
   "source": "x = [1,2,3]\ny = [100,200,300]\n\nv_sum=[]\nv_diff = []\nfor i in range(len(x)):\n    v_sum.append(x[i]+y[i])\n    v_diff.append(x[i]-y[i])\n\nprint (f'Sum of vectors: {v_sum}')\nprint (f'Difference of vectors: {v_diff}')",
   "execution_count": null,
   "outputs": [
    {
     "name": "stdout",
     "text": "Sum of vectors: [101, 202, 303]\nDifference of vectors: [-99, -198, -297]\n",
     "output_type": "stream"
    }
   ]
  },
  {
   "cell_type": "markdown",
   "source": "### Scalar-vector addition in Python (not in LA!)\nA scalar-vector addition means that the scalar (or a 1-vector) is added to all elements of the vector. Note that this is **not a valid operation in Linear Algebra**, meaning that if",
   "metadata": {
    "cell_id": "00056-14b053a2-88c7-4411-a1c6-93fa1a4bdb28",
    "deepnote_cell_type": "markdown",
    "deepnote_cell_height": 122
   }
  },
  {
   "cell_type": "markdown",
   "source": "$$v=(1,2,3)$$ ",
   "metadata": {
    "cell_id": "00057-4807c557-8647-4f0b-b24e-e20dd2350d70",
    "deepnote_cell_type": "markdown",
    "deepnote_cell_height": 52
   }
  },
  {
   "cell_type": "markdown",
   "source": "is a given vector, then ",
   "metadata": {
    "cell_id": "00058-d2cf20d8-4f7b-4db0-a954-d350843e2c28",
    "deepnote_cell_type": "markdown",
    "deepnote_cell_height": 52
   }
  },
  {
   "cell_type": "markdown",
   "source": "<font color=red>$$v+5$$</font>",
   "metadata": {
    "cell_id": "00059-59bb6566-e14b-4475-b3bd-dabadbea4e7e",
    "deepnote_cell_type": "markdown",
    "deepnote_cell_height": 52
   }
  },
  {
   "cell_type": "markdown",
   "source": "is not well defined! However, ",
   "metadata": {
    "cell_id": "00060-7c857914-594a-4399-a9c9-796333c735cd",
    "deepnote_cell_type": "markdown",
    "deepnote_cell_height": 52
   }
  },
  {
   "cell_type": "markdown",
   "source": "$$v+(5,5,5)$$",
   "metadata": {
    "cell_id": "00061-1f599464-b608-491c-a01a-e1796e09f6c5",
    "deepnote_cell_type": "markdown",
    "deepnote_cell_height": 52
   }
  },
  {
   "cell_type": "markdown",
   "source": "is well defined.",
   "metadata": {
    "cell_id": "00062-5390b68c-6e12-4e3e-b97c-9ba80105ab43",
    "deepnote_cell_type": "markdown",
    "deepnote_cell_height": 52
   }
  },
  {
   "cell_type": "markdown",
   "source": "&#9989; **<font color=red>DO THIS:</font>** Add a scalar 20.20 to all elements of the following vector ```x_np ``` and store the result back into ```x_np```",
   "metadata": {
    "cell_id": "00063-ddbcb801-906f-4601-87ad-cd35658a842a",
    "deepnote_cell_type": "markdown",
    "deepnote_cell_height": 52
   }
  },
  {
   "cell_type": "code",
   "metadata": {
    "cell_id": "00064-4e998166-3268-4427-be8e-5c51ee5db203",
    "deepnote_to_be_reexecuted": false,
    "source_hash": "c371d61b",
    "execution_start": 1652985378659,
    "execution_millis": 2,
    "deepnote_cell_type": "code",
    "deepnote_cell_height": 99
   },
   "source": "x_np = np.array([1.0,2.0,3.0])\nx_np = x_np +20.20",
   "execution_count": null,
   "outputs": []
  },
  {
   "cell_type": "code",
   "metadata": {
    "cell_id": "00065-397c706e-458d-4bfc-9782-dfb00e6df90f",
    "deepnote_to_be_reexecuted": false,
    "source_hash": "e01f6bec",
    "execution_start": 1652985386020,
    "execution_millis": 2,
    "deepnote_cell_type": "code",
    "deepnote_cell_height": 188
   },
   "source": "from answercheck import checkanswer\n\ncheckanswer(x_np,'2f8cbcce405fa12b8608422ff28544bb');",
   "execution_count": null,
   "outputs": [
    {
     "name": "stdout",
     "text": "Testing [21.2 22.2 23.2]\nAnswer seems to be correct\n\n",
     "output_type": "stream"
    }
   ]
  },
  {
   "cell_type": "markdown",
   "source": "### Linear combination with Numpy\n\nIn the following example, we are given two vectors (```x_np``` and ```y_np```), and two scalars (```alpha``` and ```beta```), we obtain the linear combination ```alpha*x_np + beta*y_np```.",
   "metadata": {
    "cell_id": "00066-4a2e4656-6a09-46c3-b9cd-a2fc725fd289",
    "deepnote_cell_type": "markdown",
    "deepnote_cell_height": 122
   }
  },
  {
   "cell_type": "code",
   "metadata": {
    "cell_id": "00067-5d94e5c8-c995-4e09-a5ad-dfecf5b31e8d",
    "deepnote_to_be_reexecuted": false,
    "source_hash": "2cf80c6f",
    "execution_start": 1652985982564,
    "execution_millis": 3,
    "deepnote_cell_type": "code",
    "deepnote_cell_height": 202
   },
   "source": "x_np = np.array([1,2])\ny_np = np.array([3,4])\nalpha = 0.5\nbeta = -0.8\nc = alpha*x_np + beta*y_np\nprint(c)",
   "execution_count": null,
   "outputs": [
    {
     "name": "stdout",
     "text": "[-1.9 -2.2]\n",
     "output_type": "stream"
    }
   ]
  },
  {
   "cell_type": "markdown",
   "source": "We can also define a function ```lincomb``` to perform the linear combination. ",
   "metadata": {
    "cell_id": "00068-78bef85d-5adb-47c9-9334-d6452d779255",
    "deepnote_cell_type": "markdown",
    "deepnote_cell_height": 52
   }
  },
  {
   "cell_type": "markdown",
   "source": "&#9989; **<font color=red>DO THIS:</font>** Finish the following code for lincomb and compare the results we just get.",
   "metadata": {
    "cell_id": "00069-2143c808-fba8-471e-a8a1-116eb2e07e04",
    "deepnote_cell_type": "markdown",
    "deepnote_cell_height": 52
   }
  },
  {
   "cell_type": "code",
   "metadata": {
    "cell_id": "00070-fbd787a1-b274-45ff-a01e-78d76234f4e9",
    "deepnote_to_be_reexecuted": false,
    "source_hash": "83273264",
    "execution_start": 1652986256759,
    "execution_millis": 1,
    "deepnote_cell_type": "code",
    "deepnote_cell_height": 189
   },
   "source": "def lincomb(coef, vectors): \n    n = len(vectors[0])  # get the dimension of the vectors. note they have to be of the same dimension\n    comb = np.zeros(n)   # initial the value with all zeros.\n    comb = coef[0]*vectors[0] + coef[1]*vectors[1]\n    ### Add code here to calculate the linear combination of the input vecotrs and the coefficients. \n    ### Note that the number of elements in coef should be equal to the number of elements in vectors\n    return comb",
   "execution_count": null,
   "outputs": []
  },
  {
   "cell_type": "code",
   "metadata": {
    "cell_id": "00071-d0b39f5e-cfa6-4fec-8dfb-8669dc529a5f",
    "deepnote_to_be_reexecuted": false,
    "source_hash": "2b8303e6",
    "execution_start": 1652986258433,
    "execution_millis": 0,
    "deepnote_cell_type": "code",
    "deepnote_cell_height": 224
   },
   "source": "from answercheck import checkanswer\n\ncombination = lincomb([alpha, beta], [x_np,y_np])\n\ncheckanswer(combination,'8bab7329c94f3e3cda423add411685c2');",
   "execution_count": null,
   "outputs": [
    {
     "name": "stdout",
     "text": "Testing [-1.9 -2.2]\nAnswer seems to be correct\n\n",
     "output_type": "stream"
    }
   ]
  },
  {
   "cell_type": "markdown",
   "source": "We can also test the functions ourselves by using values for which we know the answer. For example, the following tests are multiplying by the zero scalars and adding the zero vector - we know what these answers should be and can check them.",
   "metadata": {
    "cell_id": "00072-a6679a7d-f584-4386-a821-c0292459d724",
    "deepnote_cell_type": "markdown",
    "deepnote_cell_height": 96
   }
  },
  {
   "cell_type": "code",
   "metadata": {
    "cell_id": "00073-5bebb3fd-68f9-43ce-b3c7-7f4c5c73650e",
    "deepnote_to_be_reexecuted": false,
    "source_hash": "2cc7a7f6",
    "execution_start": 1652986318760,
    "execution_millis": 4,
    "deepnote_cell_type": "code",
    "deepnote_cell_height": 172,
    "deepnote_output_heights": [
     21
    ]
   },
   "source": "combination = lincomb([0, 0], [x_np,y_np])\n\ncombination == np.zeros(combination.shape)\n",
   "execution_count": null,
   "outputs": [
    {
     "output_type": "execute_result",
     "execution_count": 102,
     "data": {
      "text/plain": "array([ True,  True])"
     },
     "metadata": {}
    }
   ]
  },
  {
   "cell_type": "code",
   "metadata": {
    "cell_id": "00074-d69e93a7-c1be-44ef-a4db-84d63b5f9f12",
    "deepnote_to_be_reexecuted": false,
    "source_hash": "f15f351c",
    "execution_start": 1652986265259,
    "execution_millis": 12,
    "deepnote_cell_type": "code",
    "deepnote_cell_height": 154,
    "deepnote_output_heights": [
     21
    ]
   },
   "source": "combination = lincomb([2, 2], [combination,np.zeros(combination.shape)])\n\ncombination == 2*combination",
   "execution_count": null,
   "outputs": [
    {
     "output_type": "execute_result",
     "execution_count": 100,
     "data": {
      "text/plain": "array([ True,  True])"
     },
     "metadata": {}
    }
   ]
  },
  {
   "cell_type": "markdown",
   "source": "If you want to check that all values in a ```numpy.array``` are the same you could convert it to a list or there is a method called ```alltrue``` which checks if everything is true. It is a good idea to use this method if vectors get big. ",
   "metadata": {
    "cell_id": "00075-c6101efc-18ef-41f8-9d8b-29aa9d368710",
    "deepnote_cell_type": "markdown",
    "deepnote_cell_height": 74
   }
  },
  {
   "cell_type": "code",
   "metadata": {
    "cell_id": "00076-0c3181aa-2d9b-4fc6-9146-57f33bec1511",
    "deepnote_to_be_reexecuted": false,
    "source_hash": "c830281c",
    "execution_start": 1652986269143,
    "execution_millis": 9,
    "deepnote_cell_type": "code",
    "deepnote_cell_height": 154,
    "deepnote_output_heights": [
     21
    ]
   },
   "source": "combination = lincomb([2, 2], [combination,np.zeros(combination.shape)])\n\nnp.alltrue(combination == 2*combination)",
   "execution_count": null,
   "outputs": [
    {
     "output_type": "execute_result",
     "execution_count": 101,
     "data": {
      "text/plain": "True"
     },
     "metadata": {}
    }
   ]
  },
  {
   "cell_type": "markdown",
   "source": "---\n<a name=\"Linear_comb_sys\"></a>\n\n## 3. Linear Combinations Relation to Linear Systems\n\n- [03--Linear_comb_sys.ipynb](03--Linear_comb_sys.ipynb)",
   "metadata": {
    "cell_id": "00077-2676c764-6fc9-4ec0-8e75-48249e4b705a",
    "deepnote_cell_type": "markdown",
    "deepnote_cell_height": 137
   }
  },
  {
   "cell_type": "markdown",
   "source": "In the following example we will start exploring the relationship between linear combinations of vectors and finding a solution of a linear system. ",
   "metadata": {
    "cell_id": "00078-29c1b960-32ff-48ca-9f28-cc232ce448ed",
    "deepnote_cell_type": "markdown",
    "deepnote_cell_height": 74
   }
  },
  {
   "cell_type": "markdown",
   "source": "&#9989; **<font color=red>DO THIS:</font>** Given the following vectors $\\mathbf u$, $\\mathbf v$, and $\\mathbf b$, find scalars $x$ and $y$, so that $x \\mathbf u+y\\mathbf v=\\mathbf b$. In other words, we are trying to express the vector $\\mathbf b$ as a linear combination of the vectors $\\mathbf u$ and $\\mathbf v$. If the request is possible, find the values of $x$ and $y$ that satisfy it and state if they are unique. If it is impossible, explain why. It may be helpful to represent the vectors graphically.",
   "metadata": {
    "cell_id": "00079-b0712127-9f5e-4461-921f-2ab46f48c811",
    "deepnote_cell_type": "markdown",
    "deepnote_cell_height": 118
   }
  },
  {
   "cell_type": "markdown",
   "source": "* $\\mathbf u = \\left[\\begin{array}{rr}1 \\\\ 1\\end{array}\\right], \\qquad \\mathbf v = \\left[\\begin{array}{rr}1 \\\\ -1\\end{array}\\right], \\qquad \\mathbf b = \\left[\\begin{array}{rr}3 \\\\ 5\\end{array}\\right]$\n* $\\mathbf u = \\left[\\begin{array}{rr}1 \\\\ 2\\end{array}\\right], \\qquad \\mathbf v = \\left[\\begin{array}{rr}-2 \\\\ -4\\end{array}\\right], \\qquad \\mathbf b = \\left[\\begin{array}{rr}3 \\\\ 6\\end{array}\\right]$\n* $\\mathbf u = \\left[\\begin{array}{rr}1 \\\\ 2\\end{array}\\right], \\qquad \\mathbf v = \\left[\\begin{array}{rr}-2 \\\\ -4\\end{array}\\right], \\qquad \\mathbf b = \\left[\\begin{array}{rr}3 \\\\ 5\\end{array}\\right]$\n",
   "metadata": {
    "cell_id": "00080-ac5489e2-cc38-4e70-ae04-1121651ea07a",
    "deepnote_cell_type": "markdown",
    "deepnote_cell_height": 179
   }
  },
  {
   "cell_type": "markdown",
   "source": "1. x=4, y=-1\n2. Incompatible because they are parallel and never intersect\n3. Incompatable because they are parallel and dont intersect",
   "metadata": {
    "cell_id": "3fe56219f5564f269cc1fec40d9b45d9",
    "tags": [],
    "owner_user_id": "eba6f924-8d0b-47b0-bf5a-ca6754bad4bd",
    "deepnote_cell_type": "markdown",
    "deepnote_cell_height": 119
   }
  },
  {
   "cell_type": "markdown",
   "source": "Below is a similar problem, but this time we approach it graphically.\n\n&#9989; **<font color=red>DO THIS:</font>** Use [the following Desmos link](https://www.desmos.com/calculator/vyo5elivb9) to gain a visual understanding of liner combinations in $\\mathbb R^2$.",
   "metadata": {
    "cell_id": "00081-4466c508-c106-47e7-ac2e-59b24085aef9",
    "deepnote_cell_type": "markdown",
    "deepnote_cell_height": 88
   }
  },
  {
   "cell_type": "markdown",
   "source": "----\nWritten by Dr. Dirk Colbry, Michigan State University and Dr. Ming Yan, Michigan State University<a rel=\"license\" href=\"http://creativecommons.org/licenses/by-nc/4.0/\"><img alt=\"Creative Commons License\" style=\"border-width:0\" src=\"https://i.creativecommons.org/l/by-nc/4.0/88x31.png\" /></a><br />This work is licensed under a <a rel=\"license\" href=\"http://creativecommons.org/licenses/by-nc/4.0/\">Creative Commons Attribution-NonCommercial 4.0 International License</a>.",
   "metadata": {
    "cell_id": "00082-8652b34b-52ef-495e-b276-802bfb8298d3",
    "deepnote_cell_type": "markdown",
    "deepnote_cell_height": 168
   }
  },
  {
   "cell_type": "markdown",
   "source": "<a style='text-decoration:none;line-height:16px;display:flex;color:#5B5B62;padding:10px;justify-content:end;' href='https://deepnote.com?utm_source=created-in-deepnote-cell&projectId=d305643f-c00c-4985-a40d-dcbee1f47f30' target=\"_blank\">\n<img alt='Created in deepnote.com' style='display:inline;max-height:16px;margin:0px;margin-right:7.5px;' src='data:image/svg+xml;base64,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' > </img>\nCreated in <span style='font-weight:600;margin-left:4px;'>Deepnote</span></a>",
   "metadata": {
    "tags": [],
    "created_in_deepnote_cell": true,
    "deepnote_cell_type": "markdown"
   }
  }
 ],
 "nbformat": 4,
 "nbformat_minor": 4,
 "metadata": {
  "kernelspec": {
   "display_name": "Python 3",
   "language": "python",
   "name": "python3"
  },
  "language_info": {
   "codemirror_mode": {
    "name": "ipython",
    "version": 3
   },
   "file_extension": ".py",
   "mimetype": "text/x-python",
   "name": "python",
   "nbconvert_exporter": "python",
   "pygments_lexer": "ipython3",
   "version": "3.8.8"
  },
  "deepnote_notebook_id": "68a28c4c-8a90-4207-b195-7022d1737145",
  "deepnote": {},
  "deepnote_execution_queue": []
 }
}