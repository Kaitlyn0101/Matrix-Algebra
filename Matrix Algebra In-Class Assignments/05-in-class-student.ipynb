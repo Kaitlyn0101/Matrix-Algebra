{
 "cells": [
  {
   "cell_type": "markdown",
   "source": "In order to successfully complete this assignment we recommend that you participate both individually and in groups during class. **Turn in your assignment using D2L no later than 11:59pm on the day of class.** Grading is based on correctness, full attendance, and completion.",
   "metadata": {
    "cell_id": "3d57279a-d8a2-48f9-91aa-fe96f3ab42ca",
    "deepnote_cell_type": "markdown",
    "deepnote_cell_height": 105
   }
  },
  {
   "cell_type": "markdown",
   "source": "## Put the names of all group members present today below:",
   "metadata": {
    "formattedRanges": [],
    "cell_id": "3efbd32d73fe4365b96b55b781b1e8b6",
    "tags": [],
    "is_collapsed": false,
    "owner_user_id": "b20a8d7c-2019-4fff-955a-28e798448d8b",
    "deepnote_cell_type": "text-cell-h2"
   }
  },
  {
   "cell_type": "markdown",
   "source": "Kaitlyn Watson\n\nJacob Miller\n\nHaobo Liu\n\nChristian Lulaj\n",
   "metadata": {
    "cell_id": "a1e9faa1e4614cf9a590c133ea65120a",
    "tags": [],
    "owner_user_id": "0afbd57e-8684-4e1a-bc89-a648f82e00ba",
    "deepnote_cell_type": "markdown",
    "deepnote_cell_height": 178
   }
  },
  {
   "cell_type": "markdown",
   "source": "# 05 In-Class Assignment: Gauss-Jordan\n ",
   "metadata": {
    "cell_id": "00001-d1e6e5b2-e959-422d-98cb-566a084c6714",
    "deepnote_cell_type": "markdown",
    "deepnote_cell_height": 82
   }
  },
  {
   "cell_type": "markdown",
   "source": "### Objectives for 04 and 05:\n\n1. Knowing what it means for a matrix to be in a Row Echelon Form and in Reduced Row Echelon Form\n1. Being able to apply elementary row operations to put a matrix in REF or RREF\n1. Given an augmented matrix in RREF, be able to write down (a formula for) ALL solutions or determine no solution exists.\n1. Being able to apply the Gauss-Jordan algorithm to solve a linear system.\n1. Being able to use Python functions like np.linalg.solve, sym.Matrix(A).rref() to solve linear systems\n1. Being able to find general and particular solutions to underdetermined systems.\n1. Being able to find\n     - The dot product of two vectors\n     - The norm of a vector\n     - The distance between two points\n1. Being able to program a basic Gauss-Jordan algorithm and know when it does/does not work.\n",
   "metadata": {
    "cell_id": "00002-d135c2bc-4986-4865-a726-ab72cb29dbcf",
    "deepnote_cell_type": "markdown",
    "deepnote_cell_height": 437
   }
  },
  {
   "cell_type": "markdown",
   "source": "\n",
   "metadata": {
    "cell_id": "00003-c0a3e83d-9a0c-45cb-a902-eb45393b41fb",
    "deepnote_cell_type": "markdown",
    "deepnote_cell_height": 46
   }
  },
  {
   "cell_type": "code",
   "metadata": {
    "cell_id": "00004-a422c966-6ce5-437f-ba26-246f81bb5db2",
    "deepnote_to_be_reexecuted": false,
    "source_hash": "5698553e",
    "execution_start": 1654022583400,
    "execution_millis": 1905,
    "deepnote_cell_type": "code",
    "deepnote_cell_height": 189
   },
   "source": "#Load Useful Python Libraries \n%matplotlib inline\nimport matplotlib.pyplot as plt\nimport numpy as np\nimport sympy as sym\nimport math\nsym.init_printing(use_unicode=True)",
   "execution_count": null,
   "outputs": []
  },
  {
   "cell_type": "markdown",
   "source": "----\n<a name=\"Pre-class_aassignment_review\"></a>\n## 1. Pre-class assignment review\nNote well: Do **NOT** use numpy or sympy for section 1. However, you may use the math package for taking square roots and computing arccosine.\n",
   "metadata": {
    "cell_id": "00005-be354407-cc28-4439-8835-c4032911d0ba",
    "deepnote_cell_type": "markdown",
    "deepnote_cell_height": 153
   }
  },
  {
   "cell_type": "markdown",
   "source": "Let $\\mathbf{u} = \\left[\\begin{array}{r} 3 \\\\ 4 \\\\ 7 \\end{array}\\right], \\quad \\mathbf{v} = \\left[\\begin{array}{r} 2 \\\\1 \\\\3 \\end{array}\\right], \\quad \\mathbf{x} = \\left[\\begin{array}{r} 2 \\\\3 \\end{array}\\right]$ and let, $\\mathbf{y} = \\left[\\begin{array}{r} 1 \\\\ 4\\end{array}\\right]$.",
   "metadata": {
    "cell_id": "00006-48198834-1a33-4eb4-8bad-5ec2f3483088",
    "deepnote_cell_type": "markdown",
    "deepnote_cell_height": 92
   }
  },
  {
   "cell_type": "markdown",
   "source": "&#9989;**<font color=red>DO THIS</font>**: Using Latex show the steps for finding the dot product of $\\mathbf{u}$ and $\\mathbf{v}$.",
   "metadata": {
    "cell_id": "00007-15ca91b6-d39d-4713-9314-66e53c2c4215",
    "deepnote_cell_type": "markdown",
    "deepnote_cell_height": 55
   }
  },
  {
   "cell_type": "markdown",
   "source": "**Put answer here.**\n\n$\nu_1*v_1+u_2*v_2+u_3*v_3\n$",
   "metadata": {
    "cell_id": "00008-f3fbc916-aef8-4116-a5a3-109e2619d873",
    "deepnote_cell_type": "markdown",
    "deepnote_cell_height": 97
   }
  },
  {
   "cell_type": "markdown",
   "source": "&#9989;**<font color=red>DO THIS</font>**: Write a `dot_product` function that takes two lists as inputs and returns the dot product of the lists if the operation is well defined. If the operation is not well defined, then the function should raise an appropriate exception. ",
   "metadata": {
    "cell_id": "00009-ae053c66-81e9-4ed5-bd47-87268071c03a",
    "deepnote_cell_type": "markdown",
    "deepnote_cell_height": 105
   }
  },
  {
   "cell_type": "code",
   "metadata": {
    "cell_id": "dd98e164e5d34277b4c597a89a7906c7",
    "tags": [],
    "deepnote_to_be_reexecuted": false,
    "source_hash": "31d9c26f",
    "execution_start": 1654026876109,
    "execution_millis": 13,
    "deepnote_cell_type": "code",
    "deepnote_cell_height": 947,
    "deepnote_output_heights": [
     null,
     20
    ]
   },
   "source": "#Just test example~\nu = [3,4,7]\nv = [2,1,3]\nx = [2,3]\ny = [1,4]\n\n#1.0\narray1 = np.array(u)\narray2 = np.array(v)\nsubtracted_array = np.subtract(u, v)\nsubtracted = list(subtracted_array)\nd = (np.dot((subtracted),(subtracted)))**0.5 #distance between two\nprint(d)\n\n#2.0\nuv = np.dot(u,v) # only dot function\nprint(uv)\n\n\n#3.0\nsolution = 0\nfor i in range(len(u)):\n    solution += u[i]*v[i]\n    \nsolution\n\n#4.0 function example\ndef tri_recursion(k):\n  if(k > 0):\n    result = k + tri_recursion(k - 1)\n    print(result)\n  else:\n    result = 0\n  return result\n\nprint(\"\\n\\nRecursion Example Results\")\ntri_recursion(1)",
   "execution_count": null,
   "outputs": [
    {
     "name": "stdout",
     "text": "5.0990195135927845\n31\n\n\nRecursion Example Results\n1\n",
     "output_type": "stream"
    },
    {
     "output_type": "execute_result",
     "execution_count": 118,
     "data": {
      "text/plain": "1",
      "image/png": "[encoded data removed]",
      "text/latex": "$\\displaystyle 1$"
     },
     "metadata": {
      "image/png": {
       "width": 13,
       "height": 18
      }
     }
    }
   ]
  },
  {
   "cell_type": "code",
   "metadata": {
    "cell_id": "c0d853cb982445c4a466a815195eee6e",
    "tags": [],
    "deepnote_to_be_reexecuted": false,
    "source_hash": "a5cc0145",
    "execution_start": 1654627796491,
    "execution_millis": 0,
    "deepnote_cell_type": "code",
    "deepnote_cell_height": 189
   },
   "source": "def DotProduct1(arr1, arr2):\n    if isinstance(arr1, int) or isinstance(arr2, int):\n        return 'This is scalar multiplication not a dot product'\n    elif len(arr1) != len(arr2):\n        return 'The lengths of the vectors do not match'\n    else:\n        return sum([i * j for (i, j) in zip(arr1, arr2)])",
   "execution_count": null,
   "outputs": []
  },
  {
   "cell_type": "markdown",
   "source": "Test your function on the following operations:  \n1) $\\mathbf{u} \\cdot \\mathbf{v}$   \n2) $ 4 \\cdot \\mathbf{u}$   \n3) $\\mathbf{x} \\cdot \\mathbf{y}$    \n4) $\\mathbf{v} \\cdot \\mathbf{y}$",
   "metadata": {
    "cell_id": "00011-8b834cad-d36c-4f4b-a942-cd329f105a44",
    "owner_user_id": "1ad92508-5214-4899-9be6-2377c49dba3a",
    "deepnote_cell_type": "markdown",
    "deepnote_cell_height": 196
   }
  },
  {
   "cell_type": "code",
   "metadata": {
    "cell_id": "00012-029c931a-1406-4317-ba87-85126d6a7300",
    "deepnote_to_be_reexecuted": false,
    "source_hash": "c42d28fd",
    "execution_start": 1654026914392,
    "execution_millis": 7,
    "owner_user_id": "192b1d1b-306b-4bdd-8c69-79e2eeb9d053",
    "deepnote_cell_type": "code",
    "deepnote_cell_height": 394
   },
   "source": "\n# Test 1 \nprint(DotProduct1(u, v))\n\n# Test 2\nprint(DotProduct1(4, u))\n\n# Test 3\nprint(DotProduct1(x, y))\n\n# Test 4 \nprint(DotProduct1(v, y))",
   "execution_count": null,
   "outputs": [
    {
     "name": "stdout",
     "text": "31\nThis is scalar multiplication not a dot product\n14\nThe lengths of the vectors do not match\n",
     "output_type": "stream"
    }
   ]
  },
  {
   "cell_type": "markdown",
   "source": "Recall the formula for the norm of a vector, $\\vert\\vert \\mathbf{u} \\vert\\vert = \\sqrt{\\mathbf{u}\\cdot\\mathbf{u}}$.",
   "metadata": {
    "cell_id": "00013-42e25d17-4cc4-4deb-ab5a-73176e35dac9",
    "owner_user_id": "a464456a-c3c6-450f-a8c1-17fcb565d65e",
    "deepnote_cell_type": "markdown",
    "deepnote_cell_height": 56
   }
  },
  {
   "cell_type": "markdown",
   "source": "&#9989;**<font color=red>DO THIS</font>**: Write a function `vec_norm` that takes a list as an input and returns the norm of the vector.",
   "metadata": {
    "cell_id": "00014-55724c0b-e002-4d4e-8cf3-cdbf2c3a96bc",
    "deepnote_cell_type": "markdown",
    "deepnote_cell_height": 55
   }
  },
  {
   "cell_type": "code",
   "metadata": {
    "cell_id": "00015-16e8494d-c5c5-4c3d-aae0-5d6bed09a5e3",
    "deepnote_to_be_reexecuted": false,
    "source_hash": "8b7c5e02",
    "execution_start": 1654022635384,
    "execution_millis": 17,
    "deepnote_cell_type": "code"
   },
   "source": "def vec_norm(a):\n    n = math.sqrt(DotProduct(a, a))\n    return n\n\nvec_norm(u)",
   "execution_count": null,
   "outputs": [
    {
     "output_type": "execute_result",
     "execution_count": 10,
     "data": {
      "text/plain": "8.602325267042627",
      "image/png": "[encoded data removed]",
      "text/latex": "$\\displaystyle 8.60232526704263$"
     },
     "metadata": {
      "image/png": {
       "width": 198,
       "height": 18
      }
     }
    }
   ]
  },
  {
   "cell_type": "markdown",
   "source": "Many times we would like to scale a vector so that it has length one.",
   "metadata": {
    "cell_id": "00016-5513cc31-d32a-405b-b29a-7b9577b98714",
    "deepnote_cell_type": "markdown"
   }
  },
  {
   "cell_type": "markdown",
   "source": "&#9989;**<font color=red>DO THIS</font>**: Write a function `one_vec` that takes a list as an input and returns the list scaled to lenght one.",
   "metadata": {
    "cell_id": "00017-ba148e3c-1459-4797-b24c-bdf5ad3c90eb",
    "deepnote_cell_type": "markdown"
   }
  },
  {
   "cell_type": "code",
   "metadata": {
    "cell_id": "00018-7c176100-1afb-44bf-93ae-d5d10af1feca",
    "deepnote_to_be_reexecuted": false,
    "source_hash": "9594a27f",
    "execution_start": 1654022636866,
    "execution_millis": 3,
    "deepnote_cell_type": "code"
   },
   "source": "def one_vec(a):\n    norm = 1 / vec_norm(a)\n    for x in range(len(a)):\n        a[x] = a[x] * norm\n    return a\n\n\n\nw=one_vec(u)\nprint(w)",
   "execution_count": null,
   "outputs": [
    {
     "name": "stdout",
     "text": "[0.34874291623145787, 0.46499055497527714, 0.813733471206735]\n",
     "output_type": "stream"
    }
   ]
  },
  {
   "cell_type": "markdown",
   "source": "Check your answer using `vec_norm`",
   "metadata": {
    "cell_id": "00019-54b51585-e1de-4f8a-81dc-6f8bd9010788",
    "deepnote_cell_type": "markdown"
   }
  },
  {
   "cell_type": "code",
   "metadata": {
    "cell_id": "00020-40bafc78-2ae4-4157-8730-06e88d617d6f",
    "deepnote_to_be_reexecuted": false,
    "source_hash": "c9a331e1",
    "execution_start": 1654022658157,
    "execution_millis": 4,
    "deepnote_cell_type": "code"
   },
   "source": "w1=one_vec(w)\nprint(w1)\nx=vec_norm(w1)\nprint(x)",
   "execution_count": null,
   "outputs": [
    {
     "name": "stdout",
     "text": "[0.34874291623145787, 0.46499055497527714, 0.813733471206735]\n1.0\n",
     "output_type": "stream"
    }
   ]
  },
  {
   "cell_type": "markdown",
   "source": "Recall the formula for the angle between two vectors $\\cos^{-1}\\left(\\frac{\\mathbf{u}\\cdot\\mathbf{v}}{\\vert\\vert\\mathbf{u}\\vert\\vert~ \\vert\\vert\\mathbf{v}\\vert\\vert}\\right)$.",
   "metadata": {
    "cell_id": "00021-8f6909d1-c3f1-4915-a312-bf1547b2f7f5",
    "deepnote_cell_type": "markdown"
   }
  },
  {
   "cell_type": "markdown",
   "source": "&#9989;**<font color=red>DO THIS</font>**: Write a function `vec_angle` that takes a list as an input and returns the angle between the vectors in degrees.",
   "metadata": {
    "cell_id": "00022-df11e002-cdf7-45f1-ab59-fb058e7d318f",
    "deepnote_cell_type": "markdown"
   }
  },
  {
   "cell_type": "code",
   "metadata": {
    "cell_id": "00023-917128e3-095d-4a95-b33c-d9cf5e15107a",
    "deepnote_to_be_reexecuted": false,
    "source_hash": "bc151748",
    "execution_start": 1654023137157,
    "execution_millis": 18,
    "deepnote_cell_type": "code"
   },
   "source": "def vec_angle(arr1, arr2):\n    theta=math.acos(DotProduct(arr1,arr2)/(vec_norm(arr1)*vec_norm(arr2)))\n    return(theta*(180*math.pi))\n\nvec_angle(u, v)",
   "execution_count": null,
   "outputs": [
    {
     "output_type": "execute_result",
     "execution_count": 18,
     "data": {
      "text/plain": "154.04871954690648",
      "image/png": "[encoded data removed]",
      "text/latex": "$\\displaystyle 154.048719546906$"
     },
     "metadata": {
      "image/png": {
       "width": 199,
       "height": 18
      }
     }
    }
   ]
  },
  {
   "cell_type": "markdown",
   "source": "&#9989;**<font color=red>DO THIS</font>**: Write a function `vec_proj` that takes two lists as an input and returns the projection of the first input onto the second input. ",
   "metadata": {
    "cell_id": "00024-74949056-15a3-439a-b473-61c37baf89c7",
    "deepnote_cell_type": "markdown"
   }
  },
  {
   "cell_type": "code",
   "metadata": {
    "cell_id": "15bf3917ca104a06b72afbc9196a43a8",
    "tags": [],
    "deepnote_to_be_reexecuted": false,
    "source_hash": "b5c7167b",
    "execution_start": 1654024685887,
    "execution_millis": 39,
    "deepnote_cell_type": "code"
   },
   "source": "def vec_proj(arr1, arr2):\n    projection = (DotProduct(arr1, arr2) / vec_norm(arr2))\n    for x in range(len(arr2)):\n        arr2[x] = arr2[x] * projection\n    return arr2\n\nvec_proj(u, v)",
   "execution_count": null,
   "outputs": [
    {
     "output_type": "execute_result",
     "execution_count": 41,
     "data": {
      "text/plain": "[1.8552123552123554, 0.9276061776061777, 2.782818532818533]",
      "image/png": "[encoded data removed]",
      "text/latex": "$\\displaystyle \\left[ 1.85521235521236, \\  0.927606177606178, \\  2.78281853281853\\right]$"
     },
     "metadata": {
      "image/png": {
       "width": 651,
       "height": 21
      }
     }
    }
   ]
  },
  {
   "cell_type": "markdown",
   "source": "----\n<a name=\"Generalize_the_procedure\"></a>\n## 2. Gauss-Jordan as an algorithm\n\nWe are going to think about Gauss-Jordan as an algorithm. First I want you to think about how you would generalize the procedure to work on any matrix.  Do the following before moving on to the next section. \n\n\n&#9989;**<font color=red>DO THIS</font>**: Use the following matrix to think about how you would solve any system of equations using the Gauss-Jordan elimination algorithm.  Focus on the steps. ",
   "metadata": {
    "cell_id": "00026-ed2c3c15-45ee-4b13-9601-a5c9c1005a56",
    "deepnote_cell_type": "markdown"
   }
  },
  {
   "cell_type": "markdown",
   "source": "$$ \n\\left[\n\\begin{matrix}\n    a & b & c  \\\\\n    e & f & g  \\\\\n    i & j & k \n \\end{matrix}\n\\, \\middle\\vert \\,\n\\begin{matrix}\nd \\\\ h \\\\ l\n\\end{matrix}\n\\right] \n$$",
   "metadata": {
    "cell_id": "00027-baf19e5c-ff98-4676-8ad9-e1761ed9d41d",
    "deepnote_cell_type": "markdown"
   }
  },
  {
   "cell_type": "markdown",
   "source": "&#9989;**<font color=red>QUESTION</font>**: What are the first three mathematical steps you would do to put the above equation into a reduced row echelon form using Gauss-Jordan method?",
   "metadata": {
    "cell_id": "00028-1ecb6b49-5307-4449-8795-a0616be3fbb4",
    "deepnote_cell_type": "markdown"
   }
  },
  {
   "cell_type": "markdown",
   "source": "**Put your answer here.**\n\nPut in Row Echolen Form\n\nThe leading entry of each row must be 1\n\nEach leading 1 is the only nonzero entry in its column",
   "metadata": {
    "cell_id": "00029-2b45f233-9cc2-4abd-8672-02b292c7666a",
    "deepnote_cell_type": "markdown"
   }
  },
  {
   "cell_type": "markdown",
   "source": "### Pseudocode\n\n&#9989;**<font color=red>QUESTION</font>**: Write down the steps you would complete to implement the Gauss-Jordan elimination algorithm as a computer programmer. Some questions to answer:\n\n1. What are the inputs?\n2. What are the outputs?\n3. How many and what types of loops would you have to guarantee success of your program?\n",
   "metadata": {
    "cell_id": "00030-ee2ca7ea-be50-4cde-acdc-9711baf381ef",
    "deepnote_cell_type": "markdown"
   }
  },
  {
   "cell_type": "markdown",
   "source": "**Put your answer here.**\n\nThe inputs: augmented matrix\n\nThe outputs: Reduced Row Echelon form with the solutions.\n\nTwo for loops to iterate over m*n elements in the matrix.",
   "metadata": {
    "cell_id": "00031-4f799fc9-e602-4591-be73-8409e97fcce3",
    "deepnote_cell_type": "markdown"
   }
  },
  {
   "cell_type": "markdown",
   "source": "----\n\n<a name=\"Basic_Gauss_Jordan\"></a>\n\n## 3. Basic Gauss Jordan",
   "metadata": {
    "cell_id": "00032-75162586-0495-4a8a-b769-0351a9d790e5",
    "deepnote_cell_type": "markdown"
   }
  },
  {
   "cell_type": "markdown",
   "source": "The following is implementation of the Basic Gauss-Jordan Elimination Algorithm for Matrix $A^{m\\times n}$ (Pseudocode):\n```bash\nfor i from 1 to m:\n    for j from 1 to m\t\n        if i ≠ j:\n            Ratio = A[j,i]/A[i,i]\n            #Elementary Row Operation 3\n            for k from 1 to n:\n                A[j,k] = A[j,k] - Ratio * A[i,k]\n            next k\n        endif\n    next j\n    \n    #Elementary Row Operation 2\n    Const = A[i,i]\n    for k from 1 to n:\n        A[i,k] = A[i,k]/Const\nnext i\n```",
   "metadata": {
    "cell_id": "00033-1c580a39-6989-4886-8702-36c8c113346b",
    "deepnote_cell_type": "markdown"
   }
  },
  {
   "cell_type": "markdown",
   "source": "&#9989;**<font color=red>DO THIS</font>**: using the Pseudocode provided above, write a ```basic_gauss_jordan``` function which takes a list of lists $A$ as input and returns the modified list of lists:",
   "metadata": {
    "cell_id": "00034-84c59a5d-c696-4a50-8fb8-19af9787f738",
    "deepnote_cell_type": "markdown"
   }
  },
  {
   "cell_type": "code",
   "metadata": {
    "cell_id": "00035-c1b82de7-aeaa-4705-9b3d-565056f3de01",
    "deepnote_to_be_reexecuted": false,
    "source_hash": "b8759356",
    "execution_start": 1654026143714,
    "execution_millis": 1,
    "owner_user_id": "1e619e60-c5fd-4818-8055-ed2448616607",
    "deepnote_cell_type": "code"
   },
   "source": "# Put your answer here. \n\ndef basic_gauss_jordan(A):\n    Ratio = 0\n    for i in range(len(A)):\n        for j in range(len(A)):\n            if i != j:\n                Ratio = A[j][i] / A[i][i]\n\n                #Elementary Row Operation 3\n                for k in range(len(A[0])):\n                    A[j][k] = A[j][k] - Ratio * A[i][k]\n            \n    \n        #Elementary Row Operation 2\n        Const = A[i][i]\n        for k in range(len(A[0])):\n            A[i][k] = A[i][k] / Const\n\n    return A\n",
   "execution_count": null,
   "outputs": []
  },
  {
   "cell_type": "markdown",
   "source": "Let's check your function by applying the ```basic_gauss_jordan``` function and check to see if it matches the answer from matrix $A$ in the pre-class video:",
   "metadata": {
    "cell_id": "00036-f9235c4a-4f65-4159-9649-c9849533fbd8",
    "deepnote_cell_type": "markdown"
   }
  },
  {
   "cell_type": "code",
   "metadata": {
    "cell_id": "00037-5c713a50-4197-470c-bf7c-dd7a740ffd79",
    "deepnote_to_be_reexecuted": false,
    "source_hash": "70fa747a",
    "execution_start": 1654026162237,
    "execution_millis": 12,
    "deepnote_cell_type": "code"
   },
   "source": "A = [[1, 1, 1, 2], [2, 3, 1, 3], [0, -2, -3, -8]]\nanswer = basic_gauss_jordan(A)\nsym.Matrix(answer)",
   "execution_count": null,
   "outputs": [
    {
     "output_type": "execute_result",
     "execution_count": 85,
     "data": {
      "text/plain": "⎡1.0   0    0   -1.0⎤\n⎢                   ⎥\n⎢ 0   1.0   0   1.0 ⎥\n⎢                   ⎥\n⎣ 0    0   1.0  2.0 ⎦",
      "text/latex": "$\\displaystyle \\left[\\begin{matrix}1.0 & 0 & 0 & -1.0\\\\0 & 1.0 & 0 & 1.0\\\\0 & 0 & 1.0 & 2.0\\end{matrix}\\right]$"
     },
     "metadata": {}
    }
   ]
  },
  {
   "cell_type": "code",
   "metadata": {
    "cell_id": "00038-9ce76bee-fe72-4bcd-8f27-783b700b4ae2",
    "deepnote_to_be_reexecuted": false,
    "source_hash": "83c13f0f",
    "execution_start": 1654025821503,
    "execution_millis": 5,
    "deepnote_cell_type": "code"
   },
   "source": "answer_from_video = [[1, 0, 0, -1], [0, 1, 0, 1], [0, 0, 1, 2]]\nnp.allclose(answer, answer_from_video)",
   "execution_count": null,
   "outputs": [
    {
     "output_type": "execute_result",
     "execution_count": 71,
     "data": {
      "text/plain": "True"
     },
     "metadata": {}
    }
   ]
  },
  {
   "cell_type": "markdown",
   "source": "The above psuedocode does not quite work properly for all matrices. For example, consider the following augmented matrix:",
   "metadata": {
    "cell_id": "00039-51dfc5f7-4401-4566-beb7-88b1ea13c28e",
    "deepnote_cell_type": "markdown"
   }
  },
  {
   "cell_type": "markdown",
   "source": "$$ \nB = \\left[\n\\begin{matrix}\n    0 & 1 & 33\\\\ \n    5 & 3 & 7 \\\\\n    6 & 69 & 4\n \\end{matrix}\n \\, \\middle\\vert \\,\n\\begin{matrix}\n 30 \\\\ \n 90 \\\\\n 420\n\\end{matrix}\n\\right] \n$$",
   "metadata": {
    "cell_id": "00040-fab2a7e1-c8f7-47ed-be97-4deddc560cce",
    "deepnote_cell_type": "markdown"
   }
  },
  {
   "cell_type": "code",
   "metadata": {
    "cell_id": "00041-dc705885-a0c5-40a9-abbb-f5d0f405ed1b",
    "deepnote_to_be_reexecuted": false,
    "source_hash": "62c0fadc",
    "execution_start": 1654026190567,
    "execution_millis": 2,
    "deepnote_cell_type": "code"
   },
   "source": "# Fill in the matrix B and compute its RREF using SymPy\nB = [[ 0,1,33,30], [ 5,3,7,90], [6,69,4,420 ]]\nsym.Matrix(B).rref()[0]",
   "execution_count": null,
   "outputs": [
    {
     "output_type": "execute_result",
     "execution_count": 88,
     "data": {
      "text/plain": "⎡         13800⎤\n⎢1  0  0  ─────⎥\n⎢          983 ⎥\n⎢              ⎥\n⎢         4740 ⎥\n⎢0  1  0  ──── ⎥\n⎢         983  ⎥\n⎢              ⎥\n⎢          750 ⎥\n⎢0  0  1   ─── ⎥\n⎣          983 ⎦",
      "text/latex": "$\\displaystyle \\left[\\begin{matrix}1 & 0 & 0 & \\frac{13800}{983}\\\\0 & 1 & 0 & \\frac{4740}{983}\\\\0 & 0 & 1 & \\frac{750}{983}\\end{matrix}\\right]$"
     },
     "metadata": {}
    }
   ]
  },
  {
   "cell_type": "code",
   "metadata": {
    "cell_id": "00042-89a0e57e-8015-4983-8851-4f3bb1e0fadd",
    "deepnote_to_be_reexecuted": false,
    "source_hash": "7dc521fe",
    "execution_start": 1654026219067,
    "execution_millis": 39,
    "deepnote_cell_type": "code"
   },
   "source": "# Now try to compute the RREF of B using your basic_gauss_jordan function in this cell\n\nbasic_gauss_jordan(B)",
   "execution_count": null,
   "outputs": [
    {
     "output_type": "error",
     "ename": "ZeroDivisionError",
     "evalue": "division by zero",
     "traceback": [
      "\u001b[0;31m---------------------------------------------------------------------------\u001b[0m",
      "\u001b[0;31mZeroDivisionError\u001b[0m                         Traceback (most recent call last)",
      "\u001b[0;32m<ipython-input-90-3da8fe015801>\u001b[0m in \u001b[0;36m<module>\u001b[0;34m\u001b[0m\n\u001b[1;32m      1\u001b[0m \u001b[0;31m# Now try to compute the RREF of B using your basic_gauss_jordan function in this cell\u001b[0m\u001b[0;34m\u001b[0m\u001b[0;34m\u001b[0m\u001b[0;34m\u001b[0m\u001b[0m\n\u001b[1;32m      2\u001b[0m \u001b[0;34m\u001b[0m\u001b[0m\n\u001b[0;32m----> 3\u001b[0;31m \u001b[0mbasic_gauss_jordan\u001b[0m\u001b[0;34m(\u001b[0m\u001b[0mB\u001b[0m\u001b[0;34m)\u001b[0m\u001b[0;34m\u001b[0m\u001b[0;34m\u001b[0m\u001b[0m\n\u001b[0m",
      "\u001b[0;32m<ipython-input-81-28f9e94ab150>\u001b[0m in \u001b[0;36mbasic_gauss_jordan\u001b[0;34m(A)\u001b[0m\n\u001b[1;32m      6\u001b[0m         \u001b[0;32mfor\u001b[0m \u001b[0mj\u001b[0m \u001b[0;32min\u001b[0m \u001b[0mrange\u001b[0m\u001b[0;34m(\u001b[0m\u001b[0mlen\u001b[0m\u001b[0;34m(\u001b[0m\u001b[0mA\u001b[0m\u001b[0;34m)\u001b[0m\u001b[0;34m)\u001b[0m\u001b[0;34m:\u001b[0m\u001b[0;34m\u001b[0m\u001b[0;34m\u001b[0m\u001b[0m\n\u001b[1;32m      7\u001b[0m             \u001b[0;32mif\u001b[0m \u001b[0mi\u001b[0m \u001b[0;34m!=\u001b[0m \u001b[0mj\u001b[0m\u001b[0;34m:\u001b[0m\u001b[0;34m\u001b[0m\u001b[0;34m\u001b[0m\u001b[0m\n\u001b[0;32m----> 8\u001b[0;31m                 \u001b[0mRatio\u001b[0m \u001b[0;34m=\u001b[0m \u001b[0mA\u001b[0m\u001b[0;34m[\u001b[0m\u001b[0mj\u001b[0m\u001b[0;34m]\u001b[0m\u001b[0;34m[\u001b[0m\u001b[0mi\u001b[0m\u001b[0;34m]\u001b[0m \u001b[0;34m/\u001b[0m \u001b[0mA\u001b[0m\u001b[0;34m[\u001b[0m\u001b[0mi\u001b[0m\u001b[0;34m]\u001b[0m\u001b[0;34m[\u001b[0m\u001b[0mi\u001b[0m\u001b[0;34m]\u001b[0m\u001b[0;34m\u001b[0m\u001b[0;34m\u001b[0m\u001b[0m\n\u001b[0m\u001b[1;32m      9\u001b[0m \u001b[0;34m\u001b[0m\u001b[0m\n\u001b[1;32m     10\u001b[0m                 \u001b[0;31m#Elementary Row Operation 3\u001b[0m\u001b[0;34m\u001b[0m\u001b[0;34m\u001b[0m\u001b[0;34m\u001b[0m\u001b[0m\n",
      "\u001b[0;31mZeroDivisionError\u001b[0m: division by zero"
     ]
    }
   ]
  },
  {
   "cell_type": "markdown",
   "source": "&#9989;**<font color=red>QUESTION</font>**: Explain why doesn't the provided ```basic_gauss_jordan``` function work on the matrix $B$? ",
   "metadata": {
    "cell_id": "00043-f84ab1a1-5aeb-4e8c-a5ce-72ea27c47688",
    "deepnote_cell_type": "markdown"
   }
  },
  {
   "cell_type": "markdown",
   "source": "**Put your answer to the above question here.**\n\nWe divide by B[i][i] in the function, so when i=0, we will try to divide by B[0][0], which is 0, so it causes an error.",
   "metadata": {
    "cell_id": "00044-3fa53126-595d-47e9-943d-3fe6693e2237",
    "deepnote_cell_type": "markdown"
   }
  },
  {
   "cell_type": "markdown",
   "source": "&#9989;**<font color=red>QUESTION</font>**: Describe how you could modify matrix $B$ so that it would work with ```basic_gauss_jordan``` AND still give the correct solution? ",
   "metadata": {
    "cell_id": "00045-e766fab9-bf51-4e9b-baf3-d26049a95d19",
    "deepnote_cell_type": "markdown"
   }
  },
  {
   "cell_type": "markdown",
   "source": "**Put your answer to the above question here.** \n\nWe swapped the first row with the third row (using row operator functions) so zero was no longer an issue in the function.\n",
   "metadata": {
    "cell_id": "00046-65f4e480-4332-4ffd-baf9-42ced8bc41a5",
    "deepnote_cell_type": "markdown"
   }
  },
  {
   "cell_type": "code",
   "metadata": {
    "cell_id": "00047-a31b7a5e-78ea-49dc-8547-78aa1a73336a",
    "deepnote_to_be_reexecuted": false,
    "source_hash": "488b23de",
    "execution_start": 1654026238125,
    "execution_millis": 411,
    "deepnote_cell_type": "code"
   },
   "source": "# Put your code here\n# Note: You may need to cast the entries of B as floats (and not integers) in order to get this to work\n\nB = [[5,3,7,90], [6,69,4,420 ], [0,1,33,30]]\n\n\nbasic_gauss_jordan(B)",
   "execution_count": null,
   "outputs": [
    {
     "output_type": "execute_result",
     "execution_count": 91,
     "data": {
      "text/plain": "[[1.0, 0.0, 0.0, 14.038657171922686], [0.0, 1.0, 0.0, 4.821973550356053], [0.0\n, 0.0, 1.0, 0.7629704984740591]]",
      "image/png": "[encoded data removed]",
      "text/latex": "$\\displaystyle \\left[ \\left[ 1.0, \\  0.0, \\  0.0, \\  14.0386571719227\\right], \\  \\left[ 0.0, \\  1.0, \\  0.0, \\  4.82197355035605\\right], \\  \\left[ 0.0, \\  0.0, \\  1.0, \\  0.762970498474059\\right]\\right]$"
     },
     "metadata": {
      "image/png": {
       "width": 1133,
       "height": 21
      }
     }
    }
   ]
  },
  {
   "cell_type": "markdown",
   "source": "----\n\nWritten by Dr. Dirk Colbry, Michigan State University\n<a rel=\"license\" href=\"http://creativecommons.org/licenses/by-nc/4.0/\"><img alt=\"Creative Commons License\" style=\"border-width:0\" src=\"https://i.creativecommons.org/l/by-nc/4.0/88x31.png\" /></a><br />This work is licensed under a <a rel=\"license\" href=\"http://creativecommons.org/licenses/by-nc/4.0/\">Creative Commons Attribution-NonCommercial 4.0 International License</a>.",
   "metadata": {
    "cell_id": "00048-1bfe483e-53c9-4b2b-a8f8-8b58f4a8bc02",
    "deepnote_cell_type": "markdown"
   }
  },
  {
   "cell_type": "markdown",
   "source": "<a style='text-decoration:none;line-height:16px;display:flex;color:#5B5B62;padding:10px;justify-content:end;' href='https://deepnote.com?utm_source=created-in-deepnote-cell&projectId=eddc04b2-32a0-43fc-87cf-17e6670be569' target=\"_blank\">\n<img alt='Created in deepnote.com' style='display:inline;max-height:16px;margin:0px;margin-right:7.5px;' src='data:image/svg+xml;base64,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' > </img>\nCreated in <span style='font-weight:600;margin-left:4px;'>Deepnote</span></a>",
   "metadata": {
    "tags": [],
    "created_in_deepnote_cell": true,
    "deepnote_cell_type": "markdown"
   }
  }
 ],
 "nbformat": 4,
 "nbformat_minor": 4,
 "metadata": {
  "kernelspec": {
   "display_name": "Python 3 (ipykernel)",
   "language": "python",
   "name": "python3"
  },
  "language_info": {
   "codemirror_mode": {
    "name": "ipython",
    "version": 3
   },
   "file_extension": ".py",
   "mimetype": "text/x-python",
   "name": "python",
   "nbconvert_exporter": "python",
   "pygments_lexer": "ipython3",
   "version": "3.9.7"
  },
  "deepnote_notebook_id": "3b9dd05b-4284-4e50-896a-9e30ea3881d6",
  "deepnote": {},
  "deepnote_execution_queue": []
 }
}