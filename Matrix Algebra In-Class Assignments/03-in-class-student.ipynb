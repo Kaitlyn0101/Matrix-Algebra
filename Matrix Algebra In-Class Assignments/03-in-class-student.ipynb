{
 "cells": [
  {
   "cell_type": "markdown",
   "source": "In order to successfully complete this assignment we recommend that you participate both individually and in groups during class.  **Turn in your assignment using Deepnote no later than 11:59pm on the day of class.** Grading is based on attendence, correctness and completion.",
   "metadata": {
    "cell_id": "dc2d85b4-9dfc-4510-b78b-f2755884b651",
    "deepnote_cell_type": "markdown",
    "deepnote_cell_height": 119.5625
   }
  },
  {
   "cell_type": "markdown",
   "source": "## Put the names of all group members present today below:",
   "metadata": {
    "cell_id": "00001-43ceca7f-ae55-4ba2-8297-b88beaaa3ef5",
    "deepnote_cell_type": "markdown",
    "deepnote_cell_height": 110
   }
  },
  {
   "cell_type": "markdown",
   "source": "Kaitlyn Watson, Aryan Sharma, Ben Maves, Fangjun Huang\n",
   "metadata": {
    "cell_id": "00002-fcea8451-68c7-41b1-a188-4e615ff1b5f0",
    "deepnote_cell_type": "markdown",
    "deepnote_cell_height": 52.390625
   }
  },
  {
   "cell_type": "markdown",
   "source": "# 03 In-Class Assignment: Solving Linear Systems of equations\n\nIn the movie Groundhog day the main character \"Phil\" repeats the same day over and over again.  This is an iterative process where Phil learns from past mistakes until he has a \"perfect\" day.  The Groundhog movie is a fun analogy of iterative methods for solving linear equations.  In this class we will write our own iterative method. ",
   "metadata": {
    "cell_id": "00003-8f4e71ba-763d-4678-9b71-70da41d357d2",
    "deepnote_cell_type": "markdown",
    "deepnote_cell_height": 291.5625
   }
  },
  {
   "cell_type": "markdown",
   "source": "### Objectives\n\n1. Know what elementary operations can be applied to linear systems (which preserve the solution).\n1. Be able to rewrite a system of linear equations in any of the main representations:\n - Row Picture\n - Column Picture\n - Matrix Picture or Augmented Matrix Form\n1. Be able to use college algebra techniques to solve a given system of linear equations.\n1. Be able to use the Row and Column pictures to determine if a given system has a unique, no, or infinitely many solutions.\n1. Be able to determine if given vectors in $\\mathbb R^2$ span $\\mathbb R^2$.\n1. Be able to formulate real-world problems as systems of linear equations.\n1. Be able to apply the Jacobi Iterative Method to solve a linear system of equations.\n1. Know the sufficient conditions for the Jacobi Method to converge.\n1. Understand the notion of numerical error.",
   "metadata": {
    "cell_id": "00004-ffa5780c-4c7b-4f76-a570-985bc9f86927",
    "deepnote_cell_type": "markdown",
    "deepnote_cell_height": 460.46875
   }
  },
  {
   "cell_type": "markdown",
   "source": "---\n<a name=\"Pre-class_assignment_review\"></a>\n## 1. Typesetting in LaTex\n\nLaTex is a professional way to typeset math and can be used in Jupyter markdown cells. To let the markdown cell know that we are entering LaTex code we enclose it with dollar signs.\nFor instance,typing \\$ 4x+3y=6 \\$ will return $4x+3y=6$ when the cell is run.",
   "metadata": {
    "cell_id": "00005-67692b7c-8399-4746-9ca4-ed9d41ff2c8e",
    "deepnote_cell_type": "markdown",
    "deepnote_cell_height": 168.171875
   }
  },
  {
   "cell_type": "markdown",
   "source": "&#9989; **<span style=\"color:red\">Do This:</span>** Enter the equation 2x+8y=z in LaTex below",
   "metadata": {
    "cell_id": "00006-1b320dd9-625f-48e6-9108-bd477181e32a",
    "deepnote_cell_type": "markdown",
    "deepnote_cell_height": 52.390625
   }
  },
  {
   "cell_type": "markdown",
   "source": "$ 2x+3y=z $\n\n",
   "metadata": {
    "cell_id": "00007-f7965ba1-c385-472e-9717-a6378403ea82",
    "deepnote_cell_type": "markdown",
    "deepnote_cell_height": 52.390625
   }
  },
  {
   "cell_type": "markdown",
   "source": "Not only does this look nicer for equations, we can write fractions better.\nTo get the fraction $\\frac{2}{3}$ we type `\\frac{2}{3}`, or if we want the derivative symbol $\\frac{d}{dx}$ we type `\\frac{d}{dx}` (enclosed in dollar signs).\n\nWe can also type other special symbols:  \n`\\int` = $\\int$  \n`\\pi` = $\\pi$  \n`\\bigoplus` = $\\bigoplus$  \n`\\mathbb{R}` = $\\mathbb{R}$\n\nIf we want a superscript we use the carrot, `e^x` = $e^x$ and for multiple symbols in the superscript we enclose them with curly braces, `e^{x+y}` = $e^{x+y}$.\n\nIf we want a subscript we use the underscore, `x_n` = $x_n$ or `a_{ij}` = $a_{ij}$.",
   "metadata": {
    "cell_id": "00008-7674e4ce-7622-49f1-94bc-71ff242604ef",
    "deepnote_cell_type": "markdown",
    "deepnote_cell_height": 318.296875
   }
  },
  {
   "cell_type": "markdown",
   "source": "&#9989; **<span style=\"color:red\">Do This:</span>** Using LaTex type the integral from 0 to 4 of e to the (3 x squared plus 7) times sine of pi times x.",
   "metadata": {
    "cell_id": "00009-f5635814-7b69-435e-9044-9d3e4fd62f38",
    "deepnote_cell_type": "markdown",
    "deepnote_cell_height": 74.78125
   }
  },
  {
   "cell_type": "markdown",
   "source": "$\\int_0^4 e^{3x^2+7} * sin(\\pi) * x$\n",
   "metadata": {
    "cell_id": "00010-34c993d0-1a17-4183-bc2d-aad8a1b7c504",
    "deepnote_cell_type": "markdown",
    "deepnote_cell_height": 53.484375
   }
  },
  {
   "cell_type": "markdown",
   "source": "No need to use $*$. Also you forgot to put $dx$ on the end.",
   "metadata": {
    "cell_id": "7c1b36a834994aa79ab50011601b9641",
    "tags": [],
    "deepnote_cell_type": "markdown",
    "deepnote_cell_height": 52.390625
   }
  },
  {
   "cell_type": "markdown",
   "source": "# Vectors in LaTex\nOne reason we use Latex is that many mathematical objects cannot be represented as text alone. One example is column vectors.\nTo typeset column vectors we use an array. \nTo start the array we type  \n`\\begin{array}{r}`  \n\nThen between each entry of column vector we use two backslashes \n\n\\\\\\\\   \n\nLastly, to end the array we type \n\n`\\end{array}`\n\nFor example `\\begin{array}{r} 6 \\\\ 3 \\end{array}` (enclosed in dollar signs) will return \n$\\begin{array}{r} 6 \\\\ 3 \\end{array}$.\n\nTo put square brackets on our vector we enclose it with `\\left[` and `\\right]`.\nTo put parenthesis on our vector we enclose it with `\\left(` and `\\right)`\n\nFor example `\\left[\\begin{array}{r} 6 \\\\ 3 \\end{array}\\right]` (enclosed in dollar signs) will return\n$\\left[\\begin{array}{r} 6 \\\\ 3 \\end{array}\\right]$\n\n# Matrices in LaTex\nTo typeset a matrix we again use the `\\begin{array}{r}` command. Note the {r} at the end of `\\begin{array}{r}`.\nThis is telling LaTex that there is a single column and to justify that column right. If we wanted to justify it left we would type {l}, or center {c}. Say that we would like to type a 2x2 matrix where the first row is [1,2] and the second row is [3,4]. The command is now `\\begin{array}{rr}`. The {rr} part lets LaTex know that there are two columns justified right. To seperate the entries in the row vector we use the symbol &\n\nSo we type,\n\n`\\left[\\begin{array}{rr}  \n1 & 2 \\\\  \n3 & 4   \n\\end{array}\\right]`\n\n(enclosed in dollar signs). This will return\n\n$\\left[\\begin{array}{rr}\n1 & 2 \\\\\n3 & 4 \n\\end{array}\\right]$\n\nTo add a vertical bar to create an augmented matrix we use the vertical bar located above the backslash symbol. That is we add the bar to {rr|r}.\n\n`\\left[\\begin{array}{rr|r}  \n1 & 2 & 6 \\\\  \n3 & 4 & 7  \n\\end{array}\\right]`\n\n(enclosed in dollar signs). This will return\n\n$\\left[\\begin{array}{rr|r}\n1 & 2 & 6 \\\\\n3 & 4 & 7\n\\end{array}\\right]$",
   "metadata": {
    "cell_id": "00011-0505dfd0-fa61-4d48-9e74-7296a34692cd",
    "deepnote_cell_type": "markdown",
    "deepnote_cell_height": 1146.765625
   }
  },
  {
   "cell_type": "markdown",
   "source": "---\n<a name=\"Example\"></a>\n## 2. Linear System Example :\n\nSuppose that we have three objects on a balanced beam. Also suppose we know that one has a mass of 2 kg, and we want to find the two unknown masses. Experimentation with a (assume weightless) meter stick produces these two balances. (diagram not to scale)\n \n<img src=\"https://lh6.googleusercontent.com/S-glvU6hZySH682ocl1T_2jNWL7S2MUCQeyDFgEZM8GPZ4xLjEkeD9KKsU5otJF0zfgcQtT-zQ=w740\" align=\"center\" width=\"70%\" alt=\"Image showing two balanced beams, each with three weights. In the top beam is unknown weight A is a distance of 40 to the left of the fulcrum, unknown weight B is a distance of 15 to the left of the fulcrum and a weight of 2 is 50 to the right of the fulcrum. In the bottom beam is the same unknown weights.  Weight A is now a distance of 50 to the right of the fulcrum, weight B is a distance of 25 to the left of the fulcrum and the weight of 2 is a distance of 25 to the right of the fulcrum.\">\n\nFor the masses to balance we must have the sum of the moments on the left equal to the sum of the moments on the right, where the moment of an object is its mass times its distance from the balance point.   That gives a system of two  equations:\n\n$$ 40A + 15B = 50 \\times 2$$\n$$25B = 25 \\times 2 + 50A$$\n",
   "metadata": {
    "cell_id": "00012-320f5306-2d08-45b2-bdef-dc02887ae3c1",
    "deepnote_cell_type": "markdown",
    "deepnote_cell_height": 578.296875
   }
  },
  {
   "cell_type": "markdown",
   "source": "&#9989; **<span style=\"color:red\">Do This:</span>** Using LaTex rewrite the above system in row, column, and matrix form.",
   "metadata": {
    "cell_id": "00013-418fe38b-3fc3-4186-8041-7cb54370fde0",
    "deepnote_cell_type": "markdown",
    "deepnote_cell_height": 52.390625
   }
  },
  {
   "cell_type": "markdown",
   "source": "**Put your answer to the above question here.**\n\nRow Form: $40A+15B=50*2$  \n           $ 50A-25B=25*2 $\n\nColumn Form:  A $\\left[\\begin{array}{r} 40 \\\\ 50 \\end{array}\\right]$ + B $\\left[\\begin{array}{r} 15 \\\\ -25 \\end{array}\\right]$= $\\left[\\begin{array}{r} 100 \\\\ -50 \\end{array}\\right]$\n\nMatrix Form: $\\left[\\begin{array}{rr|r} 40 & 15 & 100 \\\\ 50 & -25 & -50 \\end{array}\\right]$",
   "metadata": {
    "cell_id": "00014-c6b3fd53-d16c-4309-9733-20d143d29b10",
    "deepnote_cell_type": "markdown",
    "deepnote_cell_height": 220.484375
   }
  },
  {
   "cell_type": "markdown",
   "source": "&#9989; **<span style=\"color:red\">Do This:</span>** Find a solution for the above systems of equations and place your solution in the following cell. Make sure you delete the instructional text in the cell first. ",
   "metadata": {
    "cell_id": "00015-ea30078d-83de-42a9-b2ed-65b4db274715",
    "owner_user_id": "4d0edd73-5996-47f3-8a71-6799b081c670",
    "deepnote_cell_type": "markdown",
    "deepnote_cell_height": 74.78125
   }
  },
  {
   "cell_type": "code",
   "metadata": {
    "cell_id": "00016-df7a9d49-63f5-4b86-af8d-806c24fc887e",
    "deepnote_to_be_reexecuted": false,
    "source_hash": "aab4defe",
    "execution_start": 1653416140742,
    "execution_millis": 8,
    "deepnote_cell_type": "code",
    "deepnote_cell_height": 262.1875,
    "deepnote_output_heights": [
     21.1875
    ]
   },
   "source": "# Put your answer to the above question here\nimport numpy as np\nimport scipy.linalg as la\nx = np.matrix([[40,15],[-50,25]])\ny= np.matrix([[100],[50]])\nAB = la.solve(x,y)\nA = AB[0,]\nB= AB[1,]\nB",
   "execution_count": null,
   "outputs": [
    {
     "output_type": "execute_result",
     "execution_count": 17,
     "data": {
      "text/plain": "array([4.])"
     },
     "metadata": {}
    }
   ]
  },
  {
   "cell_type": "markdown",
   "source": "&#9989; **<span style=\"color:red\">Do This:</span>** Using Python as a calculator, verify that the solution you have found is correct.  \n\n",
   "metadata": {
    "cell_id": "00017-8e65f31f-e67b-46b6-93e9-16a158a9038c",
    "deepnote_cell_type": "markdown",
    "deepnote_cell_height": 74.78125
   }
  },
  {
   "cell_type": "code",
   "metadata": {
    "cell_id": "00018-f4c98205-9406-40df-bdce-ac74a48d53c4",
    "deepnote_to_be_reexecuted": false,
    "source_hash": "855da68d",
    "execution_start": 1653416289031,
    "execution_millis": 2,
    "deepnote_cell_type": "code",
    "deepnote_cell_height": 186.375
   },
   "source": "# Put your answer to the above question here\n# Run the above function first.\nprint(40*A + 15*B == 100)\nprint(25*B == 50 + 25*2)",
   "execution_count": null,
   "outputs": [
    {
     "name": "stdout",
     "text": "[ True]\n[ True]\n",
     "output_type": "stream"
    }
   ]
  },
  {
   "cell_type": "markdown",
   "source": "&#9989; **<span style=\"color:red\">Do This:</span>** Now let's consider a system where we have three unknown masses instead of two. Experimentation with a meter stick produces the two balanced states shown below (diagram not to scale). Write the equations for this system.\n\n<img src=\"https://lh5.googleusercontent.com/lw_dWSYcWURCr552UwgFmCKqPWByDDUDicBuq0UT7vllHzJm7uG_S9f6K8p70ix9J6SRD2UdWQ=w740\" width=\"70%\" alt=\"Image showing two balanced beams, each with four weights. In the top beam is unknown weight A which is a distance of 35 to the left of the fulcrum, unknown weight B is a distance of 21 to the left of the fulcrum, unknown weight C is a distance of 11 to the right of the fulcrum and a weight of 2 is 50 to the right of the fulcrum. In the bottom beam is the same unknown weights.  Weight A is now a distance of 10 to the right of the fulcrum, weight B is a distance of 24 to the right of the fulcrum, weight C is a distance of 25 to the left of the fulcrum and the weight of 2 is still at a distance of 50 to the right of the fulcrum.\">\n",
   "metadata": {
    "cell_id": "00019-de63d648-756f-405c-a914-50c673d8bc2c",
    "deepnote_cell_type": "markdown",
    "deepnote_cell_height": 416.375
   }
  },
  {
   "cell_type": "markdown",
   "source": "Equation 1:\n$$ 35A + 21B = 11C + 50 \\times 2$$\n\nEquation 2:\n$$ 25C = 10A + 24B + 50 \\times 2$$",
   "metadata": {
    "cell_id": "00020-334254c8-a552-4451-9c4c-38f572ed15ec",
    "deepnote_cell_type": "markdown",
    "deepnote_cell_height": 88.78125
   }
  },
  {
   "cell_type": "markdown",
   "source": "&#9989; **<span style=\"color:red\">Do This:</span>** Using LaTex rewrite the above system in row, column, and matrix form.",
   "metadata": {
    "cell_id": "00021-852491cd-382e-44f1-b707-6db57a50ddb9",
    "deepnote_cell_type": "markdown",
    "deepnote_cell_height": 52.390625
   }
  },
  {
   "cell_type": "markdown",
   "source": "**Row Form:** \n\n$$ 35A + 21B - 11C = 50 \\times 2$$\n\n$$ -10A -24B + 25C = 50 \\times 2$$\n\n**Column Form:**\n\n$ A \\left[\\begin{array}{r} 35 \\\\ -10 \\end{array}\\right] + B \\left[\\begin{array}{r} 21 \\\\ -24 \\end{array}\\right] + C \\left[\\begin{array}{r} -11 \\\\ 25 \\end{array}\\right] = \\left[\\begin{array}{r} 100 \\\\ 100 \\end{array}\\right]$\n\n**Matrix Form:**\n\n$ \\left[\\begin{array}{rrr|r} 35 & 21 & -11 & 100 \\\\ -10 & -24 & 25 & 100 \\end{array}\\right] $\n",
   "metadata": {
    "cell_id": "00022-f7c6e1fc-9c44-4876-bb05-767b0750a812",
    "deepnote_cell_type": "markdown",
    "deepnote_cell_height": 307.265625
   }
  },
  {
   "cell_type": "markdown",
   "source": "&#9989; **<span style=\"color:red\">Do This:</span>** Find a solution to the second set of equations and report the mass for objects A, B and C. Note that there are many possible solutions.",
   "metadata": {
    "cell_id": "00023-42650a21-7b9a-40ab-bc44-10dacd4f1fbd",
    "deepnote_cell_type": "markdown",
    "deepnote_cell_height": 74.78125
   }
  },
  {
   "cell_type": "code",
   "metadata": {
    "cell_id": "00024-8ef6afdf-fc52-4de5-b63c-513d36c98362",
    "deepnote_to_be_reexecuted": false,
    "source_hash": "978240db",
    "execution_start": 1653416972257,
    "execution_millis": 5,
    "deepnote_cell_type": "code",
    "deepnote_cell_height": 274.1875
   },
   "source": "# Put your answer to the above question here\nA=0\nB=(3600/261)-(765/261)*A\nC=(10/25)*A+(24/25)*B+4\n\n#Solution:\n\nA=0\nprint(A,B,C)\n",
   "execution_count": null,
   "outputs": [
    {
     "name": "stdout",
     "text": "0 13.793103448275861 17.241379310344826\n",
     "output_type": "stream"
    }
   ]
  },
  {
   "cell_type": "code",
   "metadata": {
    "cell_id": "bfa61ef160484ef9b9a7bb413e376ca2",
    "tags": [],
    "deepnote_to_be_reexecuted": false,
    "source_hash": "2d4eed99",
    "execution_start": 1653416954123,
    "execution_millis": 5,
    "deepnote_cell_type": "code",
    "deepnote_cell_height": 258.375
   },
   "source": "import numpy as np\nS1 = np.array([[35,21,-11],\n[-10,-24,25],[1,0,0]])\nS2 = np.array([100,100,0])\n\nA,B,C = np.linalg.solve(S1, S2)\nprint(21*B+35*A == 100 + 11*C)\nprint(-10*A -24 *B +25 *C ==100)",
   "execution_count": null,
   "outputs": [
    {
     "name": "stdout",
     "text": "True\nTrue\n",
     "output_type": "stream"
    }
   ]
  },
  {
   "cell_type": "markdown",
   "source": "&#9989; **<span style=\"color:red\">Do This:</span>** Using Python as a calculator, verify that the solution you have found is correct.",
   "metadata": {
    "cell_id": "00025-335405ce-70ba-4f1c-a87b-3a1ff8152646",
    "deepnote_cell_type": "markdown",
    "deepnote_cell_height": 74.78125
   }
  },
  {
   "cell_type": "code",
   "metadata": {
    "cell_id": "00026-ebe336eb-cc43-40a0-b493-10bdf2a111aa",
    "deepnote_to_be_reexecuted": false,
    "source_hash": "349b0dcb",
    "execution_start": 1653417057096,
    "execution_millis": 5,
    "deepnote_cell_type": "code",
    "deepnote_cell_height": 474.375
   },
   "source": "# Put your answer to the above question here\n#print(35*A +21*B - 11*C = 100)\n#print(-10*A - 24*B + 25*C = 100)\n\n#A=A\n#B=(3600/261)-(765/261)*A\n#C=(10/25)*A+(24/25)*B+4\n\n#Solution:\nimport numpy as np\nS1 = np.array([[35,21,-11],\n[-10,-24,25],[1,0,0]])\nS2 = np.array([100,100,0])\n\nA,B,C = np.linalg.solve(S1, S2)\n\nprint(21*B+35*A == 100 + 11*C)\nprint(-10*A -24 *B +25 *C ==100)\n\n",
   "execution_count": null,
   "outputs": [
    {
     "name": "stdout",
     "text": "True\nTrue\n",
     "output_type": "stream"
    }
   ]
  },
  {
   "cell_type": "markdown",
   "source": "## 3. Spanning vectors and Basis vectors\n\nA set of vectors **span** a vector space if any other vector in the vector space can be written as a linear combination of those vectors. \n\nGiven a set of vectors where no vector in the set is a linear combination of the other vectors in the set we say that the set is **linearly independent**.\n\nIf a set of vectors **span** a vector space and is **linearly independent** we call that set a **basis**.",
   "metadata": {
    "cell_id": "00027-cda6521d-7a30-4cf9-a417-3272b96aeae9",
    "deepnote_cell_type": "markdown",
    "deepnote_cell_height": 248.34375
   }
  },
  {
   "cell_type": "markdown",
   "source": "&#9989; **<span style=\"color:red\">Do This:</span>** Show that **u** = $\\left[\\begin{array}{r} 1 \\\\ 2 \\end{array}\\right]$ and **v** = $\\left[\\begin{array}{r} 3 \\\\ 4 \\end{array}\\right]$ span $\\mathbb{R}^2$.",
   "metadata": {
    "cell_id": "00028-a23da2c1-ce20-43c4-9274-3a14c9cfa874",
    "deepnote_cell_type": "markdown",
    "deepnote_cell_height": 70.65625
   }
  },
  {
   "cell_type": "markdown",
   "source": "**Put your answer to the above question here.**\n\n$x_1 \\left[\\begin{array}{r} 1 \\\\ 2 \\end{array}\\right]$ + $x_2 \\left[\\begin{array}{r} 3 \\\\ 4 \\end{array}\\right]$=$\\left[\\begin{array}{r} e \\\\ f \\end{array}\\right]$\n\n$x_1+(3x_2)=e$\n\n$x_1=e-(3x_2)$\n\n$(2x_1)+(4x_2)=f$\n\n\n$(2(e-(3x_2))+(4x_2)=f$\n\n$ (2e-6x_2)+(4x_2)=f$\n\n$(2e-2x_2)=f$\n\n$x_2=(-2e+f)/-2$ Use the `\\frac{}{}` command here. That is, $\\frac{-2e+f}{-2}$\n\n$x_1=(7e+3f)/-2$ Same\n\n\n\n",
   "metadata": {
    "cell_id": "00029-6fc576b3-91cd-4556-82b8-d4facd482347",
    "deepnote_cell_type": "markdown",
    "deepnote_cell_height": 398.609375
   }
  },
  {
   "cell_type": "markdown",
   "source": "&#9989; **<span style=\"color:red\">Do This:</span>** Show that **u** = $\\left[\\begin{array}{r} 1 \\\\ 2 \\end{array}\\right]$ and **v** = $\\left[\\begin{array}{r} 3 \\\\ 4 \\end{array}\\right]$ are linearly independent.",
   "metadata": {
    "cell_id": "00030-36f33d03-5072-4146-8cb6-d835c3a068aa",
    "deepnote_cell_type": "markdown",
    "deepnote_cell_height": 70.65625
   }
  },
  {
   "cell_type": "markdown",
   "source": "$ A*u \\neq B*v $\nfor all A and B\n\n**WHY??**\n\n",
   "metadata": {
    "cell_id": "00031-c1980323-1465-40a0-9ba9-9b6eec3387a9",
    "deepnote_cell_type": "markdown",
    "deepnote_cell_height": 88.78125
   }
  },
  {
   "cell_type": "markdown",
   "source": "&#9989; **<span style=\"color:red\">Do This:</span>** is **u** = $\\left[\\begin{array}{r} 1 \\\\ 2 \\end{array}\\right]$ and **v** = $\\left[\\begin{array}{r} 3 \\\\ 4 \\end{array}\\right]$ a basis for $\\mathbb{R}^2$? (explain)",
   "metadata": {
    "cell_id": "00032-44c71367-e399-44aa-882f-4ea1691377ad",
    "deepnote_cell_type": "markdown",
    "deepnote_cell_height": 70.65625
   }
  },
  {
   "cell_type": "markdown",
   "source": "$ u = \\left[\\begin{array}{r} 1 \\\\ 2 \\end{array}\\right]$ and **v** = $\\left[\\begin{array}{r} 3 \\\\ 4 \\end{array}\\right]$  are a basis because they are linearly independent and span $\\mathbb{R}^2$.\n\n",
   "metadata": {
    "cell_id": "00033-19d3f01f-7ffb-43b5-8f3c-727381a8f453",
    "deepnote_cell_type": "markdown",
    "deepnote_cell_height": 93.046875
   }
  },
  {
   "cell_type": "markdown",
   "source": "### The standard basis\n\nLet $e_1 = \\left[\\begin{array}{r} 1 \\\\ 0 \\\\ 0 \\\\ \\vdots \\end{array}\\right], \\quad\ne_2 = \\left[\\begin{array}{r} 0 \\\\ 1 \\\\ 0 \\\\ \\vdots \\end{array}\\right], \\quad\ne_i = \\left[\\begin{array}{r} 0 \\\\ \\vdots \\\\0 \\\\1 \\\\ 0 \\\\ \\vdots \\end{array}\\right] \\quad$\nThat is, $e_i$ is a vector that is all zeros except for a 1 in the $i^{th}$ position.\n\nThe set $\\{e_1,e_2,\\dots, e_n\\}$ is called the **standard basis** for $\\mathbb{R}^n$.",
   "metadata": {
    "cell_id": "00034-2fe0e163-5d3b-4749-ab8a-d92851957c32",
    "deepnote_cell_type": "markdown",
    "deepnote_cell_height": 260.78125
   }
  },
  {
   "cell_type": "markdown",
   "source": "&#9989; **<span style=\"color:red\">Do This:</span>** Varify that the set $\\{e_1,e_2,e_3\\}$ is a basis for $\\mathbb{R}^3$.",
   "metadata": {
    "cell_id": "00035-57ac3cf7-7f88-4a6a-bc7d-075baa63c8eb",
    "deepnote_cell_type": "markdown",
    "deepnote_cell_height": 52.390625
   }
  },
  {
   "cell_type": "markdown",
   "source": "**Put your answer to the above question here.**\n\n$A*e_1+B*e_2=e_3$ Using the third row we get $0+0=1$ Which is a contradiction, therefore $e_3$ is linearly independent of $e_1$ and $e_2$\n\n$A*e_1+B*e_3=e_2$ Using the second row we get $0+0=1$ Which is a contradiction, therefore $e_2$ is linearly independent of $e_1$ and $e_3$\n\n$A*e_2+B*e_3=e_1$ Using the first row we get $0+0=1$ Which is a contradiction, therefore $e_1$ is linearly independent of $e_2$ and $e_3$\n\n\nAnd $x_1 \\left[\\begin{array}{r} 1 \\\\ 0\\\\0 \\end{array}\\right]$ + $x_2 \\left[\\begin{array}{r} 0 \\\\ 1\\\\0 \\end{array}\\right]$+$x_3 \\left[\\begin{array}{r} 0 \\\\ 0\\\\1 \\end{array}\\right]$=$\\left[\\begin{array}{r} e \\\\ f\\\\g \\end{array}\\right]$\n\nwhere $e_1=e$ \n      $e_2=f$\n      $e_3=g$\nTherefore by definition, the The set $\\{e_1,e_2,\\dots, e_n\\}$ is called the **standard basis** for $\\mathbb{R}^n$.\n\n**GREAT ANSWER**\n\n\n\n",
   "metadata": {
    "cell_id": "00036-c9d4734b-5ed4-4f73-a12a-04b04dd39da6",
    "deepnote_cell_type": "markdown",
    "deepnote_cell_height": 398.890625
   }
  },
  {
   "cell_type": "markdown",
   "source": "---\n<a name=\"Jacobi_Method_for_solving_Linear_Equations\"></a>\n\n## 4. Jacobi Method for solving Linear Equations\n\nDuring class today we will write an iterative method (named after Carl Gustav Jacob Jacobi) to solve the following system of equations:\n\n$$ 6x + 2y - ~z = 4~$$\n$$~ x + 5y + ~z = 3~$$\n$$ 2x +~ y + 4z = 27$$\n\nHere is a basic outline of the Jacobi method algorithm:\n\n1. Initialize each of the variables as zero ($x_0 = 0, y_0 = 0, z_0 = 0$) \n2. Calculate the next iteration using the above equations and the values from the previous iterations. For example here is the formula for calculating $x_i$ from $y_{(i-1)}$ and $z_{(i-1)}$ based on the first equation:\n    $$x_i = \\frac{4 - 2y_{(i-1)} + z_{(i-1)}}{6} $$\n    Similarly, we can obtain the update for $y_i$ and $z_i$ from the second and third equations, respectively.\n3. Increment the iteration counter $(i = i + 1)$ and repeat Step 2.\n4. Stop when the answer \"converges\" or a maximum number of iterations has been reached. (ex. $i$ = 100)\n\n**IMPORTANT NOTE:** \n\n> A sufficient (but not necessary) condition for the method to converge is that the matrix A is strictly or irreducibly [diagonally dominant](https://en.wikipedia.org/wiki/Diagonally_dominant_matrix). Strict row diagonal dominance means that for each row, the absolute value of the diagonal term is greater than the sum of absolute values of other terms. - From [Wikipedia](https://en.wikipedia.org/wiki/Jacobi_method)\n\nIn other words, the Jacobi Method will not work an all problems.  ",
   "metadata": {
    "cell_id": "00037-54729d4d-8bc0-4515-8c26-99531f747398",
    "owner_user_id": "0afbd57e-8684-4e1a-bc89-a648f82e00ba",
    "deepnote_cell_type": "markdown",
    "deepnote_cell_height": 638.296875
   }
  },
  {
   "cell_type": "markdown",
   "source": "&#9989; **<font color=red>DO THIS:</font>** Write out the equations for $x_i$, $y_i$, and $z_i$ based on $x_{(i-1)}$, $y_{(i-1)}$, and $z_{(i-1)}$ using LaTex. ",
   "metadata": {
    "cell_id": "00038-e878c400-6362-4ac2-b390-2bbadeebe69c",
    "deepnote_cell_type": "markdown",
    "deepnote_cell_height": 74.78125
   }
  },
  {
   "cell_type": "markdown",
   "source": "$$x_i = \\frac{4 - 2y_{(i-1)} + z_{(i-1)}}{6} $$\n$$y_i = \\frac{3 - x_{(i-1)} - z_{(i-1)}}{5} $$\n$$z_i = \\frac{27 - 2x_{(i-1)} + z_{(i-1)}}{4} $$",
   "metadata": {
    "cell_id": "00039-476cdda6-9486-405f-a055-83ebd8042777",
    "deepnote_cell_type": "markdown",
    "deepnote_cell_height": 53.65625
   }
  },
  {
   "cell_type": "markdown",
   "source": "&#9989; **<font color=red>DO THIS:</font>** Complete the following code by adding formulas for $y_i$ and $z_i$ to solve the above equations using the Jacobi method.  ",
   "metadata": {
    "cell_id": "00040-fc18a5e9-a21b-42ce-8d64-feb2926baf76",
    "deepnote_cell_type": "markdown",
    "deepnote_cell_height": 74.78125
   }
  },
  {
   "cell_type": "code",
   "metadata": {
    "cell_id": "00041-629a6fda-332d-4eb7-b62c-8d0fac093c31",
    "deepnote_to_be_reexecuted": false,
    "source_hash": "2cce53fd",
    "execution_start": 1653517335325,
    "execution_millis": 1739,
    "owner_user_id": "1ad5cec8-d61b-447d-8e89-5b4e3e563ebd",
    "deepnote_cell_type": "code",
    "deepnote_cell_height": 884,
    "deepnote_output_heights": [
     265
    ]
   },
   "source": "%matplotlib inline\nimport matplotlib.pylab as plt\n\nx = []\ny = []\nz = []\n\n#step 1: inicialize to zero\nx.append(0)\ny.append(0)\nz.append(0)\n\nfor i in range(1,100):\n    xi = (4 - 2*y[i-1]+ z[i-1])/6\n#####Start your code here #####\n    yi = (3 - x[i-1]-z[i-1])/5\n    zi = (27-2*x[i-1]-y[i-1])/4\n#####End of your code here#####        \n    #Add latest value to history\n    x.append(xi)\n    y.append(yi)\n    z.append(zi)\n\n#Plot History of values\nplt.plot(x, label='x')\nplt.plot(y, label='y')\nplt.plot(z, label='z')\nplt.xlabel('Iteration')\nplt.ylabel('Value')\nplt.legend(loc=1);",
   "execution_count": null,
   "outputs": [
    {
     "data": {
      "text/plain": "<Figure size 432x288 with 1 Axes>",
      "image/png": "[encoded data removed]"
     },
     "metadata": {
      "needs_background": "light",
      "image/png": {
       "width": 384,
       "height": 263
      }
     },
     "output_type": "display_data"
    }
   ]
  },
  {
   "cell_type": "markdown",
   "source": " &#9989; **<font color=red>QUESTION:</font>**  What are the final values for $x$, $y$, and $z$?\n\n$x = 2$,\n$y = -1$,\n$z = 6$",
   "metadata": {
    "cell_id": "00042-d351c9d4-bb8a-443e-92cd-04784de2e087",
    "deepnote_cell_type": "markdown",
    "deepnote_cell_height": 88.78125
   }
  },
  {
   "cell_type": "markdown",
   "source": "&#9989; **<font color=red>DO THIS:</font>** Write out each of the above equations and show that your final result is a solution to the system of equations:",
   "metadata": {
    "cell_id": "00043-8dac40da-f473-4a26-8532-2637e617c62f",
    "deepnote_cell_type": "markdown",
    "deepnote_cell_height": 74.78125
   }
  },
  {
   "cell_type": "code",
   "metadata": {
    "cell_id": "00044-cb6548c0-dcc3-47ce-8a6f-931943f94eb9",
    "deepnote_to_be_reexecuted": false,
    "source_hash": "5d481524",
    "execution_start": 1653419201171,
    "execution_millis": 2,
    "deepnote_cell_type": "code",
    "deepnote_cell_height": 135
   },
   "source": "# Put your code here\nxi = (4 - 2*y[-1] + z[-1])/6\nyi = (3 - x[-1] - z[-1])/5\nzi = (27 - 2*x[-1] - y[-1])/4",
   "execution_count": null,
   "outputs": []
  },
  {
   "cell_type": "code",
   "metadata": {
    "cell_id": "5c0216eed04b43179ed34c749749b80d",
    "tags": [],
    "deepnote_to_be_reexecuted": false,
    "source_hash": "868eeb1",
    "execution_start": 1653419203328,
    "execution_millis": 8,
    "deepnote_cell_type": "code",
    "deepnote_cell_height": 190.1875,
    "deepnote_output_heights": [
     21.1875
    ]
   },
   "source": "x = 2\ny = -1\nz = 6\n\nxi == x, yi == y, zi == z",
   "execution_count": null,
   "outputs": [
    {
     "output_type": "execute_result",
     "execution_count": 118,
     "data": {
      "text/plain": "(True, True, True)"
     },
     "metadata": {}
    }
   ]
  },
  {
   "cell_type": "markdown",
   "source": " &#9989; **<font color=red>QUESTION:</font>**  By inspecting the graph, how long did it take for the algorithum to converge to a solution?  \n* About 5 iterations",
   "metadata": {
    "cell_id": "00045-fb8316b8-e61a-4d4a-b049-53bb19dcb215",
    "deepnote_cell_type": "markdown",
    "deepnote_cell_height": 125.171875
   }
  },
  {
   "cell_type": "markdown",
   "source": " &#9989; **<font color=red>QUESTION:</font>**  How could you rewrite the above program to stop earlier.  \n * decrease the range of the for loop\nif xi[i] == xi[i-1]  and  yi[i] == yi[i-1] and zi[i] == zi[i+1]:\n\n\nSet a condition to detect the repeated generated number for A,B,C break the loop\n",
   "metadata": {
    "cell_id": "00047-9343d04a-cfa5-46a6-9043-c6b51a242f74",
    "deepnote_cell_type": "markdown",
    "deepnote_cell_height": 161.5625
   }
  },
  {
   "cell_type": "markdown",
   "source": "---\n<a name=\"Numerical_Error\"></a>\n\n## 5. Numerical Error\n\nConsider the following python statement when answering the questions below:",
   "metadata": {
    "cell_id": "00049-2917dc69-a44d-4e34-849c-8982c4e29514",
    "deepnote_cell_type": "markdown",
    "deepnote_cell_height": 123.390625
   }
  },
  {
   "cell_type": "code",
   "metadata": {
    "cell_id": "00050-83a7ef47-ce0d-42f9-a729-6e146bbb0cd0",
    "deepnote_to_be_reexecuted": false,
    "source_hash": "d84d87b8",
    "execution_start": 1653419324483,
    "execution_millis": 5,
    "deepnote_cell_type": "code",
    "deepnote_cell_height": 118.1875,
    "deepnote_output_heights": [
     21.1875
    ]
   },
   "source": "0.1 + 0.2 == 0.3",
   "execution_count": null,
   "outputs": [
    {
     "output_type": "execute_result",
     "execution_count": 123,
     "data": {
      "text/plain": "False"
     },
     "metadata": {}
    }
   ]
  },
  {
   "cell_type": "markdown",
   "source": " &#9989; **<font color=red>QUESTION:</font>**  Why does Python return **False** even though the above statement is clearly true?",
   "metadata": {
    "cell_id": "00051-6166d7fd-eb91-4c88-9e5a-fc0bf228f84d",
    "deepnote_cell_type": "markdown",
    "deepnote_cell_height": 74.78125
   }
  },
  {
   "cell_type": "markdown",
   "source": "This is due to how python reads the decimal places. It does not recognize 0.1 because it is trying to use Base 2 instead of using Base 10 which causes rounding errors. Therefore, addition or subtraction of these decimals would result in an error.",
   "metadata": {
    "cell_id": "00052-ea178fbd-ae3c-474c-b85f-62422f4547e2",
    "deepnote_cell_type": "markdown",
    "deepnote_cell_height": 97.171875
   }
  },
  {
   "cell_type": "markdown",
   "source": " &#9989; **<font color=red>DO THIS:</font>** Let's consider another example.  Run the following code which should return true.  ",
   "metadata": {
    "cell_id": "00053-f879910c-3808-4cc9-a80e-b3d4be501b11",
    "deepnote_cell_type": "markdown",
    "deepnote_cell_height": 74.78125
   }
  },
  {
   "cell_type": "code",
   "metadata": {
    "cell_id": "00054-2b7c09d0-160f-44ef-936d-55c04b78384c",
    "deepnote_to_be_reexecuted": false,
    "source_hash": "5d1f4238",
    "execution_start": 1653419333614,
    "execution_millis": 678,
    "deepnote_cell_type": "code",
    "deepnote_cell_height": 190.1875,
    "deepnote_output_heights": [
     21.1875
    ]
   },
   "source": "import numpy as np\nJ = np.array([20])\nL = [20]\n\npow(L[0],8) == pow(J[0],8)",
   "execution_count": null,
   "outputs": [
    {
     "output_type": "execute_result",
     "execution_count": 124,
     "data": {
      "text/plain": "True"
     },
     "metadata": {}
    }
   ]
  },
  {
   "cell_type": "markdown",
   "source": "If you have an older version of ```numpy``` installed (like 1.18.5) then the results of running the above cell may be false (did anyone get this result?).  This is because ```numpy```\nchanged how it handles something called \"roundoff error\". here is another cell that may help you see better what is going on:",
   "metadata": {
    "cell_id": "00055-82155a76-1095-4b85-9290-c590ed5ff177",
    "owner_user_id": "1ad92508-5214-4899-9be6-2377c49dba3a",
    "deepnote_cell_type": "markdown",
    "deepnote_cell_height": 119.5625
   }
  },
  {
   "cell_type": "code",
   "metadata": {
    "cell_id": "00056-0a4f93f1-f634-4028-a6b4-c772b50475cd",
    "deepnote_to_be_reexecuted": false,
    "source_hash": "97e16d55",
    "execution_start": 1653415283975,
    "execution_millis": 6,
    "deepnote_cell_type": "code",
    "deepnote_cell_height": 242.5625
   },
   "source": "import numpy as np\nJ = np.array([20])\nL = [20]\nprint(pow(20,8))\nprint(pow(L[0],8))\nprint(pow(J[0],8))",
   "execution_count": null,
   "outputs": [
    {
     "name": "stdout",
     "text": "25600000000\n25600000000\n25600000000\n",
     "output_type": "stream"
    }
   ]
  },
  {
   "cell_type": "markdown",
   "source": "The older version of ```numpy``` would return the following:\n\n```\n25600000000\n25600000000\n-169803776\n```\nWe could say to always upgrade to the latest stable version (generally a good idea). But some other libraries that depend on numpy may not be up to date so sometimes python will install an older version to maintain compatibility. For example, one really popular program is tensorflow, which often requires an older version of numpy. ",
   "metadata": {
    "cell_id": "00057-ea716de8-7c59-46b9-8a11-335579a7820b",
    "deepnote_cell_type": "markdown",
    "deepnote_cell_height": 238.34375
   }
  },
  {
   "cell_type": "markdown",
   "source": " &#9989; **<font color=red>QUESTION:</font>** If Python is sometimes wrong, why do we use it? ",
   "metadata": {
    "cell_id": "00058-fed46942-2e0d-4b45-a77c-6cb488e80ccd",
    "deepnote_cell_type": "markdown",
    "deepnote_cell_height": 52.390625
   }
  },
  {
   "cell_type": "markdown",
   "source": "Python is a great tool for mathematicians who do not want to continuously write equations out. Although, it takes debuggging it is continuing to eveolve and using resources such as the Google Search Bar is a great way to understand Python and its changes. When used correctly, it allows mathematicians to be much more efficient in solving equations, even when it takes a bit of debugging. ",
   "metadata": {
    "cell_id": "00059-604ee349-7ab9-4420-a5eb-9bade1bbae02",
    "deepnote_cell_type": "markdown",
    "deepnote_cell_height": 141.953125
   }
  },
  {
   "cell_type": "markdown",
   "source": " &#9989; **<font color=red>QUESTION:</font>** What are ways you can do to watch out for these types of errors?  ",
   "metadata": {
    "cell_id": "00060-3f3ad66e-66f8-45ad-b999-2fbce1d91a5b",
    "deepnote_cell_type": "markdown",
    "deepnote_cell_height": 52.390625
   }
  },
  {
   "cell_type": "markdown",
   "source": "One way is by keeping up-to-date on useful modules such as numpy in order to prevent issues. Another way is by debugging the code line by line. Finally, simply using logic if whether or not the answer Python outputs makes sense for the input given. You can always check by hand as well.",
   "metadata": {
    "cell_id": "00061-295405fc-07b8-4032-9791-e5387535a8d6",
    "deepnote_cell_type": "markdown",
    "deepnote_cell_height": 119.5625
   }
  },
  {
   "cell_type": "markdown",
   "source": " &#9989; **<font color=red>QUESTION:</font>** Modify the following program to return **True** if the values are within some small number (```e```) of each other.",
   "metadata": {
    "cell_id": "00062-0a249350-075a-4829-a9f8-6b7c9c2a625d",
    "deepnote_cell_type": "markdown",
    "deepnote_cell_height": 74.78125
   }
  },
  {
   "cell_type": "code",
   "metadata": {
    "cell_id": "00063-1080eaef-71a6-4ebb-b633-3e553fb46db9",
    "deepnote_to_be_reexecuted": false,
    "source_hash": "e4b2b875",
    "execution_start": 1653419493937,
    "execution_millis": 7,
    "deepnote_cell_type": "code",
    "deepnote_cell_height": 226.1875,
    "deepnote_output_heights": [
     21.1875
    ]
   },
   "source": "\n\ndef checktrue(a,b,e=0.001):\n    return a - b <= e\n\n#Test function\nchecktrue(0.1+0.2, 0.3)",
   "execution_count": null,
   "outputs": [
    {
     "output_type": "execute_result",
     "execution_count": 129,
     "data": {
      "text/plain": "True"
     },
     "metadata": {}
    }
   ]
  },
  {
   "cell_type": "markdown",
   "source": " &#9989; **<font color=red>QUESTION:</font>** What is a good value to set for ```e``` and why?",
   "metadata": {
    "cell_id": "00064-dd3391ed-538f-40c0-8e9d-8831e12037eb",
    "deepnote_cell_type": "markdown",
    "deepnote_cell_height": 52.390625
   }
  },
  {
   "cell_type": "markdown",
   "source": "0.001 is a good value of e because it is unlikely to give incorrect answers from rounding but will not give a false if the answers are close enough.",
   "metadata": {
    "cell_id": "00065-8710e67f-2e99-452f-a63a-9383b89aa7e1",
    "deepnote_cell_type": "markdown",
    "deepnote_cell_height": 74.78125
   }
  },
  {
   "cell_type": "markdown",
   "source": "&#9989; **<font color=red>QUESTION:</font>** The errors seen in this example seem like they would be fairly common in Python.  See if you can find a function in ```Numpy``` that has the same purpose as  ```checktrue```:",
   "metadata": {
    "cell_id": "00066-4122f5e4-be85-4170-9150-5ebe5f79b842",
    "deepnote_cell_type": "markdown",
    "deepnote_cell_height": 97.171875
   }
  },
  {
   "cell_type": "markdown",
   "source": "numpy.array_equal will do the same as checktrue",
   "metadata": {
    "cell_id": "00067-b10d9ea5-6ce5-41f2-8255-d988d6343758",
    "deepnote_cell_type": "markdown",
    "deepnote_cell_height": 52.390625
   }
  },
  {
   "cell_type": "markdown",
   "source": "The class ```answercheck``` program will take into consideration round off error.  For example, the ```checkanswer.float``` command would consider both of the above correct:",
   "metadata": {
    "cell_id": "00068-c824dda4-6695-4f58-9253-012986759ff7",
    "owner_user_id": "eba6f924-8d0b-47b0-bf5a-ca6754bad4bd",
    "deepnote_cell_type": "markdown",
    "deepnote_cell_height": 74.78125
   }
  },
  {
   "cell_type": "code",
   "metadata": {
    "cell_id": "00069-97455c51-5b73-49bb-9359-8b356a5bf75c",
    "deepnote_to_be_reexecuted": false,
    "source_hash": "9f2c8bcd",
    "execution_start": 1653419630248,
    "execution_millis": 5,
    "deepnote_cell_type": "code",
    "deepnote_cell_height": 188.5625
   },
   "source": "from answercheck import checkanswer\n\ncheckanswer.float(0.300,'e85b79abfd76b7c13b1334d8d8c194a5');",
   "execution_count": null,
   "outputs": [
    {
     "name": "stdout",
     "text": "Testing 0.3\nAnswer seems to be correct\n\n",
     "output_type": "stream"
    }
   ]
  },
  {
   "cell_type": "code",
   "metadata": {
    "cell_id": "00070-67e9237f-3ae7-48ce-aa2e-e12f7c45da5d",
    "deepnote_to_be_reexecuted": false,
    "source_hash": "9796f5f1",
    "execution_start": 1653419632330,
    "execution_millis": 2,
    "deepnote_cell_type": "code",
    "deepnote_cell_height": 152.5625
   },
   "source": "checkanswer.float(0.1+0.2,'e85b79abfd76b7c13b1334d8d8c194a5')",
   "execution_count": null,
   "outputs": [
    {
     "name": "stdout",
     "text": "Testing 0.3\nAnswer seems to be correct\n\n",
     "output_type": "stream"
    }
   ]
  },
  {
   "cell_type": "markdown",
   "source": "----\nWritten by Dr. Dirk Colbry, Michigan State University\n<a rel=\"license\" href=\"http://creativecommons.org/licenses/by-nc/4.0/\"><img alt=\"Creative Commons License\" style=\"border-width:0\" src=\"https://i.creativecommons.org/l/by-nc/4.0/88x31.png\" /></a><br />This work is licensed under a <a rel=\"license\" href=\"http://creativecommons.org/licenses/by-nc/4.0/\">Creative Commons Attribution-NonCommercial 4.0 International License</a>.",
   "metadata": {
    "cell_id": "00071-f4e1ae77-e873-4060-adbc-a9b9767a9b2e",
    "deepnote_cell_type": "markdown",
    "deepnote_cell_height": 160.5625
   }
  },
  {
   "cell_type": "markdown",
   "source": "<a style='text-decoration:none;line-height:16px;display:flex;color:#5B5B62;padding:10px;justify-content:end;' href='https://deepnote.com?utm_source=created-in-deepnote-cell&projectId=d305643f-c00c-4985-a40d-dcbee1f47f30' target=\"_blank\">\n<img alt='Created in deepnote.com' style='display:inline;max-height:16px;margin:0px;margin-right:7.5px;' src='data:image/svg+xml;base64,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' > </img>\nCreated in <span style='font-weight:600;margin-left:4px;'>Deepnote</span></a>",
   "metadata": {
    "tags": [],
    "created_in_deepnote_cell": true,
    "deepnote_cell_type": "markdown"
   }
  }
 ],
 "nbformat": 4,
 "nbformat_minor": 4,
 "metadata": {
  "kernelspec": {
   "display_name": "Python 3",
   "language": "python",
   "name": "python3"
  },
  "language_info": {
   "codemirror_mode": {
    "name": "ipython",
    "version": 3
   },
   "file_extension": ".py",
   "mimetype": "text/x-python",
   "name": "python",
   "nbconvert_exporter": "python",
   "pygments_lexer": "ipython3",
   "version": "3.8.8"
  },
  "deepnote_notebook_id": "8cae3717-96a0-44c2-8b11-f87739989782",
  "deepnote": {},
  "deepnote_execution_queue": []
 }
}