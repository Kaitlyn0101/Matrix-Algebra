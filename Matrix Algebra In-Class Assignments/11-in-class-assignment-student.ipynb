{
 "cells": [
  {
   "cell_type": "markdown",
   "source": "In order to successfully complete this assignment we recommend that you participate both individually and in groups during class. **Turn in your assignment using Deepnote no later than 11:59pm on the day of class.** Grading is based on attendance, correctness, and completion.",
   "metadata": {
    "cell_id": "ac958b63-a7ce-410a-b37e-d7315acabe98",
    "deepnote_cell_type": "markdown",
    "deepnote_cell_height": 97.1875
   }
  },
  {
   "cell_type": "markdown",
   "source": "## Put the names of all group members present today below:",
   "metadata": {
    "formattedRanges": [],
    "cell_id": "ac05e5a3e2fe4e2d981756f80c34b42d",
    "tags": [],
    "is_collapsed": false,
    "owner_user_id": "b20a8d7c-2019-4fff-955a-28e798448d8b",
    "deepnote_cell_type": "text-cell-h2"
   }
  },
  {
   "cell_type": "markdown",
   "source": "Jacob Miller, Kaitlyn Watson，Haobo.Liu, David Robbins",
   "metadata": {
    "cell_id": "cf273363ce364b81aebbaf27e48a4335",
    "tags": [],
    "deepnote_cell_type": "markdown",
    "deepnote_cell_height": 52.390625
   }
  },
  {
   "cell_type": "markdown",
   "source": "# 11 In-Class Assignment: \n\n    ",
   "metadata": {
    "cell_id": "00001-3dfdfd6e-f7ad-4009-96bf-a1d23a2653a4",
    "owner_user_id": "a464456a-c3c6-450f-a8c1-17fcb565d65e",
    "deepnote_cell_type": "markdown",
    "deepnote_cell_height": 82
   }
  },
  {
   "cell_type": "markdown",
   "source": "### Objectives \n\n1. Be able to determine properties of eigenvalues and eigenvectors based on the action of the matrix (e.g. rotations, reflections, scaling)\n1. Be able to compute eigenvalues and eigenvectors (complex or real)\n1. Understand the relationship between complex eigenvalues and rotation.\n1. Markov Models\n - Create a matrix that represents a Markov Model\n - Use eigenvalues/eigenvectors of this matrix to find and interpret the steady-state solution of the system. \n",
   "metadata": {
    "cell_id": "00002-8bcf0b45-4161-496a-9719-f806280fec64",
    "deepnote_cell_type": "markdown",
    "deepnote_cell_height": 274.78125
   }
  },
  {
   "cell_type": "markdown",
   "source": "---\n<a name=\"Page-Rank\"></a>\n## 1. Page Rank",
   "metadata": {
    "cell_id": "00003-d24bd589-05fb-4383-97e5-79524532e2a9",
    "owner_user_id": "1ad92508-5214-4899-9be6-2377c49dba3a",
    "deepnote_cell_type": "markdown",
    "deepnote_cell_height": 85
   }
  },
  {
   "cell_type": "markdown",
   "source": "Google's famous \"Page Rank\" algorithm is just a calculation of the likelyhood that a person will reach a particular web page.  \n\n> To explain the algorithm, we model the web as an oriented graph. The vertices are the pages, and the oriented edges are the links between pages. As we just explained, each page corresponds to a different url. Hence, a website may contain many pages. The model makes no difference between the individual pages of a website and its front page. But, most likely, the algorithm will rank better the front page of an important website.\n\nFrom: http://blog.kleinproject.org/?p=280\n\nUsing the vocabulary from this course, a simplified version of Page Rank is the steady state probabilities of the Markov State Model where each node in the network is a page and each transition probability is calculated as an equal probablility from the current page to its linked pages.  \n\nFor this problem, consider the following Markov model of a generic webpage. \n\nhttps://lh4.googleusercontent.com/LFe_yWxZA_F_Ze3PSMqwQds9zUOgjnzGP6pxPZJYAGjRTj_BKNqvcDxGHhbZg1Y3iSVOFPb9MW_a8JvwrdhfU3Av7zC13JO_faPs0WC7AziKWMwrwKkqdl6RJmxq=w477",
   "metadata": {
    "cell_id": "00004-7ec28ce1-abd0-48aa-847e-1f6ac03ecbc3",
    "deepnote_cell_type": "markdown",
    "deepnote_cell_height": 391.171875
   }
  },
  {
   "cell_type": "markdown",
   "source": "&#9989; <font color=red>**Do this.**</font> Find the state transition matrix for the above system. Call this matrix $A$. Let's consider <br/> Home = state 1, About = state 2, Resume = state 3, Blog = state 4 and let $p_{ij}$ be the probability transition from state $j$ to state $i$. ",
   "metadata": {
    "cell_id": "00005-7fbdd86c-9658-4464-8cba-3c01c8cb4df9",
    "deepnote_cell_type": "markdown",
    "deepnote_cell_height": 97.1875
   }
  },
  {
   "cell_type": "code",
   "metadata": {
    "cell_id": "00006-bdec1cba-7c28-4c24-a1bf-25783c19dbd6",
    "deepnote_to_be_reexecuted": false,
    "source_hash": "9cdddb04",
    "execution_start": 1655840665411,
    "execution_millis": 3093,
    "deepnote_cell_type": "code",
    "deepnote_cell_height": 359.3125
   },
   "source": "%matplotlib inline \nimport matplotlib.pylab as plt\nimport numpy as np\nimport sympy as sym\nsym.init_printing()\n\nA = np.matrix([[0.25, 0.5, 0.2, 0.1], [0.2, 0.5, 0, 0], [0.25, 0, 0.8, 0], [0.3, 0, 0, 0.9]])\nsym.Matrix(A)",
   "execution_count": null,
   "outputs": [
    {
     "output_type": "execute_result",
     "execution_count": 1,
     "data": {
      "text/plain": "⎡0.25  0.5  0.2  0.1⎤\n⎢                   ⎥\n⎢0.2   0.5   0    0 ⎥\n⎢                   ⎥\n⎢0.25   0   0.8   0 ⎥\n⎢                   ⎥\n⎣0.3    0    0   0.9⎦",
      "text/latex": "$\\displaystyle \\left[\\begin{matrix}0.25 & 0.5 & 0.2 & 0.1\\\\0.2 & 0.5 & 0 & 0\\\\0.25 & 0 & 0.8 & 0\\\\0.3 & 0 & 0 & 0.9\\end{matrix}\\right]$"
     },
     "metadata": {}
    }
   ]
  },
  {
   "cell_type": "markdown",
   "source": "&#9989; <font color=red>**Do this:**</font> Using ```numpy``` calculate the eigenvalues and eigenvectors of the model.",
   "metadata": {
    "cell_id": "00007-a35cfec8-821d-48c7-a0f5-7ced86207338",
    "deepnote_cell_type": "markdown",
    "deepnote_cell_height": 52.390625
   }
  },
  {
   "cell_type": "code",
   "metadata": {
    "cell_id": "00008-c0d373b3-2c7c-4829-818e-5721d330a335",
    "deepnote_to_be_reexecuted": false,
    "source_hash": "33c14665",
    "execution_start": 1655840668514,
    "execution_millis": 0,
    "deepnote_cell_type": "code",
    "deepnote_cell_height": 165.6875
   },
   "source": "E_Vals, E_Vecs = np.linalg.eig(A)\n\nsteady_state = [E_Vecs[:,2][0], E_Vecs[:,2][1], E_Vecs[:,2][2], E_Vecs[:,2][3]]\nprint(steady_state)",
   "execution_count": null,
   "outputs": [
    {
     "name": "stdout",
     "text": "[matrix([[0.29207197]]), matrix([[0.11682879]]), matrix([[0.36508996]]), matrix([[0.87621591]])]\n",
     "output_type": "stream"
    }
   ]
  },
  {
   "cell_type": "markdown",
   "source": "&#9989; <font color=red>**Do this:**</font>  The vector associated with the eigenvalue of 1 is the steady state vector $S$. Create a new vector $\\hat{S}$ (`S_hat` in python) that is equivlent to the steady state vector scaled by a constant $c$ (i.e. $cS = \\hat{S}$) such that the components of this new vector sum up to one (i.e. $\\sum_{i=0}^{n}\\hat{S}_i = 1$). ",
   "metadata": {
    "cell_id": "00009-e75ef741-1c34-4455-8d34-494e5b4653d2",
    "deepnote_cell_type": "markdown",
    "deepnote_cell_height": 97.296875
   }
  },
  {
   "cell_type": "code",
   "metadata": {
    "cell_id": "00010-ab86c1ee-af2e-43fe-a3ee-c1894ccc3874",
    "deepnote_to_be_reexecuted": false,
    "source_hash": "848a878",
    "execution_start": 1655840668541,
    "execution_millis": 2777071,
    "deepnote_cell_type": "code",
    "deepnote_cell_height": 293.390625
   },
   "source": "#Put your answer here\nconst = 0.605985\nS_hat = []\nfor i in range(len(steady_state)):\n    S_hat.append(float(steady_state[i]) * const)\nsu = 0.0\nprint(S_hat)\nfor i in range(len(S_hat)):\n    su += S_hat[i]\nprint(su)",
   "execution_count": null,
   "outputs": [
    {
     "name": "stdout",
     "text": "[0.17699123247313975, 0.07079649298925611, 0.22123904059142446, 0.5309736974194177]\n1.000000463473238\n",
     "output_type": "stream"
    }
   ]
  },
  {
   "cell_type": "markdown",
   "source": "&#9989; <font color=red>**Do this:**</font> Based on the long term steady state vector that you calculated, which page are people likely to spend the most time? Explain how you came up with the answer.",
   "metadata": {
    "cell_id": "00011-9c1037ee-e8ce-4cb5-aaea-5b4022b907e7",
    "deepnote_cell_type": "markdown",
    "deepnote_cell_height": 74.796875
   }
  },
  {
   "cell_type": "markdown",
   "source": "Based on the steady state vector we created, we found that the Blog page would be where people likely spend the most time. We found this by looking at the largest eigen vector value in S-hat. This makes sence when looking at our Markhov Matrix above.",
   "metadata": {
    "cell_id": "00012-e39df2a1-a51e-4140-a41a-12fee61c836a",
    "deepnote_cell_type": "markdown",
    "deepnote_cell_height": 97.1875
   }
  },
  {
   "cell_type": "markdown",
   "source": "&#9989; <font color=red>**Do this:**</font>  Construct a new matrix $P$ of the same size as $A$ with a copy of the normalized steady state vector ($\\hat{S}$) in each column. ",
   "metadata": {
    "cell_id": "00013-c99be1b4-7150-4331-a58c-5f4114979100",
    "deepnote_cell_type": "markdown",
    "deepnote_cell_height": 74.828125
   }
  },
  {
   "cell_type": "code",
   "metadata": {
    "cell_id": "00014-4f3d2511-520f-404c-b631-5af54105ff30",
    "deepnote_to_be_reexecuted": false,
    "source_hash": "56ede0a3",
    "execution_start": 1655840668596,
    "execution_millis": 6,
    "deepnote_cell_type": "code",
    "deepnote_cell_height": 440.921875,
    "deepnote_output_heights": [
     289.921875
    ]
   },
   "source": "# Put the answer to the above question here\n\nP = np.matrix([[S_hat[0], S_hat[1], S_hat[2], S_hat[3]],[S_hat[0], S_hat[1], S_hat[2], S_hat[3]],[S_hat[0], S_hat[1], S_hat[2], S_hat[3]], [S_hat[0], S_hat[1], S_hat[2], S_hat[3]]]).T\nsym.Matrix(P)",
   "execution_count": null,
   "outputs": [
    {
     "output_type": "execute_result",
     "execution_count": 4,
     "data": {
      "text/plain": "⎡ 0.17699123247314    0.17699123247314    0.17699123247314    0.17699123247314\n⎢                                                                             \n⎢0.0707964929892561  0.0707964929892561  0.0707964929892561  0.070796492989256\n⎢                                                                             \n⎢0.221239040591424   0.221239040591424   0.221239040591424   0.221239040591424\n⎢                                                                             \n⎣0.530973697419418   0.530973697419418   0.530973697419418   0.530973697419418\n\n ⎤\n ⎥\n1⎥\n ⎥\n ⎥\n ⎥\n ⎦",
      "text/latex": "$\\displaystyle \\left[\\begin{matrix}0.17699123247314 & 0.17699123247314 & 0.17699123247314 & 0.17699123247314\\\\0.0707964929892561 & 0.0707964929892561 & 0.0707964929892561 & 0.0707964929892561\\\\0.221239040591424 & 0.221239040591424 & 0.221239040591424 & 0.221239040591424\\\\0.530973697419418 & 0.530973697419418 & 0.530973697419418 & 0.530973697419418\\end{matrix}\\right]$"
     },
     "metadata": {}
    }
   ]
  },
  {
   "cell_type": "markdown",
   "source": "&#9989; <font color=red>**Do this:**</font> If exactly 10,000 people are on the website at a time (assume this is constant), estimate how many people will be on the About page over the long term?  Explain how you came up with your answer.",
   "metadata": {
    "cell_id": "00015-f45bf7aa-3690-4c85-8826-ebafcd165680",
    "deepnote_cell_type": "markdown",
    "deepnote_cell_height": 74.796875
   }
  },
  {
   "cell_type": "markdown",
   "source": "**<font color=red>Put your explanation and thought process here.</font>**\n\nit would be 712 people over the long term. We simply took the steady state vector and multiplied it by 10,0000",
   "metadata": {
    "cell_id": "00016-7c6e0e87-3d96-419c-8d45-4cda679d5923",
    "owner_user_id": "192b1d1b-306b-4bdd-8c69-79e2eeb9d053",
    "deepnote_cell_type": "markdown",
    "deepnote_cell_height": 88.796875
   }
  },
  {
   "cell_type": "code",
   "metadata": {
    "cell_id": "00017-28f9feaf-ba10-442c-ad47-76e6325e941d",
    "deepnote_to_be_reexecuted": false,
    "source_hash": "5edfc3bf",
    "execution_start": 1655840668598,
    "execution_millis": 4,
    "owner_user_id": "1e619e60-c5fd-4818-8055-ed2448616607",
    "deepnote_cell_type": "code",
    "deepnote_cell_height": 211.75
   },
   "source": "# Put the answer to the above question here\nSolution=P*10000\nSolution",
   "execution_count": null,
   "outputs": [
    {
     "output_type": "execute_result",
     "execution_count": 5,
     "data": {
      "text/plain": "matrix([[1769.91232473, 1769.91232473, 1769.91232473, 1769.91232473],\n        [ 707.96492989,  707.96492989,  707.96492989,  707.96492989],\n        [2212.39040591, 2212.39040591, 2212.39040591, 2212.39040591],\n        [5309.73697419, 5309.73697419, 5309.73697419, 5309.73697419]])"
     },
     "metadata": {}
    }
   ]
  },
  {
   "cell_type": "markdown",
   "source": "&#9989; <font color=red>**Do this:**</font> Modify the following code from in-class-10 to create a graph of the long term behavior. Assume 100 people start on the home page.",
   "metadata": {
    "cell_id": "00018-55e64ce9-6a02-4310-a001-1ad7fe1c6ade",
    "deepnote_cell_type": "markdown",
    "deepnote_cell_height": 74.796875
   }
  },
  {
   "cell_type": "code",
   "metadata": {
    "cell_id": "00019-695b63f1-76dc-4d51-aca9-f90c93958ab8",
    "deepnote_to_be_reexecuted": false,
    "source_hash": "aa1e595d",
    "execution_start": 1655840668599,
    "execution_millis": 469,
    "deepnote_cell_type": "code",
    "deepnote_cell_height": 891.671875,
    "deepnote_output_heights": [
     null,
     250
    ]
   },
   "source": "home = [100]\nabout = [0]\nresume = [0]\nblog = [0]\n\ncurrent_state = np.matrix([[home[0]], [about[0]], [resume[0]], [blog[0]]])\n\nfor i in range(19):\n    #update Current State\n    current_state = P*current_state\n    \n    #Store history for each room\n    home.append(current_state[0])\n    about.append(current_state[1])\n    resume.append(current_state[2])\n    blog.append(current_state[3])\n    \nplt.plot(home, label=\"home\");\nplt.plot(about, label=\"about\");\nplt.plot(resume, label=\"resume\");\nplt.plot(blog, label=\"blog\");\nplt.legend();\nprint(current_state)",
   "execution_count": null,
   "outputs": [
    {
     "name": "stdout",
     "text": "[[17.6992709 ]\n [ 7.07970836]\n [22.12408863]\n [53.09781271]]\n/shared-libs/python3.7/py/lib/python3.7/site-packages/numpy/core/shape_base.py:65: VisibleDeprecationWarning: Creating an ndarray from ragged nested sequences (which is a list-or-tuple of lists-or-tuples-or ndarrays with different lengths or shapes) is deprecated. If you meant to do this, you must specify 'dtype=object' when creating the ndarray.\n  ary = asanyarray(ary)\n",
     "output_type": "stream"
    },
    {
     "data": {
      "text/plain": "<Figure size 432x288 with 1 Axes>",
      "image/png": "[encoded data removed]"
     },
     "metadata": {
      "needs_background": "light",
      "image/png": {
       "width": 375,
       "height": 248
      }
     },
     "output_type": "display_data"
    }
   ]
  },
  {
   "cell_type": "markdown",
   "source": "## 2. Diagonalization",
   "metadata": {
    "cell_id": "00021-e3f3866f-1643-44e2-8dd4-0a8da54df9e9",
    "deepnote_cell_type": "markdown",
    "deepnote_cell_height": 70
   }
  },
  {
   "cell_type": "markdown",
   "source": "**_Reminder_**: The eigenvalues of diagonal and triangular (upper and lower) matrices are easy:\n\n* The eigenvalues for the diagonal matrices are the diagonal elements.\n* The eigenvalues for triangular matrices are the diagonal elements.\n\nThe above is NOT true for general matrices!",
   "metadata": {
    "cell_id": "00022-8682a674-0c40-4c8e-bdc8-6650dce13e13",
    "deepnote_cell_type": "markdown",
    "deepnote_cell_height": 150.59375
   }
  },
  {
   "cell_type": "markdown",
   "source": "### Diagonalization\n\n\n**Definition**: A square matrix $A$ is said to be *diagonalizable* if there exist a matrix $C$ such that $D=C^{-1}AC$ is a diagonal matrix.\n\n**Definition**: $B$ is a *similar matrix* of $A$ if we can find $C$ such that $B=C^{-1}AC$.\n\n\nGiven an $n\\times n$ matrix $A$, can we find another $n \\times n$ invertable matrix $C$ such that $D=C^{-1}AC$ is diagonal, i.e., $A$ is diagonalizable?",
   "metadata": {
    "cell_id": "00023-c4238406-79c7-4a7b-bf82-88e3c6991f8b",
    "deepnote_cell_type": "markdown",
    "deepnote_cell_height": 217.984375
   }
  },
  {
   "cell_type": "markdown",
   "source": "* Because $C$ is inveritable, we have \n$$C^{-1}AC=D \\\\ CC^{-1}AC = CD\\\\ AC = CD $$\n\n\n* Generate $C$ as the columns of $n$ linearly independent vectors $(x_1...x_n)$. We can compute $AC=CD$ as follows:\n$$ A\\begin{bmatrix} \\vdots  & \\vdots  & \\vdots  & \\vdots  \\\\ \\vdots  & \\vdots  & \\vdots  & \\vdots  \\\\ { x }_{ 1 } & { x }_{ 2 } & \\dots  & { x }_{ n } \\\\ \\vdots  & \\vdots  & \\vdots  & \\vdots  \\end{bmatrix}=AC=CD=\\begin{bmatrix} \\vdots  & \\vdots  & \\vdots  & \\vdots  \\\\ \\vdots  & \\vdots  & \\vdots  & \\vdots  \\\\ { x }_{ 1 } & { x }_{ 2 } & \\dots  & { x }_{ n } \\\\ \\vdots  & \\vdots  & \\vdots  & \\vdots  \\end{bmatrix}\\begin{bmatrix} { \\lambda  }_{ 1 } & 0 & 0 & 0 \\\\ 0 & { \\lambda  }_{ 2 } & 0 & 0 \\\\ \\vdots  & \\vdots  & { \\dots  } & \\vdots  \\\\ 0 & 0 & 0 & { \\lambda  }_{ n } \\end{bmatrix}$$\n* Then we check the corresponding columns of the both sides. We have \n$$Ax_1 = \\lambda_1x_1\\\\\\vdots\\\\Ax_n=\\lambda x_n$$\n\n* $A$ has $n$ linear independent eigenvectors.\n\n* $A$ is said to be *similar* to the diagonal matrix $D$, and the transformation of $A$ into $D$ is called a *similarity transformation*.",
   "metadata": {
    "cell_id": "00024-e21ddad6-686e-498d-845d-28cc30d1c572",
    "deepnote_cell_type": "markdown",
    "deepnote_cell_height": 419.9375
   }
  },
  {
   "cell_type": "markdown",
   "source": "### A simple example\n\nConsider the following:\n$$ A = \\begin{bmatrix}7& -10\\\\3& -4\\end{bmatrix},\\quad C = \\begin{bmatrix}2& 5\\\\1& 3\\end{bmatrix}$$  \nFind $D$ using $A$ and $C$.",
   "metadata": {
    "cell_id": "00025-1f31e915-73cd-4adf-93c6-e45118c656d3",
    "deepnote_cell_type": "markdown",
    "deepnote_cell_height": 141.046875
   }
  },
  {
   "cell_type": "code",
   "metadata": {
    "cell_id": "00026-5ac7626a-c4e7-4990-9dfb-06a5a22bebd5",
    "deepnote_to_be_reexecuted": false,
    "source_hash": "7f5f2d8a",
    "execution_start": 1655840669084,
    "execution_millis": 12,
    "deepnote_cell_type": "code",
    "deepnote_cell_height": 245.375
   },
   "source": "A=np.matrix([[7,-10], [3,-4]])\nC=np.matrix([[2,5], [1,3]])\n\nC_inv=np.linalg.inv(C)\n\nD=C_inv*A*C\nD",
   "execution_count": null,
   "outputs": [
    {
     "output_type": "execute_result",
     "execution_count": 7,
     "data": {
      "text/plain": "matrix([[2., 0.],\n        [0., 1.]])"
     },
     "metadata": {}
    }
   ]
  },
  {
   "cell_type": "code",
   "metadata": {
    "cell_id": "00027-34c2fb27-5b4d-4218-b988-35a4fd67518b",
    "deepnote_to_be_reexecuted": false,
    "source_hash": "78db6841",
    "execution_start": 1655840669104,
    "execution_millis": 41,
    "deepnote_cell_type": "code",
    "deepnote_cell_height": 285.5625
   },
   "source": "from answercheck import checkanswer\n\ncheckanswer.matrix(D, '8313fe0f529090d6a8cdb36248cfdd6c');",
   "execution_count": null,
   "outputs": [
    {
     "name": "stdout",
     "text": "\nCheckWarning: Matrix contains negative values for zero...\n    Converting to positive values of zero using  ```A[A==-0] = 0```.\n\nTesting [[2. 0.]\n [0. 1.]]\nAnswer seems to be correct\n\n",
     "output_type": "stream"
    }
   ]
  },
  {
   "cell_type": "markdown",
   "source": "&#9989;  **<font color=red>Do this:</font>** Find the eigenvalues and eigenvectors of $A$. Set variables ```e1``` and ```vec1``` to be the smallest eigenvalue and its associated eigenvector and ```e2, vec2``` to represent the  largest.",
   "metadata": {
    "cell_id": "00028-e18dafc3-f6bd-4017-b70c-f835b76a0bcf",
    "deepnote_cell_type": "markdown",
    "deepnote_cell_height": 74.796875
   }
  },
  {
   "cell_type": "code",
   "metadata": {
    "cell_id": "00029-22061887-11ec-4c50-a43a-e545896722f4",
    "deepnote_to_be_reexecuted": false,
    "source_hash": "30f32809",
    "execution_start": 1655840669134,
    "execution_millis": 1,
    "deepnote_cell_type": "code",
    "deepnote_cell_height": 243
   },
   "source": "E_vals, E_vecs = np.linalg.eig(A)\n\nE_vals\n\ne1=E_vals[1]\ne2=E_vals[0]\n\nvec1=E_vecs[:,1]\nvec2=E_vecs[:,0]\n",
   "execution_count": null,
   "outputs": []
  },
  {
   "cell_type": "code",
   "metadata": {
    "cell_id": "00030-c6af6884-f1b2-4e45-96e9-f36f9204f439",
    "deepnote_to_be_reexecuted": false,
    "source_hash": "3a905b13",
    "execution_start": 1655840669187,
    "execution_millis": 2836012,
    "deepnote_cell_type": "code",
    "deepnote_cell_height": 247.859375
   },
   "source": "from answercheck import checkanswer\ncheckanswer.float(e1, \"e4c2e8edac362acab7123654b9e73432\");",
   "execution_count": null,
   "outputs": [
    {
     "name": "stdout",
     "text": "\nCheckWarning: passed variable is <class 'numpy.float64'> and not a float.\n    Trying to convert to a float using ```A = float(A)```.\n\nTesting 1.0\nAnswer seems to be correct\n\n",
     "output_type": "stream"
    }
   ]
  },
  {
   "cell_type": "code",
   "metadata": {
    "cell_id": "00031-f3a6a491-0906-4946-995d-923940548600",
    "deepnote_to_be_reexecuted": false,
    "source_hash": "6a424c9a",
    "execution_start": 1655840669188,
    "execution_millis": 20,
    "deepnote_cell_type": "code",
    "deepnote_cell_height": 247.859375
   },
   "source": "from answercheck import checkanswer\ncheckanswer.float(e2, \"d1bd83a33f1a841ab7fda32449746cc4\");",
   "execution_count": null,
   "outputs": [
    {
     "name": "stdout",
     "text": "\nCheckWarning: passed variable is <class 'numpy.float64'> and not a float.\n    Trying to convert to a float using ```A = float(A)```.\n\nTesting 2.0\nAnswer seems to be correct\n\n",
     "output_type": "stream"
    }
   ]
  },
  {
   "cell_type": "code",
   "metadata": {
    "cell_id": "00032-cf36d04a-4183-472b-bb06-4856bc977d3e",
    "deepnote_to_be_reexecuted": false,
    "source_hash": "a0db8f92",
    "execution_start": 1655840669233,
    "execution_millis": 8,
    "deepnote_cell_type": "code",
    "deepnote_cell_height": 366.03125
   },
   "source": "from answercheck import checkanswer\ncheckanswer.eq_vector(vec1, \"d28f0a721eedb3d5a4c714744883932e\", decimal_accuracy = 4)",
   "execution_count": null,
   "outputs": [
    {
     "name": "stdout",
     "text": "\nCheckWarning: numpy.matrix is row vector...\n    Trying to convert to a column vector using ```A = A.T```.\n\n\nCheckWarning: Vector sum of [[0.8575 0.5145]] has total value of 1.000008249965969...\n    Trying to normalize to unit vector to check answer using\n    using ```A = A/1.000008249965969```.\n\n\nTesting [[0.8575 0.5145]]\nAnswer seems to be correct\n\n",
     "output_type": "stream"
    }
   ]
  },
  {
   "cell_type": "code",
   "metadata": {
    "cell_id": "00033-ecc87f40-56e9-45f2-8ae1-6cd4cebbb210",
    "deepnote_to_be_reexecuted": false,
    "source_hash": "dc31c197",
    "execution_start": 1655840669276,
    "execution_millis": 2832069,
    "deepnote_cell_type": "code",
    "deepnote_cell_height": 366.03125
   },
   "source": "from answercheck import checkanswer\ncheckanswer.eq_vector(vec2, \"09d9df5806bc8ef975074779da1f1023\", decimal_accuracy = 4)",
   "execution_count": null,
   "outputs": [
    {
     "name": "stdout",
     "text": "\nCheckWarning: numpy.matrix is row vector...\n    Trying to convert to a column vector using ```A = A.T```.\n\n\nCheckWarning: Vector sum of [[0.8944 0.4472]] has total value of 0.999969599537906...\n    Trying to normalize to unit vector to check answer using\n    using ```A = A/0.999969599537906```.\n\n\nTesting [[0.8944 0.4472]]\nAnswer seems to be correct\n\n",
     "output_type": "stream"
    }
   ]
  },
  {
   "cell_type": "markdown",
   "source": "&#9989;  **<font color=red>Do this:</font>** Let `eig_vec` be the matrix of eigenvectors of $A$. Compute $(eig\\_vec^{-1})(A) (eig\\_vec)$ and store it as D1. What do you notice?",
   "metadata": {
    "cell_id": "00034-e165696f-9bce-4067-b95e-dd5ac7f3b720",
    "deepnote_cell_type": "markdown",
    "deepnote_cell_height": 74.796875
   }
  },
  {
   "cell_type": "code",
   "metadata": {
    "cell_id": "00035-6891de3d-ef15-4f33-b3b0-30ecfa72b98e",
    "deepnote_to_be_reexecuted": false,
    "source_hash": "c447b8a6",
    "execution_start": 1655840669277,
    "execution_millis": 22,
    "deepnote_cell_type": "code",
    "deepnote_cell_height": 264.578125,
    "deepnote_output_heights": [
     59.578125
    ]
   },
   "source": "#your code here\neig_vec=np.concatenate((vec1, vec2), axis=1)\neig_vec_inv = np.linalg.inv(eig_vec)\n\nD1=eig_vec_inv*A*eig_vec\n#end code\nsym.Matrix(D1)",
   "execution_count": null,
   "outputs": [
    {
     "output_type": "execute_result",
     "execution_count": 14,
     "data": {
      "text/plain": "⎡  0.999999999999998    -1.20719906568813e-15⎤\n⎢                                            ⎥\n⎣-1.07376979972971e-14           2.0         ⎦",
      "text/latex": "$\\displaystyle \\left[\\begin{matrix}0.999999999999998 & -1.20719906568813 \\cdot 10^{-15}\\\\-1.07376979972971 \\cdot 10^{-14} & 2.0\\end{matrix}\\right]$"
     },
     "metadata": {}
    }
   ]
  },
  {
   "cell_type": "markdown",
   "source": "",
   "metadata": {
    "cell_id": "00036-c2925ebb-3f5c-48af-8830-5c50cdf21f8e",
    "deepnote_cell_type": "markdown",
    "deepnote_cell_height": 46
   }
  },
  {
   "cell_type": "markdown",
   "source": "This is the first eigen vector (1), being multiplied by the elementary standard base: e1 and the second eigen vector (2) being multiplied by the elementary basis, e2)",
   "metadata": {
    "cell_id": "612afa5aa9804e3aa3f48c7739d843ba",
    "tags": [],
    "deepnote_cell_type": "markdown",
    "deepnote_cell_height": 74.796875
   }
  },
  {
   "cell_type": "markdown",
   "source": "**Theorem:** Similar matrices have the same eigenvalues.\n\n**Proof:** Assume $B=C^{-1}AC$ is a similar matrix of $A$, and $\\lambda$ is an eigenvalue of $A$ with corresponding eigenvector $x$. That is, $$Ax=\\lambda x$$ \nThen we have $$B(C^{-1}x) = C^{-1}AC(C^{-1}x) = C^{-1}Ax = C^{-1}(\\lambda x)= \\lambda (C^{-1}x).$$\nThat is $C^{-1}x$ is an eigenvector of $B$ with eigenvalue $\\lambda$.",
   "metadata": {
    "cell_id": "00037-7401914b-898f-4920-9bc2-ced6f10ff883",
    "deepnote_cell_type": "markdown",
    "deepnote_cell_height": 133.59375
   }
  },
  {
   "cell_type": "markdown",
   "source": "### A second example\n\n&#9989;  **<font color=red>Do this:</font>** Consider \n$$ A = \\begin{bmatrix}-4& -6\\\\3& 5\\end{bmatrix}.$$\nFind a matrix $C$ such that $C^{-1}AC$ is diagonal. (Hint, use the function `diagonalize` in `sympy`.)",
   "metadata": {
    "cell_id": "00038-dd27bbd7-9da0-434c-815d-11352397df72",
    "deepnote_cell_type": "markdown",
    "deepnote_cell_height": 141.046875
   }
  },
  {
   "cell_type": "code",
   "metadata": {
    "cell_id": "00039-05ace128-274c-4a82-8f4f-1f06145fa582",
    "deepnote_to_be_reexecuted": false,
    "source_hash": "fe408417",
    "execution_start": 1655840669278,
    "execution_millis": 102,
    "owner_user_id": "9a33963a-103d-4e24-ab8f-aa9f5856df44",
    "deepnote_cell_type": "code",
    "deepnote_cell_height": 244.46875
   },
   "source": "A = np.matrix([[-4, -6], [3, 5]])\nprint(sym.Matrix(A).eigenvects())\nC = sym.Matrix(A).diagonalize()[0]\nD = sym.Matrix(A).diagonalize()[1]",
   "execution_count": null,
   "outputs": [
    {
     "name": "stdout",
     "text": "[(-1, 1, [Matrix([\n[-2],\n[ 1]])]), (2, 1, [Matrix([\n[-1],\n[ 1]])])]\n",
     "output_type": "stream"
    }
   ]
  },
  {
   "cell_type": "code",
   "metadata": {
    "cell_id": "00040-02c1c022-b4f8-47b9-b5b5-b3ff1986d0d1",
    "deepnote_to_be_reexecuted": false,
    "source_hash": "bac30546",
    "execution_start": 1655840669336,
    "execution_millis": 63,
    "deepnote_cell_type": "code",
    "deepnote_cell_height": 346.34375
   },
   "source": "from answercheck import checkanswer\ncheckanswer.matrix(C,'ba963b7fef354b4a7ddd880ca4bac071')",
   "execution_count": null,
   "outputs": [
    {
     "name": "stdout",
     "text": "\nCheckWarning: passed variable is <class 'sympy.matrices.dense.MutableDenseMatrix'> and not a numpy.matrix...\n    Trying to convert to a array matrix using ```A = np.matrix(A)```.\n\n\nCheckWarning: passed matrix is object and not <class 'numpy.float64'>...\n    Trying to convert to float using ```A = A.astype(float)```.\n\nTesting [[-2. -1.]\n [ 1.  1.]]\nAnswer seems to be correct\n\n",
     "output_type": "stream"
    }
   ]
  },
  {
   "cell_type": "markdown",
   "source": "### The third example\n\nConsider \n$$ A = \\begin{bmatrix}5& -3\\\\3& -1\\end{bmatrix}.$$\nCan we find a matrix $C$ such that $C^{-1}AC$ is diagonal? ",
   "metadata": {
    "cell_id": "00041-9a4839cc-bc25-47ea-9b96-2922bdd90175",
    "deepnote_cell_type": "markdown",
    "deepnote_cell_height": 118.65625
   }
  },
  {
   "cell_type": "markdown",
   "source": "&#9989;  **<font color=red>Do this:</font>** Using `sympy` find the eigenvectors of $A$.",
   "metadata": {
    "cell_id": "00042-ed8c1919-09dc-44fb-a652-9e99803f45a5",
    "deepnote_cell_type": "markdown",
    "deepnote_cell_height": 52.390625
   }
  },
  {
   "cell_type": "code",
   "metadata": {
    "cell_id": "00043-19bd1468-9acb-43a5-85aa-6da14ab9db04",
    "deepnote_to_be_reexecuted": false,
    "source_hash": "cfd33bfe",
    "execution_start": 1655840669424,
    "execution_millis": 1,
    "deepnote_cell_type": "code",
    "deepnote_cell_height": 205.078125
   },
   "source": "A_3 = np.matrix([[5, -3], [3, -1]])\neig_vecs_3 = sym.Matrix(A_3).eigenvects()\nprint(eig_vecs_3)\n",
   "execution_count": null,
   "outputs": [
    {
     "name": "stdout",
     "text": "[(2, 2, [Matrix([\n[1],\n[1]])])]\n",
     "output_type": "stream"
    }
   ]
  },
  {
   "cell_type": "markdown",
   "source": "&#9989;  **<font color=red>Do this:</font>** Note that sympy returns a tupple. Explain each value in this tupple.",
   "metadata": {
    "cell_id": "00044-27913def-06cf-4183-b998-ca62046210d8",
    "deepnote_cell_type": "markdown",
    "deepnote_cell_height": 52.390625
   }
  },
  {
   "cell_type": "markdown",
   "source": "The first tupple value represents the eigen values and the second tupple represents the multiplicity.",
   "metadata": {
    "cell_id": "00045-436b1cf6-a5c6-4e2f-bfef-b93920ce0e79",
    "deepnote_cell_type": "markdown",
    "deepnote_cell_height": 52.390625
   }
  },
  {
   "cell_type": "markdown",
   "source": "&#9989;  **<font color=red>Do this:</font>** Explain why the information in the tupple indicates that $A$ is not diagonalizable.",
   "metadata": {
    "cell_id": "00046-9836e851-a608-4de3-bed1-8b1f0d3228c8",
    "deepnote_cell_type": "markdown",
    "deepnote_cell_height": 52.390625
   }
  },
  {
   "cell_type": "markdown",
   "source": "The function returns 1 eigen vector, which would leave us with a nonsquare matrix for C. Thus there will not exist an inverse for C which is required to diagonalize A.",
   "metadata": {
    "cell_id": "00047-ef7bf16f-51ee-4509-841c-c2ce92266fb8",
    "deepnote_cell_type": "markdown",
    "deepnote_cell_height": 74.796875
   }
  },
  {
   "cell_type": "markdown",
   "source": "## 3. The Power of a Matrix\n\n* For a diagonalizable matrix $A$, we have $C^{-1}AC=D$. Then we have \n$$A = C D C^{-1}$$\n* We have \n$$A^2 = C D C^{-1} C D C^{-1} = C D^2 C^{-1}$$\n$$A^n = C D C^{-1} \\dots C D C^{-1} = C D^n C^{-1}$$\n* Because the columns of $C$ are eigenvectors, so we can say that the eigenvectors for $A$ and $A^n$ are the same if $A$ is diagonalizable. \n* If $x$ is an eigenvector of $A$ with the corresponding eigenvalue $\\lambda$, then $x$ is also an eigenvector of $A^n$ with the corresponding eigenvalue $\\lambda^n$.",
   "metadata": {
    "cell_id": "00048-2ffd93c1-6137-45ec-8216-c83fa8a8a856",
    "deepnote_cell_type": "markdown",
    "deepnote_cell_height": 338.1875
   }
  },
  {
   "cell_type": "markdown",
   "source": "&#9989;  **<font color=red>Do this:</font>** Consider the matrix \n$$ A = \\begin{bmatrix}-4& -6\\\\3& 5\\end{bmatrix}$$ from the Second example. Calculate $A^{-3}$ and $A^{10}$ in two different ways:\n * Directly, using `A**n` in Python for the appropriate values of n.",
   "metadata": {
    "cell_id": "00049-be4a502d-81e7-4155-962b-df375aa94987",
    "deepnote_cell_type": "markdown",
    "deepnote_cell_height": 121.046875
   }
  },
  {
   "cell_type": "code",
   "metadata": {
    "cell_id": "00050-94fd44ff-f2d8-4706-a2cd-b1a16e642d35",
    "deepnote_to_be_reexecuted": false,
    "source_hash": "6cd722b5",
    "execution_start": 1655840669426,
    "execution_millis": 49,
    "deepnote_cell_type": "code",
    "deepnote_cell_height": 260.78125
   },
   "source": "A = np.matrix([[-4, -6], [3, 5]])\nresult1=A**(-3)\nresult_2=A**10\nprint(result1)\nprint(result_2)\n",
   "execution_count": null,
   "outputs": [
    {
     "name": "stdout",
     "text": "[[-2.125 -2.25 ]\n [ 1.125  1.25 ]]\n[[-1022 -2046]\n [ 1023  2047]]\n",
     "output_type": "stream"
    }
   ]
  },
  {
   "cell_type": "markdown",
   "source": "* By using the matrices $C$ and $D$ (you found them in the worksheet above), which diagonalize $A$.",
   "metadata": {
    "cell_id": "00051-ee94ffd2-198c-4f95-8d5a-755c054a1180",
    "deepnote_cell_type": "markdown",
    "deepnote_cell_height": 69.390625
   }
  },
  {
   "cell_type": "code",
   "metadata": {
    "cell_id": "00052-c13bb51f-0329-4df1-8d12-ee19c7ad50ae",
    "deepnote_to_be_reexecuted": false,
    "source_hash": "58294e22",
    "execution_start": 1655840669456,
    "execution_millis": 162,
    "deepnote_cell_type": "code",
    "deepnote_cell_height": 293.390625
   },
   "source": "A = np.matrix([[-4, -6], [3, 5]])\nC = sym.Matrix(A).diagonalize()[0]\nC_inv = sym.Matrix(C).inv()\nD = sym.Matrix(A).diagonalize()[1]\n\nresult3=C*(D**-3)*C_inv\nresult4=C*(D**10)*C_inv\n\nprint(result3)\nprint(result4)",
   "execution_count": null,
   "outputs": [
    {
     "name": "stdout",
     "text": "Matrix([[-17/8, -9/4], [9/8, 5/4]])\nMatrix([[-1022, -2046], [1023, 2047]])\n",
     "output_type": "stream"
    }
   ]
  },
  {
   "cell_type": "markdown",
   "source": " * Compare the two approaches. Discuss which approach you'd rather take if you were doing things by hand and why.",
   "metadata": {
    "cell_id": "00053-e7dec2c9-1263-4c39-9c1e-8900ea4723aa",
    "deepnote_cell_type": "markdown",
    "deepnote_cell_height": 69.390625
   }
  },
  {
   "cell_type": "markdown",
   "source": "The first approach using A**n would be much easier to do by hand then using the C and D values to diagonalizes. This is because you would only have to multiply the matrices by the power required instead of the additional inverse and C.",
   "metadata": {
    "cell_id": "00054-210c582a-10bb-44a1-888a-7e811f46d16d",
    "deepnote_cell_type": "markdown",
    "deepnote_cell_height": 74.796875
   }
  },
  {
   "cell_type": "markdown",
   "source": "----\nWritten by Dr. Dirk Colbry, Michigan State University\n<a rel=\"license\" href=\"http://creativecommons.org/licenses/by-nc/4.0/\"><img alt=\"Creative Commons License\" style=\"border-width:0\" src=\"https://i.creativecommons.org/l/by-nc/4.0/88x31.png\" /></a><br />This work is licensed under a <a rel=\"license\" href=\"http://creativecommons.org/licenses/by-nc/4.0/\">Creative Commons Attribution-NonCommercial 4.0 International License</a>.",
   "metadata": {
    "cell_id": "00055-42c2ab09-5f21-435f-8a0b-a3af8b1eab29",
    "deepnote_cell_type": "markdown",
    "deepnote_cell_height": 138.1875
   }
  },
  {
   "cell_type": "markdown",
   "source": "\n\n-----\n### Congratulations, we're done!\n",
   "metadata": {
    "cell_id": "00056-888aa46b-0fb0-4bd4-bf6e-7f0ff07cfe05",
    "deepnote_cell_type": "markdown",
    "deepnote_cell_height": 63
   }
  },
  {
   "cell_type": "markdown",
   "source": "----",
   "metadata": {
    "cell_id": "00057-87e50a1b-e5be-41f3-8cbb-69083d9cab30",
    "deepnote_cell_type": "markdown",
    "deepnote_cell_height": 46
   }
  },
  {
   "cell_type": "markdown",
   "source": "<a style='text-decoration:none;line-height:16px;display:flex;color:#5B5B62;padding:10px;justify-content:end;' href='https://deepnote.com?utm_source=created-in-deepnote-cell&projectId=eddc04b2-32a0-43fc-87cf-17e6670be569' target=\"_blank\">\n<img alt='Created in deepnote.com' style='display:inline;max-height:16px;margin:0px;margin-right:7.5px;' src='data:image/svg+xml;base64,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' > </img>\nCreated in <span style='font-weight:600;margin-left:4px;'>Deepnote</span></a>",
   "metadata": {
    "tags": [],
    "created_in_deepnote_cell": true,
    "deepnote_cell_type": "markdown"
   }
  }
 ],
 "nbformat": 4,
 "nbformat_minor": 4,
 "metadata": {
  "kernelspec": {
   "display_name": "Python 3 (ipykernel)",
   "language": "python",
   "name": "python3"
  },
  "language_info": {
   "codemirror_mode": {
    "name": "ipython",
    "version": 3
   },
   "file_extension": ".py",
   "mimetype": "text/x-python",
   "name": "python",
   "nbconvert_exporter": "python",
   "pygments_lexer": "ipython3",
   "version": "3.9.7"
  },
  "deepnote_notebook_id": "722a5fd8-f0d7-4d22-a16d-729c0139bb30",
  "deepnote": {},
  "deepnote_execution_queue": []
 }
}