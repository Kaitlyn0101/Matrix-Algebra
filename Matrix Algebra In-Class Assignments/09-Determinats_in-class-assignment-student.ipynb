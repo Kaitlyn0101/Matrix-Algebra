{
 "cells": [
  {
   "cell_type": "markdown",
   "source": "# 09 In-Class Assignment: Determinants\n\n![Depiction of Cramer's Rule with two equations and two variables](https://i.imgur.com/3txKM4R.jpg \"Depiction of Cramer's Rule with two equations and two variables\")\n \n <div style=\"text-align: center\">Image from: <a href=\"http://www.mathnstuff.com/\" target=\"_blank\">http://www.mathnstuff.com/</a>  </div>\n ",
   "metadata": {
    "cell_id": "67cc8348-0545-4cc9-8b36-d33279d51633",
    "deepnote_cell_type": "markdown",
    "deepnote_cell_height": 144.390625
   }
  },
  {
   "cell_type": "markdown",
   "source": "## Put the names of all group members present today below:",
   "metadata": {
    "cell_id": "00001-4c9a841d-6771-473b-8dc8-306078177420",
    "deepnote_cell_type": "markdown",
    "deepnote_cell_height": 70
   }
  },
  {
   "cell_type": "markdown",
   "source": "Haobo.Liu, Christian Lulaj, David Robbins, Kaitlyn Watson, Jacob Miller",
   "metadata": {
    "cell_id": "00002-8a9fe7e7-c5a2-47da-a2fd-35c5fe778473",
    "deepnote_cell_type": "markdown",
    "deepnote_cell_height": 52.390625
   }
  },
  {
   "cell_type": "markdown",
   "source": "### Objectives\n\n1. Calculate 2x2 and 3x3 determinants by hand\n1. Calculate general determinants using python\n1. Apply various properties of determinants (covered in the pre-class notebook)\n1. Calculate determinants of triangular matrices\n1. Demonstrate knowledge of the geometric interpretation of determinants\n1. Use determinants and Cramer’s rule to solve systems of linear equations\n",
   "metadata": {
    "cell_id": "00003-a3d08387-58f9-4ecc-936a-4c3d7960fcb9",
    "deepnote_cell_type": "markdown",
    "deepnote_cell_height": 241.390625
   }
  },
  {
   "cell_type": "markdown",
   "source": "---\n<a name=\"Algorithm_to_calculate_the_determinant\"></a>\n## 2. Algorithm to calculate the determinant\nConsider the following recursive algorithm (algorithm that calls itself) to determine the determinant of a $n\\times n$ matrix $A$ (denoted $|A|$), which is the sum of the products of the elements of any row or column. i.e.:\n\n$$i^{th}\\text{ row expansion:     } |A| = a_{i1}C_{i1} + a_{i2}C_{i2} + \\ldots + a_{in}C_{in} $$\n$$j^{th}\\text{ column expansion:     } |A| = a_{1j}C_{1j} + a_{2j}C_{2j} + \\ldots + a_{nj}C_{nj} $$\n\nwhere $C_{ij}$ is the cofactor of $a_{ij}$ and is given by:\n\n$$ C_{ij} = (-1)^{i+j}|M_{ij}|$$\n\nand $M_{ij}$ is the matrix that remains after deleting row $i$ and column $j$ of $A$.\n\nHere is some code that tries to implement this algorithm.  ",
   "metadata": {
    "cell_id": "00004-1839ff7d-e4b9-4838-af11-b745eb83c285",
    "deepnote_cell_type": "markdown",
    "deepnote_cell_height": 329.75
   }
  },
  {
   "cell_type": "code",
   "metadata": {
    "cell_id": "00005-71de064e-9cb4-4f0b-aec8-6dc21e0e22d6",
    "deepnote_to_be_reexecuted": false,
    "source_hash": "a11ffdf1",
    "execution_start": 1656274154502,
    "execution_millis": 1522,
    "deepnote_cell_type": "code",
    "deepnote_cell_height": 171
   },
   "source": "## Import our standard packages packages\n%matplotlib inline\nimport numpy as np\nimport matplotlib.pyplot as plt\nimport sympy as sym\nsym.init_printing(use_unicode=True)",
   "execution_count": null,
   "outputs": []
  },
  {
   "cell_type": "code",
   "metadata": {
    "cell_id": "00006-f7bb56c9-cd40-44b6-887a-3e334f75fd32",
    "deepnote_to_be_reexecuted": false,
    "source_hash": "b8310e17",
    "execution_start": 1655234650072,
    "execution_millis": 1,
    "deepnote_cell_type": "code",
    "deepnote_cell_height": 693
   },
   "source": "import copy\nimport random\n\n#generate Random Matrix and calculate it's determinant using numpy\nn = 5\ns = 10\nA = [[round(random.random()*s) for i in range(n)] for j in range(n)]\nA = np.matrix(A)\n#print matrix\nsym.Matrix(A)\n\n\ndef makeM(A,i,j):\n    ''' Deletes the ith row and jth column from A'''\n    M = copy.deepcopy(A)\n    del M[i]\n    for k in range(len(M)):\n        del M[k][j]\n    return M\n\ndef mydet(A):\n    '''Calculate the determinant from list-of-lists matrix A'''\n    if type(A) == np.matrix:\n        A = A.tolist()   \n    n = len(A)\n    if n == 2:\n        det = (A[0][0]*A[1][1] - A[1][0]*A[0][1]) \n        return det\n    det = 0\n    i = 0\n    for j in range(n):\n        M = makeM(A,i,j)\n        #Calculate the determinant\n        det += (A[i][j] * ((-1)**(i+j)) * mydet(M))\n    return det",
   "execution_count": null,
   "outputs": []
  },
  {
   "cell_type": "markdown",
   "source": "The following code generates an $n \\times n$ matrix with random values from 0 to 10.  \nRun the code multiple times to get different matrices:",
   "metadata": {
    "cell_id": "00007-e876e2a5-c10e-4778-bbf4-e441b1a648c3",
    "deepnote_cell_type": "markdown",
    "deepnote_cell_height": 75.125
   }
  },
  {
   "cell_type": "code",
   "metadata": {
    "cell_id": "00008-2c618c14-c707-40e1-b507-48e8808e4f2a",
    "deepnote_to_be_reexecuted": false,
    "source_hash": "e95af352",
    "execution_start": 1655234650097,
    "execution_millis": 415,
    "deepnote_cell_type": "code",
    "deepnote_cell_height": 397.78125,
    "deepnote_output_heights": [
     174.796875
    ]
   },
   "source": "#generate Random Matrix and calculate it's determinant using numpy\nn = 5\ns = 10\nA = [[round(random.random()*s) for i in range(n)] for j in range(n)]\nA = np.matrix(A)\n#print matrix\nsym.Matrix(A)\n",
   "execution_count": null,
   "outputs": [
    {
     "output_type": "execute_result",
     "execution_count": 3,
     "data": {
      "text/plain": "⎡8  2  6  3  6⎤\n⎢             ⎥\n⎢9  8  8  3  2⎥\n⎢             ⎥\n⎢8  2  1  6  1⎥\n⎢             ⎥\n⎢9  7  8  0  3⎥\n⎢             ⎥\n⎣1  8  2  1  4⎦",
      "text/latex": "$\\displaystyle \\left[\\begin{matrix}8 & 2 & 6 & 3 & 6\\\\9 & 8 & 8 & 3 & 2\\\\8 & 2 & 1 & 6 & 1\\\\9 & 7 & 8 & 0 & 3\\\\1 & 8 & 2 & 1 & 4\\end{matrix}\\right]$"
     },
     "metadata": {}
    }
   ]
  },
  {
   "cell_type": "markdown",
   "source": "&#9989; **<font color='red'>DO THIS:</font>** Use the randomly generated matrix ($A$) to test the above ```mydet``` function and compare your result to the ```numpy.linalg.det``` function.",
   "metadata": {
    "cell_id": "00009-a3eec11b-7f19-46db-a699-1c848d56f530",
    "deepnote_cell_type": "markdown",
    "deepnote_cell_height": 75.125
   }
  },
  {
   "cell_type": "code",
   "metadata": {
    "cell_id": "00010-2b7b0aed-4d85-42c6-b128-c51c816c27a4",
    "deepnote_to_be_reexecuted": false,
    "source_hash": "eb6c555f",
    "execution_start": 1655234650528,
    "execution_millis": 4263325,
    "deepnote_cell_type": "code",
    "deepnote_cell_height": 222
   },
   "source": "# Put your test code here\na = mydet(A)\nprint(a)\n\nb=np.linalg.det(A)\nprint(b)",
   "execution_count": null,
   "outputs": [
    {
     "name": "stdout",
     "text": "6800\n6799.999999999999\n",
     "output_type": "stream"
    }
   ]
  },
  {
   "cell_type": "markdown",
   "source": "&#9989; **<font color=red>QUESTION:</font>** Are the answers to ```mydet``` and ```numpuy.linalg.det``` exactly the same every time you generate a different random matrix?  If not, explain why.",
   "metadata": {
    "cell_id": "00011-58cc3dca-d117-4083-b3ad-ff6512513286",
    "deepnote_cell_type": "markdown",
    "deepnote_cell_height": 74.796875
   }
  },
  {
   "cell_type": "markdown",
   "source": "They are relatively close. The determinant for the linalg.det() has many more significant figures than the function above which generates a slightly larger number. The mydet function is not carrying digits throughout the calculation, rounding the determinant at some point.",
   "metadata": {
    "cell_id": "00012-17573652-2775-4b2b-8192-7b642c396503",
    "deepnote_cell_type": "markdown",
    "deepnote_cell_height": 97.1875
   }
  },
  {
   "cell_type": "markdown",
   "source": "&#9989; **<font color=red>QUESTION:</font>** On line 26 of the above code, you can see that algorithm calls itself.  Explain why this doesn't run forever.",
   "metadata": {
    "cell_id": "00013-7aeabc19-4ca4-41b7-ad43-26db29573c13",
    "deepnote_cell_type": "markdown",
    "deepnote_cell_height": 52.390625
   }
  },
  {
   "cell_type": "markdown",
   "source": "A matrix continues to become smaller and smaller until n=2. Therefore, it then makes the matrix 0.",
   "metadata": {
    "cell_id": "00014-bb1961c3-712b-46d8-a1f0-47ab1a7fa24e",
    "deepnote_cell_type": "markdown",
    "deepnote_cell_height": 52.390625
   }
  },
  {
   "cell_type": "markdown",
   "source": "---\n\n<a name=\"Using_Cramers_rule\"></a>\n## 3. Using Cramer's rule to solve $Ax=b$\n\nLet $Ax = b$ be a system of $n$ linear equations in $n$ variables such that $|A| \\neq 0$. The system has a unique solution given by:\n\n$$x_1 = \\frac{|A_1|}{|A|}, x_2 = \\frac{|A_2|}{|A|}, \\ldots,  x_n = \\frac{|A_n|}{|A|}$$\n\nwhere $A_i$ is the matrix obtained by replacing column $i$ of $A$ with $b$. The following function generates $A_i$ by replacing the $i$th column of $A$ with $b$:",
   "metadata": {
    "cell_id": "00015-0092344a-1c23-4893-ae81-c4c61b09d59e",
    "deepnote_cell_type": "markdown",
    "deepnote_cell_height": 229.03125
   }
  },
  {
   "cell_type": "code",
   "metadata": {
    "cell_id": "00016-5e761f78-3657-43a9-8859-de7e7e0490eb",
    "deepnote_to_be_reexecuted": false,
    "source_hash": "ae19bcf7",
    "execution_start": 1655234650581,
    "execution_millis": 4177725,
    "deepnote_cell_type": "code",
    "deepnote_cell_height": 243
   },
   "source": "def makeAi(A,i,b):\n    '''Replace the ith column in A with b'''\n    if type(A) == np.matrix:\n        A = A.tolist()\n    if type(b) == np.matrix:\n        b = b.tolist()\n    Ai = copy.deepcopy(A)\n    for j in range(len(Ai)):\n        Ai[j][i] = b[j][0]\n    return Ai",
   "execution_count": null,
   "outputs": []
  },
  {
   "cell_type": "markdown",
   "source": "&#9989; **<font color=red>DO THIS:</font>** Create a new function called ```cramersRule```, which takes $A$ and $b$ and returns $x$ using the Cramer's rule. **Note:** Use ```numpy``` and NOT ```mydet``` to find the required determinants. ```mydet``` is too slow. ",
   "metadata": {
    "cell_id": "00017-a56e0cd7-140c-4f59-9a64-222926f921e2",
    "deepnote_cell_type": "markdown",
    "deepnote_cell_height": 75.125
   }
  },
  {
   "cell_type": "code",
   "metadata": {
    "cell_id": "00018-c0a4e875-2209-4623-973e-39f1bd5271bf",
    "deepnote_to_be_reexecuted": false,
    "source_hash": "360eeb06",
    "execution_start": 1655234650592,
    "execution_millis": 3606197,
    "deepnote_cell_type": "code",
    "deepnote_cell_height": 315
   },
   "source": "# Stub code. Replace the np.linalg.solve code with your answer\n\ndef cramersRule(A,b):\n    detA = np.linalg.det(A)\n    x = []    \n    #####Start of your code here#####  \n    for i in range(len(A)):\n        ai = makeAi(A,i,b)\n        detai = np.linalg.det(ai)\n        x.append(detai/detA)\n\n    #####End of your code here#####  \n    \n    return x",
   "execution_count": null,
   "outputs": []
  },
  {
   "cell_type": "markdown",
   "source": "&#9989; **<font color=red>QUESTION:</font>** Test your ```cramersRule``` function on the following system of linear equations:\n\n$$ x_1 + 2x_2 = 3$$\n$$3x_1 + x_2 = -1$$",
   "metadata": {
    "cell_id": "00019-9fd64473-5e16-412e-82d5-09a34faa5cd1",
    "deepnote_cell_type": "markdown",
    "deepnote_cell_height": 89.125
   }
  },
  {
   "cell_type": "code",
   "metadata": {
    "cell_id": "00020-d4845772-ffeb-4389-83c0-19a23f6db45d",
    "deepnote_to_be_reexecuted": false,
    "source_hash": "f6e8bbe0",
    "execution_start": 1655234650647,
    "execution_millis": 51,
    "deepnote_cell_type": "code",
    "deepnote_cell_height": 156,
    "deepnote_output_heights": [
     23
    ]
   },
   "source": "#Put your answer to the above quesiton here\n\ncramersRule(np.matrix([[1,2],[3,1]]), np.matrix([[3], [-1]]))",
   "execution_count": null,
   "outputs": [
    {
     "output_type": "execute_result",
     "execution_count": 7,
     "data": {
      "text/plain": "[-1.0, 2.0]",
      "image/png": "[encoded data removed]",
      "text/latex": "$\\displaystyle \\left[ -1.0, \\  2.0\\right]$"
     },
     "metadata": {
      "image/png": {
       "width": 113,
       "height": 21
      }
     }
    }
   ]
  },
  {
   "cell_type": "markdown",
   "source": "&#9989; **<font color=red>QUESTION:</font>** Verify the above answer by using the ```np.linalg.solve``` function:",
   "metadata": {
    "cell_id": "00021-c0b07697-ef06-4d56-a947-a1d809bd563d",
    "deepnote_cell_type": "markdown",
    "deepnote_cell_height": 52.390625
   }
  },
  {
   "cell_type": "code",
   "metadata": {
    "cell_id": "00022-566bc05f-b64e-41ad-bfb3-6e0091dd0aeb",
    "deepnote_to_be_reexecuted": false,
    "source_hash": "6034d035",
    "execution_start": 1655234650696,
    "execution_millis": 2,
    "deepnote_cell_type": "code",
    "deepnote_cell_height": 240
   },
   "source": "#Put your answer to the above quesiton here\n\nA=np.matrix([[1,2], [3,1]])\nb=np.matrix([[3], [-1]])\n\nx=np.linalg.solve(A,b)\nprint(x)",
   "execution_count": null,
   "outputs": [
    {
     "name": "stdout",
     "text": "[[-1.]\n [ 2.]]\n",
     "output_type": "stream"
    }
   ]
  },
  {
   "cell_type": "markdown",
   "source": "&#9989; **<font color=red>QUESTION:</font>** Test your ```cramersRule``` function on the following system of linear equations and verify the answer by using the ```np.linalg.solve``` function: \n\n$$ x_1 + 2x_2 +x_3 = 9$$\n\n$$ x_1 + 3x_2 - x_3 = 4$$\n\n$$ x_1 + 4x_2 - x_3 = 7$$",
   "metadata": {
    "cell_id": "00023-765c5213-fed0-43f7-957a-e09ea35a8c74",
    "deepnote_cell_type": "markdown",
    "deepnote_cell_height": 184.96875
   }
  },
  {
   "cell_type": "code",
   "metadata": {
    "cell_id": "00024-c021d35d-6f23-4437-90dc-d6c572889a34",
    "deepnote_to_be_reexecuted": false,
    "source_hash": "5c47a9ec",
    "execution_start": 1655234650696,
    "execution_millis": 44,
    "deepnote_cell_type": "code",
    "deepnote_cell_height": 334
   },
   "source": "#Put your answer to the above quesiton here\nA=np.matrix([[1,2,1], [1,3,-1], [1,4,-1]])\nb=np.matrix([[9], [4], [7]])\nsolution=cramersRule(A,b)\nprint(solution)\n\n\nx=np.linalg.solve(A,b)\nprint(x)\n",
   "execution_count": null,
   "outputs": [
    {
     "name": "stdout",
     "text": "[-0.9999999999999992, 3.0, 3.999999999999999]\n[[-1.]\n [ 3.]\n [ 4.]]\n",
     "output_type": "stream"
    }
   ]
  },
  {
   "cell_type": "markdown",
   "source": "## 4. Gram-Schmidt",
   "metadata": {
    "cell_id": "00025-aab190b3-1979-48fd-ae96-57abe7afd274",
    "deepnote_cell_type": "markdown",
    "deepnote_cell_height": 70
   }
  },
  {
   "cell_type": "markdown",
   "source": "In this section we will implement a function to create a random orthonormal set of n vectors. \nHere are some function that we developed in previous classes that may be helpful to create our function.",
   "metadata": {
    "cell_id": "00026-4f8568b5-c36e-4127-b48c-9538af1dd74f",
    "deepnote_cell_type": "markdown",
    "deepnote_cell_height": 74.796875
   }
  },
  {
   "cell_type": "code",
   "metadata": {
    "cell_id": "00027-5b2166db-954d-4817-acc1-ca6a03d11e0b",
    "deepnote_to_be_reexecuted": false,
    "source_hash": "938842c",
    "execution_start": 1655234650739,
    "execution_millis": 4,
    "owner_user_id": "1ad92508-5214-4899-9be6-2377c49dba3a",
    "deepnote_cell_type": "code",
    "deepnote_cell_height": 873
   },
   "source": "def vec_add(v1,v2):\n    v3 = []\n    for i in range(len(v1)):\n        v3.append(v1[i]+v2[i])\n    return v3\n\ndef vec_scale(x,u):\n    w = []\n    for i in range(len(u)):\n        w.append(u[i]*x)\n    return w\n\ndef dot_product(u,v):\n    if type(u) == int or type(u) == float:\n        print('cannot take the dot product with a scalar')\n    elif type(v) == int or type(v) == float:\n        print('cannot take the dot product with a scalar')\n    elif (len(u) != len(v)):\n        print('vector lengths do not match')\n    else:\n        z = 0\n        for i in range(len(u)):\n            z += u[i]*v[i]\n        return z \n    \ndef vec_norm(u):\n    x = dot_product(u,u)\n    x = np.sqrt(x)\n    return x\n\ndef one_vec(u):\n    x = 1/vec_norm(u)\n    w = vec_scale(x,u)\n    return w\n\ndef vec_proj(u,v): #u onto v\n    z = dot_product(u,v)/dot_product(v,v)\n    pv = []\n    for i in range(len(u)):\n        pv.append(z*v[i])\n    return pv\n\ndef ortho_vec(u,v):\n    v1 = vec_add(v,vec_scale(-1,vec_proj(v,u)))\n    return v1",
   "execution_count": null,
   "outputs": []
  },
  {
   "cell_type": "markdown",
   "source": "Suppose we are give a linearly independent set $\\{\\mathbf{v}_1, \\dots , \\mathbf{v}_n\\}$.   \nThe Gram-Schmidt process works as follows:\n$$ \\mathbf{u}_1 = \\mathbf{v}_1 $$\n$$ \\mathbf{u}_2 = \\mathbf{v}_2 - \\text{proj}_{\\mathbf{u}_1}(\\mathbf{v}_2)$$\n$$ \\mathbf{u}_3 = \\mathbf{v}_3 - \\text{proj}_{\\mathbf{u}_1}(\\mathbf{v}_3) - \\text{proj}_{\\mathbf{u}_2}(\\mathbf{v}_3)    $$\n$$\\vdots$$\n$$ \\mathbf{u}_k = \\mathbf{v}_k - \\sum_{j = 1}^{k-1}\\text{proj}_{\\mathbf{u}_j}(\\mathbf{v}_k)$$   \nThis will produce an orthogonal set of vectors $\\{\\mathbf{u}_1, \\dots, \\mathbf{u}_n\\}$.",
   "metadata": {
    "cell_id": "00028-0577fc26-0993-4a31-88d4-12575d074013",
    "deepnote_cell_type": "markdown",
    "deepnote_cell_height": 121.421875
   }
  },
  {
   "cell_type": "markdown",
   "source": "&#9989; **<font color=red>Do this:</font>** Write a function called `G_S` that takes as an input a list of lists **or** a numpy array of linearly indepedent vectors and returns a list of lists of orthogonal vectors.",
   "metadata": {
    "cell_id": "00029-c0949652-0227-4a53-943a-df01a7190611",
    "deepnote_cell_type": "markdown",
    "deepnote_cell_height": 74.796875
   }
  },
  {
   "cell_type": "code",
   "metadata": {
    "cell_id": "00030-c06b7efb-f9a9-422b-a1d1-747d1b7a0f9e",
    "deepnote_to_be_reexecuted": false,
    "source_hash": "272a3838",
    "execution_start": 1655235010543,
    "execution_millis": 0,
    "deepnote_cell_type": "code",
    "deepnote_cell_height": 279
   },
   "source": "def G_S(V):\n    n = len(V)\n    U = []\n    if (n > 0):\n        U.append(V[0])\n    for i in range(1, n):\n        uk = V[i]\n        for j in range(i):\n            # subtract each V_i projection onto U_j from U_k\n            uk = list(np.array(uk) - np.array(vec_proj(V[i], U[j])))                \n        U.append(uk)\n    return U",
   "execution_count": null,
   "outputs": []
  },
  {
   "cell_type": "markdown",
   "source": "&#9989; **<font color=red>Do this:</font>** Use the code from section 2 to create a function `rand_matrix` that generates a $n \\times n$ matrix.",
   "metadata": {
    "cell_id": "00031-e402555b-88e3-4cdd-8f9f-9e015ec2ccb1",
    "deepnote_cell_type": "markdown",
    "deepnote_cell_height": 52.71875
   }
  },
  {
   "cell_type": "code",
   "metadata": {
    "cell_id": "00032-15fffc3c-f4cb-44b1-aefd-d9bb286bf3f3",
    "deepnote_to_be_reexecuted": false,
    "source_hash": "92f7fb67",
    "execution_start": 1655234650764,
    "execution_millis": 14,
    "deepnote_cell_type": "code",
    "deepnote_cell_height": 153
   },
   "source": "def rand_matrix(n,s):\n    A = [[round(random.random()*s) for i in range(n)] for j in range(n)]\n    A = np.matrix(A)\n\n    return A",
   "execution_count": null,
   "outputs": []
  },
  {
   "cell_type": "markdown",
   "source": "&#9989; **<font color=red>Do this:</font>** Create a function `lin_ind` that generates a random list of n linearly independent vectors. Hint, an invertable matrix has . . .",
   "metadata": {
    "cell_id": "00033-bb1cb22f-9b40-4751-ba5a-eb57129f3fc2",
    "deepnote_cell_type": "markdown",
    "deepnote_cell_height": 74.796875
   }
  },
  {
   "cell_type": "code",
   "metadata": {
    "cell_id": "be24aa56ef99491196a505ff2f728629",
    "tags": [],
    "deepnote_to_be_reexecuted": false,
    "source_hash": "d367e356",
    "execution_start": 1655234650784,
    "execution_millis": 21,
    "owner_user_id": "a464456a-c3c6-450f-a8c1-17fcb565d65e",
    "deepnote_cell_type": "code",
    "deepnote_cell_height": 171
   },
   "source": "def lin_ind(n):\n    A = rand_matrix(n,10)\n    done = False\n    while not done:\n        if int(np.linalg.det(A)) != 0: \n            return A",
   "execution_count": null,
   "outputs": []
  },
  {
   "cell_type": "code",
   "metadata": {
    "cell_id": "00034-4ccde077-26ec-4c09-a377-9a980b72d965",
    "deepnote_to_be_reexecuted": false,
    "source_hash": "e051bdff",
    "execution_start": 1655234650813,
    "execution_millis": 9,
    "owner_user_id": "1e619e60-c5fd-4818-8055-ed2448616607",
    "deepnote_cell_type": "code",
    "deepnote_cell_height": 243
   },
   "source": "#def lin_ind(n):\n   # A = rand_matrix(n, 10)\n   # while n <= 0:\n     #   try:\n         #   Ainv = np.linalg.inv(A)\n       # except:\n        #    n -= 1\n        #    continue\n       # n -= 1\n   # return A",
   "execution_count": null,
   "outputs": []
  },
  {
   "cell_type": "markdown",
   "source": "&#9989; **<font color=red>Do this:</font>** Create a list of 4 random linearly independent vectors and apply your function `G_S` to the list",
   "metadata": {
    "cell_id": "00035-8cc2eeef-48d4-46ae-896b-3792a8193cd0",
    "deepnote_cell_type": "markdown",
    "deepnote_cell_height": 52.390625
   }
  },
  {
   "cell_type": "code",
   "metadata": {
    "cell_id": "00036-b074063b-fcde-4db9-b717-c9221ec008c9",
    "deepnote_to_be_reexecuted": false,
    "source_hash": "a8bf30de",
    "execution_start": 1655234929539,
    "execution_millis": 113,
    "owner_user_id": "9a33963a-103d-4e24-ab8f-aa9f5856df44",
    "deepnote_cell_type": "code",
    "deepnote_cell_height": 309,
    "deepnote_output_heights": [
     194
    ]
   },
   "source": "x = G_S(np.array(lin_ind(4)))\nx",
   "execution_count": null,
   "outputs": [
    {
     "output_type": "execute_result",
     "execution_count": 28,
     "data": {
      "text/plain": "[array([4, 1, 4, 0]),\n [-1.6969696969696972, 5.575757575757576, 0.30303030303030276, 7.0],\n [4.70375775264502,\n  -3.026632615833637,\n  -3.9470995986866106,\n  3.7219992703392926],\n [-0.24053355765186535,\n  -0.4706843718079672,\n  0.35820465060385775,\n  0.30109956137715577]]"
     },
     "metadata": {}
    }
   ]
  },
  {
   "cell_type": "markdown",
   "source": "&#9989; **<font color=red>Do this:</font>** Use the following code to test your functions.",
   "metadata": {
    "cell_id": "00037-9cd6a828-a09d-436c-88f5-8155280a5c3f",
    "deepnote_cell_type": "markdown",
    "deepnote_cell_height": 52.390625
   }
  },
  {
   "cell_type": "code",
   "metadata": {
    "cell_id": "00038-d590a5ba-11b5-4ff2-a765-41c9e4a27942",
    "deepnote_to_be_reexecuted": false,
    "source_hash": "6e1a00fb",
    "execution_start": 1655234942973,
    "execution_millis": 10,
    "deepnote_cell_type": "code",
    "deepnote_cell_height": 171
   },
   "source": "def test_orth(A):\n    for i in range(len(A)):\n        for j in range(len(A)):\n            if j != i:\n                w = round(dot_product(A[i],A[j]),5)\n                print('the dot product of vector',i+1,'with vector',j+1,'is',w)",
   "execution_count": null,
   "outputs": []
  },
  {
   "cell_type": "code",
   "metadata": {
    "cell_id": "eeccbec1082f426a940089fb0a34c341",
    "tags": [],
    "deepnote_to_be_reexecuted": false,
    "source_hash": "8c8ae05c",
    "execution_start": 1655234948418,
    "execution_millis": 20,
    "deepnote_cell_type": "code",
    "deepnote_cell_height": 332
   },
   "source": "test_orth(x)",
   "execution_count": null,
   "outputs": [
    {
     "name": "stdout",
     "text": "the dot product of vector 1 with vector 2 is -0.0\nthe dot product of vector 1 with vector 3 is -0.0\nthe dot product of vector 1 with vector 4 is 0.0\nthe dot product of vector 2 with vector 1 is -0.0\nthe dot product of vector 2 with vector 3 is 0.0\nthe dot product of vector 2 with vector 4 is 0.0\nthe dot product of vector 3 with vector 1 is -0.0\nthe dot product of vector 3 with vector 2 is 0.0\nthe dot product of vector 3 with vector 4 is 0.0\nthe dot product of vector 4 with vector 1 is 0.0\nthe dot product of vector 4 with vector 2 is 0.0\nthe dot product of vector 4 with vector 3 is 0.0\n",
     "output_type": "stream"
    }
   ]
  },
  {
   "cell_type": "markdown",
   "source": "&#9989; **<font color=red>Do this:</font>** Using `G_S` write a function that returns a random **orthonormal** set of n vectors.",
   "metadata": {
    "cell_id": "00040-11b7fbe9-143e-49cf-9f9d-95048b1d6df2",
    "deepnote_cell_type": "markdown",
    "deepnote_cell_height": 52.390625
   }
  },
  {
   "cell_type": "code",
   "metadata": {
    "cell_id": "00041-bc8bc105-8b8e-4d82-a616-0e4957f23025",
    "deepnote_to_be_reexecuted": false,
    "source_hash": "683abb63",
    "execution_start": 1655234708891,
    "execution_millis": 7,
    "deepnote_cell_type": "code",
    "deepnote_cell_height": 117
   },
   "source": "def orth_norm(n):\n    A = lin_ind(n)\n    return G_S(np.array(A))",
   "execution_count": null,
   "outputs": []
  },
  {
   "cell_type": "markdown",
   "source": "&#9989; **<font color=red>Do this:</font>** Test your function with the code below.",
   "metadata": {
    "cell_id": "00042-394b5c9e-18db-4d6d-8fcb-713472a25c0c",
    "deepnote_cell_type": "markdown",
    "deepnote_cell_height": 52.390625
   }
  },
  {
   "cell_type": "code",
   "metadata": {
    "cell_id": "00043-3aa103ab-5a09-4f50-968b-bc761047f992",
    "deepnote_to_be_reexecuted": false,
    "source_hash": "fc151cc3",
    "execution_start": 1655234650888,
    "execution_millis": 4,
    "deepnote_cell_type": "code",
    "deepnote_cell_height": 135
   },
   "source": "def test_orth_norm(A):\n    for i in range(len(A)):\n        x = round(vec_norm(A[i]),5)\n        print('The norm of vector',i+1, 'is',x)",
   "execution_count": null,
   "outputs": []
  },
  {
   "cell_type": "code",
   "metadata": {
    "cell_id": "00044-0a309a73-a798-4501-9100-1170961be3f0",
    "deepnote_to_be_reexecuted": false,
    "source_hash": "ca5c02a",
    "execution_start": 1655234824825,
    "execution_millis": 8,
    "deepnote_cell_type": "code",
    "deepnote_cell_height": 152
   },
   "source": "test_orth_norm(orth_norm(3))",
   "execution_count": null,
   "outputs": [
    {
     "name": "stdout",
     "text": "The norm of vector 1 is 8.06226\nThe norm of vector 2 is 5.30457\nThe norm of vector 3 is 7.45906\n",
     "output_type": "stream"
    }
   ]
  },
  {
   "cell_type": "markdown",
   "source": "Once you reach this point let Matt know and review your existing code untill we show the video.",
   "metadata": {
    "cell_id": "00045-b41499ee-326c-47e7-89c4-ec60cf82cc29",
    "deepnote_cell_type": "markdown",
    "deepnote_cell_height": 52.390625
   }
  },
  {
   "cell_type": "markdown",
   "source": "----\n\nWritten by Dr. Dirk Colbry, Michigan State University\n<a rel=\"license\" href=\"http://creativecommons.org/licenses/by-nc/4.0/\"><img alt=\"Creative Commons License\" style=\"border-width:0\" src=\"https://i.creativecommons.org/l/by-nc/4.0/88x31.png\" /></a><br />This work is licensed under a <a rel=\"license\" href=\"http://creativecommons.org/licenses/by-nc/4.0/\">Creative Commons Attribution-NonCommercial 4.0 International License</a>.",
   "metadata": {
    "cell_id": "00046-4dd2234d-56a1-4ca3-b7cd-69e3229e4cbd",
    "deepnote_cell_type": "markdown",
    "deepnote_cell_height": 169.1875
   }
  },
  {
   "cell_type": "markdown",
   "source": "<a style='text-decoration:none;line-height:16px;display:flex;color:#5B5B62;padding:10px;justify-content:end;' href='https://deepnote.com?utm_source=created-in-deepnote-cell&projectId=eddc04b2-32a0-43fc-87cf-17e6670be569' target=\"_blank\">\n<img alt='Created in deepnote.com' style='display:inline;max-height:16px;margin:0px;margin-right:7.5px;' src='data:image/svg+xml;base64,PD94bWwgdmVyc2lvbj0iMS4wIiBlbmNvZGluZz0iVVRGLTgiPz4KPHN2ZyB3aWR0aD0iODBweCIgaGVpZ2h0PSI4MHB4IiB2aWV3Qm94PSIwIDAgODAgODAiIHZlcnNpb249IjEuMSIgeG1sbnM9Imh0dHA6Ly93d3cudzMub3JnLzIwMDAvc3ZnIiB4bWxuczp4bGluaz0iaHR0cDovL3d3dy53My5vcmcvMTk5OS94bGluayI+CiAgICA8IS0tIEdlbmVyYXRvcjogU2tldGNoIDU0LjEgKDc2NDkwKSAtIGh0dHBzOi8vc2tldGNoYXBwLmNvbSAtLT4KICAgIDx0aXRsZT5Hcm91cCAzPC90aXRsZT4KICAgIDxkZXNjPkNyZWF0ZWQgd2l0aCBTa2V0Y2guPC9kZXNjPgogICAgPGcgaWQ9IkxhbmRpbmciIHN0cm9rZT0ibm9uZSIgc3Ryb2tlLXdpZHRoPSIxIiBmaWxsPSJub25lIiBmaWxsLXJ1bGU9ImV2ZW5vZGQiPgogICAgICAgIDxnIGlkPSJBcnRib2FyZCIgdHJhbnNmb3JtPSJ0cmFuc2xhdGUoLTEyMzUuMDAwMDAwLCAtNzkuMDAwMDAwKSI+CiAgICAgICAgICAgIDxnIGlkPSJHcm91cC0zIiB0cmFuc2Zvcm09InRyYW5zbGF0ZSgxMjM1LjAwMDAwMCwgNzkuMDAwMDAwKSI+CiAgICAgICAgICAgICAgICA8cG9seWdvbiBpZD0iUGF0aC0yMCIgZmlsbD0iIzAyNjVCNCIgcG9pbnRzPSIyLjM3NjIzNzYyIDgwIDM4LjA0NzY2NjcgODAgNTcuODIxNzgyMiA3My44MDU3NTkyIDU3LjgyMTc4MjIgMzIuNzU5MjczOSAzOS4xNDAyMjc4IDMxLjY4MzE2ODMiPjwvcG9seWdvbj4KICAgICAgICAgICAgICAgIDxwYXRoIGQ9Ik0zNS4wMDc3MTgsODAgQzQyLjkwNjIwMDcsNzYuNDU0OTM1OCA0Ny41NjQ5MTY3LDcxLjU0MjI2NzEgNDguOTgzODY2LDY1LjI2MTk5MzkgQzUxLjExMjI4OTksNTUuODQxNTg0MiA0MS42NzcxNzk1LDQ5LjIxMjIyODQgMjUuNjIzOTg0Niw0OS4yMTIyMjg0IEMyNS40ODQ5Mjg5LDQ5LjEyNjg0NDggMjkuODI2MTI5Niw0My4yODM4MjQ4IDM4LjY0NzU4NjksMzEuNjgzMTY4MyBMNzIuODcxMjg3MSwzMi41NTQ0MjUgTDY1LjI4MDk3Myw2Ny42NzYzNDIxIEw1MS4xMTIyODk5LDc3LjM3NjE0NCBMMzUuMDA3NzE4LDgwIFoiIGlkPSJQYXRoLTIyIiBmaWxsPSIjMDAyODY4Ij48L3BhdGg+CiAgICAgICAgICAgICAgICA8cGF0aCBkPSJNMCwzNy43MzA0NDA1IEwyNy4xMTQ1MzcsMC4yNTcxMTE0MzYgQzYyLjM3MTUxMjMsLTEuOTkwNzE3MDEgODAsMTAuNTAwMzkyNyA4MCwzNy43MzA0NDA1IEM4MCw2NC45NjA0ODgyIDY0Ljc3NjUwMzgsNzkuMDUwMzQxNCAzNC4zMjk1MTEzLDgwIEM0Ny4wNTUzNDg5LDc3LjU2NzA4MDggNTMuNDE4MjY3Nyw3MC4zMTM2MTAzIDUzLjQxODI2NzcsNTguMjM5NTg4NSBDNTMuNDE4MjY3Nyw0MC4xMjg1NTU3IDM2LjMwMzk1NDQsMzcuNzMwNDQwNSAyNS4yMjc0MTcsMzcuNzMwNDQwNSBDMTcuODQzMDU4NiwzNy43MzA0NDA1IDkuNDMzOTE5NjYsMzcuNzMwNDQwNSAwLDM3LjczMDQ0MDUgWiIgaWQ9IlBhdGgtMTkiIGZpbGw9IiMzNzkzRUYiPjwvcGF0aD4KICAgICAgICAgICAgPC9nPgogICAgICAgIDwvZz4KICAgIDwvZz4KPC9zdmc+' > </img>\nCreated in <span style='font-weight:600;margin-left:4px;'>Deepnote</span></a>",
   "metadata": {
    "tags": [],
    "created_in_deepnote_cell": true,
    "deepnote_cell_type": "markdown"
   }
  }
 ],
 "nbformat": 4,
 "nbformat_minor": 4,
 "metadata": {
  "kernelspec": {
   "display_name": "Python 3",
   "language": "python",
   "name": "python3"
  },
  "language_info": {
   "codemirror_mode": {
    "name": "ipython",
    "version": 3
   },
   "file_extension": ".py",
   "mimetype": "text/x-python",
   "name": "python",
   "nbconvert_exporter": "python",
   "pygments_lexer": "ipython3",
   "version": "3.8.8"
  },
  "deepnote_notebook_id": "b1ac7141-2595-4f8e-a6cd-fbe621f75657",
  "deepnote": {},
  "deepnote_execution_queue": []
 }
}