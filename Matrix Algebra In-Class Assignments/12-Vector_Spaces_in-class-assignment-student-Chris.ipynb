{
 "cells": [
  {
   "cell_type": "markdown",
   "source": "### Put the names of all group members present today below:",
   "metadata": {
    "formattedRanges": [],
    "cell_id": "6d6d9b11dfea4fa7995ac3b8af9d16ad",
    "tags": [],
    "is_collapsed": false,
    "deepnote_cell_type": "text-cell-h3"
   }
  },
  {
   "cell_type": "markdown",
   "source": "David Robbins, Jacob Miller, Christian Lulaj, Kaitlyn Watson",
   "metadata": {
    "cell_id": "91592aeef85f41d5b60348fa3ac37598",
    "tags": [],
    "deepnote_cell_type": "markdown",
    "deepnote_cell_height": 52.390625
   }
  },
  {
   "cell_type": "markdown",
   "source": "# 12 In-Class Assignment: Vector Spaces\n\n<img src=\"https://upload.wikimedia.org/wikipedia/commons/thumb/5/59/3d_basis_transformation.svg/580px-3d_basis_transformation.svg.png\" width=\"50%\">\n\nImage from: [https://en.wikipedia.org/wiki/Change_of_basis](https://en.wikipedia.org/wiki/Change_of_basis)\n\n\n\n    ",
   "metadata": {
    "cell_id": "a2e1b153-2ff8-4fc9-844c-2f443179f7e8",
    "deepnote_cell_type": "markdown",
    "deepnote_cell_height": 438.890625
   }
  },
  {
   "cell_type": "markdown",
   "source": "### Objectives\n1. Be able to state key definitions like span, basis, and linear dependence/independence.\n1. Determine if a set of vectors\n - Spans a given space\n - Is linearly independent\n - Is a basis for a given space\n1. Understand the axioms for vector spaces (you do not need to memorize them though), determine if a given axiom is satisfied.\n1. Familiarize yourself with interesting types of vector spaces (matrices, functions, $\\mathbb C^n$). \n1.  Remember that the following statements are equivalent \n - The column vectors of $A$ form a basis for $\\mathbb R^n$\n - $|A| \\ne 0$\n - $A$ is invertible.\n - $A$ is row equivalent to $I_n$ (i.e. its reduced row echelon form is $I_n$)\n - The system of equations $Ax = b$ has a unique solution.\n - $rank(A) = n$\n1. Be able to determine if a set of vectors is a subspace of a given vector space.",
   "metadata": {
    "cell_id": "00001-6a05b109-1bdf-4860-b8ba-6462bcc935d7",
    "deepnote_cell_type": "markdown",
    "deepnote_cell_height": 558.640625
   }
  },
  {
   "cell_type": "markdown",
   "source": "### Agenda for today's class (80 minutes)\n\n1. (20 minutes) [Review Pre-Class Assignment](#Review)\n2. (20 minutes) [Introduction to subspaces](#Introduction-to-subspaces)\n3. (20 minutes) [Basis Vectors](#Basis-Vectors)\n4. (20 minutes) [Vector Spaces](#Vector-Spaces)\n\n",
   "metadata": {
    "cell_id": "00002-30bcb992-4843-4c32-968e-3af59264f407",
    "deepnote_cell_type": "markdown",
    "deepnote_cell_height": 190.5625
   }
  },
  {
   "cell_type": "markdown",
   "source": "----\n\n<a name=\"Review\"></a>\n\n## 1. Review Pre-class Assignment\n\n",
   "metadata": {
    "cell_id": "00003-d16f525f-3844-47ed-ac0f-21c1e1b69ee0",
    "deepnote_cell_type": "markdown",
    "deepnote_cell_height": 85
   }
  },
  {
   "cell_type": "markdown",
   "source": "\n---\n<a name=Introduction-to-subspaces></a>\n## 2. Introduction to subspaces\n\n",
   "metadata": {
    "cell_id": "00004-69a25ab3-838b-4db4-bf67-068b574f891b",
    "deepnote_cell_type": "markdown",
    "deepnote_cell_height": 85
   }
  },
  {
   "cell_type": "markdown",
   "source": "\n\n---\n<a name=Basis-Vectors></a>\n## 3. Basis Vectors\n\n",
   "metadata": {
    "cell_id": "00005-3930fd8a-5f4f-47fe-b554-d92993fff450",
    "deepnote_cell_type": "markdown",
    "deepnote_cell_height": 85
   }
  },
  {
   "cell_type": "markdown",
   "source": "Consider the following example. We claim that the following set of vectors form a basis for $\\mathbb R^3$:\n\n$$B = \\{(2,1, 3), (-1,6, 0), (3, 4, -10) \\}$$",
   "metadata": {
    "cell_id": "00006-dc225f3c-d16e-4a05-be59-f637f8d7130c",
    "deepnote_cell_type": "markdown",
    "deepnote_cell_height": 111.171875
   }
  },
  {
   "cell_type": "markdown",
   "source": "If these vectors form a basis they must be _**linearly independent**_ and _**Span**_ the entire space of $\\mathbb R^3$",
   "metadata": {
    "cell_id": "00007-67e7bcfd-3870-47c4-8aec-1402c456d403",
    "deepnote_cell_type": "markdown",
    "deepnote_cell_height": 74.78125
   }
  },
  {
   "cell_type": "code",
   "metadata": {
    "cell_id": "00008-8310fc19-2d3e-4be4-add6-72a271b3bf08",
    "deepnote_to_be_reexecuted": false,
    "source_hash": "55c787c0",
    "execution_start": 1656008754353,
    "execution_millis": 3156,
    "deepnote_cell_type": "code",
    "deepnote_cell_height": 153
   },
   "source": "%matplotlib inline\nimport matplotlib.pylab as plt\nimport numpy as np\nimport sympy as sym\nsym.init_printing(use_unicode=True)",
   "execution_count": null,
   "outputs": []
  },
  {
   "cell_type": "markdown",
   "source": "&#9989; **<font color=red>DO THIS:</font>** Create a $3 \\times 3$ numpy matrix $A$ where the columns of $A$ form the basis vectors. ",
   "metadata": {
    "cell_id": "00009-b3c6c48d-6e9b-4e59-8d85-3a413a4b4df9",
    "deepnote_cell_type": "markdown",
    "deepnote_cell_height": 74.78125
   }
  },
  {
   "cell_type": "code",
   "metadata": {
    "cell_id": "00010-6237e75a-65c3-4958-a2c2-3219509a1de1",
    "deepnote_to_be_reexecuted": false,
    "source_hash": "e460dd4e",
    "execution_start": 1656008919995,
    "execution_millis": 2,
    "deepnote_cell_type": "code",
    "deepnote_cell_height": 246.5625,
    "deepnote_output_heights": [
     59.5625
    ]
   },
   "source": "#Put your answer to the above question here\n\nA=np.matrix([[2,-1,3], [1,6,4], [3,0,-10]])\n\nA\n",
   "execution_count": null,
   "outputs": [
    {
     "output_type": "execute_result",
     "execution_count": 16,
     "data": {
      "text/plain": "matrix([[  2,  -1,   3],\n        [  1,   6,   4],\n        [  3,   0, -10]])"
     },
     "metadata": {}
    }
   ]
  },
  {
   "cell_type": "code",
   "metadata": {
    "cell_id": "00011-cd42017e-f762-4e03-bba8-01bc6c40852d",
    "deepnote_to_be_reexecuted": false,
    "source_hash": "1351d411",
    "execution_start": 1656008919996,
    "execution_millis": 2,
    "deepnote_cell_type": "code",
    "deepnote_cell_height": 390.4375
   },
   "source": "from answercheck import checkanswer\n\ncheckanswer.matrix(A,'68b81f1c1041158b519936cb1a2e4d6b');",
   "execution_count": null,
   "outputs": [
    {
     "name": "stdout",
     "text": "\nCheckWarning: passed matrix is int64 and not <class 'numpy.float64'>...\n    Trying to convert to float using ```A = A.astype(float)```.\n\n\nCheckWarning: Matrix contains negative values for zero...\n    Converting to positive values of zero using  ```A[A==-0] = 0```.\n\nTesting [[  2.  -1.   3.]\n [  1.   6.   4.]\n [  3.   0. -10.]]\nAnswer seems to be correct\n\n",
     "output_type": "stream"
    }
   ]
  },
  {
   "cell_type": "markdown",
   "source": "&#9989; **<font color=red>DO THIS:</font>** Using python, calculate the determinant of matrix $A$.",
   "metadata": {
    "cell_id": "00012-ab5fa17d-c442-4a95-8a3b-c5d41a7ebb9f",
    "deepnote_cell_type": "markdown",
    "deepnote_cell_height": 52.390625
   }
  },
  {
   "cell_type": "code",
   "metadata": {
    "cell_id": "00013-6d41c90c-5908-4098-80e4-2f29f4227484",
    "deepnote_to_be_reexecuted": false,
    "source_hash": "1391b7fa",
    "execution_start": 1656008939484,
    "execution_millis": 6,
    "deepnote_cell_type": "code",
    "deepnote_cell_height": 153,
    "deepnote_output_heights": [
     20
    ]
   },
   "source": "# Put your answer to the above question here. \ndetA = np.linalg.det(A)\nprint(detA)",
   "execution_count": null,
   "outputs": [
    {
     "name": "stdout",
     "text": "-196.00000000000009\n",
     "output_type": "stream"
    }
   ]
  },
  {
   "cell_type": "markdown",
   "source": "&#9989; **<font color=red>DO THIS:</font>** Using python, calculate the inverse of $A$.",
   "metadata": {
    "cell_id": "00014-60d6795e-9c38-40e0-aa6a-7e8844f9d7a7",
    "deepnote_cell_type": "markdown",
    "deepnote_cell_height": 52.390625
   }
  },
  {
   "cell_type": "code",
   "metadata": {
    "cell_id": "00015-10cd68c0-0110-406d-a341-99fdc9dcc6d8",
    "deepnote_to_be_reexecuted": false,
    "source_hash": "75760a2c",
    "execution_start": 1656008953274,
    "execution_millis": 13,
    "deepnote_cell_type": "code",
    "deepnote_cell_height": 210.5625,
    "deepnote_output_heights": [
     59.5625
    ]
   },
   "source": "# Put your answer to the above question here.\n\nA_inv=np.linalg.inv(A)\nprint(A_inv)",
   "execution_count": null,
   "outputs": [
    {
     "name": "stdout",
     "text": "[[ 0.30612245  0.05102041  0.1122449 ]\n [-0.1122449   0.14795918  0.0255102 ]\n [ 0.09183673  0.01530612 -0.06632653]]\n",
     "output_type": "stream"
    }
   ]
  },
  {
   "cell_type": "markdown",
   "source": "&#9989; **<font color=red>DO THIS:</font>** Using python, calculate the rank of $A$.",
   "metadata": {
    "cell_id": "00016-2eb3b1c0-b2b5-4831-b757-01ab7f1cc3b7",
    "deepnote_cell_type": "markdown",
    "deepnote_cell_height": 52.390625
   }
  },
  {
   "cell_type": "code",
   "metadata": {
    "cell_id": "00017-f8ed7fca-4f10-4816-9381-c76eee8e77f0",
    "deepnote_to_be_reexecuted": false,
    "source_hash": "46796f14",
    "execution_start": 1656008963258,
    "execution_millis": 4,
    "deepnote_cell_type": "code",
    "deepnote_cell_height": 154.1875,
    "deepnote_output_heights": [
     21.1875
    ]
   },
   "source": "# Put your answer to the above question here.\nrankA = np.linalg.matrix_rank(A)\nprint(rankA)",
   "execution_count": null,
   "outputs": [
    {
     "name": "stdout",
     "text": "3\n",
     "output_type": "stream"
    }
   ]
  },
  {
   "cell_type": "markdown",
   "source": "&#9989; **<font color=red>DO THIS:</font>** Using python, calculate the reduced row echelon form of $A$.",
   "metadata": {
    "cell_id": "00018-3cfa235e-6044-42ee-b399-31c52f2fbd06",
    "deepnote_cell_type": "markdown",
    "deepnote_cell_height": 52.390625
   }
  },
  {
   "cell_type": "code",
   "metadata": {
    "cell_id": "00019-6a5c7ee6-39cc-4564-808e-4046c3a8f1d5",
    "deepnote_to_be_reexecuted": false,
    "source_hash": "70dbc0c9",
    "execution_start": 1656008989835,
    "execution_millis": 120,
    "deepnote_cell_type": "code",
    "deepnote_cell_height": 230.9375,
    "deepnote_output_heights": [
     97.9375
    ]
   },
   "source": "# Put your answer to the above question here. \nrref = sym.Matrix(A).rref()[0]\nrref",
   "execution_count": null,
   "outputs": [
    {
     "output_type": "execute_result",
     "execution_count": 26,
     "data": {
      "text/plain": "⎡1  0  0⎤\n⎢       ⎥\n⎢0  1  0⎥\n⎢       ⎥\n⎣0  0  1⎦",
      "text/latex": "$\\displaystyle \\left[\\begin{matrix}1 & 0 & 0\\\\0 & 1 & 0\\\\0 & 0 & 1\\end{matrix}\\right]$"
     },
     "metadata": {}
    }
   ]
  },
  {
   "cell_type": "markdown",
   "source": "&#9989; **<font color=red>DO THIS:</font>** Using the above $A$ and the vector $b=(1,3,2)$.  What is the solution to $Ax=b$?  ",
   "metadata": {
    "cell_id": "00020-bb811d86-6706-499b-adb0-474357ca7e61",
    "deepnote_cell_type": "markdown",
    "deepnote_cell_height": 74.78125
   }
  },
  {
   "cell_type": "code",
   "metadata": {
    "cell_id": "00021-ecc15623-5867-44e6-bf83-b15db21dcfc6",
    "deepnote_to_be_reexecuted": false,
    "source_hash": "50d26594",
    "execution_start": 1656009070919,
    "execution_millis": 8,
    "deepnote_cell_type": "code",
    "deepnote_cell_height": 153
   },
   "source": "#Put your answer to the above question here.\nb=np.matrix([[1],[3],[2]])\n\nx=A_inv*b\nprint(x)",
   "execution_count": null,
   "outputs": [
    {
     "name": "stdout",
     "text": "[[0.68367347]\n [0.38265306]\n [0.00510204]]\n",
     "output_type": "stream"
    }
   ]
  },
  {
   "cell_type": "code",
   "metadata": {
    "cell_id": "00022-a6c63e56-4dba-45d0-8a18-3541b59904ef",
    "deepnote_to_be_reexecuted": false,
    "source_hash": "355b511b",
    "execution_start": 1656009071330,
    "execution_millis": 4,
    "deepnote_cell_type": "code",
    "deepnote_cell_height": 228.9375
   },
   "source": "from answercheck import checkanswer\n\ncheckanswer.matrix(x,'8b0938260dfeaafc9f8e9fec0bc72f17');",
   "execution_count": null,
   "outputs": [
    {
     "name": "stdout",
     "text": "Testing [[0.68367]\n [0.38265]\n [0.0051 ]]\nAnswer seems to be correct\n\n",
     "output_type": "stream"
    }
   ]
  },
  {
   "cell_type": "markdown",
   "source": "Turns out a matrix where column vectors are formed from basis vectors has a lot of interesting properties and the following statements are equivalent, meaning that if one of these bullet points is satisfied then the rest are as well and if one is not true, then the rest are not true as well.\n\n- The column vectors of $A$ form a basis for $\\mathbb R^n$\n- $|A| \\ne 0$\n- $A$ is invertible.\n- $A$ is row equivalent to $I_n$ (i.e. its reduced row echelon form is $I_n$)\n- The system of equations $Ax = b$ has a unique solution.\n- $rank(A) = n$\n",
   "metadata": {
    "cell_id": "00023-eca15eb8-4307-4c53-9401-59f27a74ffd8",
    "deepnote_cell_type": "markdown",
    "deepnote_cell_height": 296.90625
   }
  },
  {
   "cell_type": "markdown",
   "source": "\n\n---\n<a name=Vector-Spaces></a>\n## 4. Vector Spaces\n\nA **Vector Space** is a set $V$ of elements called **vectors**, having operations of addition and scalar multiplication defined on it that satisfy the following conditions ($u$, $v$, and $w$ are arbitrary elements of $V$, and c and d are scalars.)\n\n### Closure Axioms\n\n1. The sum $u + v$ exists and is an element of $V$. ($V$ is closed under addition.)\n2. $cu$ is an element of $V$. ($V$ is closed under scalar multiplication.)\n\n### Addition Axioms\n\n3. $u + v = v + u$ (commutative property)\n4. $u + (v + w) = (u + v) + w$ (associative property)\n5. There exists an element of $V$, called a **zero vector**, denoted $0$, such that $u+0 = u$\n6. For every element $u$ of $V$, there exists an element called a **negative** of $u$, denoted $-u$, such that $u + (-u) = 0$.\n\n### Scalar Multiplication Axioms\n\n7. $c(u+v) = cu + cv$\n8. $(c + d)u = cu + du$\n9.  $c(du) = (cd)u$\n10. $1u = u$\n\n### Definition of a basis of a vector space\n\n> A finite set of vectors ${v_1,\\dots, v_n}$ is called a **basis** of a *vector space* $V$ if the set *spans* $V$ and is *linearly independent*. \n>i.e. each vector in $V$ can be expressed uniquely as a *linear combination* of the vectors in a basis.\n\n",
   "metadata": {
    "cell_id": "00024-cbc2200d-ae64-4203-b24a-cdeea6376446",
    "deepnote_cell_type": "markdown",
    "deepnote_cell_height": 782.640625
   }
  },
  {
   "cell_type": "markdown",
   "source": "## Vector spaces\n\n&#9989; **<font color=red>DO THIS:</font>** Let $U$ be the set of all circles in $\\mathbb R^2$ having center at the origin. \nInterpret the origin as being in this set, i.e., it is a circle centered at the origin with radius zero. \nAssume $C_1$ and $C_2$ are elements of $U$. \nLet $C_1 + C_2$ be the circle centered at the origin, whose radius is the sum of the radii of $C_1$ and $C_2$. \nLet $kC_1$ be the circle centered at the origin, whose radius is $|k|$ times that of $C_1$. \nDetermine which vector space axioms hold and which do not. \n",
   "metadata": {
    "cell_id": "00025-17a53984-e5b7-4f2a-96f4-f228760f3fcc",
    "deepnote_cell_type": "markdown",
    "deepnote_cell_height": 220.34375
   }
  },
  {
   "cell_type": "markdown",
   "source": "CLOSURE:\n\n1.<br/>\nBy defintion of addition $C_{r_1} + C_{r_2} = C_{r_1+r_2}$ \n\n2.<br/>\nFor some $k \\in \\mathbb{R} $ and $C_{r_1} \\in \\mathbb{U} $, $k*C_{r_1} = C_{|k|*r_1}$, because $C_{r_1}$ is centered at the origin, $C_{|k|*r_1}$ is also centered at the origin and thus, $C_{|k|*r_1} \\in \\mathbb{U}$ by definition of scalar multiplication under $\\mathbb{U}$.\n\nADDITION:\n\n3.<br/>\nLet $C_{r_1}, C_{r_2} \\in \\mathbb{U}$ then, by definition $ C_{r_1} +  C_{r_2} =  C_{r_1 + r_2}$ <br/> $\\implies$ $ C_{r_1 + r_2} = C_{r_2 + r_1} $ <br />\n$\\implies$ $ C_{r_2} +  C_{r_1} $\n\n4.<br/>\nLet $C_{r_1}, C_{r_2}, C_{r_3} \\in \\mathbb{U}$ <br/>\n$C_{r_1} +(C_{r_2}+ C_{r_3})  = C_{r_1} +(C_{r_2 + r_3}) = C_{r_1 + (r_2 + r_3)}$<br/>\n$\\implies  C_{(r_1 + r_2) + r_3}$<br/>\n$\\implies (C_{r_1} + C_{r_2} )+C_{r_3}$ \n\n5.<br/>\nLet $k = 0$ then by definition $0*C_{r1} = C_{0 * r1} = C_{0}$<br/>\nFor any $C_{r}$, $C_{r} + C_{0} = C_{r + 0} = C_{r}$, thus there exists zero element in $\\mathbb{U}$.\n\n6.<br/>There is no elements with a negative radius, thus there is no additive inverse.\n\nMULTIPLICATION:\n\n7.<br/>\nFor some $k \\in \\mathbb{R}$ and $C_r,C_b \\in \\mathbb{U}$.<br/> Then $k*(C_r+C_b) = k*C_{r+b} = C_{|k|*(r+b)} = C_{|k|*r+|k|*b} = k*C_r+k*C_b$\n\n8.<br/>\nLet $k,c \\in \\mathbb{R}$ and $C_r \\in \\mathbb{U}$ then $(k + c) * C_r = C_{|k + c| * r} = C_{|k + c| * r}$<br/>\nUnder the case that k or c are exclusively negative, this axiom does not hold as we cannot break up the absolute value.\n\n9.<br/>\nLet $k,c \\in \\mathbb{R}$ and $C_r \\in \\mathbb{U}$ then $k*(c*C_r) = k*C_{|c|*r} = C_{|k|(|c|*r)} = C_{(|k||c|)*r} = (k*c)C_{r}$\n\n10.<br/>\nLet $1\\in \\mathbb{R}$ be the identity element, then for any $C_r \\in \\mathbb{U}$ $1*C_r = C_{1*r} = C_r$.\n",
   "metadata": {
    "cell_id": "00026-03bbec64-43cd-4a56-8cac-ec29c5e3c83b",
    "deepnote_cell_type": "markdown",
    "deepnote_cell_height": 981.671875
   }
  },
  {
   "cell_type": "markdown",
   "source": "### Spans:\n\n&#9989; **<font color=red>DO THIS:</font>** Let $v$, $v_1$, and $v_2$ be vectors in a vector space $V$. \nLet $v$ be a linear combination of $v_1$ and $v_2$. \nIf $c_1$ and $c_2$ are nonzero real numbers, show that $v$ is also a linear combination of $c_1v_1$ and $c_2v_2$.",
   "metadata": {
    "cell_id": "00027-59cfe310-ce3e-45ac-9edc-59cba8cc5a7e",
    "deepnote_cell_type": "markdown",
    "deepnote_cell_height": 145.171875
   }
  },
  {
   "cell_type": "markdown",
   "source": "$v = a * v_1 + b * v_2$ for some $a,b \\in \\mathbb{R}$.<br/>\n\nAlso, $v = k_1 *(c_1* v_1)  + k_2 *(c_2* v_2)$ for some $k_1,k_2, c_1, c_2 \\in \\mathbb{R}$ where $ c_1, c_2 $ \nnot equal to zero.<br/>\n\nThen, $a=k_1*c_1$ and $b=k_2*c_2$<br/>\nThus, $k_1 = \\frac{a}{c_1}$ and $k_2 = \\frac{b}{c_2}$",
   "metadata": {
    "cell_id": "00028-911773db-d09f-4c6e-a3ae-1151810571ca",
    "deepnote_cell_type": "markdown",
    "deepnote_cell_height": 171.09375
   }
  },
  {
   "cell_type": "markdown",
   "source": "&#9989; **<font color=red>DO THIS:</font>** Let $v_1$ and $v_2$ span a vector space $V$. \nLet $v_3$ be any other vector in $V$. \nShow that $v_1$, $v_2$, and $v_3$ also span $V$.",
   "metadata": {
    "cell_id": "00029-47a7d998-5e56-4a17-9e69-92b816207a62",
    "deepnote_cell_type": "markdown",
    "deepnote_cell_height": 74.78125
   }
  },
  {
   "cell_type": "markdown",
   "source": "Because $v_1,v_2$ span $V$, for any vector $v\\in V$ <br/>$v = c_1*v_1 +c_2*v_2$<br/>\nSo for a vector $v_3$, given any vector $u$ in $V$, $u = c_1*v_1 +c_2*v_2 + c_3 *v_3$.",
   "metadata": {
    "cell_id": "00030-5c3b8630-f64a-4f55-830c-866ecdef5096",
    "deepnote_cell_type": "markdown",
    "deepnote_cell_height": 97.171875
   }
  },
  {
   "cell_type": "markdown",
   "source": "### Linear Independent:\nConsider the following matrix, which is in the reduced row echelon form.\n\n\n$$ \n\\left[\n\\begin{matrix}\n    1   & 0 & 0 & 7  \\\\\n    0   & 1 & 0 & 4  \\\\\n    0   & 0 & 1 & 3\n\\end{matrix}\n\\right] \n$$\n\n&#9989; **<font color=red>DO THIS:</font>** Show that the row vectors form a linearly independent set:\n",
   "metadata": {
    "cell_id": "00031-3318fe2a-5549-4431-b5e2-42607afdab25",
    "deepnote_cell_type": "markdown",
    "deepnote_cell_height": 211.765625
   }
  },
  {
   "cell_type": "markdown",
   "source": "By definition, if a RREF matrix has all leading ones, it is therefore linearly independent. Therefore, the matrix and the vectors above must be linearly independent as there are no free variables and all leading ones.",
   "metadata": {
    "cell_id": "00032-862b79f6-29d1-4e80-a3ef-e9bad8c0fee6",
    "owner_user_id": "1ad92508-5214-4899-9be6-2377c49dba3a",
    "deepnote_cell_type": "markdown",
    "deepnote_cell_height": 97.171875
   }
  },
  {
   "cell_type": "markdown",
   "source": "&#9989; **<font color=red>DO THIS:</font>** Is the set of nonzero row vectors of any matrix in reduced row echelon form linearly independent? Discuss in your groups and include your thoughts below.",
   "metadata": {
    "cell_id": "00033-c64f63e8-4022-4d18-89d8-9cf0baea2912",
    "deepnote_cell_type": "markdown",
    "deepnote_cell_height": 74.78125
   }
  },
  {
   "cell_type": "markdown",
   "source": "Yes, because in order for a matrix to be in RREF then the leading 1 must be the only entry in the column. Therefore, no other combination of rows would be able to produce that row. Furthermore, is the zero vector is applied to one of these rows, it could cause a linear combination is there is a non-zero value in the column of a leading 1. ",
   "metadata": {
    "cell_id": "10c43f50f8e84f0e8f78e4649ae62c85",
    "tags": [],
    "deepnote_cell_type": "markdown",
    "deepnote_cell_height": 119.5625
   }
  },
  {
   "cell_type": "markdown",
   "source": "&#9989; **<font color=red>DO THIS:</font>** A computer program accepts a number of vectors in $\\mathbb R^3$ as input and checks to see if the vectors are linearly independent and outputs a True/False statment. \nDiscuss in your groups, which is more likely to happen due to round-off error--that the computer states that a given set of linearly independent vectors is linearly dependent, or vice versa? \nPut your thoughts below.",
   "metadata": {
    "cell_id": "00035-a65a38c6-1a48-43e3-8740-bc45a769d0d2",
    "deepnote_cell_type": "markdown",
    "deepnote_cell_height": 141.953125
   }
  },
  {
   "cell_type": "markdown",
   "source": "It would more often for the computer to output True for linearly independent becuase in order for the rit to input false the linear combination must equal the original row. Die to round off error, if they do not exactly equal each other, the computer will confirm that they are linearly independent. ",
   "metadata": {
    "cell_id": "00036-e3e1497c-565e-4746-9b49-1dd74cd4b8d1",
    "deepnote_cell_type": "markdown",
    "deepnote_cell_height": 119.5625
   }
  },
  {
   "cell_type": "markdown",
   "source": "\n---\n<a name=Subspaces></a>\n## 5. Subspaces\n\nA **Subspace** of a vector space $V$ is a subset $S\\subset V$ that is a vector space under the same operations \"$+$\" and \"$\\cdot$\" of $V$.\n\n### Subspace Theorem\n\n> A subset $S$ of a vector space $V$ is a vector space under the same operations \"$+$\" and \"$\\cdot$\" of $V$, provided:\n>\n>1. $S$ is nonempty,\n>2. $S$ is closed under the operations \"$+$\" and \"$\\cdot$\".\n\n",
   "metadata": {
    "cell_id": "00037-9fd98d49-4cbf-49a9-9ece-370525d4213b",
    "deepnote_cell_type": "markdown",
    "deepnote_cell_height": 328.34375
   }
  },
  {
   "cell_type": "markdown",
   "source": "&#9989; **<font color=red>DO THIS:</font>** Consider the space of all cubic polynomials:\n$$P_3=\\left\\{a+bx+cx^2+dx^3\\;\\middle|\\; a,b,c,d\\in\\mathbb{R}\\right\\}.$$\nIs the set of all linear polynomials\n$$S=\\left\\{a+bx\\mid a,b\\in\\mathbb{R}\\right\\}$$\na subspace of $P_3$? If so, show that the conditions of the Subspace Theorem are satisfied. If not, why? (Is it not a subset? Is it not a vector space?)",
   "metadata": {
    "cell_id": "00038-c41c7636-e47e-4168-b830-692db98ec366",
    "deepnote_cell_type": "markdown",
    "deepnote_cell_height": 141.953125
   }
  },
  {
   "cell_type": "markdown",
   "source": "Yes, this is a subspace because of the condition where $c = d = 0 \\in P_3$.<br/>\n\nThe 0 vector is in S, trivially where $a=b=0$.\n\nlet $a,b,c,d \\in \\mathbb{R}$ consider $(b + a*x) + (d + c*x) = (b+d) + (a + c)*x$<br/>\nBecause $a+c \\in \\mathbb{R}$ and $b+d \\in \\mathbb{R}$, $(a*x+b) + (c*x+d) \\in S$\n\nLet $a,b,k \\in \\mathbb{R}$ Then $k*(a + b*x) = k*a + k*b*x$<br/>\nBecause $k*a \\in \\mathbb{R} $ and $ k*b \\in \\mathbb{R}$ <br/> $k*(a + b*x) \\in S$\n\n",
   "metadata": {
    "cell_id": "00039-b61be590-b1f2-4351-91d3-05370b16d7d3",
    "owner_user_id": "192b1d1b-306b-4bdd-8c69-79e2eeb9d053",
    "deepnote_cell_type": "markdown",
    "deepnote_cell_height": 228.734375
   }
  },
  {
   "cell_type": "code",
   "metadata": {
    "cell_id": "b0226fe57c4a4699b793d320d30d2a8a",
    "tags": [],
    "owner_user_id": "9a33963a-103d-4e24-ab8f-aa9f5856df44",
    "deepnote_cell_type": "code",
    "deepnote_cell_height": 66
   },
   "source": "",
   "execution_count": null,
   "outputs": []
  },
  {
   "cell_type": "markdown",
   "source": "&#9989; **<font color=red>DO THIS:</font>** Consider the space of all real $2\\times2$ matrices:\n$$\n\\mathbb{R}^{2\\times2} = \\left\\{\\left[\n\\begin{matrix}\n    a & b \\\\\n    c & d\n\\end{matrix}\n\\right]\\;\\middle|\\;a,b,c,d\\in\\mathbb{R}\\right\\}.\n$$\nIs the set of all $2\\times2$ invertible matrices\n$$S = \\left\\{A\\in\\mathbb{R}^{2\\times2}\\;\\middle|\\;\\mathop{\\det}(A)\\neq0\\right\\}$$\na subspace of $\\mathbb{R}^{2\\times2}$? If so, show that the conditions of the Subspace Theorem are satisfied. If not, why? (Is it not a subset? Is it not a vector space?)",
   "metadata": {
    "cell_id": "00040-65f45faf-4b4b-4e63-ab1b-ce5e7a416019",
    "deepnote_cell_type": "markdown",
    "deepnote_cell_height": 188.625
   }
  },
  {
   "cell_type": "markdown",
   "source": "Yes this is a subspace, with $a = d = 1$ and $c = b = 0$",
   "metadata": {
    "cell_id": "00041-c7a17499-5c8e-4afa-8bae-402f3116d41d",
    "deepnote_cell_type": "markdown",
    "deepnote_cell_height": 52.390625
   }
  },
  {
   "cell_type": "markdown",
   "source": "What about the set of all $2\\times2$ diagonal matrices\n$$\nS = \\left\\{\\left[\n\\begin{matrix}\n    a & 0 \\\\\n    0 & b\n\\end{matrix}\n\\right]\\;\\middle|\\;a,b\\in\\mathbb{R}\\right\\}?\n$$\nIs this a subspace of $\\mathbb{R}^{2\\times2}$? If so, show that the conditions of the Subspace Theorem are satisfied. If not, why? (Is it not a subset? Is it not a vector space?)",
   "metadata": {
    "tags": [],
    "cell_id": "00042-afdd90c7-4f13-4ae5-826d-7e3f18009a1f",
    "deepnote_cell_type": "markdown",
    "deepnote_cell_height": 166.234375
   }
  },
  {
   "cell_type": "markdown",
   "source": "Yes, this is a subspace because of the condition where $c = d = 0 \\in \\mathbb{R}$.<br/>\n\nThe identity matrix is in S, trivially where $a=b=1$.\n\nlet $a,b,c,d \\in \\mathbb{R}$ consider \n\n$$\n\\left[\n\\begin{matrix}\n    a & 0 \\\\\n    0 & b\n\\end{matrix}\n\\right]\n+\n\\left[\n\\begin{matrix}\n    c & 0 \\\\\n    0 & d\n\\end{matrix}\n\\right]\n\n=\n\n\\left[\n\\begin{matrix}\n    a+c & 0 \\\\\n    0 & b+d\n\\end{matrix}\n\\right]\n$$\n\nBecause $a+c \\in \\mathbb{R}$ and $b+d \\in \\mathbb{R}$ this is closed under addition.\n\nLet $k\\in \\mathbb{R} $ <br/>$k * \\left[\n\\begin{matrix}\n    a & 0 \\\\\n    0 & b\n\\end{matrix}\n\\right] = \\left[\n\\begin{matrix}\n    ka & 0 \\\\\n    0 & kb\n\\end{matrix}\n\\right] $\n\nBecause $ka \\in \\mathbb{R}$ and $kb \\in \\mathbb{R}$ this is closed under multiplication.\n",
   "metadata": {
    "cell_id": "00043-f18588a2-84bb-4d2d-85d2-3d0bc967123f",
    "deepnote_cell_type": "markdown",
    "deepnote_cell_height": 329.65625
   }
  },
  {
   "cell_type": "markdown",
   "source": "&#9989; **<font color=red>DO THIS:</font>** Consider the vector\n$$\n\\vec{v} = \\left[\n\\begin{matrix}\n    -1 \\\\\n    2  \\\\\n    1\n\\end{matrix}\n\\right].\n$$\nIs the set\n$$S = \\left\\{\\vec{x}\\in\\mathbb{R}^3\\;\\middle|\\; \\vec{x}\\cdot\\vec{v}=0\\right\\}$$\nof all vectors in $\\mathbb{R}^3$ that are orthogonal to $\\vec{v}$ a subspace of $\\mathbb{R}^3$? If so, show that the conditions of the Subspace Theorem are satisfied. If not, why? (Is it not a subset? Is it not a vector space?)",
   "metadata": {
    "cell_id": "00044-57fb1fb5-4e29-4687-b8bc-ea0f23834ee3",
    "owner_user_id": "a464456a-c3c6-450f-a8c1-17fcb565d65e",
    "deepnote_cell_type": "markdown",
    "deepnote_cell_height": 208.546875
   }
  },
  {
   "cell_type": "markdown",
   "source": "----\nWritten by Dr. Dirk Colbry, Michigan State University\n<a rel=\"license\" href=\"http://creativecommons.org/licenses/by-nc/4.0/\"><img alt=\"Creative Commons License\" style=\"border-width:0\" src=\"https://i.creativecommons.org/l/by-nc/4.0/88x31.png\" /></a><br />This work is licensed under a <a rel=\"license\" href=\"http://creativecommons.org/licenses/by-nc/4.0/\">Creative Commons Attribution-NonCommercial 4.0 International License</a>.",
   "metadata": {
    "cell_id": "00047-90923d42-d2a4-46e8-9e24-8ebbd18124e8",
    "deepnote_cell_type": "markdown",
    "deepnote_cell_height": 191.5625
   }
  },
  {
   "cell_type": "markdown",
   "source": "<a style='text-decoration:none;line-height:16px;display:flex;color:#5B5B62;padding:10px;justify-content:end;' href='https://deepnote.com?utm_source=created-in-deepnote-cell&projectId=eddc04b2-32a0-43fc-87cf-17e6670be569' target=\"_blank\">\n<img alt='Created in deepnote.com' style='display:inline;max-height:16px;margin:0px;margin-right:7.5px;' src='data:image/svg+xml;base64,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' > </img>\nCreated in <span style='font-weight:600;margin-left:4px;'>Deepnote</span></a>",
   "metadata": {
    "tags": [],
    "created_in_deepnote_cell": true,
    "deepnote_cell_type": "markdown"
   }
  }
 ],
 "nbformat": 4,
 "nbformat_minor": 4,
 "metadata": {
  "kernelspec": {
   "display_name": "Python 3",
   "language": "python",
   "name": "python3"
  },
  "language_info": {
   "codemirror_mode": {
    "name": "ipython",
    "version": 3
   },
   "file_extension": ".py",
   "mimetype": "text/x-python",
   "name": "python",
   "nbconvert_exporter": "python",
   "pygments_lexer": "ipython3",
   "version": "3.8.8"
  },
  "deepnote_notebook_id": "2c9d452d-5f1f-492e-bee7-03674b9488e2",
  "deepnote": {},
  "deepnote_execution_queue": []
 }
}